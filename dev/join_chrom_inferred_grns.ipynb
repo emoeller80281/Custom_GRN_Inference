{
 "cells": [
  {
   "cell_type": "code",
   "execution_count": 1,
   "id": "caf2b00a",
   "metadata": {},
   "outputs": [
    {
     "name": "stdout",
     "output_type": "stream",
     "text": [
      "Loading inferred_grn_chr4.csv\n",
      "Loading inferred_grn_chr3.csv\n",
      "Loading inferred_grn_chr1.csv\n",
      "Loading inferred_grn_chr6.csv\n",
      "Loading inferred_grn_chr13.csv\n",
      "Loading inferred_grn_chr5.csv\n",
      "Loading inferred_grn_chr7.csv\n",
      "Loading inferred_grn_chr2.csv\n",
      " ----- Results -----\n",
      "\n",
      "Found 8 inferred GRNs\n",
      "Chroms represented: ['chr4', 'chr3', 'chr1', 'chr6', 'chr13', 'chr5', 'chr7', 'chr2']\n",
      "\n",
      "Unique TFs: 262\n",
      "Unique TGs: 3359\n",
      "Total Edges: 880058\n",
      "\n",
      "Combined inferred GRN head\n",
      "  Source         Target     score\n",
      "0   Amyb  1110065p20rik  0.324730\n",
      "1   Ap-1  1110065p20rik  0.303586\n",
      "2  Atoh1  1110065p20rik  0.328854\n",
      "3  Hnf4a  1110065p20rik  0.274192\n",
      "4   Hnf6  1110065p20rik  0.324254\n"
     ]
    }
   ],
   "source": [
    "import pandas as pd\n",
    "import os\n",
    "\n",
    "chrom_inferred_grn_dir = \"/gpfs/Labs/Uzun/SCRIPTS/PROJECTS/2024.SINGLE_CELL_GRN_INFERENCE.MOELLER/output/chrom_inferred_grn_orti_chipatlas_rn117_unique\"\n",
    "\n",
    "chrom_dfs = []\n",
    "seen_chroms = []\n",
    "for file in os.listdir(chrom_inferred_grn_dir):\n",
    "    file_path = os.path.join(chrom_inferred_grn_dir, file)\n",
    "    if os.path.isfile(file_path) and file not in seen_chroms:\n",
    "        chrom = file.split(\"_\")[-1].replace(\".csv\",\"\")\n",
    "        if \"chr\" in chrom:\n",
    "            print(f\"Loading {file}\")\n",
    "            chrom_dfs.append(pd.read_csv(file_path))\n",
    "            seen_chroms.append(chrom)\n",
    "            \n",
    "combined_df = pd.concat(chrom_dfs)\n",
    "\n",
    "print(\" ----- Results -----\")\n",
    "\n",
    "print(f\"\\nFound {len(chrom_dfs)} inferred GRNs\")\n",
    "print(f\"Chroms represented: {seen_chroms}\")\n",
    "\n",
    "print(f\"\\nUnique TFs: {combined_df['Source'].nunique()}\")\n",
    "print(f\"Unique TGs: {combined_df['Target'].nunique()}\")\n",
    "print(f\"Total Edges: {combined_df.shape[0]}\")\n",
    "\n",
    "print(f\"\\nCombined inferred GRN head\")\n",
    "print(combined_df.head())\n",
    "\n",
    "combined_df.to_csv(os.path.join(chrom_inferred_grn_dir, \"combined_inferred_grn.csv\"))"
   ]
  }
 ],
 "metadata": {
  "kernelspec": {
   "display_name": "my_env",
   "language": "python",
   "name": "my_env"
  },
  "language_info": {
   "codemirror_mode": {
    "name": "ipython",
    "version": 3
   },
   "file_extension": ".py",
   "mimetype": "text/x-python",
   "name": "python",
   "nbconvert_exporter": "python",
   "pygments_lexer": "ipython3",
   "version": "3.9.18"
  }
 },
 "nbformat": 4,
 "nbformat_minor": 5
}
