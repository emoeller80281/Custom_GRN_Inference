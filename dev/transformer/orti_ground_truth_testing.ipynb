{
 "cells": [
  {
   "cell_type": "code",
   "execution_count": 50,
   "id": "eb7a60fb",
   "metadata": {},
   "outputs": [
    {
     "data": {
      "application/vnd.microsoft.datawrangler.viewer.v0+json": {
       "columns": [
        {
         "name": "index",
         "rawType": "int64",
         "type": "integer"
        },
        {
         "name": "TF-Name",
         "rawType": "object",
         "type": "string"
        },
        {
         "name": "TF-Synonyms",
         "rawType": "object",
         "type": "string"
        },
        {
         "name": "TF-GeneID",
         "rawType": "object",
         "type": "string"
        },
        {
         "name": "TF-dbXrefs",
         "rawType": "object",
         "type": "string"
        },
        {
         "name": "TG-Name",
         "rawType": "object",
         "type": "string"
        },
        {
         "name": "TG-Synonyms",
         "rawType": "object",
         "type": "string"
        },
        {
         "name": "TG-GeneID",
         "rawType": "object",
         "type": "string"
        },
        {
         "name": "TG-dbXrefs",
         "rawType": "object",
         "type": "string"
        },
        {
         "name": "Reference",
         "rawType": "object",
         "type": "string"
        },
        {
         "name": "Species",
         "rawType": "object",
         "type": "string"
        },
        {
         "name": "Accession #",
         "rawType": "object",
         "type": "string"
        },
        {
         "name": "Rank",
         "rawType": "int64",
         "type": "integer"
        },
        {
         "name": "Validation Details",
         "rawType": "object",
         "type": "string"
        }
       ],
       "ref": "05049fa4-3cc1-4c5e-8c40-0edad12c3677",
       "rows": [
        [
         "0",
         "ACP1",
         "4632432E04Rik|AI427468|Acp-1|LMW-PTP",
         "11431",
         "MGI:MGI:87881|Ensembl:ENSMUSG00000044573",
         "HBA-A1",
         "Hba|Hba1|Hbat1",
         "15122",
         "MGI:MGI:96015",
         "TRRD",
         "Mus musculus",
         "TRRDSITES4:S1771",
         "1",
         "MEL: 1.1.1, 1.1.5, 3.5  MEL, HeLa: 6.1.2, 6.4, 6.6.1.1  MEL, Raji, HeLa: 1.1.1, 3.4, 3.5"
        ],
        [
         "1",
         "ACP2",
         "Acp-2|LAP",
         "11432",
         "MGI:MGI:87882|Ensembl:ENSMUSG00000002103|Vega:OTTMUSG00000014413",
         "HBA-A1",
         "Hba|Hba1|Hbat1",
         "15122",
         "MGI:MGI:96015",
         "TRRD",
         "Mus musculus",
         "TRRDSITES4:S1766",
         "1",
         "MEL, HeLa: 3.5, 4.1, 6.4, 6.6.1.1, 7.1"
        ],
        [
         "2",
         "ADD1",
         "-",
         "24170",
         "RGD:2041|Ensembl:ENSRNOG00000013039",
         "FASN",
         "-",
         "50671",
         "RGD:620665|Ensembl:ENSRNOG00000045636",
         "TRRD",
         "Rattus norvegicus",
         "TRRDSITES4:S2406",
         "1",
         "3.5.1 (ADD1)  lean rat adipocytes cells: 6.2, 6.6.1.2 (ADD1), 6.6.1.2 (SREBP1c)  obese rat adipocytes cells: 6.2, 6.6.1.2 (ADD1), 6.6.1.2 (SREBP1c)"
        ],
        [
         "3",
         "ADD1",
         "ADDA",
         "118",
         "MIM:102680|HGNC:HGNC:243|Ensembl:ENSG00000087274|HPRD:00036|Vega:OTTHUMG00000122080",
         "FDFT1",
         "DGPT|ERG9|SQS|SS",
         "2222",
         "MIM:184420|HGNC:HGNC:3629|Ensembl:ENSG00000079459|HPRD:01694|Vega:OTTHUMG00000090801",
         "TRRD",
         "Homo sapiens",
         "TRRDSITES4:S2091",
         "1",
         "1.1.5, 3.3, 3.5, 7.1  human HepG2 cells: 6.1.1, 6.3.1, 6.5  chinese hamster ovary K1 cells: 6.1.1, 6.3.1  HepG2 cells: 6.2, 6.6.1.1 (ADD1), 6.5 (sterols)  3.5.1 (SREBP1), 3.5.1 (SREBP2)"
        ],
        [
         "4",
         "AFF4",
         "AF5Q31|CHOPS|MCEF",
         "27125",
         "MIM:604417|HGNC:HGNC:17869|Ensembl:ENSG00000072364|HPRD:09187|Vega:OTTHUMG00000059838",
         "CDKN2A",
         "ARF|CDK4I|CDKN2|CMM2|INK4|INK4A|MLM|MTS-1|MTS1|P14|P14ARF|P16|P16-INK4A|P16INK4|P16INK4A|P19|P19ARF|TP16",
         "1029",
         "MIM:600160|HGNC:HGNC:1787|Ensembl:ENSG00000147889|HPRD:02542|Vega:OTTHUMG00000019686",
         "HTRI",
         "Homo sapiens",
         "19340300",
         "1",
         "CHROMATIN IMMUNOPRECIPITATION"
        ]
       ],
       "shape": {
        "columns": 13,
        "rows": 5
       }
      },
      "text/html": [
       "<div>\n",
       "<style scoped>\n",
       "    .dataframe tbody tr th:only-of-type {\n",
       "        vertical-align: middle;\n",
       "    }\n",
       "\n",
       "    .dataframe tbody tr th {\n",
       "        vertical-align: top;\n",
       "    }\n",
       "\n",
       "    .dataframe thead th {\n",
       "        text-align: right;\n",
       "    }\n",
       "</style>\n",
       "<table border=\"1\" class=\"dataframe\">\n",
       "  <thead>\n",
       "    <tr style=\"text-align: right;\">\n",
       "      <th></th>\n",
       "      <th>TF-Name</th>\n",
       "      <th>TF-Synonyms</th>\n",
       "      <th>TF-GeneID</th>\n",
       "      <th>TF-dbXrefs</th>\n",
       "      <th>TG-Name</th>\n",
       "      <th>TG-Synonyms</th>\n",
       "      <th>TG-GeneID</th>\n",
       "      <th>TG-dbXrefs</th>\n",
       "      <th>Reference</th>\n",
       "      <th>Species</th>\n",
       "      <th>Accession #</th>\n",
       "      <th>Rank</th>\n",
       "      <th>Validation Details</th>\n",
       "    </tr>\n",
       "  </thead>\n",
       "  <tbody>\n",
       "    <tr>\n",
       "      <th>0</th>\n",
       "      <td>ACP1</td>\n",
       "      <td>4632432E04Rik|AI427468|Acp-1|LMW-PTP</td>\n",
       "      <td>11431</td>\n",
       "      <td>MGI:MGI:87881|Ensembl:ENSMUSG00000044573</td>\n",
       "      <td>HBA-A1</td>\n",
       "      <td>Hba|Hba1|Hbat1</td>\n",
       "      <td>15122</td>\n",
       "      <td>MGI:MGI:96015</td>\n",
       "      <td>TRRD</td>\n",
       "      <td>Mus musculus</td>\n",
       "      <td>TRRDSITES4:S1771</td>\n",
       "      <td>1</td>\n",
       "      <td>MEL: 1.1.1, 1.1.5, 3.5  MEL, HeLa: 6.1.2, 6.4,...</td>\n",
       "    </tr>\n",
       "    <tr>\n",
       "      <th>1</th>\n",
       "      <td>ACP2</td>\n",
       "      <td>Acp-2|LAP</td>\n",
       "      <td>11432</td>\n",
       "      <td>MGI:MGI:87882|Ensembl:ENSMUSG00000002103|Vega:...</td>\n",
       "      <td>HBA-A1</td>\n",
       "      <td>Hba|Hba1|Hbat1</td>\n",
       "      <td>15122</td>\n",
       "      <td>MGI:MGI:96015</td>\n",
       "      <td>TRRD</td>\n",
       "      <td>Mus musculus</td>\n",
       "      <td>TRRDSITES4:S1766</td>\n",
       "      <td>1</td>\n",
       "      <td>MEL, HeLa: 3.5, 4.1, 6.4, 6.6.1.1, 7.1</td>\n",
       "    </tr>\n",
       "    <tr>\n",
       "      <th>2</th>\n",
       "      <td>ADD1</td>\n",
       "      <td>-</td>\n",
       "      <td>24170</td>\n",
       "      <td>RGD:2041|Ensembl:ENSRNOG00000013039</td>\n",
       "      <td>FASN</td>\n",
       "      <td>-</td>\n",
       "      <td>50671</td>\n",
       "      <td>RGD:620665|Ensembl:ENSRNOG00000045636</td>\n",
       "      <td>TRRD</td>\n",
       "      <td>Rattus norvegicus</td>\n",
       "      <td>TRRDSITES4:S2406</td>\n",
       "      <td>1</td>\n",
       "      <td>3.5.1 (ADD1)  lean rat adipocytes cells: 6.2, ...</td>\n",
       "    </tr>\n",
       "    <tr>\n",
       "      <th>3</th>\n",
       "      <td>ADD1</td>\n",
       "      <td>ADDA</td>\n",
       "      <td>118</td>\n",
       "      <td>MIM:102680|HGNC:HGNC:243|Ensembl:ENSG000000872...</td>\n",
       "      <td>FDFT1</td>\n",
       "      <td>DGPT|ERG9|SQS|SS</td>\n",
       "      <td>2222</td>\n",
       "      <td>MIM:184420|HGNC:HGNC:3629|Ensembl:ENSG00000079...</td>\n",
       "      <td>TRRD</td>\n",
       "      <td>Homo sapiens</td>\n",
       "      <td>TRRDSITES4:S2091</td>\n",
       "      <td>1</td>\n",
       "      <td>1.1.5, 3.3, 3.5, 7.1  human HepG2 cells: 6.1.1...</td>\n",
       "    </tr>\n",
       "    <tr>\n",
       "      <th>4</th>\n",
       "      <td>AFF4</td>\n",
       "      <td>AF5Q31|CHOPS|MCEF</td>\n",
       "      <td>27125</td>\n",
       "      <td>MIM:604417|HGNC:HGNC:17869|Ensembl:ENSG0000007...</td>\n",
       "      <td>CDKN2A</td>\n",
       "      <td>ARF|CDK4I|CDKN2|CMM2|INK4|INK4A|MLM|MTS-1|MTS1...</td>\n",
       "      <td>1029</td>\n",
       "      <td>MIM:600160|HGNC:HGNC:1787|Ensembl:ENSG00000147...</td>\n",
       "      <td>HTRI</td>\n",
       "      <td>Homo sapiens</td>\n",
       "      <td>19340300</td>\n",
       "      <td>1</td>\n",
       "      <td>CHROMATIN IMMUNOPRECIPITATION</td>\n",
       "    </tr>\n",
       "  </tbody>\n",
       "</table>\n",
       "</div>"
      ],
      "text/plain": [
       "  TF-Name                           TF-Synonyms TF-GeneID  \\\n",
       "0    ACP1  4632432E04Rik|AI427468|Acp-1|LMW-PTP     11431   \n",
       "1    ACP2                             Acp-2|LAP     11432   \n",
       "2    ADD1                                     -     24170   \n",
       "3    ADD1                                  ADDA       118   \n",
       "4    AFF4                     AF5Q31|CHOPS|MCEF     27125   \n",
       "\n",
       "                                          TF-dbXrefs TG-Name  \\\n",
       "0           MGI:MGI:87881|Ensembl:ENSMUSG00000044573  HBA-A1   \n",
       "1  MGI:MGI:87882|Ensembl:ENSMUSG00000002103|Vega:...  HBA-A1   \n",
       "2                RGD:2041|Ensembl:ENSRNOG00000013039    FASN   \n",
       "3  MIM:102680|HGNC:HGNC:243|Ensembl:ENSG000000872...   FDFT1   \n",
       "4  MIM:604417|HGNC:HGNC:17869|Ensembl:ENSG0000007...  CDKN2A   \n",
       "\n",
       "                                         TG-Synonyms TG-GeneID  \\\n",
       "0                                     Hba|Hba1|Hbat1     15122   \n",
       "1                                     Hba|Hba1|Hbat1     15122   \n",
       "2                                                  -     50671   \n",
       "3                                   DGPT|ERG9|SQS|SS      2222   \n",
       "4  ARF|CDK4I|CDKN2|CMM2|INK4|INK4A|MLM|MTS-1|MTS1...      1029   \n",
       "\n",
       "                                          TG-dbXrefs Reference  \\\n",
       "0                                      MGI:MGI:96015      TRRD   \n",
       "1                                      MGI:MGI:96015      TRRD   \n",
       "2              RGD:620665|Ensembl:ENSRNOG00000045636      TRRD   \n",
       "3  MIM:184420|HGNC:HGNC:3629|Ensembl:ENSG00000079...      TRRD   \n",
       "4  MIM:600160|HGNC:HGNC:1787|Ensembl:ENSG00000147...      HTRI   \n",
       "\n",
       "             Species       Accession #  Rank  \\\n",
       "0       Mus musculus  TRRDSITES4:S1771     1   \n",
       "1       Mus musculus  TRRDSITES4:S1766     1   \n",
       "2  Rattus norvegicus  TRRDSITES4:S2406     1   \n",
       "3       Homo sapiens  TRRDSITES4:S2091     1   \n",
       "4       Homo sapiens          19340300     1   \n",
       "\n",
       "                                  Validation Details  \n",
       "0  MEL: 1.1.1, 1.1.5, 3.5  MEL, HeLa: 6.1.2, 6.4,...  \n",
       "1             MEL, HeLa: 3.5, 4.1, 6.4, 6.6.1.1, 7.1  \n",
       "2  3.5.1 (ADD1)  lean rat adipocytes cells: 6.2, ...  \n",
       "3  1.1.5, 3.3, 3.5, 7.1  human HepG2 cells: 6.1.1...  \n",
       "4                      CHROMATIN IMMUNOPRECIPITATION  "
      ]
     },
     "execution_count": 50,
     "metadata": {},
     "output_type": "execute_result"
    }
   ],
   "source": [
    "\n",
    "import os\n",
    "import pandas as pd\n",
    "\n",
    "GROUND_TRUTH_DIR = \"/gpfs/Labs/Uzun/SCRIPTS/PROJECTS/2024.SINGLE_CELL_GRN_INFERENCE.MOELLER/ground_truth_files/\"\n",
    "orti_file = os.path.join(GROUND_TRUTH_DIR, \"ORTI_ground_truth.csv\")\n",
    "\n",
    "orti_df = pd.read_csv(orti_file, header=0, index_col=None)\n",
    "orti_df.head()"
   ]
  },
  {
   "cell_type": "code",
   "execution_count": 48,
   "id": "dc750c46",
   "metadata": {},
   "outputs": [
    {
     "data": {
      "application/vnd.microsoft.datawrangler.viewer.v0+json": {
       "columns": [
        {
         "name": "index",
         "rawType": "int64",
         "type": "integer"
        },
        {
         "name": "Gene1",
         "rawType": "object",
         "type": "string"
        },
        {
         "name": "Gene2",
         "rawType": "object",
         "type": "string"
        },
        {
         "name": "Species",
         "rawType": "object",
         "type": "string"
        },
        {
         "name": "Rank",
         "rawType": "int64",
         "type": "integer"
        },
        {
         "name": "Validation Details",
         "rawType": "object",
         "type": "string"
        }
       ],
       "ref": "100aa972-e426-4a61-92e5-712861130e9d",
       "rows": [
        [
         "0",
         "ACP1",
         "HBA-A1",
         "Mus musculus",
         "1",
         "MEL: 1.1.1, 1.1.5, 3.5  MEL, HeLa: 6.1.2, 6.4, 6.6.1.1  MEL, Raji, HeLa: 1.1.1, 3.4, 3.5"
        ],
        [
         "1",
         "ACP2",
         "HBA-A1",
         "Mus musculus",
         "1",
         "MEL, HeLa: 3.5, 4.1, 6.4, 6.6.1.1, 7.1"
        ],
        [
         "24",
         "AP1",
         "CLU",
         "Mus musculus",
         "1",
         "experimentally verified"
        ],
        [
         "25",
         "AP1",
         "FABP4",
         "Mus musculus",
         "1",
         "experimentally verified"
        ],
        [
         "30",
         "AP1",
         "MBP",
         "Mus musculus",
         "1",
         "experimentally verified"
        ]
       ],
       "shape": {
        "columns": 5,
        "rows": 5
       }
      },
      "text/html": [
       "<div>\n",
       "<style scoped>\n",
       "    .dataframe tbody tr th:only-of-type {\n",
       "        vertical-align: middle;\n",
       "    }\n",
       "\n",
       "    .dataframe tbody tr th {\n",
       "        vertical-align: top;\n",
       "    }\n",
       "\n",
       "    .dataframe thead th {\n",
       "        text-align: right;\n",
       "    }\n",
       "</style>\n",
       "<table border=\"1\" class=\"dataframe\">\n",
       "  <thead>\n",
       "    <tr style=\"text-align: right;\">\n",
       "      <th></th>\n",
       "      <th>Gene1</th>\n",
       "      <th>Gene2</th>\n",
       "      <th>Species</th>\n",
       "      <th>Rank</th>\n",
       "      <th>Validation Details</th>\n",
       "    </tr>\n",
       "  </thead>\n",
       "  <tbody>\n",
       "    <tr>\n",
       "      <th>0</th>\n",
       "      <td>ACP1</td>\n",
       "      <td>HBA-A1</td>\n",
       "      <td>Mus musculus</td>\n",
       "      <td>1</td>\n",
       "      <td>MEL: 1.1.1, 1.1.5, 3.5  MEL, HeLa: 6.1.2, 6.4,...</td>\n",
       "    </tr>\n",
       "    <tr>\n",
       "      <th>1</th>\n",
       "      <td>ACP2</td>\n",
       "      <td>HBA-A1</td>\n",
       "      <td>Mus musculus</td>\n",
       "      <td>1</td>\n",
       "      <td>MEL, HeLa: 3.5, 4.1, 6.4, 6.6.1.1, 7.1</td>\n",
       "    </tr>\n",
       "    <tr>\n",
       "      <th>24</th>\n",
       "      <td>AP1</td>\n",
       "      <td>CLU</td>\n",
       "      <td>Mus musculus</td>\n",
       "      <td>1</td>\n",
       "      <td>experimentally verified</td>\n",
       "    </tr>\n",
       "    <tr>\n",
       "      <th>25</th>\n",
       "      <td>AP1</td>\n",
       "      <td>FABP4</td>\n",
       "      <td>Mus musculus</td>\n",
       "      <td>1</td>\n",
       "      <td>experimentally verified</td>\n",
       "    </tr>\n",
       "    <tr>\n",
       "      <th>30</th>\n",
       "      <td>AP1</td>\n",
       "      <td>MBP</td>\n",
       "      <td>Mus musculus</td>\n",
       "      <td>1</td>\n",
       "      <td>experimentally verified</td>\n",
       "    </tr>\n",
       "  </tbody>\n",
       "</table>\n",
       "</div>"
      ],
      "text/plain": [
       "   Gene1   Gene2       Species  Rank  \\\n",
       "0   ACP1  HBA-A1  Mus musculus     1   \n",
       "1   ACP2  HBA-A1  Mus musculus     1   \n",
       "24   AP1     CLU  Mus musculus     1   \n",
       "25   AP1   FABP4  Mus musculus     1   \n",
       "30   AP1     MBP  Mus musculus     1   \n",
       "\n",
       "                                   Validation Details  \n",
       "0   MEL: 1.1.1, 1.1.5, 3.5  MEL, HeLa: 6.1.2, 6.4,...  \n",
       "1              MEL, HeLa: 3.5, 4.1, 6.4, 6.6.1.1, 7.1  \n",
       "24                            experimentally verified  \n",
       "25                            experimentally verified  \n",
       "30                            experimentally verified  "
      ]
     },
     "execution_count": 48,
     "metadata": {},
     "output_type": "execute_result"
    }
   ],
   "source": [
    "orti_df_sub = (\n",
    "    orti_df[[\"TF-Name\", \"TG-Name\", \"Species\", \"Rank\", \"Validation Details\"]]\n",
    "    .rename(columns={\"TF-Name\":\"Gene1\", \"TG-Name\":\"Gene2\"})\n",
    "    )\n",
    "orti_df_sub_mouse = orti_df_sub[orti_df_sub[\"Species\"] == \"Mus musculus\"]\n",
    "orti_df_sub_mouse.head()"
   ]
  },
  {
   "cell_type": "code",
   "execution_count": 57,
   "id": "114b376c",
   "metadata": {},
   "outputs": [
    {
     "data": {
      "application/vnd.microsoft.datawrangler.viewer.v0+json": {
       "columns": [
        {
         "name": "index",
         "rawType": "int64",
         "type": "integer"
        },
        {
         "name": "Gene1",
         "rawType": "object",
         "type": "string"
        },
        {
         "name": "Gene2",
         "rawType": "object",
         "type": "string"
        }
       ],
       "ref": "9fe40b46-c55a-4d57-a229-d889cf28574a",
       "rows": [
        [
         "0",
         "AP1",
         "GABRA6"
        ],
        [
         "1",
         "ARE",
         "LOX"
        ],
        [
         "2",
         "CEBPG",
         "LOX"
        ],
        [
         "3",
         "CREB1",
         "ADM"
        ],
        [
         "4",
         "CREB1",
         "ADM"
        ]
       ],
       "shape": {
        "columns": 2,
        "rows": 5
       }
      },
      "text/html": [
       "<div>\n",
       "<style scoped>\n",
       "    .dataframe tbody tr th:only-of-type {\n",
       "        vertical-align: middle;\n",
       "    }\n",
       "\n",
       "    .dataframe tbody tr th {\n",
       "        vertical-align: top;\n",
       "    }\n",
       "\n",
       "    .dataframe thead th {\n",
       "        text-align: right;\n",
       "    }\n",
       "</style>\n",
       "<table border=\"1\" class=\"dataframe\">\n",
       "  <thead>\n",
       "    <tr style=\"text-align: right;\">\n",
       "      <th></th>\n",
       "      <th>Gene1</th>\n",
       "      <th>Gene2</th>\n",
       "    </tr>\n",
       "  </thead>\n",
       "  <tbody>\n",
       "    <tr>\n",
       "      <th>0</th>\n",
       "      <td>AP1</td>\n",
       "      <td>GABRA6</td>\n",
       "    </tr>\n",
       "    <tr>\n",
       "      <th>1</th>\n",
       "      <td>ARE</td>\n",
       "      <td>LOX</td>\n",
       "    </tr>\n",
       "    <tr>\n",
       "      <th>2</th>\n",
       "      <td>CEBPG</td>\n",
       "      <td>LOX</td>\n",
       "    </tr>\n",
       "    <tr>\n",
       "      <th>3</th>\n",
       "      <td>CREB1</td>\n",
       "      <td>ADM</td>\n",
       "    </tr>\n",
       "    <tr>\n",
       "      <th>4</th>\n",
       "      <td>CREB1</td>\n",
       "      <td>ADM</td>\n",
       "    </tr>\n",
       "  </tbody>\n",
       "</table>\n",
       "</div>"
      ],
      "text/plain": [
       "   Gene1   Gene2\n",
       "0    AP1  GABRA6\n",
       "1    ARE     LOX\n",
       "2  CEBPG     LOX\n",
       "3  CREB1     ADM\n",
       "4  CREB1     ADM"
      ]
     },
     "execution_count": 57,
     "metadata": {},
     "output_type": "execute_result"
    }
   ],
   "source": [
    "orti_rank_1_mouse_df = orti_df_sub_mouse[orti_df_sub_mouse[\"Rank\"] == 3]\n",
    "\n",
    "orti_rank_1_mouse_tf_tg_only = orti_rank_1_mouse_df[[\"Gene1\", \"Gene2\"]].reset_index(drop=True)\n",
    "\n",
    "\n",
    "orti_rank_1_mouse_tf_tg_only.to_csv(os.path.join(GROUND_TRUTH_DIR, \"ORTI_rank3_ground_truth_TF_TG.csv\"), header=True, index=False)\n",
    "\n",
    "orti_rank_1_mouse_tf_tg_only.head()\n"
   ]
  }
 ],
 "metadata": {
  "kernelspec": {
   "display_name": "my_env",
   "language": "python",
   "name": "my_env"
  }
 },
 "nbformat": 4,
 "nbformat_minor": 5
}
