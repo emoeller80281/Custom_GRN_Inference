{
 "cells": [
  {
   "cell_type": "code",
   "execution_count": 94,
   "id": "36670077",
   "metadata": {},
   "outputs": [],
   "source": [
    "# transformer_testing.py\n",
    "import os, sys, json\n",
    "import joblib\n",
    "import numpy as np\n",
    "import pandas as pd\n",
    "import torch\n",
    "from pathlib import Path\n",
    "from sklearn.metrics import roc_auc_score, average_precision_score\n",
    "import logging\n",
    "\n",
    "logging.basicConfig(level=logging.INFO, format='%(message)s')\n",
    "\n",
    "# ---------------------------------------------------------------------\n",
    "# Paths / config\n",
    "# ---------------------------------------------------------------------\n",
    "PROJECT_DIR = \"/gpfs/Labs/Uzun/SCRIPTS/PROJECTS/2024.SINGLE_CELL_GRN_INFERENCE.MOELLER\"\n",
    "DEV_DIR     = os.path.join(PROJECT_DIR, \"dev/transformer\")\n",
    "sys.path.append(DEV_DIR)\n",
    "\n",
    "from transformer import MultiomicTransformer\n",
    "from transformer_dataset import MultiomicTransformerDataset\n",
    "from transformer_training import prepare_dataloader\n",
    "import eval\n",
    "\n",
    "SAMPLE_NAME = \"mESC\"\n",
    "CHROM_ID    = \"chr19\"\n",
    "TRAINING_RUN_NAME = \"model_training_01_10_16_03_45\"\n",
    "\n",
    "TRANSFORMER_DATA_DIR = os.path.join(DEV_DIR, f\"transformer_data/{SAMPLE_NAME}\")\n",
    "COMMON_DIR           = os.path.join(DEV_DIR, \"transformer_data/common\")\n",
    "OUTPUT_DIR           = os.path.join(PROJECT_DIR, \"output/transformer_testing_output\")\n",
    "TEST_DIR             = os.path.join(OUTPUT_DIR, f\"{SAMPLE_NAME}/{CHROM_ID}/{TRAINING_RUN_NAME}\")  # where checkpoint lives\n",
    "\n",
    "\n",
    "GROUND_TRUTH_DIR = os.path.join(PROJECT_DIR, \"ground_truth_files\")\n",
    "OUT_DIR = os.path.join(TEST_DIR, \"tf_gradient_attributions\")\n",
    "os.makedirs(OUT_DIR, exist_ok=True)\n",
    "\n",
    "DEVICE = torch.device(\"cuda:0\" if torch.cuda.is_available() else \"cpu\")\n",
    "BATCH  = 32\n",
    "TG_CHUNK = 64"
   ]
  },
  {
   "cell_type": "code",
   "execution_count": 95,
   "id": "48f759aa",
   "metadata": {},
   "outputs": [
    {
     "data": {
      "application/vnd.microsoft.datawrangler.viewer.v0+json": {
       "columns": [
        {
         "name": "index",
         "rawType": "int64",
         "type": "integer"
        },
        {
         "name": "TF",
         "rawType": "object",
         "type": "string"
        },
        {
         "name": "TG",
         "rawType": "object",
         "type": "string"
        }
       ],
       "ref": "8c13837b-a713-4940-9e52-93f047cb8b8d",
       "rows": [
        [
         "0",
         "ADNP",
         "MIS18BP1"
        ],
        [
         "1",
         "ADNP",
         "EXD1"
        ],
        [
         "2",
         "ADNP",
         "CHP1"
        ],
        [
         "3",
         "ADNP",
         "OSCAR"
        ],
        [
         "4",
         "ADNP",
         "NDUFA3"
        ],
        [
         "5",
         "ADNP",
         "BSPRY"
        ],
        [
         "6",
         "ADNP",
         "RFWD3"
        ],
        [
         "7",
         "ADNP",
         "IGFBP4"
        ],
        [
         "8",
         "ADNP",
         "LRCH1"
        ],
        [
         "9",
         "ADNP",
         "ZPR1"
        ],
        [
         "10",
         "ADNP",
         "ZDHHC6"
        ],
        [
         "11",
         "ADNP",
         "VTI1A"
        ],
        [
         "12",
         "ADNP",
         "CYP21A1"
        ],
        [
         "13",
         "ADNP",
         "SRF"
        ],
        [
         "14",
         "ADNP",
         "RAMAC"
        ],
        [
         "15",
         "ADNP",
         "DNM1L"
        ],
        [
         "16",
         "ADNP",
         "CRTAC1"
        ],
        [
         "17",
         "ADNP",
         "GNE"
        ],
        [
         "18",
         "ADNP",
         "GPCPD1"
        ],
        [
         "19",
         "ADNP",
         "TMEM51"
        ],
        [
         "20",
         "ADNP",
         "CWF19L2"
        ],
        [
         "21",
         "ADNP",
         "JUP"
        ],
        [
         "22",
         "ADNP",
         "PRSS50"
        ],
        [
         "23",
         "ADNP",
         "SNHG11"
        ],
        [
         "24",
         "ADNP",
         "TJP2"
        ],
        [
         "25",
         "ADNP",
         "CLCN4"
        ],
        [
         "26",
         "ADNP",
         "PFAS"
        ],
        [
         "27",
         "ADNP",
         "RTN2"
        ],
        [
         "28",
         "ADNP",
         "TMEM221"
        ],
        [
         "29",
         "ADNP",
         "ABHD16A"
        ],
        [
         "30",
         "ADNP",
         "LSM10"
        ],
        [
         "31",
         "ADNP",
         "PIEZO1"
        ],
        [
         "32",
         "ADNP",
         "PLEKHG4"
        ],
        [
         "33",
         "ADNP",
         "PADI4"
        ],
        [
         "34",
         "ADNP",
         "DPEP3"
        ],
        [
         "35",
         "ADNP",
         "MED16"
        ],
        [
         "36",
         "ADNP",
         "RSL1D1"
        ],
        [
         "37",
         "ADNP",
         "ANKRD33"
        ],
        [
         "38",
         "ADNP",
         "MKRN2"
        ],
        [
         "39",
         "ADNP",
         "AP4E1"
        ],
        [
         "40",
         "ADNP",
         "ZFP647"
        ],
        [
         "41",
         "ADNP",
         "FBXO4"
        ],
        [
         "42",
         "ADNP",
         "B230219D22RIK"
        ],
        [
         "43",
         "ADNP",
         "DDX59"
        ],
        [
         "44",
         "ADNP",
         "GABPB2"
        ],
        [
         "45",
         "ADNP",
         "ALOX12"
        ],
        [
         "46",
         "ADNP",
         "FAM198B"
        ],
        [
         "47",
         "ADNP",
         "RNF135"
        ],
        [
         "48",
         "ADNP",
         "MESP1"
        ],
        [
         "49",
         "ADNP",
         "NLRX1"
        ]
       ],
       "shape": {
        "columns": 2,
        "rows": 977841
       }
      },
      "text/html": [
       "<div>\n",
       "<style scoped>\n",
       "    .dataframe tbody tr th:only-of-type {\n",
       "        vertical-align: middle;\n",
       "    }\n",
       "\n",
       "    .dataframe tbody tr th {\n",
       "        vertical-align: top;\n",
       "    }\n",
       "\n",
       "    .dataframe thead th {\n",
       "        text-align: right;\n",
       "    }\n",
       "</style>\n",
       "<table border=\"1\" class=\"dataframe\">\n",
       "  <thead>\n",
       "    <tr style=\"text-align: right;\">\n",
       "      <th></th>\n",
       "      <th>TF</th>\n",
       "      <th>TG</th>\n",
       "    </tr>\n",
       "  </thead>\n",
       "  <tbody>\n",
       "    <tr>\n",
       "      <th>0</th>\n",
       "      <td>ADNP</td>\n",
       "      <td>MIS18BP1</td>\n",
       "    </tr>\n",
       "    <tr>\n",
       "      <th>1</th>\n",
       "      <td>ADNP</td>\n",
       "      <td>EXD1</td>\n",
       "    </tr>\n",
       "    <tr>\n",
       "      <th>2</th>\n",
       "      <td>ADNP</td>\n",
       "      <td>CHP1</td>\n",
       "    </tr>\n",
       "    <tr>\n",
       "      <th>3</th>\n",
       "      <td>ADNP</td>\n",
       "      <td>OSCAR</td>\n",
       "    </tr>\n",
       "    <tr>\n",
       "      <th>4</th>\n",
       "      <td>ADNP</td>\n",
       "      <td>NDUFA3</td>\n",
       "    </tr>\n",
       "    <tr>\n",
       "      <th>...</th>\n",
       "      <td>...</td>\n",
       "      <td>...</td>\n",
       "    </tr>\n",
       "    <tr>\n",
       "      <th>977836</th>\n",
       "      <td>ZIC3</td>\n",
       "      <td>ZFP36L3</td>\n",
       "    </tr>\n",
       "    <tr>\n",
       "      <th>977837</th>\n",
       "      <td>ZIC3</td>\n",
       "      <td>ZFP499</td>\n",
       "    </tr>\n",
       "    <tr>\n",
       "      <th>977838</th>\n",
       "      <td>ZIC3</td>\n",
       "      <td>ZFP57</td>\n",
       "    </tr>\n",
       "    <tr>\n",
       "      <th>977839</th>\n",
       "      <td>ZIC3</td>\n",
       "      <td>ZFP91</td>\n",
       "    </tr>\n",
       "    <tr>\n",
       "      <th>977840</th>\n",
       "      <td>ZIC3</td>\n",
       "      <td>ZIC5</td>\n",
       "    </tr>\n",
       "  </tbody>\n",
       "</table>\n",
       "<p>977841 rows × 2 columns</p>\n",
       "</div>"
      ],
      "text/plain": [
       "          TF        TG\n",
       "0       ADNP  MIS18BP1\n",
       "1       ADNP      EXD1\n",
       "2       ADNP      CHP1\n",
       "3       ADNP     OSCAR\n",
       "4       ADNP    NDUFA3\n",
       "...      ...       ...\n",
       "977836  ZIC3   ZFP36L3\n",
       "977837  ZIC3    ZFP499\n",
       "977838  ZIC3     ZFP57\n",
       "977839  ZIC3     ZFP91\n",
       "977840  ZIC3      ZIC5\n",
       "\n",
       "[977841 rows x 2 columns]"
      ]
     },
     "execution_count": 95,
     "metadata": {},
     "output_type": "execute_result"
    }
   ],
   "source": [
    "beeline_ground_truth = pd.read_csv(os.path.join(GROUND_TRUTH_DIR, \"mESC_beeline_ChIP-seq.csv\"))\n",
    "beeline_ground_truth = beeline_ground_truth.rename(columns={\"Gene1\":\"TF\", \"Gene2\":\"TG\"})\n",
    "beeline_ground_truth"
   ]
  },
  {
   "cell_type": "code",
   "execution_count": 96,
   "id": "732d62ab",
   "metadata": {},
   "outputs": [
    {
     "data": {
      "application/vnd.microsoft.datawrangler.viewer.v0+json": {
       "columns": [
        {
         "name": "index",
         "rawType": "int64",
         "type": "integer"
        },
        {
         "name": "TF",
         "rawType": "object",
         "type": "string"
        },
        {
         "name": "TG",
         "rawType": "object",
         "type": "string"
        }
       ],
       "ref": "2299cbdb-2ae9-4a57-b72e-653db2242db7",
       "rows": [
        [
         "0",
         "ADNP",
         "MIS18BP1"
        ],
        [
         "1",
         "ADNP",
         "EXD1"
        ],
        [
         "2",
         "ADNP",
         "CHP1"
        ],
        [
         "3",
         "ADNP",
         "OSCAR"
        ],
        [
         "4",
         "ADNP",
         "NDUFA3"
        ],
        [
         "5",
         "ADNP",
         "BSPRY"
        ],
        [
         "6",
         "ADNP",
         "RFWD3"
        ],
        [
         "7",
         "ADNP",
         "IGFBP4"
        ],
        [
         "8",
         "ADNP",
         "LRCH1"
        ],
        [
         "9",
         "ADNP",
         "ZPR1"
        ],
        [
         "10",
         "ADNP",
         "ZDHHC6"
        ],
        [
         "11",
         "ADNP",
         "VTI1A"
        ],
        [
         "12",
         "ADNP",
         "CYP21A1"
        ],
        [
         "13",
         "ADNP",
         "SRF"
        ],
        [
         "14",
         "ADNP",
         "RAMAC"
        ],
        [
         "15",
         "ADNP",
         "DNM1L"
        ],
        [
         "16",
         "ADNP",
         "CRTAC1"
        ],
        [
         "17",
         "ADNP",
         "GNE"
        ],
        [
         "18",
         "ADNP",
         "GPCPD1"
        ],
        [
         "19",
         "ADNP",
         "TMEM51"
        ],
        [
         "20",
         "ADNP",
         "CWF19L2"
        ],
        [
         "21",
         "ADNP",
         "JUP"
        ],
        [
         "22",
         "ADNP",
         "PRSS50"
        ],
        [
         "23",
         "ADNP",
         "SNHG11"
        ],
        [
         "24",
         "ADNP",
         "TJP2"
        ],
        [
         "25",
         "ADNP",
         "CLCN4"
        ],
        [
         "26",
         "ADNP",
         "PFAS"
        ],
        [
         "27",
         "ADNP",
         "RTN2"
        ],
        [
         "28",
         "ADNP",
         "TMEM221"
        ],
        [
         "29",
         "ADNP",
         "ABHD16A"
        ],
        [
         "30",
         "ADNP",
         "LSM10"
        ],
        [
         "31",
         "ADNP",
         "PIEZO1"
        ],
        [
         "32",
         "ADNP",
         "PLEKHG4"
        ],
        [
         "33",
         "ADNP",
         "PADI4"
        ],
        [
         "34",
         "ADNP",
         "DPEP3"
        ],
        [
         "35",
         "ADNP",
         "MED16"
        ],
        [
         "36",
         "ADNP",
         "RSL1D1"
        ],
        [
         "37",
         "ADNP",
         "ANKRD33"
        ],
        [
         "38",
         "ADNP",
         "MKRN2"
        ],
        [
         "39",
         "ADNP",
         "AP4E1"
        ],
        [
         "40",
         "ADNP",
         "ZFP647"
        ],
        [
         "41",
         "ADNP",
         "FBXO4"
        ],
        [
         "42",
         "ADNP",
         "B230219D22RIK"
        ],
        [
         "43",
         "ADNP",
         "DDX59"
        ],
        [
         "44",
         "ADNP",
         "GABPB2"
        ],
        [
         "45",
         "ADNP",
         "ALOX12"
        ],
        [
         "46",
         "ADNP",
         "FAM198B"
        ],
        [
         "47",
         "ADNP",
         "RNF135"
        ],
        [
         "48",
         "ADNP",
         "MESP1"
        ],
        [
         "49",
         "ADNP",
         "NLRX1"
        ]
       ],
       "shape": {
        "columns": 2,
        "rows": 977841
       }
      },
      "text/html": [
       "<div>\n",
       "<style scoped>\n",
       "    .dataframe tbody tr th:only-of-type {\n",
       "        vertical-align: middle;\n",
       "    }\n",
       "\n",
       "    .dataframe tbody tr th {\n",
       "        vertical-align: top;\n",
       "    }\n",
       "\n",
       "    .dataframe thead th {\n",
       "        text-align: right;\n",
       "    }\n",
       "</style>\n",
       "<table border=\"1\" class=\"dataframe\">\n",
       "  <thead>\n",
       "    <tr style=\"text-align: right;\">\n",
       "      <th></th>\n",
       "      <th>TF</th>\n",
       "      <th>TG</th>\n",
       "    </tr>\n",
       "  </thead>\n",
       "  <tbody>\n",
       "    <tr>\n",
       "      <th>0</th>\n",
       "      <td>ADNP</td>\n",
       "      <td>MIS18BP1</td>\n",
       "    </tr>\n",
       "    <tr>\n",
       "      <th>1</th>\n",
       "      <td>ADNP</td>\n",
       "      <td>EXD1</td>\n",
       "    </tr>\n",
       "    <tr>\n",
       "      <th>2</th>\n",
       "      <td>ADNP</td>\n",
       "      <td>CHP1</td>\n",
       "    </tr>\n",
       "    <tr>\n",
       "      <th>3</th>\n",
       "      <td>ADNP</td>\n",
       "      <td>OSCAR</td>\n",
       "    </tr>\n",
       "    <tr>\n",
       "      <th>4</th>\n",
       "      <td>ADNP</td>\n",
       "      <td>NDUFA3</td>\n",
       "    </tr>\n",
       "    <tr>\n",
       "      <th>...</th>\n",
       "      <td>...</td>\n",
       "      <td>...</td>\n",
       "    </tr>\n",
       "    <tr>\n",
       "      <th>977836</th>\n",
       "      <td>ZIC3</td>\n",
       "      <td>ZFP36L3</td>\n",
       "    </tr>\n",
       "    <tr>\n",
       "      <th>977837</th>\n",
       "      <td>ZIC3</td>\n",
       "      <td>ZFP499</td>\n",
       "    </tr>\n",
       "    <tr>\n",
       "      <th>977838</th>\n",
       "      <td>ZIC3</td>\n",
       "      <td>ZFP57</td>\n",
       "    </tr>\n",
       "    <tr>\n",
       "      <th>977839</th>\n",
       "      <td>ZIC3</td>\n",
       "      <td>ZFP91</td>\n",
       "    </tr>\n",
       "    <tr>\n",
       "      <th>977840</th>\n",
       "      <td>ZIC3</td>\n",
       "      <td>ZIC5</td>\n",
       "    </tr>\n",
       "  </tbody>\n",
       "</table>\n",
       "<p>977841 rows × 2 columns</p>\n",
       "</div>"
      ],
      "text/plain": [
       "          TF        TG\n",
       "0       ADNP  MIS18BP1\n",
       "1       ADNP      EXD1\n",
       "2       ADNP      CHP1\n",
       "3       ADNP     OSCAR\n",
       "4       ADNP    NDUFA3\n",
       "...      ...       ...\n",
       "977836  ZIC3   ZFP36L3\n",
       "977837  ZIC3    ZFP499\n",
       "977838  ZIC3     ZFP57\n",
       "977839  ZIC3     ZFP91\n",
       "977840  ZIC3      ZIC5\n",
       "\n",
       "[977841 rows x 2 columns]"
      ]
     },
     "execution_count": 96,
     "metadata": {},
     "output_type": "execute_result"
    }
   ],
   "source": [
    "orti_ground_truth = pd.read_csv(os.path.join(GROUND_TRUTH_DIR, \"mESC_beeline_ChIP-seq.csv\"))\n",
    "orti_ground_truth = orti_ground_truth.rename(columns={\"Gene1\":\"TF\", \"Gene2\":\"TG\"})\n",
    "orti_ground_truth"
   ]
  },
  {
   "cell_type": "code",
   "execution_count": 97,
   "id": "81b61279",
   "metadata": {},
   "outputs": [
    {
     "data": {
      "application/vnd.microsoft.datawrangler.viewer.v0+json": {
       "columns": [
        {
         "name": "index",
         "rawType": "int64",
         "type": "integer"
        },
        {
         "name": "TF",
         "rawType": "object",
         "type": "string"
        },
        {
         "name": "TG",
         "rawType": "object",
         "type": "string"
        }
       ],
       "ref": "0a9ecda6-ab17-4148-b255-1ac08374ac45",
       "rows": [
        [
         "0",
         "CHD7",
         "APOA1"
        ],
        [
         "1",
         "CHD7",
         "ARHGAP26"
        ],
        [
         "2",
         "CHD7",
         "ATP11A"
        ],
        [
         "3",
         "CHD7",
         "ATP5O"
        ],
        [
         "4",
         "CHD7",
         "AXIN1"
        ],
        [
         "5",
         "CHD7",
         "BCL11B"
        ],
        [
         "6",
         "CHD7",
         "BMP4"
        ],
        [
         "7",
         "CHD7",
         "BRWD1"
        ],
        [
         "8",
         "CHD7",
         "BUD13"
        ],
        [
         "9",
         "CHD7",
         "C21ORF59"
        ],
        [
         "10",
         "CHD7",
         "C21ORF63"
        ],
        [
         "11",
         "CHD7",
         "C21ORF66"
        ],
        [
         "12",
         "CHD7",
         "C22ORF24"
        ],
        [
         "13",
         "CHD7",
         "C5ORF35"
        ],
        [
         "14",
         "CHD7",
         "C9ORF106"
        ],
        [
         "15",
         "CHD7",
         "CACNG6"
        ],
        [
         "16",
         "CHD7",
         "CAPZA2"
        ],
        [
         "17",
         "CHD7",
         "CAV1"
        ],
        [
         "18",
         "CHD7",
         "CAV2"
        ],
        [
         "19",
         "CHD7",
         "CCDC93"
        ],
        [
         "20",
         "CHD7",
         "CDH2"
        ],
        [
         "21",
         "CHD7",
         "CFTR"
        ],
        [
         "22",
         "CHD7",
         "CGN"
        ],
        [
         "23",
         "CHD7",
         "CHPF"
        ],
        [
         "24",
         "CHD7",
         "CRAT"
        ],
        [
         "25",
         "CHD7",
         "CRYZL1"
        ],
        [
         "26",
         "CHD7",
         "CTAG1B"
        ],
        [
         "27",
         "CHD7",
         "CTGF"
        ],
        [
         "28",
         "CHD7",
         "CTTNBP2"
        ],
        [
         "29",
         "CHD7",
         "DDHD1"
        ],
        [
         "30",
         "CHD7",
         "DDX43"
        ],
        [
         "31",
         "CHD7",
         "DEPDC5"
        ],
        [
         "32",
         "CHD7",
         "DKC1"
        ],
        [
         "33",
         "CHD7",
         "DONSON"
        ],
        [
         "34",
         "CHD7",
         "EEF1A1"
        ],
        [
         "35",
         "CHD7",
         "EIF4ENIF1"
        ],
        [
         "36",
         "CHD7",
         "EVX1"
        ],
        [
         "37",
         "CHD7",
         "EXT1"
        ],
        [
         "38",
         "CHD7",
         "F8A2"
        ],
        [
         "39",
         "CHD7",
         "FAM3A"
        ],
        [
         "40",
         "CHD7",
         "FAM83C"
        ],
        [
         "41",
         "CHD7",
         "FBXO7"
        ],
        [
         "42",
         "CHD7",
         "FGF1"
        ],
        [
         "43",
         "CHD7",
         "FLJ21062"
        ],
        [
         "44",
         "CHD7",
         "FLJ45139"
        ],
        [
         "45",
         "CHD7",
         "FLNA"
        ],
        [
         "46",
         "CHD7",
         "FOXP4"
        ],
        [
         "47",
         "CHD7",
         "FZD1"
        ],
        [
         "48",
         "CHD7",
         "GDI1"
        ],
        [
         "49",
         "CHD7",
         "GTPBP10"
        ]
       ],
       "shape": {
        "columns": 2,
        "rows": 133975
       }
      },
      "text/html": [
       "<div>\n",
       "<style scoped>\n",
       "    .dataframe tbody tr th:only-of-type {\n",
       "        vertical-align: middle;\n",
       "    }\n",
       "\n",
       "    .dataframe tbody tr th {\n",
       "        vertical-align: top;\n",
       "    }\n",
       "\n",
       "    .dataframe thead th {\n",
       "        text-align: right;\n",
       "    }\n",
       "</style>\n",
       "<table border=\"1\" class=\"dataframe\">\n",
       "  <thead>\n",
       "    <tr style=\"text-align: right;\">\n",
       "      <th></th>\n",
       "      <th>TF</th>\n",
       "      <th>TG</th>\n",
       "    </tr>\n",
       "  </thead>\n",
       "  <tbody>\n",
       "    <tr>\n",
       "      <th>0</th>\n",
       "      <td>CHD7</td>\n",
       "      <td>APOA1</td>\n",
       "    </tr>\n",
       "    <tr>\n",
       "      <th>1</th>\n",
       "      <td>CHD7</td>\n",
       "      <td>ARHGAP26</td>\n",
       "    </tr>\n",
       "    <tr>\n",
       "      <th>2</th>\n",
       "      <td>CHD7</td>\n",
       "      <td>ATP11A</td>\n",
       "    </tr>\n",
       "    <tr>\n",
       "      <th>3</th>\n",
       "      <td>CHD7</td>\n",
       "      <td>ATP5O</td>\n",
       "    </tr>\n",
       "    <tr>\n",
       "      <th>4</th>\n",
       "      <td>CHD7</td>\n",
       "      <td>AXIN1</td>\n",
       "    </tr>\n",
       "    <tr>\n",
       "      <th>...</th>\n",
       "      <td>...</td>\n",
       "      <td>...</td>\n",
       "    </tr>\n",
       "    <tr>\n",
       "      <th>133970</th>\n",
       "      <td>ESRRB</td>\n",
       "      <td>GNB2</td>\n",
       "    </tr>\n",
       "    <tr>\n",
       "      <th>133971</th>\n",
       "      <td>ESRRB</td>\n",
       "      <td>CCDC37</td>\n",
       "    </tr>\n",
       "    <tr>\n",
       "      <th>133972</th>\n",
       "      <td>ESRRB</td>\n",
       "      <td>FAM161A</td>\n",
       "    </tr>\n",
       "    <tr>\n",
       "      <th>133973</th>\n",
       "      <td>ESRRB</td>\n",
       "      <td>CSF1</td>\n",
       "    </tr>\n",
       "    <tr>\n",
       "      <th>133974</th>\n",
       "      <td>ESRRB</td>\n",
       "      <td>CCL6</td>\n",
       "    </tr>\n",
       "  </tbody>\n",
       "</table>\n",
       "<p>133975 rows × 2 columns</p>\n",
       "</div>"
      ],
      "text/plain": [
       "           TF        TG\n",
       "0        CHD7     APOA1\n",
       "1        CHD7  ARHGAP26\n",
       "2        CHD7    ATP11A\n",
       "3        CHD7     ATP5O\n",
       "4        CHD7     AXIN1\n",
       "...       ...       ...\n",
       "133970  ESRRB      GNB2\n",
       "133971  ESRRB    CCDC37\n",
       "133972  ESRRB   FAM161A\n",
       "133973  ESRRB      CSF1\n",
       "133974  ESRRB      CCL6\n",
       "\n",
       "[133975 rows x 2 columns]"
      ]
     },
     "execution_count": 97,
     "metadata": {},
     "output_type": "execute_result"
    }
   ],
   "source": [
    "rn115_ground_truth = pd.read_csv(os.path.join(GROUND_TRUTH_DIR, \"rn115_chipseq.tsv\"), sep=\"\\t\")\n",
    "rn115_ground_truth = rn115_ground_truth.rename(columns={\"sourceName\":\"TF\", \"targetName\":\"TG\"})\n",
    "rn115_ground_truth = rn115_ground_truth[[\"TF\", \"TG\"]]\n",
    "rn115_ground_truth"
   ]
  },
  {
   "cell_type": "code",
   "execution_count": 3,
   "id": "3099e75e",
   "metadata": {},
   "outputs": [],
   "source": [
    "gene_near_peaks_df = pd.read_parquet(os.path.join(TRAINED_MODEL_DATASET_DIR, \"genes_near_peaks_chr1.parquet\"))\n",
    "training_log_df = pd.read_csv(os.path.join(TRAINED_MODEL_DIR, \"training_log.csv\"), header=0, index_col=0)"
   ]
  },
  {
   "cell_type": "code",
   "execution_count": null,
   "id": "a73e441c",
   "metadata": {},
   "outputs": [],
   "source": [
    "def plot_per_gene_correlation_scatterplot(model, dataloader, gpu_id=0, outpath=None):\n",
    "    model.eval()\n",
    "    preds, tgts = [], []\n",
    "    with torch.no_grad():\n",
    "        for atac_wins, tf_tensor, targets, bias in dataloader:\n",
    "            atac_wins, tf_tensor, targets, bias = (\n",
    "                atac_wins.to(gpu_id),\n",
    "                tf_tensor.to(gpu_id),\n",
    "                targets.to(gpu_id),\n",
    "                bias.to(gpu_id)\n",
    "            )\n",
    "            output = model(atac_wins, tf_tensor)\n",
    "            preds.append(output.cpu().numpy())\n",
    "            tgts.append(targets.cpu().numpy())\n",
    "\n",
    "    preds = np.concatenate(preds, axis=0)\n",
    "    tgts  = np.concatenate(tgts, axis=0)\n",
    "\n",
    "    # inverse-transform\n",
    "    # preds_rescaled = scaler.inverse_transform(preds)\n",
    "    # tgts_rescaled  = scaler.inverse_transform(tgts)\n",
    "    preds_rescaled = preds\n",
    "    tgts_rescaled  = tgts\n",
    "\n",
    "    corr, _ = pearsonr(preds_rescaled.ravel(), tgts_rescaled.ravel())\n",
    "    print(f\"Test Pearson correlation: {corr:.3f}\")\n",
    "\n",
    "    plt.figure(figsize=(6,6))\n",
    "    plt.scatter(tgts_rescaled, preds_rescaled, alpha=0.5, s=5)\n",
    "    plt.xlabel(\"True values\")\n",
    "    plt.ylabel(\"Predicted values\")\n",
    "    plt.title(f\"Predicted vs True (r={corr:.3f})\")\n",
    "    plt.plot([tgts_rescaled.min(), tgts_rescaled.max()],\n",
    "             [tgts_rescaled.min(), tgts_rescaled.max()], 'r--')\n",
    "    if outpath:\n",
    "        plt.savefig(outpath, dpi=300)\n",
    "    else:\n",
    "        plt.show()"
   ]
  },
  {
   "cell_type": "code",
   "execution_count": 48,
   "id": "1feef8cb",
   "metadata": {},
   "outputs": [
    {
     "data": {
      "image/png": "[encoded data removed]",
      "text/plain": [
       "<Figure size 600x500 with 1 Axes>"
      ]
     },
     "metadata": {},
     "output_type": "display_data"
    }
   ],
   "source": [
    "def plot_pearson_corr_across_epochs(df):\n",
    "    fig = plt.figure(figsize=(6, 5))\n",
    "    plt.plot(df.index, df[\"Pearson\"], linewidth=2, label=\"Pearson Correlation\")\n",
    "\n",
    "    plt.title(\"Training mESC Chr1 Pearson Correlation\", fontsize=14)\n",
    "    plt.ylim((0,1))\n",
    "    plt.yticks(fontsize=13)\n",
    "    plt.xticks(fontsize=13)\n",
    "    plt.xlabel(\"Epoch\", fontsize=13)\n",
    "    plt.ylabel(\"Pearson Correlation\", fontsize=13)\n",
    "    plt.legend(fontsize=13)\n",
    "    plt.tight_layout()\n",
    "    \n",
    "    return fig\n",
    "\n",
    "fig = plot_pearson_corr_across_epochs(training_log_df)\n",
    "fig.savefig(os.path.join(TRAINED_MODEL_DIR, \"eval_results_pearson_corr.png\"), dpi=300)\n",
    "fig.show()"
   ]
  },
  {
   "cell_type": "code",
   "execution_count": 49,
   "id": "dc9e7349",
   "metadata": {},
   "outputs": [
    {
     "data": {
      "image/png": "[encoded data removed]",
      "text/plain": [
       "<Figure size 600x500 with 1 Axes>"
      ]
     },
     "metadata": {},
     "output_type": "display_data"
    }
   ],
   "source": [
    "def plot_train_val_loss(df):\n",
    "    fig = plt.figure(figsize=(6, 5))\n",
    "    plt.plot(df.index, df[\"Train Loss\"], linewidth=2, label=\"Validation Loss\")\n",
    "    plt.plot(df.index, df[\"Val Loss\"], linewidth=2, label=\"Training Loss\")\n",
    "\n",
    "    plt.title(\"Training mESC Chr11 Training/Validation Loss\", fontsize=14)\n",
    "    plt.ylim((0,1.5))\n",
    "    plt.yticks(fontsize=13)\n",
    "    plt.xticks(fontsize=13)\n",
    "    plt.xlabel(\"Epoch\", fontsize=13)\n",
    "    plt.ylabel(\"Loss\", fontsize=13)\n",
    "    plt.legend(fontsize=13)\n",
    "    plt.tight_layout()\n",
    "    \n",
    "    return fig\n",
    "    \n",
    "fig = plot_train_val_loss(training_log_df)\n",
    "fig.savefig(os.path.join(TRAINED_MODEL_DIR, \"eval_results_training_loss.png\"), dpi=300)\n",
    "fig.show()"
   ]
  },
  {
   "cell_type": "code",
   "execution_count": 41,
   "id": "816dc045",
   "metadata": {},
   "outputs": [
    {
     "data": {
      "image/png": "[encoded data removed]",
      "text/plain": [
       "<Figure size 1000x500 with 1 Axes>"
      ]
     },
     "metadata": {},
     "output_type": "display_data"
    }
   ],
   "source": [
    "tf_imp_dir = os.path.join(TRAINED_MODEL_DIR, \"tf_gradient_attributions\")\n",
    "            \n",
    "tf_importance_df = pd.read_csv(os.path.join(tf_imp_dir, \"tf_importance_matrix.csv\"), header=0, index_col=0)\n",
    "\n",
    "fig = plt.figure(figsize=(10,5))\n",
    "\n",
    "selected_tg = tf_importance_df.index[0]\n",
    "selected_tf_row = tf_importance_df.iloc[0]\n",
    "selected_tf_row = selected_tf_row.iloc[:50].sort_values(ascending=False)\n",
    "\n",
    "plt.xticks(rotation=90, fontsize=10)\n",
    "plt.bar(x=selected_tf_row.index, height=selected_tf_row)\n",
    "plt.title(f\"TF Importance for {selected_tg}\")\n",
    "plt.ylabel(\"TF Importance\")\n",
    "plt.tight_layout()\n",
    "plt.show()"
   ]
  },
  {
   "cell_type": "code",
   "execution_count": 28,
   "id": "2fd036a7",
   "metadata": {},
   "outputs": [
    {
     "data": {
      "application/vnd.microsoft.datawrangler.viewer.v0+json": {
       "columns": [
        {
         "name": "index",
         "rawType": "object",
         "type": "string"
        },
        {
         "name": "1700019A02Rik",
         "rawType": "float64",
         "type": "float"
        },
        {
         "name": "1700019D03Rik",
         "rawType": "float64",
         "type": "float"
        },
        {
         "name": "1700034P13Rik",
         "rawType": "float64",
         "type": "float"
        },
        {
         "name": "2010300C02Rik",
         "rawType": "float64",
         "type": "float"
        },
        {
         "name": "2610203C22Rik",
         "rawType": "float64",
         "type": "float"
        },
        {
         "name": "3110045C21Rik",
         "rawType": "float64",
         "type": "float"
        },
        {
         "name": "4930444P10Rik",
         "rawType": "float64",
         "type": "float"
        },
        {
         "name": "4930523C07Rik",
         "rawType": "float64",
         "type": "float"
        },
        {
         "name": "4930590L20Rik",
         "rawType": "float64",
         "type": "float"
        },
        {
         "name": "4933400F21Rik",
         "rawType": "float64",
         "type": "float"
        },
        {
         "name": "4933439K11Rik",
         "rawType": "float64",
         "type": "float"
        },
        {
         "name": "6030442K20Rik",
         "rawType": "float64",
         "type": "float"
        },
        {
         "name": "9130024F11Rik",
         "rawType": "float64",
         "type": "float"
        },
        {
         "name": "9430060I03Rik",
         "rawType": "float64",
         "type": "float"
        },
        {
         "name": "A330023F24Rik",
         "rawType": "float64",
         "type": "float"
        },
        {
         "name": "A630001G21Rik",
         "rawType": "float64",
         "type": "float"
        },
        {
         "name": "A830018L16Rik",
         "rawType": "float64",
         "type": "float"
        },
        {
         "name": "AA986860",
         "rawType": "float64",
         "type": "float"
        },
        {
         "name": "Ackr3",
         "rawType": "float64",
         "type": "float"
        },
        {
         "name": "Adam23",
         "rawType": "float64",
         "type": "float"
        },
        {
         "name": "Adamts4",
         "rawType": "float64",
         "type": "float"
        },
        {
         "name": "Adcy10",
         "rawType": "float64",
         "type": "float"
        },
        {
         "name": "Adgrb3",
         "rawType": "float64",
         "type": "float"
        },
        {
         "name": "Adhfe1",
         "rawType": "float64",
         "type": "float"
        },
        {
         "name": "Adora1",
         "rawType": "float64",
         "type": "float"
        },
        {
         "name": "Aff3",
         "rawType": "float64",
         "type": "float"
        },
        {
         "name": "Aim2",
         "rawType": "float64",
         "type": "float"
        },
        {
         "name": "Akt3",
         "rawType": "float64",
         "type": "float"
        },
        {
         "name": "Alyref2",
         "rawType": "float64",
         "type": "float"
        },
        {
         "name": "Angptl1",
         "rawType": "float64",
         "type": "float"
        },
        {
         "name": "Ankmy1",
         "rawType": "float64",
         "type": "float"
        },
        {
         "name": "Ankrd44",
         "rawType": "float64",
         "type": "float"
        },
        {
         "name": "Ankzf1",
         "rawType": "float64",
         "type": "float"
        },
        {
         "name": "Aox1",
         "rawType": "float64",
         "type": "float"
        },
        {
         "name": "Ap1s3",
         "rawType": "float64",
         "type": "float"
        },
        {
         "name": "Apoa2",
         "rawType": "float64",
         "type": "float"
        },
        {
         "name": "Apol7d",
         "rawType": "float64",
         "type": "float"
        },
        {
         "name": "Arhgap30",
         "rawType": "float64",
         "type": "float"
        },
        {
         "name": "Arhgef4",
         "rawType": "float64",
         "type": "float"
        },
        {
         "name": "Arl4c",
         "rawType": "float64",
         "type": "float"
        },
        {
         "name": "Armc9",
         "rawType": "float64",
         "type": "float"
        },
        {
         "name": "Asb1",
         "rawType": "float64",
         "type": "float"
        },
        {
         "name": "Asb18",
         "rawType": "float64",
         "type": "float"
        },
        {
         "name": "Asic4",
         "rawType": "float64",
         "type": "float"
        },
        {
         "name": "Aspm",
         "rawType": "float64",
         "type": "float"
        },
        {
         "name": "Astn1",
         "rawType": "float64",
         "type": "float"
        },
        {
         "name": "Atf3",
         "rawType": "float64",
         "type": "float"
        },
        {
         "name": "Atp1a2",
         "rawType": "float64",
         "type": "float"
        },
        {
         "name": "Atp1b1",
         "rawType": "float64",
         "type": "float"
        },
        {
         "name": "Atp2b4",
         "rawType": "float64",
         "type": "float"
        },
        {
         "name": "B3gat2",
         "rawType": "float64",
         "type": "float"
        },
        {
         "name": "B3gnt7",
         "rawType": "float64",
         "type": "float"
        },
        {
         "name": "Bard1",
         "rawType": "float64",
         "type": "float"
        },
        {
         "name": "Batf3",
         "rawType": "float64",
         "type": "float"
        },
        {
         "name": "Bcl2",
         "rawType": "float64",
         "type": "float"
        },
        {
         "name": "Bcs1l",
         "rawType": "float64",
         "type": "float"
        },
        {
         "name": "Bend6",
         "rawType": "float64",
         "type": "float"
        },
        {
         "name": "Bivm",
         "rawType": "float64",
         "type": "float"
        },
        {
         "name": "Blzf1",
         "rawType": "float64",
         "type": "float"
        },
        {
         "name": "Brinp2",
         "rawType": "float64",
         "type": "float"
        },
        {
         "name": "Brinp3",
         "rawType": "float64",
         "type": "float"
        },
        {
         "name": "Btg2",
         "rawType": "float64",
         "type": "float"
        },
        {
         "name": "C030007H22Rik",
         "rawType": "float64",
         "type": "float"
        },
        {
         "name": "C130036L24Rik",
         "rawType": "float64",
         "type": "float"
        },
        {
         "name": "C130074G19Rik",
         "rawType": "float64",
         "type": "float"
        },
        {
         "name": "Cacna1e",
         "rawType": "float64",
         "type": "float"
        },
        {
         "name": "Camk1g",
         "rawType": "float64",
         "type": "float"
        },
        {
         "name": "Carf",
         "rawType": "float64",
         "type": "float"
        },
        {
         "name": "Casp8",
         "rawType": "float64",
         "type": "float"
        },
        {
         "name": "Casq1",
         "rawType": "float64",
         "type": "float"
        },
        {
         "name": "Catspere2",
         "rawType": "float64",
         "type": "float"
        },
        {
         "name": "Cavin2",
         "rawType": "float64",
         "type": "float"
        },
        {
         "name": "Ccdc150",
         "rawType": "float64",
         "type": "float"
        },
        {
         "name": "Ccnyl1",
         "rawType": "float64",
         "type": "float"
        },
        {
         "name": "Cd247",
         "rawType": "float64",
         "type": "float"
        },
        {
         "name": "Cd34",
         "rawType": "float64",
         "type": "float"
        },
        {
         "name": "Cd46",
         "rawType": "float64",
         "type": "float"
        },
        {
         "name": "Cd55",
         "rawType": "float64",
         "type": "float"
        },
        {
         "name": "Cd84",
         "rawType": "float64",
         "type": "float"
        },
        {
         "name": "Cdh19",
         "rawType": "float64",
         "type": "float"
        },
        {
         "name": "Cdh20",
         "rawType": "float64",
         "type": "float"
        },
        {
         "name": "Cdh7",
         "rawType": "float64",
         "type": "float"
        },
        {
         "name": "Cenpl",
         "rawType": "float64",
         "type": "float"
        },
        {
         "name": "Cfap126",
         "rawType": "float64",
         "type": "float"
        },
        {
         "name": "Cfap45",
         "rawType": "float64",
         "type": "float"
        },
        {
         "name": "Cfap65",
         "rawType": "float64",
         "type": "float"
        },
        {
         "name": "Cfc1",
         "rawType": "float64",
         "type": "float"
        },
        {
         "name": "Cfhr1",
         "rawType": "float64",
         "type": "float"
        },
        {
         "name": "Cflar",
         "rawType": "float64",
         "type": "float"
        },
        {
         "name": "Chst10",
         "rawType": "float64",
         "type": "float"
        },
        {
         "name": "Cnnm4",
         "rawType": "float64",
         "type": "float"
        },
        {
         "name": "Cntn2",
         "rawType": "float64",
         "type": "float"
        },
        {
         "name": "Cntnap5a",
         "rawType": "float64",
         "type": "float"
        },
        {
         "name": "Cntnap5b",
         "rawType": "float64",
         "type": "float"
        },
        {
         "name": "Col19a1",
         "rawType": "float64",
         "type": "float"
        },
        {
         "name": "Col3a1",
         "rawType": "float64",
         "type": "float"
        },
        {
         "name": "Col5a2",
         "rawType": "float64",
         "type": "float"
        },
        {
         "name": "Col9a1",
         "rawType": "float64",
         "type": "float"
        },
        {
         "name": "Colgalt2",
         "rawType": "float64",
         "type": "float"
        },
        {
         "name": "Cops7b",
         "rawType": "float64",
         "type": "float"
        },
        {
         "name": "Cops9",
         "rawType": "float64",
         "type": "float"
        },
        {
         "name": "Coq10b",
         "rawType": "float64",
         "type": "float"
        },
        {
         "name": "Coq8a",
         "rawType": "float64",
         "type": "float"
        },
        {
         "name": "Cpa6",
         "rawType": "float64",
         "type": "float"
        },
        {
         "name": "Cr2",
         "rawType": "float64",
         "type": "float"
        },
        {
         "name": "Crb1",
         "rawType": "float64",
         "type": "float"
        },
        {
         "name": "Creg1",
         "rawType": "float64",
         "type": "float"
        },
        {
         "name": "Crispld1",
         "rawType": "float64",
         "type": "float"
        },
        {
         "name": "Csrp1",
         "rawType": "float64",
         "type": "float"
        },
        {
         "name": "Ctla4",
         "rawType": "float64",
         "type": "float"
        },
        {
         "name": "Cxcr4",
         "rawType": "float64",
         "type": "float"
        },
        {
         "name": "Cyp27a1",
         "rawType": "float64",
         "type": "float"
        },
        {
         "name": "D1Ertd622e",
         "rawType": "float64",
         "type": "float"
        },
        {
         "name": "D730003I15Rik",
         "rawType": "float64",
         "type": "float"
        },
        {
         "name": "Daw1",
         "rawType": "float64",
         "type": "float"
        },
        {
         "name": "Dcaf6",
         "rawType": "float64",
         "type": "float"
        },
        {
         "name": "Ddr2",
         "rawType": "float64",
         "type": "float"
        },
        {
         "name": "Degs1",
         "rawType": "float64",
         "type": "float"
        },
        {
         "name": "Des",
         "rawType": "float64",
         "type": "float"
        },
        {
         "name": "Disp1",
         "rawType": "float64",
         "type": "float"
        },
        {
         "name": "Dnah14",
         "rawType": "float64",
         "type": "float"
        },
        {
         "name": "Dnah7a",
         "rawType": "float64",
         "type": "float"
        },
        {
         "name": "Dnah7b",
         "rawType": "float64",
         "type": "float"
        },
        {
         "name": "Dnah7c",
         "rawType": "float64",
         "type": "float"
        },
        {
         "name": "Dner",
         "rawType": "float64",
         "type": "float"
        },
        {
         "name": "Dnm3",
         "rawType": "float64",
         "type": "float"
        },
        {
         "name": "Dnpep",
         "rawType": "float64",
         "type": "float"
        },
        {
         "name": "Dock10",
         "rawType": "float64",
         "type": "float"
        },
        {
         "name": "Dpp10",
         "rawType": "float64",
         "type": "float"
        },
        {
         "name": "Dsel",
         "rawType": "float64",
         "type": "float"
        },
        {
         "name": "Dst",
         "rawType": "float64",
         "type": "float"
        },
        {
         "name": "Dstyk",
         "rawType": "float64",
         "type": "float"
        },
        {
         "name": "Dtl",
         "rawType": "float64",
         "type": "float"
        },
        {
         "name": "Dusp10",
         "rawType": "float64",
         "type": "float"
        },
        {
         "name": "Efcab2",
         "rawType": "float64",
         "type": "float"
        },
        {
         "name": "Efhc1",
         "rawType": "float64",
         "type": "float"
        },
        {
         "name": "Elf3",
         "rawType": "float64",
         "type": "float"
        },
        {
         "name": "En1",
         "rawType": "float64",
         "type": "float"
        },
        {
         "name": "Epha4",
         "rawType": "float64",
         "type": "float"
        },
        {
         "name": "Erbb4",
         "rawType": "float64",
         "type": "float"
        },
        {
         "name": "Ercc5",
         "rawType": "float64",
         "type": "float"
        },
        {
         "name": "Esrrg",
         "rawType": "float64",
         "type": "float"
        },
        {
         "name": "Eya1",
         "rawType": "float64",
         "type": "float"
        },
        {
         "name": "F11r",
         "rawType": "float64",
         "type": "float"
        },
        {
         "name": "F5",
         "rawType": "float64",
         "type": "float"
        },
        {
         "name": "Fam129a",
         "rawType": "float64",
         "type": "float"
        },
        {
         "name": "Fam163a",
         "rawType": "float64",
         "type": "float"
        },
        {
         "name": "Fam174a",
         "rawType": "float64",
         "type": "float"
        },
        {
         "name": "Fam178b",
         "rawType": "float64",
         "type": "float"
        },
        {
         "name": "Fam20b",
         "rawType": "float64",
         "type": "float"
        },
        {
         "name": "Fam78b",
         "rawType": "float64",
         "type": "float"
        },
        {
         "name": "Farp2",
         "rawType": "float64",
         "type": "float"
        },
        {
         "name": "Fbxo36",
         "rawType": "float64",
         "type": "float"
        },
        {
         "name": "Fcer1g",
         "rawType": "float64",
         "type": "float"
        },
        {
         "name": "Fcgr4",
         "rawType": "float64",
         "type": "float"
        },
        {
         "name": "Fcrla",
         "rawType": "float64",
         "type": "float"
        },
        {
         "name": "Fhl2",
         "rawType": "float64",
         "type": "float"
        },
        {
         "name": "Fmn2",
         "rawType": "float64",
         "type": "float"
        },
        {
         "name": "Fmo1",
         "rawType": "float64",
         "type": "float"
        },
        {
         "name": "Fn1",
         "rawType": "float64",
         "type": "float"
        },
        {
         "name": "Fzd5",
         "rawType": "float64",
         "type": "float"
        },
        {
         "name": "Fzd7",
         "rawType": "float64",
         "type": "float"
        },
        {
         "name": "G0s2",
         "rawType": "float64",
         "type": "float"
        },
        {
         "name": "Gbx2",
         "rawType": "float64",
         "type": "float"
        },
        {
         "name": "Gli2",
         "rawType": "float64",
         "type": "float"
        },
        {
         "name": "Glrx2",
         "rawType": "float64",
         "type": "float"
        },
        {
         "name": "Gls",
         "rawType": "float64",
         "type": "float"
        },
        {
         "name": "Glul",
         "rawType": "float64",
         "type": "float"
        },
        {
         "name": "Gm10516",
         "rawType": "float64",
         "type": "float"
        },
        {
         "name": "Gm15179",
         "rawType": "float64",
         "type": "float"
        },
        {
         "name": "Gm16070",
         "rawType": "float64",
         "type": "float"
        },
        {
         "name": "Gm19705",
         "rawType": "float64",
         "type": "float"
        },
        {
         "name": "Gm28535",
         "rawType": "float64",
         "type": "float"
        },
        {
         "name": "Gm7694",
         "rawType": "float64",
         "type": "float"
        },
        {
         "name": "Gm8251",
         "rawType": "float64",
         "type": "float"
        },
        {
         "name": "Gm973",
         "rawType": "float64",
         "type": "float"
        },
        {
         "name": "Gorab",
         "rawType": "float64",
         "type": "float"
        },
        {
         "name": "Gpr1",
         "rawType": "float64",
         "type": "float"
        },
        {
         "name": "Gpr161",
         "rawType": "float64",
         "type": "float"
        },
        {
         "name": "Gpr35",
         "rawType": "float64",
         "type": "float"
        },
        {
         "name": "Gpr39",
         "rawType": "float64",
         "type": "float"
        },
        {
         "name": "Gpr45",
         "rawType": "float64",
         "type": "float"
        },
        {
         "name": "Grem2",
         "rawType": "float64",
         "type": "float"
        },
        {
         "name": "Gulp1",
         "rawType": "float64",
         "type": "float"
        },
        {
         "name": "Hdac4",
         "rawType": "float64",
         "type": "float"
        },
        {
         "name": "Hecw2",
         "rawType": "float64",
         "type": "float"
        },
        {
         "name": "Hes6",
         "rawType": "float64",
         "type": "float"
        },
        {
         "name": "Hhat",
         "rawType": "float64",
         "type": "float"
        },
        {
         "name": "Hibch",
         "rawType": "float64",
         "type": "float"
        },
        {
         "name": "Hmcn1",
         "rawType": "float64",
         "type": "float"
        },
        {
         "name": "Hsd11b1",
         "rawType": "float64",
         "type": "float"
        },
        {
         "name": "Hspe1",
         "rawType": "float64",
         "type": "float"
        },
        {
         "name": "Htr2b",
         "rawType": "float64",
         "type": "float"
        },
        {
         "name": "Htr5b",
         "rawType": "float64",
         "type": "float"
        },
        {
         "name": "Ica1l",
         "rawType": "float64",
         "type": "float"
        },
        {
         "name": "Ifi203",
         "rawType": "float64",
         "type": "float"
        },
        {
         "name": "Ifi204",
         "rawType": "float64",
         "type": "float"
        },
        {
         "name": "Ifi206",
         "rawType": "float64",
         "type": "float"
        },
        {
         "name": "Ifi207",
         "rawType": "float64",
         "type": "float"
        },
        {
         "name": "Ifi209",
         "rawType": "float64",
         "type": "float"
        },
        {
         "name": "Ifi213",
         "rawType": "float64",
         "type": "float"
        },
        {
         "name": "Ifi214",
         "rawType": "float64",
         "type": "float"
        },
        {
         "name": "Igfbp2",
         "rawType": "float64",
         "type": "float"
        },
        {
         "name": "Igfbp5",
         "rawType": "float64",
         "type": "float"
        },
        {
         "name": "Ihh",
         "rawType": "float64",
         "type": "float"
        },
        {
         "name": "Ikbke",
         "rawType": "float64",
         "type": "float"
        },
        {
         "name": "Ikzf2",
         "rawType": "float64",
         "type": "float"
        },
        {
         "name": "Il17f",
         "rawType": "float64",
         "type": "float"
        },
        {
         "name": "Il1r1",
         "rawType": "float64",
         "type": "float"
        },
        {
         "name": "Ildr2",
         "rawType": "float64",
         "type": "float"
        },
        {
         "name": "Ing5",
         "rawType": "float64",
         "type": "float"
        },
        {
         "name": "Ino80dos",
         "rawType": "float64",
         "type": "float"
        },
        {
         "name": "Inpp1",
         "rawType": "float64",
         "type": "float"
        },
        {
         "name": "Inpp5d",
         "rawType": "float64",
         "type": "float"
        },
        {
         "name": "Insig2",
         "rawType": "float64",
         "type": "float"
        },
        {
         "name": "Irs1",
         "rawType": "float64",
         "type": "float"
        },
        {
         "name": "Itpkb",
         "rawType": "float64",
         "type": "float"
        },
        {
         "name": "Jph1",
         "rawType": "float64",
         "type": "float"
        },
        {
         "name": "Kansl1l",
         "rawType": "float64",
         "type": "float"
        },
        {
         "name": "Kcnb2",
         "rawType": "float64",
         "type": "float"
        },
        {
         "name": "Kcnh1",
         "rawType": "float64",
         "type": "float"
        },
        {
         "name": "Kcnj13",
         "rawType": "float64",
         "type": "float"
        },
        {
         "name": "Kcnk2",
         "rawType": "float64",
         "type": "float"
        },
        {
         "name": "Kcnq5",
         "rawType": "float64",
         "type": "float"
        },
        {
         "name": "Kcnt2",
         "rawType": "float64",
         "type": "float"
        },
        {
         "name": "Kctd18",
         "rawType": "float64",
         "type": "float"
        },
        {
         "name": "Khdrbs2",
         "rawType": "float64",
         "type": "float"
        },
        {
         "name": "Kif1a",
         "rawType": "float64",
         "type": "float"
        },
        {
         "name": "Kif26b",
         "rawType": "float64",
         "type": "float"
        },
        {
         "name": "Kif28",
         "rawType": "float64",
         "type": "float"
        },
        {
         "name": "Klf7",
         "rawType": "float64",
         "type": "float"
        },
        {
         "name": "Klhl20",
         "rawType": "float64",
         "type": "float"
        },
        {
         "name": "Kmo",
         "rawType": "float64",
         "type": "float"
        },
        {
         "name": "Lamb3",
         "rawType": "float64",
         "type": "float"
        },
        {
         "name": "Lamc1",
         "rawType": "float64",
         "type": "float"
        },
        {
         "name": "Lamc2",
         "rawType": "float64",
         "type": "float"
        },
        {
         "name": "Lct",
         "rawType": "float64",
         "type": "float"
        },
        {
         "name": "Lefty1",
         "rawType": "float64",
         "type": "float"
        },
        {
         "name": "Lefty2",
         "rawType": "float64",
         "type": "float"
        },
        {
         "name": "Lemd1",
         "rawType": "float64",
         "type": "float"
        },
        {
         "name": "Lmod1",
         "rawType": "float64",
         "type": "float"
        },
        {
         "name": "Lmx1a",
         "rawType": "float64",
         "type": "float"
        },
        {
         "name": "Lonrf2",
         "rawType": "float64",
         "type": "float"
        },
        {
         "name": "Lrrfip1",
         "rawType": "float64",
         "type": "float"
        },
        {
         "name": "Lrrn2",
         "rawType": "float64",
         "type": "float"
        },
        {
         "name": "Ly96",
         "rawType": "float64",
         "type": "float"
        },
        {
         "name": "Lypd1",
         "rawType": "float64",
         "type": "float"
        },
        {
         "name": "Map2",
         "rawType": "float64",
         "type": "float"
        },
        {
         "name": "Map3k19",
         "rawType": "float64",
         "type": "float"
        },
        {
         "name": "Mapkapk2",
         "rawType": "float64",
         "type": "float"
        },
        {
         "name": "Mark1",
         "rawType": "float64",
         "type": "float"
        },
        {
         "name": "Mcmdc2",
         "rawType": "float64",
         "type": "float"
        },
        {
         "name": "Mettl18",
         "rawType": "float64",
         "type": "float"
        },
        {
         "name": "Mfsd6",
         "rawType": "float64",
         "type": "float"
        },
        {
         "name": "Mgat4a",
         "rawType": "float64",
         "type": "float"
        },
        {
         "name": "Mgat4e",
         "rawType": "float64",
         "type": "float"
        },
        {
         "name": "Mgst3",
         "rawType": "float64",
         "type": "float"
        },
        {
         "name": "Mixl1",
         "rawType": "float64",
         "type": "float"
        },
        {
         "name": "Mlph",
         "rawType": "float64",
         "type": "float"
        },
        {
         "name": "Mndal",
         "rawType": "float64",
         "type": "float"
        },
        {
         "name": "Mpc2",
         "rawType": "float64",
         "type": "float"
        },
        {
         "name": "Mreg",
         "rawType": "float64",
         "type": "float"
        },
        {
         "name": "Mroh3",
         "rawType": "float64",
         "type": "float"
        },
        {
         "name": "Mrpl44",
         "rawType": "float64",
         "type": "float"
        },
        {
         "name": "Mrps14",
         "rawType": "float64",
         "type": "float"
        },
        {
         "name": "Mybl1",
         "rawType": "float64",
         "type": "float"
        },
        {
         "name": "Myl1",
         "rawType": "float64",
         "type": "float"
        },
        {
         "name": "Myo1b",
         "rawType": "float64",
         "type": "float"
        },
        {
         "name": "Nab1",
         "rawType": "float64",
         "type": "float"
        },
        {
         "name": "Nabp1",
         "rawType": "float64",
         "type": "float"
        },
        {
         "name": "Nav1",
         "rawType": "float64",
         "type": "float"
        },
        {
         "name": "Ncf2",
         "rawType": "float64",
         "type": "float"
        },
        {
         "name": "Nck2",
         "rawType": "float64",
         "type": "float"
        },
        {
         "name": "Nckap5",
         "rawType": "float64",
         "type": "float"
        },
        {
         "name": "Nemp2",
         "rawType": "float64",
         "type": "float"
        },
        {
         "name": "Nenf",
         "rawType": "float64",
         "type": "float"
        },
        {
         "name": "Nfasc",
         "rawType": "float64",
         "type": "float"
        },
        {
         "name": "Nhej1",
         "rawType": "float64",
         "type": "float"
        },
        {
         "name": "Nif3l1",
         "rawType": "float64",
         "type": "float"
        },
        {
         "name": "Nifk",
         "rawType": "float64",
         "type": "float"
        },
        {
         "name": "Nmnat2",
         "rawType": "float64",
         "type": "float"
        },
        {
         "name": "Nos1ap",
         "rawType": "float64",
         "type": "float"
        },
        {
         "name": "Npas2",
         "rawType": "float64",
         "type": "float"
        },
        {
         "name": "Npl",
         "rawType": "float64",
         "type": "float"
        },
        {
         "name": "Nr5a2",
         "rawType": "float64",
         "type": "float"
        },
        {
         "name": "Nrp2",
         "rawType": "float64",
         "type": "float"
        },
        {
         "name": "Nuak2",
         "rawType": "float64",
         "type": "float"
        },
        {
         "name": "Nyap2",
         "rawType": "float64",
         "type": "float"
        },
        {
         "name": "Pacc1",
         "rawType": "float64",
         "type": "float"
        },
        {
         "name": "Pam",
         "rawType": "float64",
         "type": "float"
        },
        {
         "name": "Pappa2",
         "rawType": "float64",
         "type": "float"
        },
        {
         "name": "Paqr8",
         "rawType": "float64",
         "type": "float"
        },
        {
         "name": "Pard3b",
         "rawType": "float64",
         "type": "float"
        },
        {
         "name": "Parp1",
         "rawType": "float64",
         "type": "float"
        },
        {
         "name": "Pax3",
         "rawType": "float64",
         "type": "float"
        },
        {
         "name": "Pbx1",
         "rawType": "float64",
         "type": "float"
        },
        {
         "name": "Pcmtd1",
         "rawType": "float64",
         "type": "float"
        },
        {
         "name": "Pcp4l1",
         "rawType": "float64",
         "type": "float"
        },
        {
         "name": "Pde6d",
         "rawType": "float64",
         "type": "float"
        },
        {
         "name": "Per2",
         "rawType": "float64",
         "type": "float"
        },
        {
         "name": "Pfdn2",
         "rawType": "float64",
         "type": "float"
        },
        {
         "name": "Pfkfb2",
         "rawType": "float64",
         "type": "float"
        },
        {
         "name": "Pgap1",
         "rawType": "float64",
         "type": "float"
        },
        {
         "name": "Phlda3",
         "rawType": "float64",
         "type": "float"
        },
        {
         "name": "Pid1",
         "rawType": "float64",
         "type": "float"
        },
        {
         "name": "Pik3c2b",
         "rawType": "float64",
         "type": "float"
        },
        {
         "name": "Pkhd1",
         "rawType": "float64",
         "type": "float"
        },
        {
         "name": "Pkp1",
         "rawType": "float64",
         "type": "float"
        },
        {
         "name": "Pla2g4a",
         "rawType": "float64",
         "type": "float"
        },
        {
         "name": "Platr22",
         "rawType": "float64",
         "type": "float"
        },
        {
         "name": "Plcd4",
         "rawType": "float64",
         "type": "float"
        },
        {
         "name": "Plcl1",
         "rawType": "float64",
         "type": "float"
        },
        {
         "name": "Pld5",
         "rawType": "float64",
         "type": "float"
        },
        {
         "name": "Plekha6",
         "rawType": "float64",
         "type": "float"
        },
        {
         "name": "Plekhm3",
         "rawType": "float64",
         "type": "float"
        },
        {
         "name": "Plxna2",
         "rawType": "float64",
         "type": "float"
        },
        {
         "name": "Pogk",
         "rawType": "float64",
         "type": "float"
        },
        {
         "name": "Prex2",
         "rawType": "float64",
         "type": "float"
        },
        {
         "name": "Prg4",
         "rawType": "float64",
         "type": "float"
        },
        {
         "name": "Prim2",
         "rawType": "float64",
         "type": "float"
        },
        {
         "name": "Prox1",
         "rawType": "float64",
         "type": "float"
        },
        {
         "name": "Prrx1",
         "rawType": "float64",
         "type": "float"
        },
        {
         "name": "Ptgs2",
         "rawType": "float64",
         "type": "float"
        },
        {
         "name": "Pth2r",
         "rawType": "float64",
         "type": "float"
        },
        {
         "name": "Ptpn14",
         "rawType": "float64",
         "type": "float"
        },
        {
         "name": "Ptpn18",
         "rawType": "float64",
         "type": "float"
        },
        {
         "name": "Ptpn7",
         "rawType": "float64",
         "type": "float"
        },
        {
         "name": "Ptprc",
         "rawType": "float64",
         "type": "float"
        },
        {
         "name": "Ptprn",
         "rawType": "float64",
         "type": "float"
        },
        {
         "name": "Pycr2",
         "rawType": "float64",
         "type": "float"
        },
        {
         "name": "Qsox1",
         "rawType": "float64",
         "type": "float"
        },
        {
         "name": "Rab23",
         "rawType": "float64",
         "type": "float"
        },
        {
         "name": "Rabgap1l",
         "rawType": "float64",
         "type": "float"
        },
        {
         "name": "Ralb",
         "rawType": "float64",
         "type": "float"
        },
        {
         "name": "Ralgps2",
         "rawType": "float64",
         "type": "float"
        },
        {
         "name": "Ramp1",
         "rawType": "float64",
         "type": "float"
        },
        {
         "name": "Rasal2",
         "rawType": "float64",
         "type": "float"
        },
        {
         "name": "Rassf5",
         "rawType": "float64",
         "type": "float"
        },
        {
         "name": "Rbm44",
         "rawType": "float64",
         "type": "float"
        },
        {
         "name": "Rcsd1",
         "rawType": "float64",
         "type": "float"
        },
        {
         "name": "Rftn2",
         "rawType": "float64",
         "type": "float"
        },
        {
         "name": "Rgl1",
         "rawType": "float64",
         "type": "float"
        },
        {
         "name": "Rgs1",
         "rawType": "float64",
         "type": "float"
        },
        {
         "name": "Rgs2",
         "rawType": "float64",
         "type": "float"
        },
        {
         "name": "Rgs20",
         "rawType": "float64",
         "type": "float"
        },
        {
         "name": "Rgs5",
         "rawType": "float64",
         "type": "float"
        },
        {
         "name": "Rgs7",
         "rawType": "float64",
         "type": "float"
        },
        {
         "name": "Rims1",
         "rawType": "float64",
         "type": "float"
        },
        {
         "name": "Rnasel",
         "rawType": "float64",
         "type": "float"
        },
        {
         "name": "Rnf149",
         "rawType": "float64",
         "type": "float"
        },
        {
         "name": "Rnf152",
         "rawType": "float64",
         "type": "float"
        },
        {
         "name": "Rp1",
         "rawType": "float64",
         "type": "float"
        },
        {
         "name": "Rpl31",
         "rawType": "float64",
         "type": "float"
        },
        {
         "name": "Rpl37a",
         "rawType": "float64",
         "type": "float"
        },
        {
         "name": "Rpl7",
         "rawType": "float64",
         "type": "float"
        },
        {
         "name": "Rps6kc1",
         "rawType": "float64",
         "type": "float"
        },
        {
         "name": "Rrs1",
         "rawType": "float64",
         "type": "float"
        },
        {
         "name": "Rxrg",
         "rawType": "float64",
         "type": "float"
        },
        {
         "name": "Sag",
         "rawType": "float64",
         "type": "float"
        },
        {
         "name": "Satb2",
         "rawType": "float64",
         "type": "float"
        },
        {
         "name": "Sdhaf4",
         "rawType": "float64",
         "type": "float"
        },
        {
         "name": "Sell",
         "rawType": "float64",
         "type": "float"
        },
        {
         "name": "Sft2d2",
         "rawType": "float64",
         "type": "float"
        },
        {
         "name": "Sgk3",
         "rawType": "float64",
         "type": "float"
        },
        {
         "name": "Sgpp2",
         "rawType": "float64",
         "type": "float"
        },
        {
         "name": "Sh3bp4",
         "rawType": "float64",
         "type": "float"
        },
        {
         "name": "Shcbp1l",
         "rawType": "float64",
         "type": "float"
        },
        {
         "name": "Slamf1",
         "rawType": "float64",
         "type": "float"
        },
        {
         "name": "Slc23a3",
         "rawType": "float64",
         "type": "float"
        },
        {
         "name": "Slc30a1",
         "rawType": "float64",
         "type": "float"
        },
        {
         "name": "Slc30a10",
         "rawType": "float64",
         "type": "float"
        },
        {
         "name": "Slc40a1",
         "rawType": "float64",
         "type": "float"
        },
        {
         "name": "Slc4a3",
         "rawType": "float64",
         "type": "float"
        },
        {
         "name": "Slco4c1",
         "rawType": "float64",
         "type": "float"
        },
        {
         "name": "Slco5a1",
         "rawType": "float64",
         "type": "float"
        },
        {
         "name": "Smyd3",
         "rawType": "float64",
         "type": "float"
        },
        {
         "name": "Sned1",
         "rawType": "float64",
         "type": "float"
        },
        {
         "name": "Sntg1",
         "rawType": "float64",
         "type": "float"
        },
        {
         "name": "Sox13",
         "rawType": "float64",
         "type": "float"
        },
        {
         "name": "Sox17",
         "rawType": "float64",
         "type": "float"
        },
        {
         "name": "Sp100",
         "rawType": "float64",
         "type": "float"
        },
        {
         "name": "Sp140",
         "rawType": "float64",
         "type": "float"
        },
        {
         "name": "Spag16",
         "rawType": "float64",
         "type": "float"
        },
        {
         "name": "Spata17",
         "rawType": "float64",
         "type": "float"
        },
        {
         "name": "Spats2l",
         "rawType": "float64",
         "type": "float"
        },
        {
         "name": "Speg",
         "rawType": "float64",
         "type": "float"
        },
        {
         "name": "Sphkap",
         "rawType": "float64",
         "type": "float"
        },
        {
         "name": "Spp2",
         "rawType": "float64",
         "type": "float"
        },
        {
         "name": "Spta1",
         "rawType": "float64",
         "type": "float"
        },
        {
         "name": "Srp9",
         "rawType": "float64",
         "type": "float"
        },
        {
         "name": "St8sia4",
         "rawType": "float64",
         "type": "float"
        },
        {
         "name": "Stat1",
         "rawType": "float64",
         "type": "float"
        },
        {
         "name": "Stat4",
         "rawType": "float64",
         "type": "float"
        },
        {
         "name": "Steap3",
         "rawType": "float64",
         "type": "float"
        },
        {
         "name": "Stk17b",
         "rawType": "float64",
         "type": "float"
        },
        {
         "name": "Stk36",
         "rawType": "float64",
         "type": "float"
        },
        {
         "name": "Stum",
         "rawType": "float64",
         "type": "float"
        },
        {
         "name": "Stx6",
         "rawType": "float64",
         "type": "float"
        },
        {
         "name": "Sulf1",
         "rawType": "float64",
         "type": "float"
        },
        {
         "name": "Susd4",
         "rawType": "float64",
         "type": "float"
        },
        {
         "name": "Swt1",
         "rawType": "float64",
         "type": "float"
        },
        {
         "name": "Syt2",
         "rawType": "float64",
         "type": "float"
        },
        {
         "name": "Tagln2",
         "rawType": "float64",
         "type": "float"
        },
        {
         "name": "Tatdn3",
         "rawType": "float64",
         "type": "float"
        },
        {
         "name": "Tbc1d8",
         "rawType": "float64",
         "type": "float"
        },
        {
         "name": "Tdrd5",
         "rawType": "float64",
         "type": "float"
        },
        {
         "name": "Teddm2",
         "rawType": "float64",
         "type": "float"
        },
        {
         "name": "Tfap2b",
         "rawType": "float64",
         "type": "float"
        },
        {
         "name": "Tfb2m",
         "rawType": "float64",
         "type": "float"
        },
        {
         "name": "Tfcp2l1",
         "rawType": "float64",
         "type": "float"
        },
        {
         "name": "Tgfb2",
         "rawType": "float64",
         "type": "float"
        },
        {
         "name": "Tgfbrap1",
         "rawType": "float64",
         "type": "float"
        },
        {
         "name": "Thap4",
         "rawType": "float64",
         "type": "float"
        },
        {
         "name": "Thsd7b",
         "rawType": "float64",
         "type": "float"
        },
        {
         "name": "Tmcc2",
         "rawType": "float64",
         "type": "float"
        },
        {
         "name": "Tmeff2",
         "rawType": "float64",
         "type": "float"
        },
        {
         "name": "Tmem163",
         "rawType": "float64",
         "type": "float"
        },
        {
         "name": "Tmem177",
         "rawType": "float64",
         "type": "float"
        },
        {
         "name": "Tmem198",
         "rawType": "float64",
         "type": "float"
        },
        {
         "name": "Tmem37",
         "rawType": "float64",
         "type": "float"
        },
        {
         "name": "Tmem63a",
         "rawType": "float64",
         "type": "float"
        },
        {
         "name": "Tmem81",
         "rawType": "float64",
         "type": "float"
        },
        {
         "name": "Tnfrsf11a",
         "rawType": "float64",
         "type": "float"
        },
        {
         "name": "Tnni1",
         "rawType": "float64",
         "type": "float"
        },
        {
         "name": "Tnnt2",
         "rawType": "float64",
         "type": "float"
        },
        {
         "name": "Tnr",
         "rawType": "float64",
         "type": "float"
        },
        {
         "name": "Tns1",
         "rawType": "float64",
         "type": "float"
        },
        {
         "name": "Tor1aip1",
         "rawType": "float64",
         "type": "float"
        },
        {
         "name": "Tor3a",
         "rawType": "float64",
         "type": "float"
        },
        {
         "name": "Traf5",
         "rawType": "float64",
         "type": "float"
        },
        {
         "name": "Tsga10",
         "rawType": "float64",
         "type": "float"
        },
        {
         "name": "Twist2",
         "rawType": "float64",
         "type": "float"
        },
        {
         "name": "Ube2t",
         "rawType": "float64",
         "type": "float"
        },
        {
         "name": "Ufc1",
         "rawType": "float64",
         "type": "float"
        },
        {
         "name": "Unc80",
         "rawType": "float64",
         "type": "float"
        },
        {
         "name": "Ush2a",
         "rawType": "float64",
         "type": "float"
        },
        {
         "name": "Vash2",
         "rawType": "float64",
         "type": "float"
        },
        {
         "name": "Vil1",
         "rawType": "float64",
         "type": "float"
        },
        {
         "name": "Wnt6",
         "rawType": "float64",
         "type": "float"
        },
        {
         "name": "Xkr4",
         "rawType": "float64",
         "type": "float"
        },
        {
         "name": "Xkr9",
         "rawType": "float64",
         "type": "float"
        },
        {
         "name": "Xpr1",
         "rawType": "float64",
         "type": "float"
        },
        {
         "name": "Yod1",
         "rawType": "float64",
         "type": "float"
        },
        {
         "name": "Zbtb41",
         "rawType": "float64",
         "type": "float"
        },
        {
         "name": "Zc3h11a",
         "rawType": "float64",
         "type": "float"
        },
        {
         "name": "Zdbf2",
         "rawType": "float64",
         "type": "float"
        }
       ],
       "ref": "9d93cb7f-d007-45f0-8737-61ca2037fdbc",
       "rows": [
        [
         "AMYB",
         "0.0042203655",
         "0.006596132",
         "0.005181931",
         "0.0032525265",
         "0.0023175443",
         "0.0030527534",
         "0.004211184",
         "0.0054046847",
         "0.0048131878",
         "0.005186268",
         "0.0040056403",
         "0.0039638565",
         "0.0029709071",
         "0.0029827103",
         "0.0041775033",
         "0.008169282",
         "0.0076376027",
         "0.0038267788",
         "0.0066807303",
         "0.0059057246",
         "0.0030817492",
         "0.0025503691",
         "0.006557991",
         "0.0051168636",
         "0.0019066221",
         "0.013081075",
         "0.007742858",
         "0.010318456",
         "0.0023828791",
         "0.003062173",
         "0.004628294",
         "0.0028449043",
         "0.0021965953",
         "0.0027737466",
         "0.0072146994",
         "0.0063046813",
         "0.005252431",
         "0.001364462",
         "0.0017784488",
         "0.008149384",
         "0.0013877199",
         "0.0027793394",
         "0.0019027804",
         "0.0021388913",
         "0.00612033",
         "0.011896466",
         "0.005170666",
         "0.009044352",
         "0.0069619226",
         "0.0058119213",
         "0.00390898",
         "0.005121248",
         "0.0030278114",
         "0.0053447634",
         "0.0025238283",
         "0.0032173656",
         "0.0027777867",
         "0.0013442951",
         "0.0029683297",
         "0.003965155",
         "0.0035638674",
         "0.0033643513",
         "0.0028246406",
         "0.0063500716",
         "0.0044339723",
         "0.0063211196",
         "0.0036714238",
         "0.0036710266",
         "0.008043669",
         "0.0042558294",
         "0.0062398906",
         "0.0034708239",
         "0.0015211577",
         "0.0014927126",
         "0.0018881282",
         "0.0038609323",
         "0.0048408946",
         "0.006456639",
         "0.0043736245",
         "0.0047118105",
         "0.008636991",
         "0.0067096427",
         "0.0019735727",
         "0.0033526598",
         "0.006066463",
         "0.0049035694",
         "0.004796248",
         "0.005051359",
         "0.0012959364",
         "0.008805318",
         "0.0056649484",
         "0.0029099418",
         "0.00706601",
         "0.0036797856",
         "0.011473639",
         "0.009498785",
         "0.004072151",
         "0.0056226384",
         "0.0032416866",
         "0.004947108",
         "0.006540439",
         "0.005656993",
         "0.006538633",
         "0.0034045095",
         "0.0056929644",
         "0.007848869",
         "0.007267815",
         "0.008634822",
         "0.0021758003",
         "0.002587112",
         "0.014369977",
         "0.003566458",
         "0.0034388157",
         "0.0038841688",
         "0.004413561",
         "0.0028808974",
         "0.005578881",
         "0.003620885",
         "0.0020702458",
         "0.004414097",
         "0.0023925223",
         "0.003576704",
         "0.0025928644",
         "0.0035236902",
         "0.0030557592",
         "0.004499712",
         "0.003945411",
         "0.0024176964",
         "0.0031631629",
         "0.0023643833",
         "0.0077826963",
         "0.0054188836",
         "0.0063678483",
         "0.0059483103",
         "0.0019502204",
         "0.004059625",
         "0.003201807",
         "0.0064801737",
         "0.01076486",
         "0.0132352635",
         "0.0042089685",
         "0.005723325",
         "0.011523809",
         "0.00532308",
         "0.0014520625",
         "0.0045411126",
         "0.005128679",
         "0.007728087",
         "0.004420723",
         "0.0036211286",
         "0.0064931368",
         "0.0042777495",
         "0.0022404285",
         "0.0030284282",
         "0.0027392835",
         "0.0034398055",
         "0.009939976",
         "0.0035628579",
         "0.0038236259",
         "0.009601075",
         "0.0044404506",
         "0.009455581",
         "0.0040990436",
         "0.00501513",
         "0.01733361",
         "0.00522358",
         "0.005198316",
         "0.0043724054",
         "0.0052716676",
         "0.0036815645",
         "0.0032561834",
         "0.0025287739",
         "0.0038355174",
         "0.0035829977",
         "0.0040996936",
         "0.003126371",
         "0.0010090657",
         "0.0014382834",
         "0.0014526026",
         "0.0033522071",
         "0.00835491",
         "0.0027280662",
         "0.003685524",
         "0.015924292",
         "0.004773163",
         "0.010858966",
         "0.0027109953",
         "0.0023564869",
         "0.0015990904",
         "0.005525298",
         "0.0059984894",
         "0.0040496476",
         "0.003454982",
         "0.0044926074",
         "0.0052636596",
         "0.0033076147",
         "0.0016751576",
         "0.0041340264",
         "0.002844962",
         "0.0033716261",
         "0.0027478319",
         "0.0023037845",
         "0.012613557",
         "0.0051669274",
         "0.0035719413",
         "0.004813421",
         "0.013944973",
         "0.005338359",
         "0.0052310005",
         "0.006709768",
         "0.0023096763",
         "0.003949713",
         "0.0058935354",
         "0.007251234",
         "0.00818689",
         "0.00962378",
         "0.0031217479",
         "0.0034003742",
         "0.0023450262",
         "0.0066344263",
         "0.006673596",
         "0.0017501363",
         "0.010156087",
         "0.009060926",
         "0.015040302",
         "0.0017790288",
         "0.008348032",
         "0.0034308913",
         "0.0067584757",
         "0.0032664225",
         "0.0034591744",
         "0.004274692",
         "0.0042210557",
         "0.0035537523",
         "0.010300348",
         "0.0037350857",
         "0.002931044",
         "0.0033640398",
         "0.012947526",
         "0.0023699806",
         "0.0039049468",
         "0.004762425",
         "0.0050003096",
         "0.005604324",
         "0.0035688933",
         "0.003390239",
         "0.0050697",
         "0.0056915334",
         "0.0064894487",
         "0.0041815857",
         "0.0011014595",
         "0.0025689325",
         "0.0046413564",
         "0.0036370964",
         "0.0031107345",
         "0.0057113613",
         "0.008684716",
         "0.0037225385",
         "0.005151479",
         "0.0020815223",
         "0.0023188903",
         "0.0024601184",
         "0.001522565",
         "0.0032396868",
         "0.0018634073",
         "0.0029259282",
         "0.0041437587",
         "0.008010204",
         "0.0044588093",
         "0.0038490002",
         "0.0036924884",
         "0.004828572",
         "0.0046414128",
         "0.007000418",
         "0.0035281181",
         "0.002108546",
         "0.0036822176",
         "0.0054986933",
         "0.0042412505",
         "0.0030967025",
         "0.0055084857",
         "0.014078008",
         "0.004742803",
         "0.007843472",
         "0.0039159693",
         "0.005295049",
         "0.0048705772",
         "0.0061991904",
         "0.003357423",
         "0.008953762",
         "0.0051581846",
         "0.003161561",
         "0.014954585",
         "0.007097054",
         "0.012570927",
         "0.010199138",
         "0.007883215",
         "0.003880127",
         "0.0015852259",
         "0.001786685",
         "0.0027715017",
         "0.0070876144",
         "0.017958177",
         "0.003307865",
         "0.008172209",
         "0.0070461985",
         "0.0039041082",
         "0.0064809714",
         "0.0018521193",
         "0.0058099893",
         "0.0024201025",
         "0.0025971914",
         "0.0027621363",
         "0.0073148003",
         "0.003680402",
         "0.012892236",
         "0.0041550305",
         "0.006440481",
         "0.002621449",
         "0.0036462657",
         "0.0034901511",
         "0.0061196308",
         "0.0028895175",
         "0.005252312",
         "0.005142583",
         "0.002992454",
         "0.004877133",
         "0.0025055401",
         "0.007131035",
         "0.0017966126",
         "0.0031742002",
         "0.0015777488",
         "0.0027315551",
         "0.0022795515",
         "0.007686253",
         "0.0028344188",
         "0.0038428442",
         "0.0065511526",
         "0.002354533",
         "0.0055035674",
         "0.0039086556",
         "0.006506858",
         "0.0032498175",
         "0.0031350837",
         "0.0036111653",
         "0.0075149615",
         "0.0031701191",
         "0.00470367",
         "0.0060663135",
         "0.006091705",
         "0.0059518097",
         "0.002937946",
         "0.0037256235",
         "0.0024459793",
         "0.0023350646",
         "0.0024146729",
         "0.0036609308",
         "0.001276525",
         "0.0034051305",
         "0.024855077",
         "0.0061585866",
         "0.0024239724",
         "0.0028255992",
         "0.014784065",
         "0.0042202263",
         "0.0063622193",
         "0.0069302507",
         "0.002926443",
         "0.0023230636",
         "0.0020793283",
         "0.005850246",
         "0.0031876783",
         "0.0030493813",
         "0.005291001",
         "0.0036398033",
         "0.011715554",
         "0.002537956",
         "0.008721151",
         "0.009668351",
         "0.009138491",
         "0.0029095507",
         "0.0028855044",
         "0.0039893086",
         "0.0033437745",
         "0.007278523",
         "0.0038254324",
         "0.004280806",
         "0.006250211",
         "0.0046967277",
         "0.0039440896",
         "0.006542242",
         "0.0044251718",
         "0.0061263666",
         "0.003086482",
         "0.0037296063",
         "0.0032334283",
         "0.0027778212",
         "0.005482231",
         "0.017146913",
         "0.0063491887",
         "0.002086456",
         "0.0033513494",
         "0.0016072977",
         "0.0031652616",
         "0.0075483588",
         "0.0037379079",
         "0.0059816274",
         "0.009653908",
         "0.003414507",
         "0.004304093",
         "0.013026324",
         "0.0048980303",
         "0.0056702257",
         "0.005043674",
         "0.0031166896",
         "0.0052506533",
         "0.0046676807",
         "0.0028935822",
         "0.0030053519",
         "0.004062656",
         "0.0013755631",
         "0.0032413218",
         "0.0049986895",
         "0.002462496",
         "0.0039474373",
         "0.004276791",
         "0.0036387264",
         "0.0041512502",
         "0.005652546",
         "0.0029328568",
         "0.0022039423",
         "0.0049140514",
         "0.0016502045",
         "0.0041990215",
         "0.004503911",
         "0.00405546",
         "0.0026906012",
         "0.0033856032",
         "0.009207343",
         "0.007730102",
         "0.0030839331",
         "0.004111764",
         "0.004474041",
         "0.0038152349",
         "0.006241515",
         "0.0055617034"
        ],
        [
         "AP-1",
         "0.005143118",
         "0.0058060326",
         "0.004754716",
         "0.0048366813",
         "0.003596531",
         "0.003996216",
         "0.0032464883",
         "0.0060924827",
         "0.0028574425",
         "0.0021820273",
         "0.0034981598",
         "0.002542885",
         "0.0022338256",
         "0.0070980177",
         "0.0046755024",
         "0.0021926889",
         "0.010195008",
         "0.0041129277",
         "0.007615667",
         "0.0056016175",
         "0.0035390502",
         "0.0025043136",
         "0.00775902",
         "0.0064575747",
         "0.0032368652",
         "0.006149381",
         "0.00440335",
         "0.007024637",
         "0.00396949",
         "0.0049093496",
         "0.0039869444",
         "0.0028559898",
         "0.0049538803",
         "0.004052003",
         "0.0061362465",
         "0.007273396",
         "0.004638805",
         "0.0035414791",
         "0.002249246",
         "0.0029453954",
         "0.0012442446",
         "0.0023312515",
         "0.003176488",
         "0.0018630853",
         "0.001444167",
         "0.012577384",
         "0.004190782",
         "0.010423454",
         "0.0044963625",
         "0.003245305",
         "0.0015189098",
         "0.0040680673",
         "0.0035455392",
         "0.003476898",
         "0.0047976715",
         "0.0019080011",
         "0.004292415",
         "0.0013057819",
         "0.0039039184",
         "0.0034321267",
         "0.0038905113",
         "0.0046263398",
         "0.0020585419",
         "0.0046201223",
         "0.0025724715",
         "0.004159158",
         "0.002611605",
         "0.002886823",
         "0.005554871",
         "0.0020719778",
         "0.0024962698",
         "0.002589057",
         "0.0033832956",
         "0.0037748427",
         "0.0019841683",
         "0.006573854",
         "0.0033899134",
         "0.004582113",
         "0.0027286285",
         "0.0034543301",
         "0.01532044",
         "0.0028035587",
         "0.0021726817",
         "0.0033587876",
         "0.0035490473",
         "0.004074274",
         "0.0074885436",
         "0.005695055",
         "0.001978806",
         "0.0026430613",
         "0.0022285571",
         "0.0020259374",
         "0.0049708574",
         "0.0036894062",
         "0.005650774",
         "0.0035788983",
         "0.0027108083",
         "0.0016460568",
         "0.0038045526",
         "0.002255614",
         "0.002845986",
         "0.003284235",
         "0.0069668237",
         "0.0043337685",
         "0.003013249",
         "0.005459738",
         "0.0007649922",
         "0.0060268077",
         "0.004037295",
         "0.003624665",
         "0.0071779746",
         "0.001979777",
         "0.0012988666",
         "0.0019526135",
         "0.0053081866",
         "0.006731323",
         "0.015877558",
         "0.0038503467",
         "0.0026896258",
         "0.00639575",
         "0.003119596",
         "0.0024467292",
         "0.0036838003",
         "0.0018205419",
         "0.004352331",
         "0.00574652",
         "0.0037956086",
         "0.0057953126",
         "0.013303395",
         "0.0020188962",
         "0.0060823197",
         "0.0025644184",
         "0.0048441025",
         "0.002383527",
         "0.0035015796",
         "0.002959487",
         "0.0036263457",
         "0.010203585",
         "0.0066779433",
         "0.011757202",
         "0.0027541465",
         "0.012373795",
         "0.01217259",
         "0.0029697996",
         "0.004111849",
         "0.0039108354",
         "0.004841397",
         "0.0038450512",
         "0.0024290842",
         "0.0068796724",
         "0.0017906473",
         "0.0064096325",
         "0.002994759",
         "0.0033191207",
         "0.0027237881",
         "0.0038135245",
         "0.0015444683",
         "0.0051456913",
         "0.0023565574",
         "0.009789818",
         "0.013257219",
         "0.0076157716",
         "0.0038489427",
         "0.0053406362",
         "0.003430328",
         "0.004848585",
         "0.00061769434",
         "0.0061499975",
         "0.0031697613",
         "0.001965933",
         "0.0033716366",
         "0.004069627",
         "0.0052073738",
         "0.0011876008",
         "0.0024978616",
         "0.0020754116",
         "0.0020928425",
         "0.0034036054",
         "0.0031108167",
         "0.0027121063",
         "0.007488065",
         "0.0027653365",
         "0.005491723",
         "0.0073743206",
         "0.0044413395",
         "0.0028281035",
         "0.004603372",
         "0.0050686556",
         "0.0022470588",
         "0.009965868",
         "0.0045886193",
         "0.0034008953",
         "0.0038214005",
         "0.005702637",
         "0.006143569",
         "0.0020704784",
         "0.0057325405",
         "0.002564065",
         "0.0019949656",
         "0.005490338",
         "0.006310561",
         "0.006699489",
         "0.015856078",
         "0.0059711337",
         "0.0036295166",
         "0.0075823297",
         "0.00958829",
         "0.0028576455",
         "0.0020650327",
         "0.004554349",
         "0.0017590604",
         "0.0012671606",
         "0.005714557",
         "0.0052316287",
         "0.0027773387",
         "0.003746463",
         "0.0025959774",
         "0.0027301204",
         "0.001662889",
         "0.0071244477",
         "0.002722039",
         "0.0018865741",
         "0.0017206382",
         "0.0058344156",
         "0.0047728526",
         "0.004362443",
         "0.0045570307",
         "0.0036368114",
         "0.0077311266",
         "0.0029003338",
         "0.0041216724",
         "0.006159767",
         "0.0035360195",
         "0.0020039738",
         "0.016550286",
         "0.002461903",
         "0.0030850014",
         "0.0021997308",
         "0.0043765013",
         "0.0028472124",
         "0.0044616256",
         "0.009245859",
         "0.0045486647",
         "0.0040208325",
         "0.0030122083",
         "0.0023432793",
         "0.005383246",
         "0.0063850963",
         "0.0038282839",
         "0.0014384367",
         "0.004607757",
         "0.0034506968",
         "0.0025064808",
         "0.0014471154",
         "0.0025181808",
         "0.0010131198",
         "0.0020182356",
         "0.0031144246",
         "0.0049057906",
         "0.0029131288",
         "0.0017728226",
         "0.0035487507",
         "0.0023609856",
         "0.0055359663",
         "0.0027420735",
         "0.0010563624",
         "0.0020714144",
         "0.0051968936",
         "0.002418638",
         "0.008623967",
         "0.0036906232",
         "0.003910365",
         "0.0034936208",
         "0.0067413477",
         "0.0014752446",
         "0.00095051975",
         "0.008770553",
         "0.0016599745",
         "0.0040971916",
         "0.0043186136",
         "0.007176372",
         "0.004902008",
         "0.00797516",
         "0.009876135",
         "0.004808269",
         "0.011205553",
         "0.0041282717",
         "0.0035043592",
         "0.0027015754",
         "0.005591269",
         "0.002910717",
         "0.0038578033",
         "0.0047468096",
         "0.0026309728",
         "0.0028297224",
         "0.005745976",
         "0.0017106442",
         "0.0027808435",
         "0.0045277076",
         "0.00071426225",
         "0.001153425",
         "0.0020919968",
         "0.0075218864",
         "0.0029838325",
         "0.011212988",
         "0.0043454496",
         "0.0071156374",
         "0.0011177006",
         "0.0016254067",
         "0.006141481",
         "0.002682337",
         "0.0032665543",
         "0.007860398",
         "0.008400976",
         "0.002966217",
         "0.007372164",
         "0.0046122144",
         "0.008782188",
         "0.0013099075",
         "0.0037492826",
         "0.0038012378",
         "0.007129843",
         "0.002196572",
         "0.003623461",
         "0.0047129164",
         "0.0023885483",
         "0.002880613",
         "0.0045330767",
         "0.0058129686",
         "0.007116982",
         "0.0013186513",
         "0.0048132758",
         "0.0041673835",
         "0.0013725696",
         "0.0024874895",
         "0.004948636",
         "0.0028234262",
         "0.0028279996",
         "0.0031751464",
         "0.0018323552",
         "0.0051933206",
         "0.006485397",
         "0.0031464808",
         "0.0013312462",
         "0.004422901",
         "0.0017986555",
         "0.004348266",
         "0.006452074",
         "0.00284515",
         "0.004015996",
         "0.00554579",
         "0.0039301156",
         "0.003504676",
         "0.0025311587",
         "0.0026541224",
         "0.0014970087",
         "0.0035020898",
         "0.0031825127",
         "0.0030785254",
         "0.012037733",
         "0.001125557",
         "0.0014430379",
         "0.0028621342",
         "0.008940303",
         "0.0050762715",
         "0.0013311062",
         "0.004022563",
         "0.00401626",
         "0.0023085934",
         "0.0028818704",
         "0.003637279",
         "0.0054979846",
         "0.0029460962",
         "0.00832612",
         "0.00514363",
         "0.004189875",
         "0.0053747934",
         "0.0058973096",
         "0.005953626",
         "0.00618043",
         "0.0030980178",
         "0.0012312583",
         "0.0036062147",
         "0.003003393",
         "0.0038782584",
         "0.003400691",
         "0.004940107",
         "0.010373551",
         "0.004397855",
         "0.003156408",
         "0.0030477778",
         "0.0045890347",
         "0.0022983537",
         "0.0037628352",
         "0.0025240062",
         "0.0029654128",
         "0.0042884294",
         "0.002164511",
         "0.010379184",
         "0.007787173",
         "0.0020119553",
         "0.005639468",
         "0.0034702735",
         "0.0021395031",
         "0.0050820573",
         "0.004233055",
         "0.0049039465",
         "0.0012838589",
         "0.0024870005",
         "0.0063593704",
         "0.007997753",
         "0.002050041",
         "0.004534119",
         "0.006211732",
         "0.0025569138",
         "0.0069775973",
         "0.008391061",
         "0.003889367",
         "0.0022624834",
         "0.00769298",
         "0.002814551",
         "0.0034268773",
         "0.0049035386",
         "0.0031430586",
         "0.0041345484",
         "0.003786229",
         "0.012639268",
         "0.0016677012",
         "0.005264821",
         "0.0017931628",
         "0.0010972943",
         "0.0047568586",
         "0.0032051136",
         "0.004222517",
         "0.0053297468",
         "0.0025089788",
         "0.0037421156",
         "0.004766776",
         "0.005110093",
         "0.011932493",
         "0.0032959853",
         "0.0025940808",
         "0.00363226",
         "0.0038416442",
         "0.0032506115",
         "0.004480424"
        ],
        [
         "Atoh1",
         "0.0006027033",
         "0.0029527992",
         "0.0012667014",
         "0.0014982322",
         "0.0010739452",
         "0.0017005277",
         "0.0011846098",
         "0.0012091652",
         "0.0016362773",
         "0.00056234456",
         "0.0005314868",
         "0.00056123553",
         "0.0025355942",
         "0.0011170716",
         "0.0012110195",
         "0.0017680366",
         "0.000967452",
         "0.0013907864",
         "0.0019361479",
         "0.0009600781",
         "0.0019358",
         "0.00073269516",
         "0.0009095825",
         "0.0014466979",
         "0.0016787025",
         "0.0042317114",
         "0.0037401975",
         "0.001142765",
         "0.0014355521",
         "0.002502667",
         "0.0019386299",
         "0.0007561801",
         "0.0003930515",
         "0.001095942",
         "0.002992076",
         "0.0013146921",
         "0.000751649",
         "0.0015686689",
         "0.000886559",
         "0.0017942365",
         "0.0007026731",
         "0.00087259314",
         "0.0012905106",
         "0.0009956248",
         "0.00062569766",
         "0.0011958068",
         "0.00069669116",
         "0.0013510868",
         "0.0012316973",
         "0.0013909821",
         "0.0010443727",
         "0.0027026457",
         "0.0012955621",
         "0.0011581221",
         "0.0023247276",
         "0.0018782158",
         "0.00075735326",
         "0.0009945492",
         "0.0013773261",
         "0.001850673",
         "0.00042260787",
         "0.0011222619",
         "0.00036489617",
         "0.0012761188",
         "0.0023503352",
         "0.0022906712",
         "0.0010753871",
         "0.00093833334",
         "0.0023259528",
         "0.0020067384",
         "0.0012798754",
         "0.0006326723",
         "0.00088396017",
         "0.0017021456",
         "0.001599146",
         "0.0015099866",
         "0.0017291235",
         "0.0013005354",
         "0.00059321854",
         "0.0010283202",
         "0.004189531",
         "0.0028499928",
         "0.00079724856",
         "0.0013004345",
         "0.0010110978",
         "0.0006408842",
         "0.0015927093",
         "0.0009783817",
         "0.0014752153",
         "0.00072160515",
         "0.0008020971",
         "0.0011980702",
         "0.0015908941",
         "0.00068832777",
         "0.0016965518",
         "0.002279195",
         "0.0045500603",
         "0.0014221398",
         "0.0008942543",
         "0.0010906239",
         "0.0007750641",
         "0.0018302324",
         "0.0007754652",
         "0.0028744405",
         "0.00072527345",
         "0.0027712453",
         "0.0007055545",
         "0.002579044",
         "0.00048028457",
         "0.0017815767",
         "0.0011742698",
         "0.001267678",
         "0.0012735425",
         "0.0014548238",
         "0.00047825597",
         "0.0013793226",
         "0.0034706453",
         "0.0015010997",
         "0.0012531697",
         "0.0019276108",
         "0.001875202",
         "0.0013721735",
         "0.0011607329",
         "0.0012959084",
         "0.0005380599",
         "0.0015350012",
         "0.0011583137",
         "0.002600764",
         "0.0011877719",
         "0.0012195568",
         "0.005229831",
         "0.00057235046",
         "0.002099563",
         "0.0020389082",
         "0.0012587738",
         "0.0011332927",
         "0.0008013193",
         "0.0011597405",
         "0.0018933307",
         "0.0026613574",
         "0.0007694535",
         "0.0028446177",
         "0.0016378722",
         "0.0010238887",
         "0.0010409857",
         "0.0013757445",
         "0.0008455498",
         "0.0006862125",
         "0.0013756993",
         "0.0017017182",
         "0.0016823519",
         "0.0009079557",
         "0.0016703694",
         "0.0019800132",
         "0.00088847155",
         "0.0012604075",
         "0.0014986675",
         "0.0022368068",
         "0.0012076845",
         "0.0024959582",
         "0.005944004",
         "0.0029415619",
         "0.0015334189",
         "0.0026378823",
         "0.0018692786",
         "0.0014534686",
         "0.0017327302",
         "0.0011234458",
         "0.0010118809",
         "0.0010168507",
         "0.0011246009",
         "0.0005744676",
         "0.00064811466",
         "0.0008922668",
         "0.0015625292",
         "0.0018293408",
         "0.00076453167",
         "0.0011140287",
         "0.0009122378",
         "0.0015814757",
         "0.00074828684",
         "0.001714647",
         "0.0018430373",
         "0.0032492692",
         "0.0013103933",
         "0.0019348986",
         "0.0017082164",
         "0.001637102",
         "0.0012964213",
         "0.0020114763",
         "0.0013048388",
         "0.00235453",
         "0.0016201095",
         "0.0008358244",
         "0.0011186473",
         "0.001094322",
         "0.0010770515",
         "0.0016244432",
         "0.0010025112",
         "0.0011223406",
         "0.0013539615",
         "0.0015525214",
         "0.0015417056",
         "0.0033666983",
         "0.0021766599",
         "0.00097439915",
         "0.002169756",
         "0.0012644515",
         "0.0009189693",
         "0.0007566361",
         "0.0010931458",
         "0.0011306421",
         "0.0017198205",
         "0.0016943322",
         "0.00068325683",
         "0.0017359084",
         "0.00089946325",
         "0.0011789686",
         "0.00061624584",
         "0.001260388",
         "0.0014448678",
         "0.00049633806",
         "0.0014930463",
         "0.00065536046",
         "0.002162463",
         "0.00093952275",
         "0.0007696456",
         "0.0012324641",
         "0.0021541617",
         "0.0011338132",
         "0.0022407223",
         "0.0007125036",
         "0.00048075255",
         "0.002396503",
         "0.0019494416",
         "0.0010395546",
         "0.00075897755",
         "0.00050714705",
         "0.0012909409",
         "0.0009759401",
         "0.0010252784",
         "0.0021176927",
         "0.0016685326",
         "0.002564581",
         "0.0007396686",
         "0.00078373717",
         "0.00181953",
         "0.0019663696",
         "0.0012110883",
         "0.0008378931",
         "0.00285986",
         "0.0016060312",
         "0.0020740402",
         "0.0012146556",
         "0.0008711439",
         "0.0011807665",
         "0.0011317916",
         "0.0030154828",
         "0.0016924815",
         "0.001077545",
         "0.00048355106",
         "0.0028358023",
         "0.0009353467",
         "0.0006655003",
         "0.0010435965",
         "0.0038060953",
         "0.0006710808",
         "0.0027905144",
         "0.0011791367",
         "0.00208403",
         "0.0010988176",
         "0.0019886487",
         "0.0010915969",
         "0.0029295094",
         "0.0011192224",
         "0.00082352915",
         "0.0026557117",
         "0.0011289497",
         "0.00156893",
         "0.00068383466",
         "0.002796718",
         "0.0038051812",
         "0.0032532571",
         "0.0010453232",
         "0.0013568663",
         "0.001000909",
         "0.003009602",
         "0.0016780049",
         "0.0009260901",
         "0.0011099116",
         "0.00050411036",
         "0.00053629355",
         "0.0026893993",
         "0.00074194313",
         "0.0018513931",
         "0.0011160998",
         "0.0011975272",
         "0.0010288375",
         "0.0003471435",
         "0.0019804384",
         "0.0022213717",
         "0.0016346183",
         "0.0028008586",
         "0.0012687454",
         "0.001476116",
         "0.003075234",
         "0.0012959637",
         "0.0025439016",
         "0.0007500178",
         "0.0030146316",
         "0.00048884115",
         "0.0011377352",
         "0.0017041542",
         "0.003913115",
         "0.00075323746",
         "0.0024823528",
         "0.0016670175",
         "0.0015096581",
         "0.0011727598",
         "0.0014395834",
         "0.003086954",
         "0.0029031048",
         "0.0012944202",
         "0.00094321667",
         "0.0013650749",
         "0.0010275112",
         "0.0007294153",
         "0.0011965195",
         "0.0017961648",
         "0.0016633319",
         "0.001321724",
         "0.0006751145",
         "0.0011512558",
         "0.0012948181",
         "0.0019714027",
         "0.0012992176",
         "0.002941715",
         "0.0006032269",
         "0.00070020126",
         "0.0020754964",
         "0.001490904",
         "0.0016819828",
         "0.0008997386",
         "0.00086802087",
         "0.0018362219",
         "0.0015378733",
         "0.0022027777",
         "0.0016389687",
         "0.00036863986",
         "0.001384821",
         "0.002928927",
         "0.001067062",
         "0.0012308655",
         "0.0015969025",
         "0.00115348",
         "0.0007228553",
         "0.0021246406",
         "0.0013888889",
         "0.00075440394",
         "0.0050848676",
         "0.00038470118",
         "0.0006275315",
         "0.00037817628",
         "0.0008859716",
         "0.0019510943",
         "0.0009793362",
         "0.00132841",
         "0.0014776473",
         "0.0007084352",
         "0.0019551986",
         "0.0015159268",
         "0.002185388",
         "0.0005946998",
         "0.0011128519",
         "0.0019328537",
         "0.0023351589",
         "0.0008393451",
         "0.0011813223",
         "0.0014952719",
         "0.0015064077",
         "0.0013199949",
         "0.0011433507",
         "0.0009716887",
         "0.00094232336",
         "0.0017171748",
         "0.0010939494",
         "0.00047888228",
         "0.001613565",
         "0.0014056232",
         "0.0003063484",
         "0.003263064",
         "0.00051208626",
         "0.0010168921",
         "0.0018288076",
         "0.0016413572",
         "0.0008700548",
         "0.0016753996",
         "0.001387035",
         "0.0047986526",
         "0.0018428924",
         "0.00036926958",
         "0.0012568767",
         "0.0016167188",
         "0.00070844643",
         "0.0008547265",
         "0.001428973",
         "0.0013255244",
         "0.00077431684",
         "0.0012927573",
         "0.0013627176",
         "0.00091929047",
         "0.00084805355",
         "0.00085910066",
         "0.0007530985",
         "0.0011503013",
         "0.0022534463",
         "0.004127552",
         "0.001789992",
         "0.001336581",
         "0.0018381065",
         "0.00062346546",
         "0.0017285472",
         "0.002001905",
         "0.0015059651",
         "0.0012874288",
         "0.00067345024",
         "0.0014851822",
         "0.0019839138",
         "0.0019781142",
         "0.0007638934",
         "0.0005487752",
         "0.001462607",
         "0.0016351874",
         "0.0008548556",
         "0.002172132",
         "0.0010352869",
         "0.00072838",
         "0.0016322026",
         "0.0023433843",
         "0.0023926725",
         "0.0016544674",
         "0.0011006942",
         "0.0009218768",
         "0.00029523886",
         "0.0006767656",
         "0.0024422333"
        ],
        [
         "HNF4a",
         "0.006465526",
         "0.0076385047",
         "0.006827129",
         "0.0017386109",
         "0.003434632",
         "0.0069054365",
         "0.0027577686",
         "0.0051619397",
         "0.002130213",
         "0.0038865022",
         "0.003627918",
         "0.0032737954",
         "0.00643351",
         "0.0017281321",
         "0.0032223123",
         "0.0048859497",
         "0.0040187077",
         "0.0049217865",
         "0.007627881",
         "0.015470297",
         "0.0030069149",
         "0.0015974332",
         "0.008824153",
         "0.003865047",
         "0.0070586605",
         "0.01262134",
         "0.008752501",
         "0.011096087",
         "0.006115915",
         "0.0011519573",
         "0.0032117853",
         "0.005251832",
         "0.0025604977",
         "0.004002402",
         "0.013396697",
         "0.008472794",
         "0.0024766694",
         "0.006350757",
         "0.0056672315",
         "0.007996858",
         "0.0018290852",
         "0.0062184324",
         "0.003865691",
         "0.0046594515",
         "0.0036138368",
         "0.013430216",
         "0.0077782976",
         "0.009043419",
         "0.008393142",
         "0.0061204825",
         "0.0030606287",
         "0.0024347291",
         "0.004883318",
         "0.0067676585",
         "0.0059579615",
         "0.0038161383",
         "0.007763054",
         "0.0028950523",
         "0.0029512956",
         "0.003722496",
         "0.004321518",
         "0.0036730298",
         "0.0027769732",
         "0.002426719",
         "0.0023156954",
         "0.0032216492",
         "0.0034879404",
         "0.006470529",
         "0.010845234",
         "0.0030464",
         "0.004429884",
         "0.0031521646",
         "0.005366543",
         "0.00418523",
         "0.0024533323",
         "0.013106541",
         "0.001482449",
         "0.004630047",
         "0.002945783",
         "0.0043032104",
         "0.006645853",
         "0.004911266",
         "0.0053510475",
         "0.0063060573",
         "0.0044318535",
         "0.0037587634",
         "0.01820758",
         "0.0042082267",
         "0.0033943348",
         "0.0019249447",
         "0.0059208437",
         "0.002987912",
         "0.008510936",
         "0.004217619",
         "0.00567088",
         "0.004692363",
         "0.010191827",
         "0.008978854",
         "0.005771696",
         "0.0036575012",
         "0.0032171947",
         "0.0034216759",
         "0.005917877",
         "0.007481126",
         "0.0069427355",
         "0.0068513067",
         "0.004395429",
         "0.011326304",
         "0.0027759834",
         "0.002927874",
         "0.015002816",
         "0.0034600284",
         "0.006413228",
         "0.0014630251",
         "0.0029126578",
         "0.009011005",
         "0.008394968",
         "0.002855338",
         "0.008321028",
         "0.0041827615",
         "0.005554533",
         "0.0049324404",
         "0.008461739",
         "0.0035217698",
         "0.0071711894",
         "0.0030047335",
         "0.0070005525",
         "0.011092837",
         "0.008525591",
         "0.004261672",
         "0.010462157",
         "0.0041561015",
         "0.0067895",
         "0.0033134785",
         "0.005350941",
         "0.009488939",
         "0.0065866117",
         "0.011918998",
         "0.010398234",
         "0.004784165",
         "0.0036377932",
         "0.005296588",
         "0.018847076",
         "0.0052730697",
         "0.004359489",
         "0.009123192",
         "0.007360625",
         "0.0030276391",
         "0.006396485",
         "0.002397804",
         "0.010724441",
         "0.0022714257",
         "0.006723523",
         "0.001993182",
         "0.002549141",
         "0.0066298204",
         "0.008639334",
         "0.007028987",
         "0.006091994",
         "0.015234233",
         "0.008977758",
         "0.0021740133",
         "0.0064678746",
         "0.003389839",
         "0.005296696",
         "0.005225626",
         "0.006642246",
         "0.008953666",
         "0.0036007694",
         "0.0035478708",
         "0.008155212",
         "0.0030078602",
         "0.005646568",
         "0.004864107",
         "0.0064234156",
         "0.0029352347",
         "0.0046963086",
         "0.00510849",
         "0.002115445",
         "0.0037428373",
         "0.0061862073",
         "0.009820342",
         "0.009085597",
         "0.0051709698",
         "0.012599433",
         "0.003333263",
         "0.0029345397",
         "0.0070610126",
         "0.00937796",
         "0.008195815",
         "0.0028655997",
         "0.00428468",
         "0.005093489",
         "0.004746894",
         "0.0061922558",
         "0.0064478037",
         "0.005909771",
         "0.0051300977",
         "0.0035595642",
         "0.004318931",
         "0.0041655917",
         "0.0046268296",
         "0.010433248",
         "0.015503856",
         "0.0066097346",
         "0.0049395408",
         "0.015362031",
         "0.0025679595",
         "0.0038786626",
         "0.010348752",
         "0.0046051806",
         "0.0041206563",
         "0.013945147",
         "0.011982776",
         "0.0064521013",
         "0.013313093",
         "0.009768415",
         "0.00586926",
         "0.0022998897",
         "0.013526996",
         "0.005693548",
         "0.0021024568",
         "0.00584529",
         "0.0049377643",
         "0.014417965",
         "0.004744054",
         "0.006677724",
         "0.0052610734",
         "0.03200611",
         "0.008649744",
         "0.009411484",
         "0.0034887814",
         "0.0051337793",
         "0.0036411157",
         "0.017005023",
         "0.0045247185",
         "0.003631509",
         "0.0032340284",
         "0.00850702",
         "0.004959249",
         "0.0044805724",
         "0.0041607697",
         "0.0059452974",
         "0.005679549",
         "0.007868353",
         "0.0048201345",
         "0.0033762367",
         "0.010064702",
         "0.0062590376",
         "0.0071179736",
         "0.0029002058",
         "0.00283947",
         "0.0046640956",
         "0.011125064",
         "0.0049639572",
         "0.0070262696",
         "0.008017174",
         "0.007564254",
         "0.0043190476",
         "0.0044604074",
         "0.0029592114",
         "0.0024192748",
         "0.003433895",
         "0.0044820034",
         "0.009425081",
         "0.0044400594",
         "0.0030905183",
         "0.008596286",
         "0.0014018225",
         "0.003513499",
         "0.005795588",
         "0.0067856587",
         "0.0065706647",
         "0.00917464",
         "0.004729564",
         "0.0025768557",
         "0.01914586",
         "0.0063686175",
         "0.002570622",
         "0.0035760098",
         "0.0050598867",
         "0.011040706",
         "0.009868043",
         "0.0045451205",
         "0.005102733",
         "0.00638928",
         "0.008477152",
         "0.006382756",
         "0.00347834",
         "0.005374319",
         "0.002841259",
         "0.004801745",
         "0.013106414",
         "0.0066823605",
         "0.014874227",
         "0.01929546",
         "0.008386359",
         "0.007396106",
         "0.0017056556",
         "0.0041963514",
         "0.005796555",
         "0.0061563137",
         "0.022404838",
         "0.006193117",
         "0.019723218",
         "0.009138021",
         "0.0028453104",
         "0.0045301276",
         "0.0045015477",
         "0.008286359",
         "0.004018954",
         "0.008522664",
         "0.0047595426",
         "0.0049695685",
         "0.0017380881",
         "0.009984167",
         "0.006418777",
         "0.010030368",
         "0.0036787612",
         "0.0021127448",
         "0.004252759",
         "0.0086229555",
         "0.0064510168",
         "0.0024268113",
         "0.005178618",
         "0.0033141305",
         "0.002165136",
         "0.0021208588",
         "0.008891498",
         "0.00931589",
         "0.0058018644",
         "0.0018335639",
         "0.0051584276",
         "0.0053218566",
         "0.010819796",
         "0.0065867538",
         "0.007578049",
         "0.003498121",
         "0.0020151855",
         "0.006694437",
         "0.0062882043",
         "0.007016837",
         "0.0037343125",
         "0.0044066217",
         "0.003792436",
         "0.0078023635",
         "0.0056067235",
         "0.0048464863",
         "0.006944255",
         "0.0055884924",
         "0.00947664",
         "0.009218027",
         "0.006150112",
         "0.0040296465",
         "0.0084986165",
         "0.0047827894",
         "0.005557571",
         "0.0049650352",
         "0.004368457",
         "0.018038845",
         "0.0025958456",
         "0.0023558598",
         "0.0045802253",
         "0.012121062",
         "0.0119969435",
         "0.0021333143",
         "0.0052982406",
         "0.004739739",
         "0.007144644",
         "0.003884233",
         "0.005529871",
         "0.003313092",
         "0.0032349057",
         "0.010778049",
         "0.007944893",
         "0.009131873",
         "0.0063078543",
         "0.008888659",
         "0.0066961013",
         "0.0079786405",
         "0.0043440834",
         "0.0035316423",
         "0.003960373",
         "0.00274074",
         "0.005368977",
         "0.0055913413",
         "0.0064113415",
         "0.005772292",
         "0.006909104",
         "0.0030629262",
         "0.007162216",
         "0.0053797523",
         "0.0037575457",
         "0.0060123294",
         "0.005260628",
         "0.003625244",
         "0.0036820448",
         "0.0033651881",
         "0.016005315",
         "0.006710259",
         "0.0052865683",
         "0.008081654",
         "0.0014991378",
         "0.0051618847",
         "0.0065296753",
         "0.00404829",
         "0.0028778778",
         "0.0074090874",
         "0.0030376213",
         "0.006046792",
         "0.018274924",
         "0.0023798568",
         "0.0035955238",
         "0.0034906014",
         "0.0026371116",
         "0.0025687902",
         "0.005359818",
         "0.0033539643",
         "0.007859755",
         "0.0077547906",
         "0.0024385755",
         "0.0062940787",
         "0.0035846566",
         "0.0053708367",
         "0.004823254",
         "0.002060043",
         "0.007239212",
         "0.0030325118",
         "0.0071753142",
         "0.0040496574",
         "0.003559303",
         "0.0055827643",
         "0.0052761924",
         "0.0037309518",
         "0.0115417605",
         "0.0052994085",
         "0.0028085604",
         "0.004779069",
         "0.008591022",
         "0.010891929",
         "0.0060656182",
         "0.0075987373",
         "0.0025434904",
         "0.0046206205",
         "0.0035815611",
         "0.011574291"
        ],
        [
         "HNF6",
         "0.008510721",
         "0.019433584",
         "0.012171149",
         "0.008646927",
         "0.0036620367",
         "0.006858071",
         "0.02321414",
         "0.009014393",
         "0.008766653",
         "0.006694557",
         "0.011760886",
         "0.013686517",
         "0.011845791",
         "0.008673955",
         "0.006144518",
         "0.019045113",
         "0.03059903",
         "0.013195573",
         "0.013441772",
         "0.013595619",
         "0.0072275167",
         "0.0065744827",
         "0.017740155",
         "0.004934531",
         "0.010569394",
         "0.018905343",
         "0.01762082",
         "0.02181142",
         "0.011536635",
         "0.00792663",
         "0.0084418",
         "0.00260543",
         "0.0055615203",
         "0.0059941704",
         "0.019540528",
         "0.024957221",
         "0.00798338",
         "0.011958094",
         "0.00868675",
         "0.012399415",
         "0.007120315",
         "0.014211256",
         "0.009998546",
         "0.0105493525",
         "0.008296767",
         "0.011229465",
         "0.02147948",
         "0.028398698",
         "0.03604563",
         "0.011902359",
         "0.009702518",
         "0.012935503",
         "0.010918432",
         "0.010716126",
         "0.025919564",
         "0.01431149",
         "0.015068757",
         "0.0054891137",
         "0.014334534",
         "0.00852217",
         "0.014463276",
         "0.015530724",
         "0.009709691",
         "0.01065044",
         "0.01513857",
         "0.015514884",
         "0.0044337064",
         "0.013705349",
         "0.032862306",
         "0.012582454",
         "0.017652068",
         "0.008727654",
         "0.009909963",
         "0.0043964153",
         "0.021205924",
         "0.013348393",
         "0.018156718",
         "0.020979306",
         "0.011222665",
         "0.007142222",
         "0.010571481",
         "0.008866912",
         "0.005060324",
         "0.008728096",
         "0.0067826854",
         "0.013406725",
         "0.022710474",
         "0.0088980915",
         "0.007919017",
         "0.012336069",
         "0.013991249",
         "0.012284254",
         "0.029999932",
         "0.014028908",
         "0.026000196",
         "0.021441303",
         "0.02939357",
         "0.012882191",
         "0.0096450085",
         "0.015308888",
         "0.0051114946",
         "0.012460477",
         "0.011661339",
         "0.023210408",
         "0.025518315",
         "0.019015066",
         "0.01586751",
         "0.021870995",
         "0.00988847",
         "0.0053434484",
         "0.048320144",
         "0.005847951",
         "0.012938576",
         "0.0116060395",
         "0.014801178",
         "0.0077940137",
         "0.01642919",
         "0.010420428",
         "0.00790865",
         "0.0053436374",
         "0.0070998883",
         "0.015049499",
         "0.009507346",
         "0.016837396",
         "0.009447101",
         "0.011724287",
         "0.008096233",
         "0.01843017",
         "0.005846869",
         "0.011434888",
         "0.025223702",
         "0.011441762",
         "0.02854672",
         "0.0086263735",
         "0.011445983",
         "0.009944497",
         "0.013574129",
         "0.02500657",
         "0.012690947",
         "0.022560623",
         "0.007887766",
         "0.040658016",
         "0.021384655",
         "0.01491004",
         "0.018786028",
         "0.015612289",
         "0.011145977",
         "0.015682496",
         "0.013321341",
         "0.0068228478",
         "0.012044371",
         "0.008078923",
         "0.01951385",
         "0.00895951",
         "0.013922521",
         "0.0061271326",
         "0.01931598",
         "0.020722095",
         "0.009072785",
         "0.026900318",
         "0.013403193",
         "0.016011499",
         "0.008680788",
         "0.010666526",
         "0.020074902",
         "0.005917223",
         "0.00662828",
         "0.010186304",
         "0.005934859",
         "0.0032909927",
         "0.007998499",
         "0.01244474",
         "0.009373445",
         "0.015937047",
         "0.013188459",
         "0.0059944117",
         "0.004058193",
         "0.006023699",
         "0.007828302",
         "0.010032509",
         "0.024584804",
         "0.015900144",
         "0.029105676",
         "0.016741902",
         "0.021970712",
         "0.032380816",
         "0.014179172",
         "0.005560153",
         "0.010576274",
         "0.03831072",
         "0.013802128",
         "0.010424318",
         "0.011917913",
         "0.009755657",
         "0.008735588",
         "0.009465582",
         "0.015354047",
         "0.0059430995",
         "0.0059267986",
         "0.011700314",
         "0.005705733",
         "0.014846431",
         "0.035285063",
         "0.025523959",
         "0.020188803",
         "0.0043460405",
         "0.023761665",
         "0.018124413",
         "0.011985255",
         "0.024724677",
         "0.007752897",
         "0.012598345",
         "0.010932474",
         "0.01983594",
         "0.011748235",
         "0.029699335",
         "0.0057358933",
         "0.018561265",
         "0.013694182",
         "0.01763384",
         "0.0073217056",
         "0.005168606",
         "0.02321736",
         "0.028637057",
         "0.021479202",
         "0.01178462",
         "0.0059147235",
         "0.011082933",
         "0.0437901",
         "0.02461894",
         "0.007992517",
         "0.010420052",
         "0.010233551",
         "0.010249067",
         "0.03984526",
         "0.012873938",
         "0.010719182",
         "0.01213224",
         "0.03352853",
         "0.017714974",
         "0.0079331",
         "0.0119387945",
         "0.013095079",
         "0.016142324",
         "0.015357591",
         "0.014023656",
         "0.008116249",
         "0.019383747",
         "0.010426212",
         "0.016507076",
         "0.02295529",
         "0.006697304",
         "0.008251361",
         "0.013533152",
         "0.009519367",
         "0.02119548",
         "0.020278582",
         "0.008893601",
         "0.019955296",
         "0.010829818",
         "0.008629494",
         "0.002541933",
         "0.010530682",
         "0.0059100515",
         "0.010025517",
         "0.014771072",
         "0.0094877845",
         "0.020455096",
         "0.0054564113",
         "0.008870993",
         "0.017118955",
         "0.023876596",
         "0.0067824493",
         "0.025007384",
         "0.012280402",
         "0.007162159",
         "0.012499314",
         "0.017376117",
         "0.009839708",
         "0.011378427",
         "0.008681871",
         "0.018315488",
         "0.011590997",
         "0.01147101",
         "0.011208414",
         "0.029263923",
         "0.01664561",
         "0.015125057",
         "0.0084831305",
         "0.031403042",
         "0.011536102",
         "0.0064960034",
         "0.05424688",
         "0.011820002",
         "0.02011703",
         "0.016569115",
         "0.0076057604",
         "0.014123678",
         "0.009288298",
         "0.008044365",
         "0.0034985724",
         "0.014035301",
         "0.017810542",
         "0.0063382825",
         "0.033616893",
         "0.035826508",
         "0.025061239",
         "0.005993066",
         "0.023846218",
         "0.027554806",
         "0.0062620584",
         "0.017588545",
         "0.0049500186",
         "0.017517906",
         "0.008481315",
         "0.034581285",
         "0.013954961",
         "0.011128056",
         "0.0050403904",
         "0.016276913",
         "0.008236042",
         "0.012126128",
         "0.01845353",
         "0.018739823",
         "0.011964155",
         "0.011013711",
         "0.015789157",
         "0.0055731474",
         "0.016808188",
         "0.0115596615",
         "0.007885531",
         "0.017228406",
         "0.013642588",
         "0.005922088",
         "0.02705456",
         "0.013708905",
         "0.00933825",
         "0.018356802",
         "0.005964289",
         "0.0142387645",
         "0.021507218",
         "0.025509026",
         "0.010008258",
         "0.0042285323",
         "0.0136896",
         "0.024904013",
         "0.00798772",
         "0.021325486",
         "0.008334972",
         "0.00989935",
         "0.008627131",
         "0.010624772",
         "0.006339334",
         "0.009929112",
         "0.0070524677",
         "0.009443805",
         "0.008480088",
         "0.008627053",
         "0.014705944",
         "0.045432437",
         "0.018153781",
         "0.005836845",
         "0.008059483",
         "0.01784644",
         "0.01034228",
         "0.008817066",
         "0.015606231",
         "0.010918633",
         "0.012191737",
         "0.0093304245",
         "0.023290299",
         "0.013349852",
         "0.008731701",
         "0.014139625",
         "0.007782045",
         "0.018146051",
         "0.01298894",
         "0.02737543",
         "0.017456282",
         "0.023291485",
         "0.0066798627",
         "0.01523222",
         "0.019575208",
         "0.01086154",
         "0.015869971",
         "0.010969115",
         "0.0050145164",
         "0.029532513",
         "0.019606031",
         "0.0038456286",
         "0.005661334",
         "0.02088768",
         "0.013759899",
         "0.005087393",
         "0.0078395745",
         "0.0136470925",
         "0.006588682",
         "0.016299292",
         "0.024865555",
         "0.026937133",
         "0.006882698",
         "0.010323361",
         "0.006866663",
         "0.0066881687",
         "0.020520568",
         "0.005257852",
         "0.015255955",
         "0.02130091",
         "0.010321239",
         "0.01666538",
         "0.032608517",
         "0.007793118",
         "0.008731668",
         "0.008822877",
         "0.009323284",
         "0.010954459",
         "0.0073952423",
         "0.007338696",
         "0.011608466",
         "0.021175796",
         "0.008676838",
         "0.013558355",
         "0.01270673",
         "0.021159781",
         "0.013792944",
         "0.00597783",
         "0.007896425",
         "0.007887639",
         "0.008642078",
         "0.009677357",
         "0.006783882",
         "0.008703505",
         "0.010090629",
         "0.01538241",
         "0.012953301",
         "0.009342116",
         "0.015931899",
         "0.014045315",
         "0.027084155",
         "0.040267743",
         "0.013967394",
         "0.015193146",
         "0.007836115",
         "0.009558697",
         "0.014393152",
         "0.011150134"
        ]
       ],
       "shape": {
        "columns": 446,
        "rows": 5
       }
      },
      "text/html": [
       "<div>\n",
       "<style scoped>\n",
       "    .dataframe tbody tr th:only-of-type {\n",
       "        vertical-align: middle;\n",
       "    }\n",
       "\n",
       "    .dataframe tbody tr th {\n",
       "        vertical-align: top;\n",
       "    }\n",
       "\n",
       "    .dataframe thead th {\n",
       "        text-align: right;\n",
       "    }\n",
       "</style>\n",
       "<table border=\"1\" class=\"dataframe\">\n",
       "  <thead>\n",
       "    <tr style=\"text-align: right;\">\n",
       "      <th></th>\n",
       "      <th>1700019A02Rik</th>\n",
       "      <th>1700019D03Rik</th>\n",
       "      <th>1700034P13Rik</th>\n",
       "      <th>2010300C02Rik</th>\n",
       "      <th>2610203C22Rik</th>\n",
       "      <th>3110045C21Rik</th>\n",
       "      <th>4930444P10Rik</th>\n",
       "      <th>4930523C07Rik</th>\n",
       "      <th>4930590L20Rik</th>\n",
       "      <th>4933400F21Rik</th>\n",
       "      <th>...</th>\n",
       "      <th>Vash2</th>\n",
       "      <th>Vil1</th>\n",
       "      <th>Wnt6</th>\n",
       "      <th>Xkr4</th>\n",
       "      <th>Xkr9</th>\n",
       "      <th>Xpr1</th>\n",
       "      <th>Yod1</th>\n",
       "      <th>Zbtb41</th>\n",
       "      <th>Zc3h11a</th>\n",
       "      <th>Zdbf2</th>\n",
       "    </tr>\n",
       "  </thead>\n",
       "  <tbody>\n",
       "    <tr>\n",
       "      <th>AMYB</th>\n",
       "      <td>0.004220</td>\n",
       "      <td>0.006596</td>\n",
       "      <td>0.005182</td>\n",
       "      <td>0.003253</td>\n",
       "      <td>0.002318</td>\n",
       "      <td>0.003053</td>\n",
       "      <td>0.004211</td>\n",
       "      <td>0.005405</td>\n",
       "      <td>0.004813</td>\n",
       "      <td>0.005186</td>\n",
       "      <td>...</td>\n",
       "      <td>0.002691</td>\n",
       "      <td>0.003386</td>\n",
       "      <td>0.009207</td>\n",
       "      <td>0.007730</td>\n",
       "      <td>0.003084</td>\n",
       "      <td>0.004112</td>\n",
       "      <td>0.004474</td>\n",
       "      <td>0.003815</td>\n",
       "      <td>0.006242</td>\n",
       "      <td>0.005562</td>\n",
       "    </tr>\n",
       "    <tr>\n",
       "      <th>AP-1</th>\n",
       "      <td>0.005143</td>\n",
       "      <td>0.005806</td>\n",
       "      <td>0.004755</td>\n",
       "      <td>0.004837</td>\n",
       "      <td>0.003597</td>\n",
       "      <td>0.003996</td>\n",
       "      <td>0.003246</td>\n",
       "      <td>0.006092</td>\n",
       "      <td>0.002857</td>\n",
       "      <td>0.002182</td>\n",
       "      <td>...</td>\n",
       "      <td>0.003742</td>\n",
       "      <td>0.004767</td>\n",
       "      <td>0.005110</td>\n",
       "      <td>0.011932</td>\n",
       "      <td>0.003296</td>\n",
       "      <td>0.002594</td>\n",
       "      <td>0.003632</td>\n",
       "      <td>0.003842</td>\n",
       "      <td>0.003251</td>\n",
       "      <td>0.004480</td>\n",
       "    </tr>\n",
       "    <tr>\n",
       "      <th>Atoh1</th>\n",
       "      <td>0.000603</td>\n",
       "      <td>0.002953</td>\n",
       "      <td>0.001267</td>\n",
       "      <td>0.001498</td>\n",
       "      <td>0.001074</td>\n",
       "      <td>0.001701</td>\n",
       "      <td>0.001185</td>\n",
       "      <td>0.001209</td>\n",
       "      <td>0.001636</td>\n",
       "      <td>0.000562</td>\n",
       "      <td>...</td>\n",
       "      <td>0.000728</td>\n",
       "      <td>0.001632</td>\n",
       "      <td>0.002343</td>\n",
       "      <td>0.002393</td>\n",
       "      <td>0.001654</td>\n",
       "      <td>0.001101</td>\n",
       "      <td>0.000922</td>\n",
       "      <td>0.000295</td>\n",
       "      <td>0.000677</td>\n",
       "      <td>0.002442</td>\n",
       "    </tr>\n",
       "    <tr>\n",
       "      <th>HNF4a</th>\n",
       "      <td>0.006466</td>\n",
       "      <td>0.007639</td>\n",
       "      <td>0.006827</td>\n",
       "      <td>0.001739</td>\n",
       "      <td>0.003435</td>\n",
       "      <td>0.006905</td>\n",
       "      <td>0.002758</td>\n",
       "      <td>0.005162</td>\n",
       "      <td>0.002130</td>\n",
       "      <td>0.003887</td>\n",
       "      <td>...</td>\n",
       "      <td>0.002809</td>\n",
       "      <td>0.004779</td>\n",
       "      <td>0.008591</td>\n",
       "      <td>0.010892</td>\n",
       "      <td>0.006066</td>\n",
       "      <td>0.007599</td>\n",
       "      <td>0.002543</td>\n",
       "      <td>0.004621</td>\n",
       "      <td>0.003582</td>\n",
       "      <td>0.011574</td>\n",
       "    </tr>\n",
       "    <tr>\n",
       "      <th>HNF6</th>\n",
       "      <td>0.008511</td>\n",
       "      <td>0.019434</td>\n",
       "      <td>0.012171</td>\n",
       "      <td>0.008647</td>\n",
       "      <td>0.003662</td>\n",
       "      <td>0.006858</td>\n",
       "      <td>0.023214</td>\n",
       "      <td>0.009014</td>\n",
       "      <td>0.008767</td>\n",
       "      <td>0.006695</td>\n",
       "      <td>...</td>\n",
       "      <td>0.015932</td>\n",
       "      <td>0.014045</td>\n",
       "      <td>0.027084</td>\n",
       "      <td>0.040268</td>\n",
       "      <td>0.013967</td>\n",
       "      <td>0.015193</td>\n",
       "      <td>0.007836</td>\n",
       "      <td>0.009559</td>\n",
       "      <td>0.014393</td>\n",
       "      <td>0.011150</td>\n",
       "    </tr>\n",
       "  </tbody>\n",
       "</table>\n",
       "<p>5 rows × 446 columns</p>\n",
       "</div>"
      ],
      "text/plain": [
       "       1700019A02Rik  1700019D03Rik  1700034P13Rik  2010300C02Rik  \\\n",
       "AMYB        0.004220       0.006596       0.005182       0.003253   \n",
       "AP-1        0.005143       0.005806       0.004755       0.004837   \n",
       "Atoh1       0.000603       0.002953       0.001267       0.001498   \n",
       "HNF4a       0.006466       0.007639       0.006827       0.001739   \n",
       "HNF6        0.008511       0.019434       0.012171       0.008647   \n",
       "\n",
       "       2610203C22Rik  3110045C21Rik  4930444P10Rik  4930523C07Rik  \\\n",
       "AMYB        0.002318       0.003053       0.004211       0.005405   \n",
       "AP-1        0.003597       0.003996       0.003246       0.006092   \n",
       "Atoh1       0.001074       0.001701       0.001185       0.001209   \n",
       "HNF4a       0.003435       0.006905       0.002758       0.005162   \n",
       "HNF6        0.003662       0.006858       0.023214       0.009014   \n",
       "\n",
       "       4930590L20Rik  4933400F21Rik  ...     Vash2      Vil1      Wnt6  \\\n",
       "AMYB        0.004813       0.005186  ...  0.002691  0.003386  0.009207   \n",
       "AP-1        0.002857       0.002182  ...  0.003742  0.004767  0.005110   \n",
       "Atoh1       0.001636       0.000562  ...  0.000728  0.001632  0.002343   \n",
       "HNF4a       0.002130       0.003887  ...  0.002809  0.004779  0.008591   \n",
       "HNF6        0.008767       0.006695  ...  0.015932  0.014045  0.027084   \n",
       "\n",
       "           Xkr4      Xkr9      Xpr1      Yod1    Zbtb41   Zc3h11a     Zdbf2  \n",
       "AMYB   0.007730  0.003084  0.004112  0.004474  0.003815  0.006242  0.005562  \n",
       "AP-1   0.011932  0.003296  0.002594  0.003632  0.003842  0.003251  0.004480  \n",
       "Atoh1  0.002393  0.001654  0.001101  0.000922  0.000295  0.000677  0.002442  \n",
       "HNF4a  0.010892  0.006066  0.007599  0.002543  0.004621  0.003582  0.011574  \n",
       "HNF6   0.040268  0.013967  0.015193  0.007836  0.009559  0.014393  0.011150  \n",
       "\n",
       "[5 rows x 446 columns]"
      ]
     },
     "execution_count": 28,
     "metadata": {},
     "output_type": "execute_result"
    }
   ],
   "source": [
    "tf_importance_df.head()"
   ]
  },
  {
   "cell_type": "code",
   "execution_count": 5,
   "id": "c5f19628",
   "metadata": {},
   "outputs": [],
   "source": [
    "chip_df = pd.read_csv(GROUND_TRUTH_FILE, header=0, index_col=None)\n",
    "chip_edges = set(zip(chip_df[\"Gene1\"].str.upper(), chip_df[\"Gene2\"].str.upper()))"
   ]
  },
  {
   "cell_type": "code",
   "execution_count": 6,
   "id": "c03f1c5e",
   "metadata": {},
   "outputs": [
    {
     "data": {
      "application/vnd.microsoft.datawrangler.viewer.v0+json": {
       "columns": [
        {
         "name": "index",
         "rawType": "int64",
         "type": "integer"
        },
        {
         "name": "tf",
         "rawType": "object",
         "type": "string"
        },
        {
         "name": "tg",
         "rawType": "object",
         "type": "string"
        },
        {
         "name": "score",
         "rawType": "float64",
         "type": "float"
        },
        {
         "name": "label",
         "rawType": "int64",
         "type": "integer"
        }
       ],
       "ref": "515d23d3-bf9d-40cc-b55a-4b1094abcb0a",
       "rows": [
        [
         "0",
         "SOX2",
         "IGFBP2",
         "0.4127679169178009",
         "1"
        ],
        [
         "1",
         "SOX2",
         "XKR4",
         "0.3694891035556793",
         "0"
        ],
        [
         "2",
         "SOX2",
         "ERBB4",
         "0.30294930934906",
         "0"
        ],
        [
         "3",
         "SOX2",
         "SATB2",
         "0.3012501001358032",
         "0"
        ],
        [
         "4",
         "SOX2",
         "A830018L16RIK",
         "0.283120185136795",
         "0"
        ]
       ],
       "shape": {
        "columns": 4,
        "rows": 5
       }
      },
      "text/html": [
       "<div>\n",
       "<style scoped>\n",
       "    .dataframe tbody tr th:only-of-type {\n",
       "        vertical-align: middle;\n",
       "    }\n",
       "\n",
       "    .dataframe tbody tr th {\n",
       "        vertical-align: top;\n",
       "    }\n",
       "\n",
       "    .dataframe thead th {\n",
       "        text-align: right;\n",
       "    }\n",
       "</style>\n",
       "<table border=\"1\" class=\"dataframe\">\n",
       "  <thead>\n",
       "    <tr style=\"text-align: right;\">\n",
       "      <th></th>\n",
       "      <th>tf</th>\n",
       "      <th>tg</th>\n",
       "      <th>score</th>\n",
       "      <th>label</th>\n",
       "    </tr>\n",
       "  </thead>\n",
       "  <tbody>\n",
       "    <tr>\n",
       "      <th>0</th>\n",
       "      <td>SOX2</td>\n",
       "      <td>IGFBP2</td>\n",
       "      <td>0.412768</td>\n",
       "      <td>1</td>\n",
       "    </tr>\n",
       "    <tr>\n",
       "      <th>1</th>\n",
       "      <td>SOX2</td>\n",
       "      <td>XKR4</td>\n",
       "      <td>0.369489</td>\n",
       "      <td>0</td>\n",
       "    </tr>\n",
       "    <tr>\n",
       "      <th>2</th>\n",
       "      <td>SOX2</td>\n",
       "      <td>ERBB4</td>\n",
       "      <td>0.302949</td>\n",
       "      <td>0</td>\n",
       "    </tr>\n",
       "    <tr>\n",
       "      <th>3</th>\n",
       "      <td>SOX2</td>\n",
       "      <td>SATB2</td>\n",
       "      <td>0.301250</td>\n",
       "      <td>0</td>\n",
       "    </tr>\n",
       "    <tr>\n",
       "      <th>4</th>\n",
       "      <td>SOX2</td>\n",
       "      <td>A830018L16RIK</td>\n",
       "      <td>0.283120</td>\n",
       "      <td>0</td>\n",
       "    </tr>\n",
       "  </tbody>\n",
       "</table>\n",
       "</div>"
      ],
      "text/plain": [
       "     tf             tg     score  label\n",
       "0  SOX2         IGFBP2  0.412768      1\n",
       "1  SOX2           XKR4  0.369489      0\n",
       "2  SOX2          ERBB4  0.302949      0\n",
       "3  SOX2          SATB2  0.301250      0\n",
       "4  SOX2  A830018L16RIK  0.283120      0"
      ]
     },
     "execution_count": 6,
     "metadata": {},
     "output_type": "execute_result"
    }
   ],
   "source": [
    "tf_tg_pred = pd.read_csv(os.path.join(TRAINED_MODEL_DIR, \"tf_gradient_attributions/scored_edges.tsv\"), sep=\"\\t\", header=0, index_col=None)\n",
    "tf_tg_pred.head()"
   ]
  },
  {
   "cell_type": "code",
   "execution_count": null,
   "id": "957402b6",
   "metadata": {},
   "outputs": [
    {
     "data": {
      "image/png": "[encoded data removed]",
      "text/plain": [
       "<Figure size 500x300 with 1 Axes>"
      ]
     },
     "metadata": {},
     "output_type": "display_data"
    }
   ],
   "source": [
    "from dev.notebooks.plotting import (\n",
    "    plot_true_false_distribution, plot_true_false_boxplots, plot_true_false_scores_by_tf_boxplots,\n",
    "    plot_true_false_scores_by_tf_barplots, plot_auroc\n",
    ")\n",
    "\n",
    "fig = plot_auroc(tf_tg_pred, score_col=\"score\")\n",
    "fig.show()"
   ]
  },
  {
   "cell_type": "code",
   "execution_count": 10,
   "id": "401a35e1",
   "metadata": {},
   "outputs": [
    {
     "data": {
      "image/png": "[encoded data removed]",
      "text/plain": [
       "<Figure size 600x400 with 1 Axes>"
      ]
     },
     "metadata": {},
     "output_type": "display_data"
    }
   ],
   "source": [
    "fig = plot_true_false_boxplots(\n",
    "    df=tf_tg_pred,\n",
    "    score_col=\"score\",\n",
    "    xlabel=\"True / False Label\",\n",
    "    ylabel = \"Model Prediction\"\n",
    "    )"
   ]
  },
  {
   "cell_type": "code",
   "execution_count": 21,
   "id": "1bdf2303",
   "metadata": {},
   "outputs": [
    {
     "data": {
      "text/plain": [
       "<module 'dev.notebooks.plotting' from '/gpfs/Labs/Uzun/SCRIPTS/PROJECTS/2024.SINGLE_CELL_GRN_INFERENCE.MOELLER/dev/notebooks/plotting.py'>"
      ]
     },
     "execution_count": 21,
     "metadata": {},
     "output_type": "execute_result"
    }
   ],
   "source": [
    "import importlib\n",
    "import dev.notebooks.plotting\n",
    "importlib.reload(dev.notebooks.plotting)"
   ]
  },
  {
   "cell_type": "code",
   "execution_count": null,
   "id": "a3335376",
   "metadata": {},
   "outputs": [
    {
     "data": {
      "image/png": "[encoded data removed]",
      "text/plain": [
       "<Figure size 600x400 with 1 Axes>"
      ]
     },
     "metadata": {},
     "output_type": "display_data"
    }
   ],
   "source": [
    "fig = plot_true_false_distribution(\n",
    "    true_series=tf_tg_pred[tf_tg_pred[\"label\"] == 1][\"score\"],\n",
    "    false_series=tf_tg_pred[tf_tg_pred[\"label\"] == 0][\"score\"],\n",
    "    )"
   ]
  }
 ],
 "metadata": {
  "kernelspec": {
   "display_name": "my_env",
   "language": "python",
   "name": "my_env"
  },
  "language_info": {
   "codemirror_mode": {
    "name": "ipython",
    "version": 3
   },
   "file_extension": ".py",
   "mimetype": "text/x-python",
   "name": "python",
   "nbconvert_exporter": "python",
   "pygments_lexer": "ipython3",
   "version": "3.9.18"
  }
 },
 "nbformat": 4,
 "nbformat_minor": 5
}
