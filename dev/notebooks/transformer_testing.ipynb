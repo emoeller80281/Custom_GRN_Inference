{
 "cells": [
  {
   "cell_type": "code",
   "execution_count": 4,
   "id": "36670077",
   "metadata": {},
   "outputs": [],
   "source": [
    "# transformer_testing.py\n",
    "import os, sys, json\n",
    "import joblib\n",
    "import numpy as np\n",
    "import pandas as pd\n",
    "import torch\n",
    "from pathlib import Path\n",
    "from sklearn.metrics import roc_auc_score, average_precision_score\n",
    "import logging\n",
    "import matplotlib.pyplot as plt\n",
    "from config.settings import *\n",
    "\n",
    "logging.basicConfig(level=print, format='%(message)s')\n",
    "\n",
    "# ---------------------------------------------------------------------\n",
    "# Paths / config\n",
    "# ---------------------------------------------------------------------\n",
    "PROJECT_DIR = \"/gpfs/Labs/Uzun/SCRIPTS/PROJECTS/2024.SINGLE_CELL_GRN_INFERENCE.MOELLER\"\n",
    "\n",
    "from multiomic_transformer.models.model import MultiomicTransformer\n",
    "from multiomic_transformer.datasets.dataset import MultiomicTransformerDataset\n",
    "\n",
    "experiment = \"model_training_014\"\n",
    "SELECTED_EXPERIMENT_DIR = OUTPUT_DIR / experiment\n",
    "\n",
    "GROUND_TRUTH_DIR = os.path.join(PROJECT_DIR, \"ground_truth_files\")\n",
    "DEVICE = torch.device(\"cuda:0\" if torch.cuda.is_available() else \"cpu\")\n",
    "BATCH  = 32\n",
    "TG_CHUNK = 64"
   ]
  },
  {
   "cell_type": "code",
   "execution_count": 4,
   "id": "a2c512d5",
   "metadata": {},
   "outputs": [
    {
     "data": {
      "application/vnd.microsoft.datawrangler.viewer.v0+json": {
       "columns": [
        {
         "name": "index",
         "rawType": "int64",
         "type": "integer"
        },
        {
         "name": "peak_id",
         "rawType": "object",
         "type": "string"
        },
        {
         "name": "TF",
         "rawType": "object",
         "type": "string"
        },
        {
         "name": "pos",
         "rawType": "float64",
         "type": "float"
        },
        {
         "name": "logodds",
         "rawType": "float64",
         "type": "float"
        },
        {
         "name": "strand",
         "rawType": "object",
         "type": "string"
        }
       ],
       "ref": "4830fc06-7a02-4525-b198-0154a25e512c",
       "rows": [
        [
         "0",
         "chr19:10002721-10003321",
         "AT3G46070.pfm",
         "544.0",
         "4.22741587955654",
         "+"
        ],
        [
         "1",
         "chr19:10018579-10019179",
         "AT3G46070.pfm",
         "311.0",
         "4.506141614905893",
         "+"
        ],
        [
         "2",
         "chr19:10026872-10027472",
         "AT3G46070.pfm",
         "110.0",
         "4.879857666893633",
         "-"
        ],
        [
         "3",
         "chr19:10034796-10035396",
         "AT3G46070.pfm",
         "184.0",
         "5.862967771676389",
         "+"
        ],
        [
         "4",
         "chr19:10038006-10038606",
         "AT3G46070.pfm",
         "155.0",
         "4.355038491997009",
         "+"
        ]
       ],
       "shape": {
        "columns": 5,
        "rows": 5
       }
      },
      "text/html": [
       "<div>\n",
       "<style scoped>\n",
       "    .dataframe tbody tr th:only-of-type {\n",
       "        vertical-align: middle;\n",
       "    }\n",
       "\n",
       "    .dataframe tbody tr th {\n",
       "        vertical-align: top;\n",
       "    }\n",
       "\n",
       "    .dataframe thead th {\n",
       "        text-align: right;\n",
       "    }\n",
       "</style>\n",
       "<table border=\"1\" class=\"dataframe\">\n",
       "  <thead>\n",
       "    <tr style=\"text-align: right;\">\n",
       "      <th></th>\n",
       "      <th>peak_id</th>\n",
       "      <th>TF</th>\n",
       "      <th>pos</th>\n",
       "      <th>logodds</th>\n",
       "      <th>strand</th>\n",
       "    </tr>\n",
       "  </thead>\n",
       "  <tbody>\n",
       "    <tr>\n",
       "      <th>0</th>\n",
       "      <td>chr19:10002721-10003321</td>\n",
       "      <td>AT3G46070.pfm</td>\n",
       "      <td>544.0</td>\n",
       "      <td>4.227416</td>\n",
       "      <td>+</td>\n",
       "    </tr>\n",
       "    <tr>\n",
       "      <th>1</th>\n",
       "      <td>chr19:10018579-10019179</td>\n",
       "      <td>AT3G46070.pfm</td>\n",
       "      <td>311.0</td>\n",
       "      <td>4.506142</td>\n",
       "      <td>+</td>\n",
       "    </tr>\n",
       "    <tr>\n",
       "      <th>2</th>\n",
       "      <td>chr19:10026872-10027472</td>\n",
       "      <td>AT3G46070.pfm</td>\n",
       "      <td>110.0</td>\n",
       "      <td>4.879858</td>\n",
       "      <td>-</td>\n",
       "    </tr>\n",
       "    <tr>\n",
       "      <th>3</th>\n",
       "      <td>chr19:10034796-10035396</td>\n",
       "      <td>AT3G46070.pfm</td>\n",
       "      <td>184.0</td>\n",
       "      <td>5.862968</td>\n",
       "      <td>+</td>\n",
       "    </tr>\n",
       "    <tr>\n",
       "      <th>4</th>\n",
       "      <td>chr19:10038006-10038606</td>\n",
       "      <td>AT3G46070.pfm</td>\n",
       "      <td>155.0</td>\n",
       "      <td>4.355038</td>\n",
       "      <td>+</td>\n",
       "    </tr>\n",
       "  </tbody>\n",
       "</table>\n",
       "</div>"
      ],
      "text/plain": [
       "                   peak_id             TF    pos   logodds strand\n",
       "0  chr19:10002721-10003321  AT3G46070.pfm  544.0  4.227416      +\n",
       "1  chr19:10018579-10019179  AT3G46070.pfm  311.0  4.506142      +\n",
       "2  chr19:10026872-10027472  AT3G46070.pfm  110.0  4.879858      -\n",
       "3  chr19:10034796-10035396  AT3G46070.pfm  184.0  5.862968      +\n",
       "4  chr19:10038006-10038606  AT3G46070.pfm  155.0  4.355038      +"
      ]
     },
     "execution_count": 4,
     "metadata": {},
     "output_type": "execute_result"
    }
   ],
   "source": [
    "moods_df = pd.read_csv(os.path.join(TRAINING_DATA_CACHE, f\"{CHROM_ID}_moods_sites.tsv\"), sep=\"\\t\")\n",
    "moods_df.head()"
   ]
  },
  {
   "cell_type": "code",
   "execution_count": 5,
   "id": "48f759aa",
   "metadata": {},
   "outputs": [
    {
     "data": {
      "application/vnd.microsoft.datawrangler.viewer.v0+json": {
       "columns": [
        {
         "name": "index",
         "rawType": "int64",
         "type": "integer"
        },
        {
         "name": "TF",
         "rawType": "object",
         "type": "string"
        },
        {
         "name": "TG",
         "rawType": "object",
         "type": "string"
        }
       ],
       "ref": "b730e786-7313-43ba-af32-a004968187e1",
       "rows": [
        [
         "0",
         "ADNP",
         "MIS18BP1"
        ],
        [
         "1",
         "ADNP",
         "EXD1"
        ],
        [
         "2",
         "ADNP",
         "CHP1"
        ],
        [
         "3",
         "ADNP",
         "OSCAR"
        ],
        [
         "4",
         "ADNP",
         "NDUFA3"
        ],
        [
         "5",
         "ADNP",
         "BSPRY"
        ],
        [
         "6",
         "ADNP",
         "RFWD3"
        ],
        [
         "7",
         "ADNP",
         "IGFBP4"
        ],
        [
         "8",
         "ADNP",
         "LRCH1"
        ],
        [
         "9",
         "ADNP",
         "ZPR1"
        ],
        [
         "10",
         "ADNP",
         "ZDHHC6"
        ],
        [
         "11",
         "ADNP",
         "VTI1A"
        ],
        [
         "12",
         "ADNP",
         "CYP21A1"
        ],
        [
         "13",
         "ADNP",
         "SRF"
        ],
        [
         "14",
         "ADNP",
         "RAMAC"
        ],
        [
         "15",
         "ADNP",
         "DNM1L"
        ],
        [
         "16",
         "ADNP",
         "CRTAC1"
        ],
        [
         "17",
         "ADNP",
         "GNE"
        ],
        [
         "18",
         "ADNP",
         "GPCPD1"
        ],
        [
         "19",
         "ADNP",
         "TMEM51"
        ],
        [
         "20",
         "ADNP",
         "CWF19L2"
        ],
        [
         "21",
         "ADNP",
         "JUP"
        ],
        [
         "22",
         "ADNP",
         "PRSS50"
        ],
        [
         "23",
         "ADNP",
         "SNHG11"
        ],
        [
         "24",
         "ADNP",
         "TJP2"
        ],
        [
         "25",
         "ADNP",
         "CLCN4"
        ],
        [
         "26",
         "ADNP",
         "PFAS"
        ],
        [
         "27",
         "ADNP",
         "RTN2"
        ],
        [
         "28",
         "ADNP",
         "TMEM221"
        ],
        [
         "29",
         "ADNP",
         "ABHD16A"
        ],
        [
         "30",
         "ADNP",
         "LSM10"
        ],
        [
         "31",
         "ADNP",
         "PIEZO1"
        ],
        [
         "32",
         "ADNP",
         "PLEKHG4"
        ],
        [
         "33",
         "ADNP",
         "PADI4"
        ],
        [
         "34",
         "ADNP",
         "DPEP3"
        ],
        [
         "35",
         "ADNP",
         "MED16"
        ],
        [
         "36",
         "ADNP",
         "RSL1D1"
        ],
        [
         "37",
         "ADNP",
         "ANKRD33"
        ],
        [
         "38",
         "ADNP",
         "MKRN2"
        ],
        [
         "39",
         "ADNP",
         "AP4E1"
        ],
        [
         "40",
         "ADNP",
         "ZFP647"
        ],
        [
         "41",
         "ADNP",
         "FBXO4"
        ],
        [
         "42",
         "ADNP",
         "B230219D22RIK"
        ],
        [
         "43",
         "ADNP",
         "DDX59"
        ],
        [
         "44",
         "ADNP",
         "GABPB2"
        ],
        [
         "45",
         "ADNP",
         "ALOX12"
        ],
        [
         "46",
         "ADNP",
         "FAM198B"
        ],
        [
         "47",
         "ADNP",
         "RNF135"
        ],
        [
         "48",
         "ADNP",
         "MESP1"
        ],
        [
         "49",
         "ADNP",
         "NLRX1"
        ]
       ],
       "shape": {
        "columns": 2,
        "rows": 977841
       }
      },
      "text/html": [
       "<div>\n",
       "<style scoped>\n",
       "    .dataframe tbody tr th:only-of-type {\n",
       "        vertical-align: middle;\n",
       "    }\n",
       "\n",
       "    .dataframe tbody tr th {\n",
       "        vertical-align: top;\n",
       "    }\n",
       "\n",
       "    .dataframe thead th {\n",
       "        text-align: right;\n",
       "    }\n",
       "</style>\n",
       "<table border=\"1\" class=\"dataframe\">\n",
       "  <thead>\n",
       "    <tr style=\"text-align: right;\">\n",
       "      <th></th>\n",
       "      <th>TF</th>\n",
       "      <th>TG</th>\n",
       "    </tr>\n",
       "  </thead>\n",
       "  <tbody>\n",
       "    <tr>\n",
       "      <th>0</th>\n",
       "      <td>ADNP</td>\n",
       "      <td>MIS18BP1</td>\n",
       "    </tr>\n",
       "    <tr>\n",
       "      <th>1</th>\n",
       "      <td>ADNP</td>\n",
       "      <td>EXD1</td>\n",
       "    </tr>\n",
       "    <tr>\n",
       "      <th>2</th>\n",
       "      <td>ADNP</td>\n",
       "      <td>CHP1</td>\n",
       "    </tr>\n",
       "    <tr>\n",
       "      <th>3</th>\n",
       "      <td>ADNP</td>\n",
       "      <td>OSCAR</td>\n",
       "    </tr>\n",
       "    <tr>\n",
       "      <th>4</th>\n",
       "      <td>ADNP</td>\n",
       "      <td>NDUFA3</td>\n",
       "    </tr>\n",
       "    <tr>\n",
       "      <th>...</th>\n",
       "      <td>...</td>\n",
       "      <td>...</td>\n",
       "    </tr>\n",
       "    <tr>\n",
       "      <th>977836</th>\n",
       "      <td>ZIC3</td>\n",
       "      <td>ZFP36L3</td>\n",
       "    </tr>\n",
       "    <tr>\n",
       "      <th>977837</th>\n",
       "      <td>ZIC3</td>\n",
       "      <td>ZFP499</td>\n",
       "    </tr>\n",
       "    <tr>\n",
       "      <th>977838</th>\n",
       "      <td>ZIC3</td>\n",
       "      <td>ZFP57</td>\n",
       "    </tr>\n",
       "    <tr>\n",
       "      <th>977839</th>\n",
       "      <td>ZIC3</td>\n",
       "      <td>ZFP91</td>\n",
       "    </tr>\n",
       "    <tr>\n",
       "      <th>977840</th>\n",
       "      <td>ZIC3</td>\n",
       "      <td>ZIC5</td>\n",
       "    </tr>\n",
       "  </tbody>\n",
       "</table>\n",
       "<p>977841 rows × 2 columns</p>\n",
       "</div>"
      ],
      "text/plain": [
       "          TF        TG\n",
       "0       ADNP  MIS18BP1\n",
       "1       ADNP      EXD1\n",
       "2       ADNP      CHP1\n",
       "3       ADNP     OSCAR\n",
       "4       ADNP    NDUFA3\n",
       "...      ...       ...\n",
       "977836  ZIC3   ZFP36L3\n",
       "977837  ZIC3    ZFP499\n",
       "977838  ZIC3     ZFP57\n",
       "977839  ZIC3     ZFP91\n",
       "977840  ZIC3      ZIC5\n",
       "\n",
       "[977841 rows x 2 columns]"
      ]
     },
     "execution_count": 5,
     "metadata": {},
     "output_type": "execute_result"
    }
   ],
   "source": [
    "beeline_ground_truth = pd.read_csv(os.path.join(GROUND_TRUTH_DIR, \"mESC_beeline_ChIP-seq.csv\"))\n",
    "beeline_ground_truth = beeline_ground_truth.rename(columns={\"Gene1\":\"TF\", \"Gene2\":\"TG\"})\n",
    "beeline_ground_truth"
   ]
  },
  {
   "cell_type": "code",
   "execution_count": 6,
   "id": "732d62ab",
   "metadata": {},
   "outputs": [
    {
     "data": {
      "application/vnd.microsoft.datawrangler.viewer.v0+json": {
       "columns": [
        {
         "name": "index",
         "rawType": "int64",
         "type": "integer"
        },
        {
         "name": "TF",
         "rawType": "object",
         "type": "string"
        },
        {
         "name": "TG",
         "rawType": "object",
         "type": "string"
        }
       ],
       "ref": "e054e5cc-d03b-449a-8de7-4bf56bf622fc",
       "rows": [
        [
         "0",
         "ADNP",
         "MIS18BP1"
        ],
        [
         "1",
         "ADNP",
         "EXD1"
        ],
        [
         "2",
         "ADNP",
         "CHP1"
        ],
        [
         "3",
         "ADNP",
         "OSCAR"
        ],
        [
         "4",
         "ADNP",
         "NDUFA3"
        ],
        [
         "5",
         "ADNP",
         "BSPRY"
        ],
        [
         "6",
         "ADNP",
         "RFWD3"
        ],
        [
         "7",
         "ADNP",
         "IGFBP4"
        ],
        [
         "8",
         "ADNP",
         "LRCH1"
        ],
        [
         "9",
         "ADNP",
         "ZPR1"
        ],
        [
         "10",
         "ADNP",
         "ZDHHC6"
        ],
        [
         "11",
         "ADNP",
         "VTI1A"
        ],
        [
         "12",
         "ADNP",
         "CYP21A1"
        ],
        [
         "13",
         "ADNP",
         "SRF"
        ],
        [
         "14",
         "ADNP",
         "RAMAC"
        ],
        [
         "15",
         "ADNP",
         "DNM1L"
        ],
        [
         "16",
         "ADNP",
         "CRTAC1"
        ],
        [
         "17",
         "ADNP",
         "GNE"
        ],
        [
         "18",
         "ADNP",
         "GPCPD1"
        ],
        [
         "19",
         "ADNP",
         "TMEM51"
        ],
        [
         "20",
         "ADNP",
         "CWF19L2"
        ],
        [
         "21",
         "ADNP",
         "JUP"
        ],
        [
         "22",
         "ADNP",
         "PRSS50"
        ],
        [
         "23",
         "ADNP",
         "SNHG11"
        ],
        [
         "24",
         "ADNP",
         "TJP2"
        ],
        [
         "25",
         "ADNP",
         "CLCN4"
        ],
        [
         "26",
         "ADNP",
         "PFAS"
        ],
        [
         "27",
         "ADNP",
         "RTN2"
        ],
        [
         "28",
         "ADNP",
         "TMEM221"
        ],
        [
         "29",
         "ADNP",
         "ABHD16A"
        ],
        [
         "30",
         "ADNP",
         "LSM10"
        ],
        [
         "31",
         "ADNP",
         "PIEZO1"
        ],
        [
         "32",
         "ADNP",
         "PLEKHG4"
        ],
        [
         "33",
         "ADNP",
         "PADI4"
        ],
        [
         "34",
         "ADNP",
         "DPEP3"
        ],
        [
         "35",
         "ADNP",
         "MED16"
        ],
        [
         "36",
         "ADNP",
         "RSL1D1"
        ],
        [
         "37",
         "ADNP",
         "ANKRD33"
        ],
        [
         "38",
         "ADNP",
         "MKRN2"
        ],
        [
         "39",
         "ADNP",
         "AP4E1"
        ],
        [
         "40",
         "ADNP",
         "ZFP647"
        ],
        [
         "41",
         "ADNP",
         "FBXO4"
        ],
        [
         "42",
         "ADNP",
         "B230219D22RIK"
        ],
        [
         "43",
         "ADNP",
         "DDX59"
        ],
        [
         "44",
         "ADNP",
         "GABPB2"
        ],
        [
         "45",
         "ADNP",
         "ALOX12"
        ],
        [
         "46",
         "ADNP",
         "FAM198B"
        ],
        [
         "47",
         "ADNP",
         "RNF135"
        ],
        [
         "48",
         "ADNP",
         "MESP1"
        ],
        [
         "49",
         "ADNP",
         "NLRX1"
        ]
       ],
       "shape": {
        "columns": 2,
        "rows": 977841
       }
      },
      "text/html": [
       "<div>\n",
       "<style scoped>\n",
       "    .dataframe tbody tr th:only-of-type {\n",
       "        vertical-align: middle;\n",
       "    }\n",
       "\n",
       "    .dataframe tbody tr th {\n",
       "        vertical-align: top;\n",
       "    }\n",
       "\n",
       "    .dataframe thead th {\n",
       "        text-align: right;\n",
       "    }\n",
       "</style>\n",
       "<table border=\"1\" class=\"dataframe\">\n",
       "  <thead>\n",
       "    <tr style=\"text-align: right;\">\n",
       "      <th></th>\n",
       "      <th>TF</th>\n",
       "      <th>TG</th>\n",
       "    </tr>\n",
       "  </thead>\n",
       "  <tbody>\n",
       "    <tr>\n",
       "      <th>0</th>\n",
       "      <td>ADNP</td>\n",
       "      <td>MIS18BP1</td>\n",
       "    </tr>\n",
       "    <tr>\n",
       "      <th>1</th>\n",
       "      <td>ADNP</td>\n",
       "      <td>EXD1</td>\n",
       "    </tr>\n",
       "    <tr>\n",
       "      <th>2</th>\n",
       "      <td>ADNP</td>\n",
       "      <td>CHP1</td>\n",
       "    </tr>\n",
       "    <tr>\n",
       "      <th>3</th>\n",
       "      <td>ADNP</td>\n",
       "      <td>OSCAR</td>\n",
       "    </tr>\n",
       "    <tr>\n",
       "      <th>4</th>\n",
       "      <td>ADNP</td>\n",
       "      <td>NDUFA3</td>\n",
       "    </tr>\n",
       "    <tr>\n",
       "      <th>...</th>\n",
       "      <td>...</td>\n",
       "      <td>...</td>\n",
       "    </tr>\n",
       "    <tr>\n",
       "      <th>977836</th>\n",
       "      <td>ZIC3</td>\n",
       "      <td>ZFP36L3</td>\n",
       "    </tr>\n",
       "    <tr>\n",
       "      <th>977837</th>\n",
       "      <td>ZIC3</td>\n",
       "      <td>ZFP499</td>\n",
       "    </tr>\n",
       "    <tr>\n",
       "      <th>977838</th>\n",
       "      <td>ZIC3</td>\n",
       "      <td>ZFP57</td>\n",
       "    </tr>\n",
       "    <tr>\n",
       "      <th>977839</th>\n",
       "      <td>ZIC3</td>\n",
       "      <td>ZFP91</td>\n",
       "    </tr>\n",
       "    <tr>\n",
       "      <th>977840</th>\n",
       "      <td>ZIC3</td>\n",
       "      <td>ZIC5</td>\n",
       "    </tr>\n",
       "  </tbody>\n",
       "</table>\n",
       "<p>977841 rows × 2 columns</p>\n",
       "</div>"
      ],
      "text/plain": [
       "          TF        TG\n",
       "0       ADNP  MIS18BP1\n",
       "1       ADNP      EXD1\n",
       "2       ADNP      CHP1\n",
       "3       ADNP     OSCAR\n",
       "4       ADNP    NDUFA3\n",
       "...      ...       ...\n",
       "977836  ZIC3   ZFP36L3\n",
       "977837  ZIC3    ZFP499\n",
       "977838  ZIC3     ZFP57\n",
       "977839  ZIC3     ZFP91\n",
       "977840  ZIC3      ZIC5\n",
       "\n",
       "[977841 rows x 2 columns]"
      ]
     },
     "execution_count": 6,
     "metadata": {},
     "output_type": "execute_result"
    }
   ],
   "source": [
    "orti_ground_truth = pd.read_csv(os.path.join(GROUND_TRUTH_DIR, \"mESC_beeline_ChIP-seq.csv\"))\n",
    "orti_ground_truth = orti_ground_truth.rename(columns={\"Gene1\":\"TF\", \"Gene2\":\"TG\"})\n",
    "orti_ground_truth"
   ]
  },
  {
   "cell_type": "code",
   "execution_count": 7,
   "id": "81b61279",
   "metadata": {},
   "outputs": [
    {
     "data": {
      "application/vnd.microsoft.datawrangler.viewer.v0+json": {
       "columns": [
        {
         "name": "index",
         "rawType": "int64",
         "type": "integer"
        },
        {
         "name": "TF",
         "rawType": "object",
         "type": "string"
        },
        {
         "name": "TG",
         "rawType": "object",
         "type": "string"
        }
       ],
       "ref": "1384bf88-7a74-4b5a-9a8b-0be159c54618",
       "rows": [
        [
         "0",
         "CHD7",
         "APOA1"
        ],
        [
         "1",
         "CHD7",
         "ARHGAP26"
        ],
        [
         "2",
         "CHD7",
         "ATP11A"
        ],
        [
         "3",
         "CHD7",
         "ATP5O"
        ],
        [
         "4",
         "CHD7",
         "AXIN1"
        ],
        [
         "5",
         "CHD7",
         "BCL11B"
        ],
        [
         "6",
         "CHD7",
         "BMP4"
        ],
        [
         "7",
         "CHD7",
         "BRWD1"
        ],
        [
         "8",
         "CHD7",
         "BUD13"
        ],
        [
         "9",
         "CHD7",
         "C21ORF59"
        ],
        [
         "10",
         "CHD7",
         "C21ORF63"
        ],
        [
         "11",
         "CHD7",
         "C21ORF66"
        ],
        [
         "12",
         "CHD7",
         "C22ORF24"
        ],
        [
         "13",
         "CHD7",
         "C5ORF35"
        ],
        [
         "14",
         "CHD7",
         "C9ORF106"
        ],
        [
         "15",
         "CHD7",
         "CACNG6"
        ],
        [
         "16",
         "CHD7",
         "CAPZA2"
        ],
        [
         "17",
         "CHD7",
         "CAV1"
        ],
        [
         "18",
         "CHD7",
         "CAV2"
        ],
        [
         "19",
         "CHD7",
         "CCDC93"
        ],
        [
         "20",
         "CHD7",
         "CDH2"
        ],
        [
         "21",
         "CHD7",
         "CFTR"
        ],
        [
         "22",
         "CHD7",
         "CGN"
        ],
        [
         "23",
         "CHD7",
         "CHPF"
        ],
        [
         "24",
         "CHD7",
         "CRAT"
        ],
        [
         "25",
         "CHD7",
         "CRYZL1"
        ],
        [
         "26",
         "CHD7",
         "CTAG1B"
        ],
        [
         "27",
         "CHD7",
         "CTGF"
        ],
        [
         "28",
         "CHD7",
         "CTTNBP2"
        ],
        [
         "29",
         "CHD7",
         "DDHD1"
        ],
        [
         "30",
         "CHD7",
         "DDX43"
        ],
        [
         "31",
         "CHD7",
         "DEPDC5"
        ],
        [
         "32",
         "CHD7",
         "DKC1"
        ],
        [
         "33",
         "CHD7",
         "DONSON"
        ],
        [
         "34",
         "CHD7",
         "EEF1A1"
        ],
        [
         "35",
         "CHD7",
         "EIF4ENIF1"
        ],
        [
         "36",
         "CHD7",
         "EVX1"
        ],
        [
         "37",
         "CHD7",
         "EXT1"
        ],
        [
         "38",
         "CHD7",
         "F8A2"
        ],
        [
         "39",
         "CHD7",
         "FAM3A"
        ],
        [
         "40",
         "CHD7",
         "FAM83C"
        ],
        [
         "41",
         "CHD7",
         "FBXO7"
        ],
        [
         "42",
         "CHD7",
         "FGF1"
        ],
        [
         "43",
         "CHD7",
         "FLJ21062"
        ],
        [
         "44",
         "CHD7",
         "FLJ45139"
        ],
        [
         "45",
         "CHD7",
         "FLNA"
        ],
        [
         "46",
         "CHD7",
         "FOXP4"
        ],
        [
         "47",
         "CHD7",
         "FZD1"
        ],
        [
         "48",
         "CHD7",
         "GDI1"
        ],
        [
         "49",
         "CHD7",
         "GTPBP10"
        ]
       ],
       "shape": {
        "columns": 2,
        "rows": 133975
       }
      },
      "text/html": [
       "<div>\n",
       "<style scoped>\n",
       "    .dataframe tbody tr th:only-of-type {\n",
       "        vertical-align: middle;\n",
       "    }\n",
       "\n",
       "    .dataframe tbody tr th {\n",
       "        vertical-align: top;\n",
       "    }\n",
       "\n",
       "    .dataframe thead th {\n",
       "        text-align: right;\n",
       "    }\n",
       "</style>\n",
       "<table border=\"1\" class=\"dataframe\">\n",
       "  <thead>\n",
       "    <tr style=\"text-align: right;\">\n",
       "      <th></th>\n",
       "      <th>TF</th>\n",
       "      <th>TG</th>\n",
       "    </tr>\n",
       "  </thead>\n",
       "  <tbody>\n",
       "    <tr>\n",
       "      <th>0</th>\n",
       "      <td>CHD7</td>\n",
       "      <td>APOA1</td>\n",
       "    </tr>\n",
       "    <tr>\n",
       "      <th>1</th>\n",
       "      <td>CHD7</td>\n",
       "      <td>ARHGAP26</td>\n",
       "    </tr>\n",
       "    <tr>\n",
       "      <th>2</th>\n",
       "      <td>CHD7</td>\n",
       "      <td>ATP11A</td>\n",
       "    </tr>\n",
       "    <tr>\n",
       "      <th>3</th>\n",
       "      <td>CHD7</td>\n",
       "      <td>ATP5O</td>\n",
       "    </tr>\n",
       "    <tr>\n",
       "      <th>4</th>\n",
       "      <td>CHD7</td>\n",
       "      <td>AXIN1</td>\n",
       "    </tr>\n",
       "    <tr>\n",
       "      <th>...</th>\n",
       "      <td>...</td>\n",
       "      <td>...</td>\n",
       "    </tr>\n",
       "    <tr>\n",
       "      <th>133970</th>\n",
       "      <td>ESRRB</td>\n",
       "      <td>GNB2</td>\n",
       "    </tr>\n",
       "    <tr>\n",
       "      <th>133971</th>\n",
       "      <td>ESRRB</td>\n",
       "      <td>CCDC37</td>\n",
       "    </tr>\n",
       "    <tr>\n",
       "      <th>133972</th>\n",
       "      <td>ESRRB</td>\n",
       "      <td>FAM161A</td>\n",
       "    </tr>\n",
       "    <tr>\n",
       "      <th>133973</th>\n",
       "      <td>ESRRB</td>\n",
       "      <td>CSF1</td>\n",
       "    </tr>\n",
       "    <tr>\n",
       "      <th>133974</th>\n",
       "      <td>ESRRB</td>\n",
       "      <td>CCL6</td>\n",
       "    </tr>\n",
       "  </tbody>\n",
       "</table>\n",
       "<p>133975 rows × 2 columns</p>\n",
       "</div>"
      ],
      "text/plain": [
       "           TF        TG\n",
       "0        CHD7     APOA1\n",
       "1        CHD7  ARHGAP26\n",
       "2        CHD7    ATP11A\n",
       "3        CHD7     ATP5O\n",
       "4        CHD7     AXIN1\n",
       "...       ...       ...\n",
       "133970  ESRRB      GNB2\n",
       "133971  ESRRB    CCDC37\n",
       "133972  ESRRB   FAM161A\n",
       "133973  ESRRB      CSF1\n",
       "133974  ESRRB      CCL6\n",
       "\n",
       "[133975 rows x 2 columns]"
      ]
     },
     "execution_count": 7,
     "metadata": {},
     "output_type": "execute_result"
    }
   ],
   "source": [
    "rn115_ground_truth = pd.read_csv(os.path.join(GROUND_TRUTH_DIR, \"rn115_chipseq.tsv\"), sep=\"\\t\")\n",
    "rn115_ground_truth = rn115_ground_truth.rename(columns={\"sourceName\":\"TF\", \"targetName\":\"TG\"})\n",
    "rn115_ground_truth = rn115_ground_truth[[\"TF\", \"TG\"]]\n",
    "rn115_ground_truth"
   ]
  },
  {
   "cell_type": "code",
   "execution_count": 18,
   "id": "a41d0cc9",
   "metadata": {},
   "outputs": [
    {
     "data": {
      "application/vnd.microsoft.datawrangler.viewer.v0+json": {
       "columns": [
        {
         "name": "index",
         "rawType": "int64",
         "type": "integer"
        },
        {
         "name": "TF",
         "rawType": "object",
         "type": "string"
        },
        {
         "name": "TG",
         "rawType": "object",
         "type": "string"
        }
       ],
       "ref": "d0d7fa37-a000-4b83-a497-d0dffc7722c8",
       "rows": [
        [
         "823560",
         "ASCL1",
         "RASSF9"
        ],
        [
         "836912",
         "ASCL1",
         "9230102K24RIK"
        ],
        [
         "846448",
         "ASCL1",
         "GM15723"
        ],
        [
         "848720",
         "ASCL1",
         "A930009A15RIK"
        ],
        [
         "849218",
         "ASCL1",
         "TSPAN8"
        ]
       ],
       "shape": {
        "columns": 2,
        "rows": 5
       }
      },
      "text/html": [
       "<div>\n",
       "<style scoped>\n",
       "    .dataframe tbody tr th:only-of-type {\n",
       "        vertical-align: middle;\n",
       "    }\n",
       "\n",
       "    .dataframe tbody tr th {\n",
       "        vertical-align: top;\n",
       "    }\n",
       "\n",
       "    .dataframe thead th {\n",
       "        text-align: right;\n",
       "    }\n",
       "</style>\n",
       "<table border=\"1\" class=\"dataframe\">\n",
       "  <thead>\n",
       "    <tr style=\"text-align: right;\">\n",
       "      <th></th>\n",
       "      <th>TF</th>\n",
       "      <th>TG</th>\n",
       "    </tr>\n",
       "  </thead>\n",
       "  <tbody>\n",
       "    <tr>\n",
       "      <th>823560</th>\n",
       "      <td>ASCL1</td>\n",
       "      <td>RASSF9</td>\n",
       "    </tr>\n",
       "    <tr>\n",
       "      <th>836912</th>\n",
       "      <td>ASCL1</td>\n",
       "      <td>9230102K24RIK</td>\n",
       "    </tr>\n",
       "    <tr>\n",
       "      <th>846448</th>\n",
       "      <td>ASCL1</td>\n",
       "      <td>GM15723</td>\n",
       "    </tr>\n",
       "    <tr>\n",
       "      <th>848720</th>\n",
       "      <td>ASCL1</td>\n",
       "      <td>A930009A15RIK</td>\n",
       "    </tr>\n",
       "    <tr>\n",
       "      <th>849218</th>\n",
       "      <td>ASCL1</td>\n",
       "      <td>TSPAN8</td>\n",
       "    </tr>\n",
       "  </tbody>\n",
       "</table>\n",
       "</div>"
      ],
      "text/plain": [
       "           TF             TG\n",
       "823560  ASCL1         RASSF9\n",
       "836912  ASCL1  9230102K24RIK\n",
       "846448  ASCL1        GM15723\n",
       "848720  ASCL1  A930009A15RIK\n",
       "849218  ASCL1         TSPAN8"
      ]
     },
     "execution_count": 18,
     "metadata": {},
     "output_type": "execute_result"
    }
   ],
   "source": [
    "chip_atlas_ground_truth = pd.read_csv(os.path.join(GROUND_TRUTH_DIR, \"chip_atlas_tf_peak_tg_dist.csv\"), header=0, index_col=None)\n",
    "chip_atlas_ground_truth = chip_atlas_ground_truth.loc[chip_atlas_ground_truth.groupby([\"source_id\", \"peak_id\"])[\"distance\"].idxmin()]\n",
    "chip_atlas_ground_truth = chip_atlas_ground_truth[[\"source_id\", \"target_id\"]].drop_duplicates()\n",
    "chip_atlas_ground_truth = chip_atlas_ground_truth.rename(columns={\"source_id\":\"TF\", \"target_id\":\"TG\"})\n",
    "chip_atlas_ground_truth.head()\n"
   ]
  },
  {
   "cell_type": "code",
   "execution_count": 15,
   "id": "9d5cfe99",
   "metadata": {},
   "outputs": [
    {
     "ename": "NameError",
     "evalue": "name 'beeline_ground_truth' is not defined",
     "output_type": "error",
     "traceback": [
      "\u001b[0;31m---------------------------------------------------------------------------\u001b[0m",
      "\u001b[0;31mNameError\u001b[0m                                 Traceback (most recent call last)",
      "Cell \u001b[0;32mIn[15], line 1\u001b[0m\n\u001b[0;32m----> 1\u001b[0m combined_ground_truth \u001b[38;5;241m=\u001b[39m pd\u001b[38;5;241m.\u001b[39mconcat([\u001b[43mbeeline_ground_truth\u001b[49m, orti_ground_truth, rn115_ground_truth, chip_atlas_ground_truth])\u001b[38;5;241m.\u001b[39mdrop_duplicates()\n\u001b[1;32m      2\u001b[0m combined_ground_truth[\u001b[38;5;124m\"\u001b[39m\u001b[38;5;124mTF\u001b[39m\u001b[38;5;124m\"\u001b[39m] \u001b[38;5;241m=\u001b[39m combined_ground_truth[\u001b[38;5;124m\"\u001b[39m\u001b[38;5;124mTF\u001b[39m\u001b[38;5;124m\"\u001b[39m]\u001b[38;5;241m.\u001b[39mstr\u001b[38;5;241m.\u001b[39mcapitalize()\n\u001b[1;32m      3\u001b[0m combined_ground_truth[\u001b[38;5;124m\"\u001b[39m\u001b[38;5;124mTG\u001b[39m\u001b[38;5;124m\"\u001b[39m] \u001b[38;5;241m=\u001b[39m combined_ground_truth[\u001b[38;5;124m\"\u001b[39m\u001b[38;5;124mTG\u001b[39m\u001b[38;5;124m\"\u001b[39m]\u001b[38;5;241m.\u001b[39mstr\u001b[38;5;241m.\u001b[39mcapitalize()\n",
      "\u001b[0;31mNameError\u001b[0m: name 'beeline_ground_truth' is not defined"
     ]
    }
   ],
   "source": [
    "combined_ground_truth = pd.concat([beeline_ground_truth, orti_ground_truth, rn115_ground_truth, chip_atlas_ground_truth]).drop_duplicates()\n",
    "combined_ground_truth[\"TF\"] = combined_ground_truth[\"TF\"].str.capitalize()\n",
    "combined_ground_truth[\"TG\"] = combined_ground_truth[\"TG\"].str.capitalize()\n",
    "combined_ground_truth.to_csv(os.path.join(GROUND_TRUTH_DIR, \"combined_ground_truth\"), index=None, header=True)"
   ]
  },
  {
   "cell_type": "code",
   "execution_count": 20,
   "id": "fddd460f",
   "metadata": {},
   "outputs": [
    {
     "data": {
      "application/vnd.microsoft.datawrangler.viewer.v0+json": {
       "columns": [
        {
         "name": "index",
         "rawType": "int64",
         "type": "integer"
        },
        {
         "name": "TF",
         "rawType": "object",
         "type": "string"
        },
        {
         "name": "TG",
         "rawType": "object",
         "type": "string"
        }
       ],
       "ref": "85c32b09-a7bb-44c6-a284-2f52655bf500",
       "rows": [
        [
         "0",
         "Adnp",
         "Mis18bp1"
        ],
        [
         "1",
         "Adnp",
         "Exd1"
        ],
        [
         "2",
         "Adnp",
         "Chp1"
        ],
        [
         "3",
         "Adnp",
         "Oscar"
        ],
        [
         "4",
         "Adnp",
         "Ndufa3"
        ]
       ],
       "shape": {
        "columns": 2,
        "rows": 5
       }
      },
      "text/html": [
       "<div>\n",
       "<style scoped>\n",
       "    .dataframe tbody tr th:only-of-type {\n",
       "        vertical-align: middle;\n",
       "    }\n",
       "\n",
       "    .dataframe tbody tr th {\n",
       "        vertical-align: top;\n",
       "    }\n",
       "\n",
       "    .dataframe thead th {\n",
       "        text-align: right;\n",
       "    }\n",
       "</style>\n",
       "<table border=\"1\" class=\"dataframe\">\n",
       "  <thead>\n",
       "    <tr style=\"text-align: right;\">\n",
       "      <th></th>\n",
       "      <th>TF</th>\n",
       "      <th>TG</th>\n",
       "    </tr>\n",
       "  </thead>\n",
       "  <tbody>\n",
       "    <tr>\n",
       "      <th>0</th>\n",
       "      <td>Adnp</td>\n",
       "      <td>Mis18bp1</td>\n",
       "    </tr>\n",
       "    <tr>\n",
       "      <th>1</th>\n",
       "      <td>Adnp</td>\n",
       "      <td>Exd1</td>\n",
       "    </tr>\n",
       "    <tr>\n",
       "      <th>2</th>\n",
       "      <td>Adnp</td>\n",
       "      <td>Chp1</td>\n",
       "    </tr>\n",
       "    <tr>\n",
       "      <th>3</th>\n",
       "      <td>Adnp</td>\n",
       "      <td>Oscar</td>\n",
       "    </tr>\n",
       "    <tr>\n",
       "      <th>4</th>\n",
       "      <td>Adnp</td>\n",
       "      <td>Ndufa3</td>\n",
       "    </tr>\n",
       "  </tbody>\n",
       "</table>\n",
       "</div>"
      ],
      "text/plain": [
       "     TF        TG\n",
       "0  Adnp  Mis18bp1\n",
       "1  Adnp      Exd1\n",
       "2  Adnp      Chp1\n",
       "3  Adnp     Oscar\n",
       "4  Adnp    Ndufa3"
      ]
     },
     "execution_count": 20,
     "metadata": {},
     "output_type": "execute_result"
    }
   ],
   "source": [
    "combined_ground_truth.head()"
   ]
  },
  {
   "cell_type": "code",
   "execution_count": 21,
   "id": "34c28bed",
   "metadata": {},
   "outputs": [
    {
     "data": {
      "text/plain": [
       "(1665765, 2)"
      ]
     },
     "execution_count": 21,
     "metadata": {},
     "output_type": "execute_result"
    }
   ],
   "source": [
    "combined_ground_truth.shape"
   ]
  },
  {
   "cell_type": "code",
   "execution_count": 12,
   "id": "3099e75e",
   "metadata": {},
   "outputs": [],
   "source": [
    "gene_near_peaks_df = pd.read_parquet(os.path.join(SAMPLE_CHROM_SPECIFIC_DATA_CACHE_DIR, F\"genes_near_peaks_{CHROM_ID}.parquet\"))\n",
    "training_log_df = pd.read_csv(os.path.join(SELECTED_EXPERIMENT_DIR, \"training_log.csv\"), header=0)"
   ]
  },
  {
   "cell_type": "code",
   "execution_count": 6,
   "id": "a73e441c",
   "metadata": {},
   "outputs": [],
   "source": [
    "from scipy.stats import pearsonr\n",
    "def plot_per_gene_correlation_scatterplot(model, dataloader, gpu_id=0, outpath=None):\n",
    "    model.eval()\n",
    "    preds, tgts = [], []\n",
    "    with torch.no_grad():\n",
    "        for atac_wins, tf_tensor, targets, bias in dataloader:\n",
    "            atac_wins, tf_tensor, targets, bias = (\n",
    "                atac_wins.to(gpu_id),\n",
    "                tf_tensor.to(gpu_id),\n",
    "                targets.to(gpu_id),\n",
    "                bias.to(gpu_id)\n",
    "            )\n",
    "            output = model(atac_wins, tf_tensor)\n",
    "            preds.append(output.cpu().numpy())\n",
    "            tgts.append(targets.cpu().numpy())\n",
    "\n",
    "    preds = np.concatenate(preds, axis=0)\n",
    "    tgts  = np.concatenate(tgts, axis=0)\n",
    "\n",
    "    # inverse-transform\n",
    "    # preds_rescaled = scaler.inverse_transform(preds)\n",
    "    # tgts_rescaled  = scaler.inverse_transform(tgts)\n",
    "    preds_rescaled = preds\n",
    "    tgts_rescaled  = tgts\n",
    "\n",
    "    corr, _ = pearsonr(preds_rescaled.ravel(), tgts_rescaled.ravel())\n",
    "    print(f\"Test Pearson correlation: {corr:.3f}\")\n",
    "\n",
    "    plt.figure(figsize=(6,6))\n",
    "    plt.scatter(tgts_rescaled, preds_rescaled, alpha=0.5, s=5)\n",
    "    plt.xlabel(\"True values\")\n",
    "    plt.ylabel(\"Predicted values\")\n",
    "    plt.title(f\"Predicted vs True (r={corr:.3f})\")\n",
    "    plt.plot([tgts_rescaled.min(), tgts_rescaled.max()],\n",
    "             [tgts_rescaled.min(), tgts_rescaled.max()], 'r--')\n",
    "    if outpath:\n",
    "        plt.savefig(outpath, dpi=300)\n",
    "    else:\n",
    "        plt.show()"
   ]
  },
  {
   "cell_type": "code",
   "execution_count": 13,
   "id": "1feef8cb",
   "metadata": {},
   "outputs": [
    {
     "data": {
      "image/png": "[encoded data removed]",
      "text/plain": [
       "<Figure size 600x500 with 1 Axes>"
      ]
     },
     "metadata": {},
     "output_type": "display_data"
    }
   ],
   "source": [
    "def plot_pearson_corr_across_epochs(df):\n",
    "    fig = plt.figure(figsize=(6, 5))\n",
    "    plt.plot(df.index, df[\"Pearson\"], linewidth=2, label=\"Pearson Correlation\")\n",
    "\n",
    "    plt.title(f\"Training mESC {CHROM_ID} Pearson Correlation\", fontsize=14)\n",
    "    plt.ylim((0,1))\n",
    "    plt.yticks(fontsize=13)\n",
    "    plt.xticks(fontsize=13)\n",
    "    plt.xlabel(\"Epoch\", fontsize=13)\n",
    "    plt.ylabel(\"Pearson Correlation\", fontsize=13)\n",
    "    plt.legend(fontsize=13)\n",
    "    plt.tight_layout()\n",
    "    \n",
    "    return fig\n",
    "\n",
    "fig = plot_pearson_corr_across_epochs(training_log_df)\n",
    "fig.savefig(os.path.join(OUTPUT_DIR, \"eval_results_pearson_corr.png\"), dpi=300)\n",
    "fig.show()"
   ]
  },
  {
   "cell_type": "code",
   "execution_count": 14,
   "id": "dc9e7349",
   "metadata": {},
   "outputs": [
    {
     "data": {
      "image/png": "[encoded data removed]",
      "text/plain": [
       "<Figure size 600x500 with 1 Axes>"
      ]
     },
     "metadata": {},
     "output_type": "display_data"
    }
   ],
   "source": [
    "def plot_train_val_loss(df, dataset_name, chrom_id):\n",
    "    fig = plt.figure(figsize=(6, 5))\n",
    "    plt.plot(df[\"Epoch\"], df[\"Train MSE\"], label=\"Train MSE\", linewidth=2)\n",
    "    plt.plot(df[\"Epoch\"], df[\"Val MSE\"], label=\"Validation MSE\", linewidth=2)\n",
    "    plt.plot(df[\"Epoch\"], df[\"Train Total Loss\"], label=\"Train Total Loss\", linestyle=\"--\", alpha=0.7)\n",
    "\n",
    "    plt.title(f\"Training {dataset_name} {chrom_id} Loss Curves\", fontsize=14)\n",
    "    plt.xlabel(\"Epoch\", fontsize=13)\n",
    "    plt.ylabel(\"Loss\", fontsize=13)\n",
    "    plt.ylim([0, 1])\n",
    "    plt.legend(fontsize=12)\n",
    "    plt.tight_layout()\n",
    "    return fig\n",
    "    \n",
    "fig = plot_train_val_loss(training_log_df, DATASET_NAME, CHROM_ID)\n",
    "fig.savefig(os.path.join(SELECTED_EXPERIMENT_DIR, \"eval_results_training_loss.png\"), dpi=300)\n",
    "fig.show()"
   ]
  },
  {
   "cell_type": "code",
   "execution_count": null,
   "id": "816dc045",
   "metadata": {},
   "outputs": [
    {
     "data": {
      "image/png": "[encoded data removed]",
      "text/plain": [
       "<Figure size 1000x500 with 1 Axes>"
      ]
     },
     "metadata": {},
     "output_type": "display_data"
    }
   ],
   "source": [
    "tf_imp_dir = os.path.join(SELECTED_EXPERIMENT_DIR, \"tf_gradient_attributions\")\n",
    "            \n",
    "tf_importance_df = pd.read_csv(os.path.join(tf_imp_dir, \"tf_importance_matrix.csv\"), header=0, index_col=0)\n",
    "\n",
    "fig = plt.figure(figsize=(10,5))\n",
    "\n",
    "selected_tg = tf_importance_df.index[0]\n",
    "selected_tf_row = tf_importance_df.iloc[0]\n",
    "selected_tf_row = selected_tf_row.iloc[:50].sort_values(ascending=False)\n",
    "\n",
    "plt.xticks(rotation=90, fontsize=10)\n",
    "plt.bar(x=selected_tf_row.index, height=selected_tf_row)\n",
    "plt.title(f\"TF Importance for {selected_tg}\")\n",
    "plt.ylabel(\"TF Importance\")\n",
    "plt.tight_layout()\n",
    "plt.show()"
   ]
  },
  {
   "cell_type": "code",
   "execution_count": 48,
   "id": "2fd036a7",
   "metadata": {},
   "outputs": [
    {
     "data": {
      "application/vnd.microsoft.datawrangler.viewer.v0+json": {
       "columns": [
        {
         "name": "index",
         "rawType": "object",
         "type": "string"
        },
        {
         "name": "1110059e24rik",
         "rawType": "float64",
         "type": "float"
        },
        {
         "name": "1700028p14rik",
         "rawType": "float64",
         "type": "float"
        },
        {
         "name": "1700054a03rik",
         "rawType": "float64",
         "type": "float"
        },
        {
         "name": "4430402i18rik",
         "rawType": "float64",
         "type": "float"
        },
        {
         "name": "4930414n06rik",
         "rawType": "float64",
         "type": "float"
        },
        {
         "name": "4930481a15rik",
         "rawType": "float64",
         "type": "float"
        },
        {
         "name": "4930505n22rik",
         "rawType": "float64",
         "type": "float"
        },
        {
         "name": "A1cf",
         "rawType": "float64",
         "type": "float"
        },
        {
         "name": "A330040f15rik",
         "rawType": "float64",
         "type": "float"
        },
        {
         "name": "A930007i19rik",
         "rawType": "float64",
         "type": "float"
        },
        {
         "name": "Ai837181",
         "rawType": "float64",
         "type": "float"
        },
        {
         "name": "Abcc2",
         "rawType": "float64",
         "type": "float"
        },
        {
         "name": "Abhd17b",
         "rawType": "float64",
         "type": "float"
        },
        {
         "name": "Ablim1",
         "rawType": "float64",
         "type": "float"
        },
        {
         "name": "Acsl5",
         "rawType": "float64",
         "type": "float"
        },
        {
         "name": "Acta2",
         "rawType": "float64",
         "type": "float"
        },
        {
         "name": "Actr1a",
         "rawType": "float64",
         "type": "float"
        },
        {
         "name": "Add3",
         "rawType": "float64",
         "type": "float"
        },
        {
         "name": "Adrb1",
         "rawType": "float64",
         "type": "float"
        },
        {
         "name": "Afap1l2",
         "rawType": "float64",
         "type": "float"
        },
        {
         "name": "Ahnak",
         "rawType": "float64",
         "type": "float"
        },
        {
         "name": "Ankrd1",
         "rawType": "float64",
         "type": "float"
        },
        {
         "name": "Apba1",
         "rawType": "float64",
         "type": "float"
        },
        {
         "name": "Arl3",
         "rawType": "float64",
         "type": "float"
        },
        {
         "name": "Armh3",
         "rawType": "float64",
         "type": "float"
        },
        {
         "name": "Asah2",
         "rawType": "float64",
         "type": "float"
        },
        {
         "name": "Asrgl1",
         "rawType": "float64",
         "type": "float"
        },
        {
         "name": "Atg2a",
         "rawType": "float64",
         "type": "float"
        },
        {
         "name": "Avpi1",
         "rawType": "float64",
         "type": "float"
        },
        {
         "name": "B230217o12rik",
         "rawType": "float64",
         "type": "float"
        },
        {
         "name": "Batf2",
         "rawType": "float64",
         "type": "float"
        },
        {
         "name": "Bbs1",
         "rawType": "float64",
         "type": "float"
        },
        {
         "name": "Blnk",
         "rawType": "float64",
         "type": "float"
        },
        {
         "name": "Brms1",
         "rawType": "float64",
         "type": "float"
        },
        {
         "name": "Btrc",
         "rawType": "float64",
         "type": "float"
        },
        {
         "name": "C130060c02rik",
         "rawType": "float64",
         "type": "float"
        },
        {
         "name": "Calhm2",
         "rawType": "float64",
         "type": "float"
        },
        {
         "name": "Casp7",
         "rawType": "float64",
         "type": "float"
        },
        {
         "name": "Ccdc172",
         "rawType": "float64",
         "type": "float"
        },
        {
         "name": "Ccdc86",
         "rawType": "float64",
         "type": "float"
        },
        {
         "name": "Ccnj",
         "rawType": "float64",
         "type": "float"
        },
        {
         "name": "Cd248",
         "rawType": "float64",
         "type": "float"
        },
        {
         "name": "Cd274",
         "rawType": "float64",
         "type": "float"
        },
        {
         "name": "Cdca5",
         "rawType": "float64",
         "type": "float"
        },
        {
         "name": "Cfap43",
         "rawType": "float64",
         "type": "float"
        },
        {
         "name": "Cfl1",
         "rawType": "float64",
         "type": "float"
        },
        {
         "name": "Ch25h",
         "rawType": "float64",
         "type": "float"
        },
        {
         "name": "Clcf1",
         "rawType": "float64",
         "type": "float"
        },
        {
         "name": "Cnih2",
         "rawType": "float64",
         "type": "float"
        },
        {
         "name": "Cnnm1",
         "rawType": "float64",
         "type": "float"
        },
        {
         "name": "Cnnm2",
         "rawType": "float64",
         "type": "float"
        },
        {
         "name": "Coro1b",
         "rawType": "float64",
         "type": "float"
        },
        {
         "name": "Cox15",
         "rawType": "float64",
         "type": "float"
        },
        {
         "name": "Cox8a",
         "rawType": "float64",
         "type": "float"
        },
        {
         "name": "Cpeb3",
         "rawType": "float64",
         "type": "float"
        },
        {
         "name": "Cpn1",
         "rawType": "float64",
         "type": "float"
        },
        {
         "name": "Cpt1a",
         "rawType": "float64",
         "type": "float"
        },
        {
         "name": "Crtac1",
         "rawType": "float64",
         "type": "float"
        },
        {
         "name": "Csf2ra",
         "rawType": "float64",
         "type": "float"
        },
        {
         "name": "Cstf2t",
         "rawType": "float64",
         "type": "float"
        },
        {
         "name": "Ctsf",
         "rawType": "float64",
         "type": "float"
        },
        {
         "name": "Cutc",
         "rawType": "float64",
         "type": "float"
        },
        {
         "name": "Cyb561a3",
         "rawType": "float64",
         "type": "float"
        },
        {
         "name": "Cyp26a1",
         "rawType": "float64",
         "type": "float"
        },
        {
         "name": "Cyp26c1",
         "rawType": "float64",
         "type": "float"
        },
        {
         "name": "D330050i16rik",
         "rawType": "float64",
         "type": "float"
        },
        {
         "name": "Dkk1",
         "rawType": "float64",
         "type": "float"
        },
        {
         "name": "Dmrt2",
         "rawType": "float64",
         "type": "float"
        },
        {
         "name": "Dntt",
         "rawType": "float64",
         "type": "float"
        },
        {
         "name": "Doc2g",
         "rawType": "float64",
         "type": "float"
        },
        {
         "name": "Dock8",
         "rawType": "float64",
         "type": "float"
        },
        {
         "name": "Dusp5",
         "rawType": "float64",
         "type": "float"
        },
        {
         "name": "E330013p04rik",
         "rawType": "float64",
         "type": "float"
        },
        {
         "name": "Efemp2",
         "rawType": "float64",
         "type": "float"
        },
        {
         "name": "Ehbp1l1",
         "rawType": "float64",
         "type": "float"
        },
        {
         "name": "Emx2",
         "rawType": "float64",
         "type": "float"
        },
        {
         "name": "Emx2os",
         "rawType": "float64",
         "type": "float"
        },
        {
         "name": "Eno4",
         "rawType": "float64",
         "type": "float"
        },
        {
         "name": "Entpd1",
         "rawType": "float64",
         "type": "float"
        },
        {
         "name": "Exoc6",
         "rawType": "float64",
         "type": "float"
        },
        {
         "name": "Fads1",
         "rawType": "float64",
         "type": "float"
        },
        {
         "name": "Fads3",
         "rawType": "float64",
         "type": "float"
        },
        {
         "name": "Fam111a",
         "rawType": "float64",
         "type": "float"
        },
        {
         "name": "Fam122a",
         "rawType": "float64",
         "type": "float"
        },
        {
         "name": "Fam204a",
         "rawType": "float64",
         "type": "float"
        },
        {
         "name": "Fau",
         "rawType": "float64",
         "type": "float"
        },
        {
         "name": "Fbxw4",
         "rawType": "float64",
         "type": "float"
        },
        {
         "name": "Fermt3",
         "rawType": "float64",
         "type": "float"
        },
        {
         "name": "Fgf8",
         "rawType": "float64",
         "type": "float"
        },
        {
         "name": "Fgfbp3",
         "rawType": "float64",
         "type": "float"
        },
        {
         "name": "Fkbp2",
         "rawType": "float64",
         "type": "float"
        },
        {
         "name": "Flrt1",
         "rawType": "float64",
         "type": "float"
        },
        {
         "name": "Fosl1",
         "rawType": "float64",
         "type": "float"
        },
        {
         "name": "Foxd4",
         "rawType": "float64",
         "type": "float"
        },
        {
         "name": "Frat1",
         "rawType": "float64",
         "type": "float"
        },
        {
         "name": "Frat2",
         "rawType": "float64",
         "type": "float"
        },
        {
         "name": "Fth1",
         "rawType": "float64",
         "type": "float"
        },
        {
         "name": "Fxn",
         "rawType": "float64",
         "type": "float"
        },
        {
         "name": "Gal",
         "rawType": "float64",
         "type": "float"
        },
        {
         "name": "Gcnt1",
         "rawType": "float64",
         "type": "float"
        },
        {
         "name": "Gda",
         "rawType": "float64",
         "type": "float"
        },
        {
         "name": "Gfra1",
         "rawType": "float64",
         "type": "float"
        },
        {
         "name": "Gldc",
         "rawType": "float64",
         "type": "float"
        },
        {
         "name": "Glis3",
         "rawType": "float64",
         "type": "float"
        },
        {
         "name": "Gm960",
         "rawType": "float64",
         "type": "float"
        },
        {
         "name": "Gm9895",
         "rawType": "float64",
         "type": "float"
        },
        {
         "name": "Gna14",
         "rawType": "float64",
         "type": "float"
        },
        {
         "name": "Gng3",
         "rawType": "float64",
         "type": "float"
        },
        {
         "name": "Gpam",
         "rawType": "float64",
         "type": "float"
        },
        {
         "name": "Grk5",
         "rawType": "float64",
         "type": "float"
        },
        {
         "name": "Gsto1",
         "rawType": "float64",
         "type": "float"
        },
        {
         "name": "Gstp1",
         "rawType": "float64",
         "type": "float"
        },
        {
         "name": "Habp2",
         "rawType": "float64",
         "type": "float"
        },
        {
         "name": "Hectd2",
         "rawType": "float64",
         "type": "float"
        },
        {
         "name": "Hectd2os",
         "rawType": "float64",
         "type": "float"
        },
        {
         "name": "Hhex",
         "rawType": "float64",
         "type": "float"
        },
        {
         "name": "Hoga1",
         "rawType": "float64",
         "type": "float"
        },
        {
         "name": "Hps1",
         "rawType": "float64",
         "type": "float"
        },
        {
         "name": "Hpse2",
         "rawType": "float64",
         "type": "float"
        },
        {
         "name": "Ifit2",
         "rawType": "float64",
         "type": "float"
        },
        {
         "name": "Il33",
         "rawType": "float64",
         "type": "float"
        },
        {
         "name": "Ina",
         "rawType": "float64",
         "type": "float"
        },
        {
         "name": "Ints5",
         "rawType": "float64",
         "type": "float"
        },
        {
         "name": "Jak2",
         "rawType": "float64",
         "type": "float"
        },
        {
         "name": "Kank1",
         "rawType": "float64",
         "type": "float"
        },
        {
         "name": "Kcnip2",
         "rawType": "float64",
         "type": "float"
        },
        {
         "name": "Klf9",
         "rawType": "float64",
         "type": "float"
        },
        {
         "name": "Lgi1",
         "rawType": "float64",
         "type": "float"
        },
        {
         "name": "Lipa",
         "rawType": "float64",
         "type": "float"
        },
        {
         "name": "Lpxn",
         "rawType": "float64",
         "type": "float"
        },
        {
         "name": "Macrod1",
         "rawType": "float64",
         "type": "float"
        },
        {
         "name": "Malat1",
         "rawType": "float64",
         "type": "float"
        },
        {
         "name": "Mamdc2",
         "rawType": "float64",
         "type": "float"
        },
        {
         "name": "Map3k11",
         "rawType": "float64",
         "type": "float"
        },
        {
         "name": "Mbl2",
         "rawType": "float64",
         "type": "float"
        },
        {
         "name": "Mfsd13a",
         "rawType": "float64",
         "type": "float"
        },
        {
         "name": "Mirt1",
         "rawType": "float64",
         "type": "float"
        },
        {
         "name": "Morn4",
         "rawType": "float64",
         "type": "float"
        },
        {
         "name": "Mpeg1",
         "rawType": "float64",
         "type": "float"
        },
        {
         "name": "Mrpl11",
         "rawType": "float64",
         "type": "float"
        },
        {
         "name": "Ms4a4c",
         "rawType": "float64",
         "type": "float"
        },
        {
         "name": "Ms4a4d",
         "rawType": "float64",
         "type": "float"
        },
        {
         "name": "Ms4a6b",
         "rawType": "float64",
         "type": "float"
        },
        {
         "name": "Ms4a6c",
         "rawType": "float64",
         "type": "float"
        },
        {
         "name": "Mxi1",
         "rawType": "float64",
         "type": "float"
        },
        {
         "name": "Myof",
         "rawType": "float64",
         "type": "float"
        },
        {
         "name": "Myrf",
         "rawType": "float64",
         "type": "float"
        },
        {
         "name": "Ndufs8",
         "rawType": "float64",
         "type": "float"
        },
        {
         "name": "Neat1",
         "rawType": "float64",
         "type": "float"
        },
        {
         "name": "Nkx2-3",
         "rawType": "float64",
         "type": "float"
        },
        {
         "name": "Npm3",
         "rawType": "float64",
         "type": "float"
        },
        {
         "name": "Nrxn2",
         "rawType": "float64",
         "type": "float"
        },
        {
         "name": "Nt5c2",
         "rawType": "float64",
         "type": "float"
        },
        {
         "name": "Olfr1441",
         "rawType": "float64",
         "type": "float"
        },
        {
         "name": "Osbp",
         "rawType": "float64",
         "type": "float"
        },
        {
         "name": "Otub1",
         "rawType": "float64",
         "type": "float"
        },
        {
         "name": "Pacs1",
         "rawType": "float64",
         "type": "float"
        },
        {
         "name": "Pank1",
         "rawType": "float64",
         "type": "float"
        },
        {
         "name": "Patl1",
         "rawType": "float64",
         "type": "float"
        },
        {
         "name": "Pax2",
         "rawType": "float64",
         "type": "float"
        },
        {
         "name": "Pcgf5",
         "rawType": "float64",
         "type": "float"
        },
        {
         "name": "Pcsk5",
         "rawType": "float64",
         "type": "float"
        },
        {
         "name": "Pdcd4",
         "rawType": "float64",
         "type": "float"
        },
        {
         "name": "Pde6c",
         "rawType": "float64",
         "type": "float"
        },
        {
         "name": "Pdlim1",
         "rawType": "float64",
         "type": "float"
        },
        {
         "name": "Pfpl",
         "rawType": "float64",
         "type": "float"
        },
        {
         "name": "Pga5",
         "rawType": "float64",
         "type": "float"
        },
        {
         "name": "Pgam1",
         "rawType": "float64",
         "type": "float"
        },
        {
         "name": "Pgm5",
         "rawType": "float64",
         "type": "float"
        },
        {
         "name": "Pi4k2a",
         "rawType": "float64",
         "type": "float"
        },
        {
         "name": "Pik3ap1",
         "rawType": "float64",
         "type": "float"
        },
        {
         "name": "Pip5k1b",
         "rawType": "float64",
         "type": "float"
        },
        {
         "name": "Plce1",
         "rawType": "float64",
         "type": "float"
        },
        {
         "name": "Pold4",
         "rawType": "float64",
         "type": "float"
        },
        {
         "name": "Poll",
         "rawType": "float64",
         "type": "float"
        },
        {
         "name": "Polr2g",
         "rawType": "float64",
         "type": "float"
        },
        {
         "name": "Ppp1ca",
         "rawType": "float64",
         "type": "float"
        },
        {
         "name": "Ppp1r14b",
         "rawType": "float64",
         "type": "float"
        },
        {
         "name": "Prdx5",
         "rawType": "float64",
         "type": "float"
        },
        {
         "name": "Prkg1",
         "rawType": "float64",
         "type": "float"
        },
        {
         "name": "Prune2",
         "rawType": "float64",
         "type": "float"
        },
        {
         "name": "Psat1",
         "rawType": "float64",
         "type": "float"
        },
        {
         "name": "Pten",
         "rawType": "float64",
         "type": "float"
        },
        {
         "name": "Pygm",
         "rawType": "float64",
         "type": "float"
        },
        {
         "name": "Rab11fip2",
         "rawType": "float64",
         "type": "float"
        },
        {
         "name": "Rasgrp2",
         "rawType": "float64",
         "type": "float"
        },
        {
         "name": "Rbm20",
         "rawType": "float64",
         "type": "float"
        },
        {
         "name": "Rbm4b",
         "rawType": "float64",
         "type": "float"
        },
        {
         "name": "Rbp4",
         "rawType": "float64",
         "type": "float"
        },
        {
         "name": "Rce1",
         "rawType": "float64",
         "type": "float"
        },
        {
         "name": "Rela",
         "rawType": "float64",
         "type": "float"
        },
        {
         "name": "Rfk",
         "rawType": "float64",
         "type": "float"
        },
        {
         "name": "Rfx3",
         "rawType": "float64",
         "type": "float"
        },
        {
         "name": "Rhod",
         "rawType": "float64",
         "type": "float"
        },
        {
         "name": "Rln1",
         "rawType": "float64",
         "type": "float"
        },
        {
         "name": "Rom1",
         "rawType": "float64",
         "type": "float"
        },
        {
         "name": "Rorb",
         "rawType": "float64",
         "type": "float"
        },
        {
         "name": "Sac3d1",
         "rawType": "float64",
         "type": "float"
        },
        {
         "name": "Scd2",
         "rawType": "float64",
         "type": "float"
        },
        {
         "name": "Scd3",
         "rawType": "float64",
         "type": "float"
        },
        {
         "name": "Sec31b",
         "rawType": "float64",
         "type": "float"
        },
        {
         "name": "Sfr1",
         "rawType": "float64",
         "type": "float"
        },
        {
         "name": "Sfrp5",
         "rawType": "float64",
         "type": "float"
        },
        {
         "name": "Sh3pxd2a",
         "rawType": "float64",
         "type": "float"
        },
        {
         "name": "Shtn1",
         "rawType": "float64",
         "type": "float"
        },
        {
         "name": "Sipa1",
         "rawType": "float64",
         "type": "float"
        },
        {
         "name": "Slc15a3",
         "rawType": "float64",
         "type": "float"
        },
        {
         "name": "Slc16a12",
         "rawType": "float64",
         "type": "float"
        },
        {
         "name": "Slc18a2",
         "rawType": "float64",
         "type": "float"
        },
        {
         "name": "Slc1a1",
         "rawType": "float64",
         "type": "float"
        },
        {
         "name": "Slc22a20",
         "rawType": "float64",
         "type": "float"
        },
        {
         "name": "Slit1",
         "rawType": "float64",
         "type": "float"
        },
        {
         "name": "Smarca2",
         "rawType": "float64",
         "type": "float"
        },
        {
         "name": "Snx32",
         "rawType": "float64",
         "type": "float"
        },
        {
         "name": "Sorbs1",
         "rawType": "float64",
         "type": "float"
        },
        {
         "name": "Sorcs1",
         "rawType": "float64",
         "type": "float"
        },
        {
         "name": "Sorcs3",
         "rawType": "float64",
         "type": "float"
        },
        {
         "name": "Spindoc",
         "rawType": "float64",
         "type": "float"
        },
        {
         "name": "Sptbn2",
         "rawType": "float64",
         "type": "float"
        },
        {
         "name": "Stambpl1",
         "rawType": "float64",
         "type": "float"
        },
        {
         "name": "Stx3",
         "rawType": "float64",
         "type": "float"
        },
        {
         "name": "Syt7",
         "rawType": "float64",
         "type": "float"
        },
        {
         "name": "Taf5",
         "rawType": "float64",
         "type": "float"
        },
        {
         "name": "Tbc1d10c",
         "rawType": "float64",
         "type": "float"
        },
        {
         "name": "Tcf7l2",
         "rawType": "float64",
         "type": "float"
        },
        {
         "name": "Tkfc",
         "rawType": "float64",
         "type": "float"
        },
        {
         "name": "Tle4",
         "rawType": "float64",
         "type": "float"
        },
        {
         "name": "Tll2",
         "rawType": "float64",
         "type": "float"
        },
        {
         "name": "Tmc1",
         "rawType": "float64",
         "type": "float"
        },
        {
         "name": "Tmem134",
         "rawType": "float64",
         "type": "float"
        },
        {
         "name": "Tmem151a",
         "rawType": "float64",
         "type": "float"
        },
        {
         "name": "Tmem179b",
         "rawType": "float64",
         "type": "float"
        },
        {
         "name": "Trim8",
         "rawType": "float64",
         "type": "float"
        },
        {
         "name": "Trmt112",
         "rawType": "float64",
         "type": "float"
        },
        {
         "name": "Trpm3",
         "rawType": "float64",
         "type": "float"
        },
        {
         "name": "Trpm6",
         "rawType": "float64",
         "type": "float"
        },
        {
         "name": "Trpt1",
         "rawType": "float64",
         "type": "float"
        },
        {
         "name": "Tsga10ip",
         "rawType": "float64",
         "type": "float"
        },
        {
         "name": "Unc93b1",
         "rawType": "float64",
         "type": "float"
        },
        {
         "name": "Vldlr",
         "rawType": "float64",
         "type": "float"
        },
        {
         "name": "Vps13a",
         "rawType": "float64",
         "type": "float"
        },
        {
         "name": "Vti1a",
         "rawType": "float64",
         "type": "float"
        },
        {
         "name": "Vwa2",
         "rawType": "float64",
         "type": "float"
        },
        {
         "name": "Wnt8b",
         "rawType": "float64",
         "type": "float"
        },
        {
         "name": "Yif1a",
         "rawType": "float64",
         "type": "float"
        },
        {
         "name": "Zfand5",
         "rawType": "float64",
         "type": "float"
        }
       ],
       "ref": "abee9f87-bad5-4bc1-99e4-ce343f5dc472",
       "rows": [
        [
         "Amyb",
         "0.0032263803",
         "0.0014607351",
         "0.000958704",
         "0.0018824724",
         "0.0013502876",
         "0.0018912158",
         "0.003782174",
         "0.002697809",
         "0.0013522886",
         "0.002705671",
         "0.0037589679",
         "0.0039210254",
         "0.0013603024",
         "0.001330676",
         "0.004842585",
         "0.0033674347",
         "0.0015074562",
         "0.0017920771",
         "0.0016480782",
         "0.0030947246",
         "0.0035222634",
         "0.0013796828",
         "0.0027135885",
         "0.0022416166",
         "0.0016346623",
         "0.0012842417",
         "0.0024185672",
         "0.002296975",
         "0.0021832583",
         "0.0013863842",
         "0.0018871885",
         "0.0043010903",
         "0.0025723225",
         "0.0017814398",
         "0.0023952147",
         "0.0032241412",
         "0.0014213062",
         "0.001783795",
         "0.00062405836",
         "0.0016207816",
         "0.0009143989",
         "0.0016138675",
         "0.002813317",
         "0.0017881284",
         "0.004852111",
         "0.0014822035",
         "0.0014492515",
         "0.0006930817",
         "0.0018296059",
         "0.002524372",
         "0.0017527733",
         "0.0016060047",
         "0.0020840457",
         "0.0012969645",
         "0.0025934111",
         "0.0009148468",
         "0.0032475782",
         "0.003775956",
         "0.0020305796",
         "0.0040583923",
         "0.0020016888",
         "0.0010062141",
         "0.001989869",
         "0.0007460764",
         "0.002019051",
         "0.0018676431",
         "0.0027055019",
         "0.0032788625",
         "0.0015071722",
         "0.0037542419",
         "0.0013093586",
         "0.0024324448",
         "0.0015422839",
         "0.0014972611",
         "0.004390234",
         "0.0027729457",
         "0.0036345578",
         "0.004096297",
         "0.004035506",
         "0.0035337436",
         "0.0026025027",
         "0.002650266",
         "0.0008910679",
         "0.0023227395",
         "0.0027102286",
         "0.002324022",
         "0.002408342",
         "0.0017398394",
         "0.0019419347",
         "0.0014211427",
         "0.0038700476",
         "0.0019808002",
         "0.0023216684",
         "0.000835922",
         "0.0020974337",
         "0.0037004345",
         "0.0015236854",
         "0.0028214674",
         "0.0033061288",
         "0.0021491798",
         "0.0021286726",
         "0.0020422642",
         "0.0022841638",
         "0.0018242756",
         "0.0007009102",
         "0.0017997344",
         "0.0023457715",
         "0.0031282096",
         "0.001587361",
         "0.004018507",
         "0.0024130084",
         "0.0032909417",
         "0.0018928795",
         "0.0046367077",
         "0.0017226448",
         "0.0031723173",
         "0.0015488532",
         "0.0014542631",
         "0.0012205079",
         "0.0018840606",
         "0.0034698397",
         "0.0035516976",
         "0.003964709",
         "0.0020086488",
         "0.0023993813",
         "0.0013136186",
         "0.0035067694",
         "0.002360172",
         "0.0024691075",
         "0.0012465192",
         "0.001915568",
         "0.0047472846",
         "0.0029334966",
         "0.0019005581",
         "0.003807216",
         "0.0022329383",
         "0.0016868648",
         "0.0026043756",
         "0.0017284303",
         "0.0024005694",
         "0.0019096987",
         "0.0010350399",
         "0.0023060031",
         "0.003797627",
         "0.0024410067",
         "0.0036504522",
         "0.0028810897",
         "0.0012032266",
         "0.0012439124",
         "0.0021747805",
         "0.0023008846",
         "0.0011336156",
         "0.0024613028",
         "0.0024225924",
         "0.0031817004",
         "0.002435587",
         "0.0010818127",
         "0.002980095",
         "0.0032376174",
         "0.0014015439",
         "0.002040209",
         "0.0018985021",
         "0.0018851522",
         "0.0031574403",
         "0.0036433015",
         "0.0015585393",
         "0.002225611",
         "0.0009304621",
         "0.0025651846",
         "0.002305767",
         "0.0024434242",
         "0.0025092235",
         "0.004135921",
         "0.0025533254",
         "0.0032331846",
         "0.0012927934",
         "0.0030983011",
         "0.004074777",
         "0.0024840813",
         "0.004122895",
         "0.0034145215",
         "0.0027700895",
         "0.004632201",
         "0.0028074344",
         "0.0026431738",
         "0.0030340643",
         "0.0019016821",
         "0.0018839512",
         "0.002166221",
         "0.0020722924",
         "0.0032437916",
         "0.0016884344",
         "0.0016046697",
         "0.0025978482",
         "0.00334891",
         "0.0019405242",
         "0.0030948962",
         "0.002836195",
         "0.0028874665",
         "0.0049074613",
         "0.003614153",
         "0.002295383",
         "0.0029096466",
         "0.004049506",
         "0.0019439029",
         "0.0026258249",
         "0.0021990836",
         "0.0031409643",
         "0.0018296299",
         "0.001306483",
         "0.00366788",
         "0.0024946204",
         "0.0025287352",
         "0.0039860564",
         "0.0015362033",
         "0.0033895802",
         "0.0016770415",
         "0.0034858552",
         "0.0035447434",
         "0.0019532826",
         "0.0024838462",
         "0.0039094947",
         "0.0022312189",
         "0.002014065",
         "0.004248723",
         "0.0030585073",
         "0.0030340203",
         "0.0022040647",
         "0.0032244213",
         "0.0021487582",
         "0.0018753402",
         "0.0018855266",
         "0.004253706",
         "0.001154245",
         "0.002180156",
         "0.003501379",
         "0.0020727569",
         "0.0014857746",
         "0.0010493464",
         "0.002824316",
         "0.0014561673",
         "0.0023581143",
         "0.0010644713",
         "0.0024338155",
         "0.0024787826",
         "0.0015618271"
        ],
        [
         "Ap-1",
         "0.0024040677",
         "0.0012735353",
         "0.0008660274",
         "0.0015711915",
         "0.00096222793",
         "0.0020128356",
         "0.004164758",
         "0.0027007405",
         "0.0013205281",
         "0.0016088801",
         "0.003133617",
         "0.0026175885",
         "0.0020967906",
         "0.0017514467",
         "0.0044426164",
         "0.0036624223",
         "0.0014525859",
         "0.00172421",
         "0.0014428515",
         "0.0022761615",
         "0.003531268",
         "0.0012610309",
         "0.002307196",
         "0.0015293676",
         "0.0015720178",
         "0.0018150187",
         "0.0021642263",
         "0.0023073927",
         "0.0018379301",
         "0.0016272633",
         "0.0022491468",
         "0.0034877025",
         "0.0020518762",
         "0.0021697562",
         "0.0033138497",
         "0.0035162144",
         "0.0010850722",
         "0.0013492949",
         "0.0009816",
         "0.0013275124",
         "0.00139",
         "0.0027436018",
         "0.0030478486",
         "0.001376701",
         "0.00401319",
         "0.0015239512",
         "0.0010665333",
         "0.0006182111",
         "0.0017765004",
         "0.0029851105",
         "0.0012436156",
         "0.0019003652",
         "0.0016118361",
         "0.0016808327",
         "0.0020844603",
         "0.0014042465",
         "0.0024392",
         "0.0038060595",
         "0.0025261436",
         "0.0034984786",
         "0.0016725473",
         "0.0011630794",
         "0.0020250434",
         "0.0008896214",
         "0.0028679909",
         "0.0017911533",
         "0.0015869868",
         "0.0034737964",
         "0.002024261",
         "0.0037447384",
         "0.0012233928",
         "0.0016645787",
         "0.0014292351",
         "0.0021912633",
         "0.0034538978",
         "0.0022729828",
         "0.0023380152",
         "0.0035568092",
         "0.003126193",
         "0.0021384838",
         "0.002267726",
         "0.00277534",
         "0.0013387565",
         "0.0024415804",
         "0.0025475535",
         "0.0019197426",
         "0.0013127155",
         "0.0021505228",
         "0.001166175",
         "0.0012627965",
         "0.002962339",
         "0.0029120545",
         "0.0018229192",
         "0.0019155188",
         "0.0018221324",
         "0.0029374505",
         "0.0016169709",
         "0.0030869495",
         "0.0031879272",
         "0.0019369439",
         "0.0017984766",
         "0.0020398095",
         "0.002532496",
         "0.0018765783",
         "0.000890561",
         "0.0013315278",
         "0.001975164",
         "0.0039705723",
         "0.002256177",
         "0.0033376797",
         "0.0014960503",
         "0.0031170298",
         "0.0019300128",
         "0.003728977",
         "0.0020289249",
         "0.0027200046",
         "0.0015638195",
         "0.001920038",
         "0.0011833548",
         "0.00281005",
         "0.0032964323",
         "0.0027625402",
         "0.0030041204",
         "0.0023719163",
         "0.0024200366",
         "0.0018498119",
         "0.0026671465",
         "0.0012073567",
         "0.0024209854",
         "0.0014062665",
         "0.0026403484",
         "0.0037808635",
         "0.0021261564",
         "0.0018844892",
         "0.0027203748",
         "0.0016061652",
         "0.0017177439",
         "0.0019067428",
         "0.0014863509",
         "0.0024949322",
         "0.0019298067",
         "0.0017795684",
         "0.0017158894",
         "0.0027838645",
         "0.0024691985",
         "0.0025655925",
         "0.002141211",
         "0.002791924",
         "0.0011490055",
         "0.0018578554",
         "0.0023226046",
         "0.0016622309",
         "0.0031164724",
         "0.0018597925",
         "0.0019670124",
         "0.0016497257",
         "0.0017805619",
         "0.0026592277",
         "0.0030932575",
         "0.0017991391",
         "0.0021873915",
         "0.0021674195",
         "0.0010836486",
         "0.0026113694",
         "0.003266831",
         "0.0018315554",
         "0.0032381837",
         "0.00083651865",
         "0.0021163456",
         "0.0018189857",
         "0.0021921543",
         "0.0030873674",
         "0.0033280512",
         "0.0021150766",
         "0.0026780707",
         "0.0016513158",
         "0.0031948981",
         "0.004219956",
         "0.0030994604",
         "0.0036858753",
         "0.0036207088",
         "0.0026754488",
         "0.0032174287",
         "0.002498074",
         "0.0019178127",
         "0.0026885888",
         "0.0014447033",
         "0.0020331203",
         "0.0021990198",
         "0.0021639864",
         "0.0029605548",
         "0.0016535274",
         "0.001520401",
         "0.0018534476",
         "0.0025112438",
         "0.0016524628",
         "0.0033222032",
         "0.0022746802",
         "0.0015559944",
         "0.0038025586",
         "0.0033615534",
         "0.0018269852",
         "0.0027851018",
         "0.0032909932",
         "0.0029430394",
         "0.0024491926",
         "0.0021382081",
         "0.0036759528",
         "0.0024973429",
         "0.0016511154",
         "0.0028863873",
         "0.002154724",
         "0.002144751",
         "0.0029732513",
         "0.0020459078",
         "0.002925298",
         "0.0023580824",
         "0.0032023378",
         "0.0033369837",
         "0.0016131444",
         "0.0019456394",
         "0.004234686",
         "0.001519155",
         "0.0018464619",
         "0.003338365",
         "0.0025867994",
         "0.0029212423",
         "0.0018480765",
         "0.0021807083",
         "0.0017808957",
         "0.0017621401",
         "0.0021360894",
         "0.003416536",
         "0.00093788485",
         "0.0018249105",
         "0.0036982764",
         "0.0019738928",
         "0.0016600734",
         "0.0016764482",
         "0.0036037671",
         "0.0011444329",
         "0.0027570294",
         "0.00068925455",
         "0.0023502747",
         "0.0020467895",
         "0.002187161"
        ],
        [
         "Atoh1",
         "0.0023874966",
         "0.002678815",
         "0.001651643",
         "0.0020257202",
         "0.0012049414",
         "0.002539856",
         "0.00468534",
         "0.0020552403",
         "0.0021840855",
         "0.0017090644",
         "0.0034336594",
         "0.002955533",
         "0.0016775989",
         "0.0026840076",
         "0.002692686",
         "0.003352199",
         "0.0042859856",
         "0.002043263",
         "0.0020173755",
         "0.0053185793",
         "0.005117116",
         "0.001332344",
         "0.0015477523",
         "0.0018412498",
         "0.0017442503",
         "0.0011375627",
         "0.0023801797",
         "0.0027254943",
         "0.0019222653",
         "0.0014096377",
         "0.00094838307",
         "0.0023120367",
         "0.0054097497",
         "0.0033010698",
         "0.00162009",
         "0.003113822",
         "0.002221079",
         "0.0019505376",
         "0.0015816435",
         "0.001956085",
         "0.0017387427",
         "0.0020440752",
         "0.0036156154",
         "0.0026741133",
         "0.0019501854",
         "0.0021097558",
         "0.0014855014",
         "0.0011892164",
         "0.0041472036",
         "0.0025447556",
         "0.0015526739",
         "0.0010654927",
         "0.0021140855",
         "0.0028695103",
         "0.0026729398",
         "0.0018059954",
         "0.0021365262",
         "0.0014583924",
         "0.0016538104",
         "0.001263087",
         "0.0023534487",
         "0.0037327583",
         "0.0021355075",
         "0.0013077704",
         "0.0034033144",
         "0.001847446",
         "0.0024591575",
         "0.0045614084",
         "0.0010620463",
         "0.005674216",
         "0.0012403189",
         "0.003077275",
         "0.0023534317",
         "0.0020419303",
         "0.00595363",
         "0.0036188595",
         "0.0028183819",
         "0.003692431",
         "0.0035790282",
         "0.0028143867",
         "0.0022772716",
         "0.0038994614",
         "0.00094824954",
         "0.002296807",
         "0.0055001043",
         "0.0017823784",
         "0.0013707085",
         "0.0009395942",
         "0.001116873",
         "0.0017667371",
         "0.0025162902",
         "0.0039299764",
         "0.002639264",
         "0.0020689806",
         "0.0026892528",
         "0.0049099214",
         "0.00063515105",
         "0.0051316735",
         "0.0029655707",
         "0.0050643184",
         "0.0025756385",
         "0.0040624253",
         "0.002328009",
         "0.00095183554",
         "0.0022594114",
         "0.002031979",
         "0.003205541",
         "0.0025594553",
         "0.0036140836",
         "0.0035152999",
         "0.0016376453",
         "0.0011248038",
         "0.0028914714",
         "0.0023224545",
         "0.0021073087",
         "0.004584384",
         "0.0034086306",
         "0.0009689006",
         "0.0037248356",
         "0.0029749998",
         "0.0028122794",
         "0.0019125787",
         "0.003896692",
         "0.00064939016",
         "0.0033312342",
         "0.0013189735",
         "0.002536917",
         "0.0021115534",
         "0.0037803133",
         "0.0021357941",
         "0.002118613",
         "0.0033296477",
         "0.0021138233",
         "0.0034168393",
         "0.0035315235",
         "0.0014026378",
         "0.0012967993",
         "0.0019823022",
         "0.0016395347",
         "0.0018675267",
         "0.0042269756",
         "0.0018836936",
         "0.001979396",
         "0.0020946455",
         "0.0024916523",
         "0.004797085",
         "0.0031612574",
         "0.00163686",
         "0.0013297793",
         "0.0032133278",
         "0.003619331",
         "0.0020166328",
         "0.0031998965",
         "0.0013380297",
         "0.0031312585",
         "0.0018328617",
         "0.0018213503",
         "0.0047881254",
         "0.004544082",
         "0.0039475616",
         "0.00089821854",
         "0.0021792331",
         "0.0020864066",
         "0.0033579953",
         "0.0016163193",
         "0.0019907095",
         "0.002334045",
         "0.0011617483",
         "0.0027603167",
         "0.0011448928",
         "0.0018417558",
         "0.0017698063",
         "0.0031945044",
         "0.002890014",
         "0.0023697005",
         "0.0011220357",
         "0.005693444",
         "0.0025744017",
         "0.0023448782",
         "0.0038265819",
         "0.0043190736",
         "0.0036414997",
         "0.0016505134",
         "0.0031818086",
         "0.0015309651",
         "0.0029049774",
         "0.0020942253",
         "0.0024904388",
         "0.0018328491",
         "0.0019683677",
         "0.0032926975",
         "0.0032075515",
         "0.0019822032",
         "0.0023392045",
         "0.0026256104",
         "0.0011871565",
         "0.0012005512",
         "0.0020983268",
         "0.0027824445",
         "0.005743143",
         "0.0020025193",
         "0.003388622",
         "0.005667867",
         "0.002542433",
         "0.004104274",
         "0.0012114887",
         "0.0013511782",
         "0.003694198",
         "0.0023681067",
         "0.002310104",
         "0.0013654452",
         "0.001212413",
         "0.004040704",
         "0.0018415067",
         "0.0017411307",
         "0.0014384649",
         "0.0034192407",
         "0.0018632297",
         "0.0016688553",
         "0.0023106288",
         "0.0043703415",
         "0.0034649067",
         "0.002000246",
         "0.0024449523",
         "0.002779115",
         "0.0039214105",
         "0.0031382258",
         "0.002742607",
         "0.002812057",
         "0.002512855",
         "0.0018095502",
         "0.0030440139",
         "0.002495565",
         "0.0006694443",
         "0.0038430316",
         "0.0034257586",
         "0.0017361304",
         "0.002858533",
         "0.0012490688",
         "0.00232017",
         "0.0018550996",
         "0.004070615",
         "0.00080507714",
         "0.0021839652",
         "0.0032343008",
         "0.0036852378"
        ],
        [
         "Hnf4a",
         "0.00071614335",
         "0.00043664456",
         "0.000121588055",
         "0.0005215382",
         "0.00055718585",
         "0.00066788064",
         "0.0014633833",
         "0.0005677811",
         "0.0007493058",
         "0.0005787977",
         "0.001349238",
         "0.000574913",
         "0.0006136287",
         "0.0010069174",
         "0.00080769387",
         "0.002003041",
         "0.00051485025",
         "0.00067101704",
         "0.00029121916",
         "0.0003181264",
         "0.0012397757",
         "0.00042470216",
         "0.0004967775",
         "0.00038382242",
         "0.00037393003",
         "0.0005933599",
         "0.0004728781",
         "0.0011273168",
         "0.00089022785",
         "0.00055191177",
         "0.00035527692",
         "0.0017194819",
         "0.00094876403",
         "0.00046120028",
         "0.0005367575",
         "0.0015152966",
         "0.0005490965",
         "0.00078225415",
         "0.0002897494",
         "0.00025527854",
         "0.0002664317",
         "0.0005044253",
         "0.0004639679",
         "0.0006132942",
         "0.0012927388",
         "0.0008285183",
         "0.00065478927",
         "0.00011589517",
         "0.0008130232",
         "0.000997842",
         "0.00039003763",
         "0.0002764503",
         "0.2426677",
         "0.00069779146",
         "0.00027757877",
         "0.00050114316",
         "0.0010998839",
         "0.0010835927",
         "0.0011799445",
         "0.0007316074",
         "0.00050178735",
         "0.00032723116",
         "0.05970503",
         "0.09532701",
         "0.0843246",
         "0.0009007551",
         "0.00084920484",
         "0.0013423212",
         "0.0006148718",
         "0.0010177217",
         "0.00026663742",
         "0.0007189351",
         "0.0005473757",
         "0.0005127855",
         "0.0011966482",
         "0.0012534026",
         "0.0010108419",
         "0.0014926726",
         "0.0009620319",
         "0.0008511249",
         "0.0010813775",
         "0.00062979036",
         "0.0006876123",
         "0.0005814005",
         "0.0010300593",
         "0.0007163717",
         "0.00026053458",
         "0.0007353987",
         "0.0004782927",
         "0.000698869",
         "0.0014754039",
         "0.0010565567",
         "0.0005415739",
         "0.102761045",
         "0.0007623023",
         "0.0005490044",
         "0.00083910424",
         "0.00094916124",
         "0.0012253383",
         "0.0007411495",
         "0.0008303916",
         "0.040371597",
         "0.000516436",
         "0.00068679254",
         "0.00033553567",
         "0.00041562048",
         "0.001209832",
         "0.0010324703",
         "0.0007599712",
         "0.0007794467",
         "0.00076515385",
         "0.0015193968",
         "0.0010797832",
         "0.00033758525",
         "0.0008272428",
         "0.0010126694",
         "0.0010190526",
         "0.00060738437",
         "0.0006951229",
         "0.0009594955",
         "0.0013626826",
         "0.000591496",
         "0.0012687312",
         "0.00021941625",
         "0.0008420264",
         "0.00033625102",
         "0.00073117344",
         "0.0010694388",
         "0.0010386",
         "0.00062347576",
         "0.00053566066",
         "0.0005405445",
         "0.001472968",
         "0.0010314399",
         "0.00090230425",
         "0.00089422485",
         "0.00048774484",
         "0.00035337586",
         "0.00069657987",
         "0.0013093812",
         "0.000790369",
         "0.0005827957",
         "0.0008501878",
         "0.0016749196",
         "0.00041700006",
         "0.0011380145",
         "0.00081937545",
         "0.0005363147",
         "0.00046958876",
         "0.000717463",
         "0.00044129186",
         "0.000534539",
         "0.0006840989",
         "0.00023848673",
         "0.00088122126",
         "0.00084465847",
         "0.00035723325",
         "0.0007849337",
         "0.0014149403",
         "0.0005215266",
         "0.00075007486",
         "0.0010111392",
         "0.0007863964",
         "0.00091554417",
         "0.0011985331",
         "0.0006461421",
         "0.00046564874",
         "0.00041090103",
         "0.0009153713",
         "0.00044800318",
         "0.00067694526",
         "0.0011748124",
         "0.0013749709",
         "0.0013313461",
         "0.0011011489",
         "0.00071123784",
         "0.04622205",
         "0.0011610328",
         "0.0013679505",
         "0.0011974439",
         "0.0008613539",
         "0.000680928",
         "0.0005130091",
         "0.0007554392",
         "0.00040581558",
         "0.00064182305",
         "0.0008767356",
         "0.0003522043",
         "0.00043746718",
         "0.0007962244",
         "0.0008648319",
         "0.00084533816",
         "0.00072445016",
         "0.14792998",
         "0.00091614027",
         "0.00053142366",
         "0.0012910217",
         "0.0011129013",
         "0.0006862516",
         "0.0013576723",
         "0.0006512109",
         "0.0010573851",
         "0.0012584166",
         "0.0006681801",
         "0.001039184",
         "0.0009397874",
         "0.00066984247",
         "0.0010558276",
         "0.0005362097",
         "6.7567526e-05",
         "0.0005334933",
         "0.0006542909",
         "0.0008263325",
         "0.0014324763",
         "0.00064622256",
         "0.0005458239",
         "0.0010306981",
         "0.00052937",
         "0.0012224702",
         "0.0011648784",
         "0.0008707758",
         "0.00094138685",
         "0.0010469211",
         "0.00048727932",
         "0.0009330666",
         "0.00095076195",
         "0.0008186087",
         "0.00074365357",
         "0.0010507776",
         "0.00027568583",
         "0.00064442965",
         "0.0006753084",
         "0.0009332397",
         "0.00033066742",
         "0.0007584921",
         "0.00035241313",
         "0.00038659913",
         "0.0009338995",
         "0.00064561336",
         "0.0006657934",
         "0.0003024875",
         "0.001204825",
         "0.000571795",
         "0.00078607973",
         "0.0012664178",
         "0.0004635232"
        ],
        [
         "Hnf6",
         "0.0028765071",
         "0.0016834919",
         "0.001350501",
         "0.002000009",
         "0.00083229697",
         "0.001820754",
         "0.0054023704",
         "0.0019047803",
         "0.0027268264",
         "0.0010370344",
         "0.003848426",
         "0.002405447",
         "0.0021522536",
         "0.0022155575",
         "0.0046923496",
         "0.005633476",
         "0.002945359",
         "0.002078162",
         "0.0018704499",
         "0.0024274855",
         "0.0031922613",
         "0.0015625455",
         "0.0010755096",
         "0.0015865975",
         "0.0014916363",
         "0.0016304018",
         "0.002452023",
         "0.002561389",
         "0.0019444781",
         "0.0011611667",
         "0.0024815933",
         "0.0030620932",
         "0.00454895",
         "0.0024572297",
         "0.0035718435",
         "0.0050131087",
         "0.0025579047",
         "0.0021925871",
         "0.0016201491",
         "0.001185059",
         "0.0018159716",
         "0.0026079232",
         "0.0027244631",
         "0.0015678022",
         "0.003202945",
         "0.0024077904",
         "0.0006612302",
         "0.0013665028",
         "0.0035201404",
         "0.0021752897",
         "0.00095450063",
         "0.0017550039",
         "0.0014024813",
         "0.003007595",
         "0.0022874372",
         "0.002160809",
         "0.0023607635",
         "0.004312546",
         "0.002510518",
         "0.0029393258",
         "0.0026925497",
         "0.002953749",
         "0.0028777316",
         "0.00080456585",
         "0.002751434",
         "0.0020037172",
         "0.0017976053",
         "0.0034150544",
         "0.0024517113",
         "0.0033105933",
         "0.0020144281",
         "0.003437212",
         "0.0015782691",
         "0.002740041",
         "0.004736593",
         "0.0028542357",
         "0.0022011586",
         "0.0017572002",
         "0.00344103",
         "0.0033846323",
         "0.003338257",
         "0.0031473502",
         "0.0011181716",
         "0.0021610311",
         "0.003980859",
         "0.00127144",
         "0.0010591998",
         "0.0016108553",
         "0.0013925952",
         "0.0014425467",
         "0.0034290114",
         "0.0029746934",
         "0.00250238",
         "0.0033068375",
         "0.0028620574",
         "0.0035998735",
         "0.0016623655",
         "0.0030875767",
         "0.0032882432",
         "0.0027806147",
         "0.0017612202",
         "0.0037296452",
         "0.003004851",
         "0.0012407004",
         "0.001252314",
         "0.0022738425",
         "0.002578872",
         "0.0040998",
         "0.003606362",
         "0.003398783",
         "0.0021969962",
         "0.001824406",
         "0.0026305553",
         "0.0038361552",
         "0.0025132361",
         "0.0028671885",
         "0.0031325954",
         "0.0019655419",
         "0.0031837588",
         "0.0033608845",
         "0.0021861691",
         "0.0013703633",
         "0.0024484973",
         "0.0029425612",
         "0.001865249",
         "0.0023724365",
         "0.0016400494",
         "0.0014594459",
         "0.0026987346",
         "0.0024054563",
         "0.0019105887",
         "0.0037931057",
         "0.002297837",
         "0.0017032193",
         "0.0029117472",
         "0.0018039418",
         "0.00091704004",
         "0.0026058801",
         "0.0007962784",
         "0.0025712491",
         "0.003068838",
         "0.0020057934",
         "0.002014821",
         "0.0031423434",
         "0.0024445197",
         "0.0038409503",
         "0.0030326096",
         "0.0022573813",
         "0.0007350998",
         "0.0021503444",
         "0.0021104012",
         "0.0021880842",
         "0.0033783917",
         "0.00061646034",
         "0.002841861",
         "0.0010569365",
         "0.001889836",
         "0.0033827827",
         "0.0043947357",
         "0.0016751573",
         "0.0018316262",
         "0.0028097667",
         "0.00223462",
         "0.0032713793",
         "0.0038072744",
         "0.0012692716",
         "0.0043001943",
         "0.00077292544",
         "0.0011067071",
         "0.0013280641",
         "0.0023820782",
         "0.0038052397",
         "0.0034799115",
         "0.0013288764",
         "0.002327901",
         "0.0013702544",
         "0.0045852303",
         "0.004345853",
         "0.0018642641",
         "0.004772089",
         "0.0045701796",
         "0.0020404763",
         "0.001674583",
         "0.0026992967",
         "0.0013743791",
         "0.0023984746",
         "0.0017241382",
         "0.0021672046",
         "0.002077279",
         "0.0039110305",
         "0.0021063802",
         "0.0014186525",
         "0.0016500344",
         "0.0011750642",
         "0.0030693028",
         "0.0013883337",
         "0.003872125",
         "0.0019223603",
         "0.0030873881",
         "0.005435472",
         "0.0031680719",
         "0.002069014",
         "0.0039094",
         "0.0031816503",
         "0.0031816764",
         "0.0017303535",
         "0.0011278242",
         "0.0038854582",
         "0.0028455446",
         "0.001902716",
         "0.0011780877",
         "0.0022875327",
         "0.0047668633",
         "0.00255551",
         "0.0032719013",
         "0.0016232604",
         "0.0030645179",
         "0.0028906553",
         "0.002078785",
         "0.0026124294",
         "0.00501631",
         "0.0040411623",
         "0.0025962486",
         "0.0015555636",
         "0.0038843916",
         "0.0027260578",
         "0.0051571564",
         "0.0035908474",
         "0.0027222093",
         "0.0026005765",
         "0.0014161718",
         "0.0016945372",
         "0.0035550888",
         "0.0011450166",
         "0.0029736857",
         "0.0036081022",
         "0.0008329474",
         "0.0018454652",
         "0.0013502674",
         "0.0043177702",
         "0.0013337393",
         "0.003690159",
         "0.0015190048",
         "0.0031820459",
         "0.002604647",
         "0.0034492526"
        ]
       ],
       "shape": {
        "columns": 246,
        "rows": 5
       }
      },
      "text/html": [
       "<div>\n",
       "<style scoped>\n",
       "    .dataframe tbody tr th:only-of-type {\n",
       "        vertical-align: middle;\n",
       "    }\n",
       "\n",
       "    .dataframe tbody tr th {\n",
       "        vertical-align: top;\n",
       "    }\n",
       "\n",
       "    .dataframe thead th {\n",
       "        text-align: right;\n",
       "    }\n",
       "</style>\n",
       "<table border=\"1\" class=\"dataframe\">\n",
       "  <thead>\n",
       "    <tr style=\"text-align: right;\">\n",
       "      <th></th>\n",
       "      <th>1110059e24rik</th>\n",
       "      <th>1700028p14rik</th>\n",
       "      <th>1700054a03rik</th>\n",
       "      <th>4430402i18rik</th>\n",
       "      <th>4930414n06rik</th>\n",
       "      <th>4930481a15rik</th>\n",
       "      <th>4930505n22rik</th>\n",
       "      <th>A1cf</th>\n",
       "      <th>A330040f15rik</th>\n",
       "      <th>A930007i19rik</th>\n",
       "      <th>...</th>\n",
       "      <th>Trpt1</th>\n",
       "      <th>Tsga10ip</th>\n",
       "      <th>Unc93b1</th>\n",
       "      <th>Vldlr</th>\n",
       "      <th>Vps13a</th>\n",
       "      <th>Vti1a</th>\n",
       "      <th>Vwa2</th>\n",
       "      <th>Wnt8b</th>\n",
       "      <th>Yif1a</th>\n",
       "      <th>Zfand5</th>\n",
       "    </tr>\n",
       "  </thead>\n",
       "  <tbody>\n",
       "    <tr>\n",
       "      <th>Amyb</th>\n",
       "      <td>0.003226</td>\n",
       "      <td>0.001461</td>\n",
       "      <td>0.000959</td>\n",
       "      <td>0.001882</td>\n",
       "      <td>0.001350</td>\n",
       "      <td>0.001891</td>\n",
       "      <td>0.003782</td>\n",
       "      <td>0.002698</td>\n",
       "      <td>0.001352</td>\n",
       "      <td>0.002706</td>\n",
       "      <td>...</td>\n",
       "      <td>0.002073</td>\n",
       "      <td>0.001486</td>\n",
       "      <td>0.001049</td>\n",
       "      <td>0.002824</td>\n",
       "      <td>0.001456</td>\n",
       "      <td>0.002358</td>\n",
       "      <td>0.001064</td>\n",
       "      <td>0.002434</td>\n",
       "      <td>0.002479</td>\n",
       "      <td>0.001562</td>\n",
       "    </tr>\n",
       "    <tr>\n",
       "      <th>Ap-1</th>\n",
       "      <td>0.002404</td>\n",
       "      <td>0.001274</td>\n",
       "      <td>0.000866</td>\n",
       "      <td>0.001571</td>\n",
       "      <td>0.000962</td>\n",
       "      <td>0.002013</td>\n",
       "      <td>0.004165</td>\n",
       "      <td>0.002701</td>\n",
       "      <td>0.001321</td>\n",
       "      <td>0.001609</td>\n",
       "      <td>...</td>\n",
       "      <td>0.001974</td>\n",
       "      <td>0.001660</td>\n",
       "      <td>0.001676</td>\n",
       "      <td>0.003604</td>\n",
       "      <td>0.001144</td>\n",
       "      <td>0.002757</td>\n",
       "      <td>0.000689</td>\n",
       "      <td>0.002350</td>\n",
       "      <td>0.002047</td>\n",
       "      <td>0.002187</td>\n",
       "    </tr>\n",
       "    <tr>\n",
       "      <th>Atoh1</th>\n",
       "      <td>0.002387</td>\n",
       "      <td>0.002679</td>\n",
       "      <td>0.001652</td>\n",
       "      <td>0.002026</td>\n",
       "      <td>0.001205</td>\n",
       "      <td>0.002540</td>\n",
       "      <td>0.004685</td>\n",
       "      <td>0.002055</td>\n",
       "      <td>0.002184</td>\n",
       "      <td>0.001709</td>\n",
       "      <td>...</td>\n",
       "      <td>0.001736</td>\n",
       "      <td>0.002859</td>\n",
       "      <td>0.001249</td>\n",
       "      <td>0.002320</td>\n",
       "      <td>0.001855</td>\n",
       "      <td>0.004071</td>\n",
       "      <td>0.000805</td>\n",
       "      <td>0.002184</td>\n",
       "      <td>0.003234</td>\n",
       "      <td>0.003685</td>\n",
       "    </tr>\n",
       "    <tr>\n",
       "      <th>Hnf4a</th>\n",
       "      <td>0.000716</td>\n",
       "      <td>0.000437</td>\n",
       "      <td>0.000122</td>\n",
       "      <td>0.000522</td>\n",
       "      <td>0.000557</td>\n",
       "      <td>0.000668</td>\n",
       "      <td>0.001463</td>\n",
       "      <td>0.000568</td>\n",
       "      <td>0.000749</td>\n",
       "      <td>0.000579</td>\n",
       "      <td>...</td>\n",
       "      <td>0.000387</td>\n",
       "      <td>0.000934</td>\n",
       "      <td>0.000646</td>\n",
       "      <td>0.000666</td>\n",
       "      <td>0.000302</td>\n",
       "      <td>0.001205</td>\n",
       "      <td>0.000572</td>\n",
       "      <td>0.000786</td>\n",
       "      <td>0.001266</td>\n",
       "      <td>0.000464</td>\n",
       "    </tr>\n",
       "    <tr>\n",
       "      <th>Hnf6</th>\n",
       "      <td>0.002877</td>\n",
       "      <td>0.001683</td>\n",
       "      <td>0.001351</td>\n",
       "      <td>0.002000</td>\n",
       "      <td>0.000832</td>\n",
       "      <td>0.001821</td>\n",
       "      <td>0.005402</td>\n",
       "      <td>0.001905</td>\n",
       "      <td>0.002727</td>\n",
       "      <td>0.001037</td>\n",
       "      <td>...</td>\n",
       "      <td>0.000833</td>\n",
       "      <td>0.001845</td>\n",
       "      <td>0.001350</td>\n",
       "      <td>0.004318</td>\n",
       "      <td>0.001334</td>\n",
       "      <td>0.003690</td>\n",
       "      <td>0.001519</td>\n",
       "      <td>0.003182</td>\n",
       "      <td>0.002605</td>\n",
       "      <td>0.003449</td>\n",
       "    </tr>\n",
       "  </tbody>\n",
       "</table>\n",
       "<p>5 rows × 246 columns</p>\n",
       "</div>"
      ],
      "text/plain": [
       "       1110059e24rik  1700028p14rik  1700054a03rik  4430402i18rik  \\\n",
       "Amyb        0.003226       0.001461       0.000959       0.001882   \n",
       "Ap-1        0.002404       0.001274       0.000866       0.001571   \n",
       "Atoh1       0.002387       0.002679       0.001652       0.002026   \n",
       "Hnf4a       0.000716       0.000437       0.000122       0.000522   \n",
       "Hnf6        0.002877       0.001683       0.001351       0.002000   \n",
       "\n",
       "       4930414n06rik  4930481a15rik  4930505n22rik      A1cf  A330040f15rik  \\\n",
       "Amyb        0.001350       0.001891       0.003782  0.002698       0.001352   \n",
       "Ap-1        0.000962       0.002013       0.004165  0.002701       0.001321   \n",
       "Atoh1       0.001205       0.002540       0.004685  0.002055       0.002184   \n",
       "Hnf4a       0.000557       0.000668       0.001463  0.000568       0.000749   \n",
       "Hnf6        0.000832       0.001821       0.005402  0.001905       0.002727   \n",
       "\n",
       "       A930007i19rik  ...     Trpt1  Tsga10ip   Unc93b1     Vldlr    Vps13a  \\\n",
       "Amyb        0.002706  ...  0.002073  0.001486  0.001049  0.002824  0.001456   \n",
       "Ap-1        0.001609  ...  0.001974  0.001660  0.001676  0.003604  0.001144   \n",
       "Atoh1       0.001709  ...  0.001736  0.002859  0.001249  0.002320  0.001855   \n",
       "Hnf4a       0.000579  ...  0.000387  0.000934  0.000646  0.000666  0.000302   \n",
       "Hnf6        0.001037  ...  0.000833  0.001845  0.001350  0.004318  0.001334   \n",
       "\n",
       "          Vti1a      Vwa2     Wnt8b     Yif1a    Zfand5  \n",
       "Amyb   0.002358  0.001064  0.002434  0.002479  0.001562  \n",
       "Ap-1   0.002757  0.000689  0.002350  0.002047  0.002187  \n",
       "Atoh1  0.004071  0.000805  0.002184  0.003234  0.003685  \n",
       "Hnf4a  0.001205  0.000572  0.000786  0.001266  0.000464  \n",
       "Hnf6   0.003690  0.001519  0.003182  0.002605  0.003449  \n",
       "\n",
       "[5 rows x 246 columns]"
      ]
     },
     "execution_count": 48,
     "metadata": {},
     "output_type": "execute_result"
    }
   ],
   "source": [
    "tf_importance_df.head()"
   ]
  },
  {
   "cell_type": "code",
   "execution_count": 17,
   "id": "99df08c9",
   "metadata": {},
   "outputs": [
    {
     "ename": "NameError",
     "evalue": "name 'tf_importance_df' is not defined",
     "output_type": "error",
     "traceback": [
      "\u001b[0;31m---------------------------------------------------------------------------\u001b[0m",
      "\u001b[0;31mNameError\u001b[0m                                 Traceback (most recent call last)",
      "Cell \u001b[0;32mIn[17], line 51\u001b[0m\n\u001b[1;32m     47\u001b[0m             results[\u001b[38;5;124mf\u001b[39m\u001b[38;5;124m\"\u001b[39m\u001b[38;5;124mPrecision@\u001b[39m\u001b[38;5;132;01m{\u001b[39;00mk\u001b[38;5;132;01m}\u001b[39;00m\u001b[38;5;124m\"\u001b[39m] \u001b[38;5;241m=\u001b[39m \u001b[38;5;28mfloat\u001b[39m(prec_k)\n\u001b[1;32m     49\u001b[0m     \u001b[38;5;28;01mreturn\u001b[39;00m results, df_scored\n\u001b[0;32m---> 51\u001b[0m results, df_scored \u001b[38;5;241m=\u001b[39m evaluate_chip_aucs(\u001b[43mtf_importance_df\u001b[49m, beeline_ground_truth, k_list\u001b[38;5;241m=\u001b[39m(\u001b[38;5;241m100\u001b[39m, \u001b[38;5;241m500\u001b[39m, \u001b[38;5;241m1000\u001b[39m, \u001b[38;5;241m5000\u001b[39m))\n\u001b[1;32m     53\u001b[0m \u001b[38;5;28mprint\u001b[39m(\u001b[38;5;124mf\u001b[39m\u001b[38;5;124m\"\u001b[39m\u001b[38;5;124mAUROC = \u001b[39m\u001b[38;5;132;01m{\u001b[39;00mresults[\u001b[38;5;124m'\u001b[39m\u001b[38;5;124mAUROC\u001b[39m\u001b[38;5;124m'\u001b[39m]\u001b[38;5;132;01m:\u001b[39;00m\u001b[38;5;124m.4f\u001b[39m\u001b[38;5;132;01m}\u001b[39;00m\u001b[38;5;124m  |  PR-AUC = \u001b[39m\u001b[38;5;132;01m{\u001b[39;00mresults[\u001b[38;5;124m'\u001b[39m\u001b[38;5;124mPR-AUC\u001b[39m\u001b[38;5;124m'\u001b[39m]\u001b[38;5;132;01m:\u001b[39;00m\u001b[38;5;124m.4f\u001b[39m\u001b[38;5;132;01m}\u001b[39;00m\u001b[38;5;124m  \u001b[39m\u001b[38;5;124m\"\u001b[39m\n\u001b[1;32m     54\u001b[0m         \u001b[38;5;124mf\u001b[39m\u001b[38;5;124m\"\u001b[39m\u001b[38;5;124m| positives=\u001b[39m\u001b[38;5;132;01m{\u001b[39;00mresults[\u001b[38;5;124m'\u001b[39m\u001b[38;5;124mpositives\u001b[39m\u001b[38;5;124m'\u001b[39m]\u001b[38;5;132;01m}\u001b[39;00m\u001b[38;5;124m / \u001b[39m\u001b[38;5;132;01m{\u001b[39;00mresults[\u001b[38;5;124m'\u001b[39m\u001b[38;5;124medges\u001b[39m\u001b[38;5;124m'\u001b[39m]\u001b[38;5;132;01m}\u001b[39;00m\u001b[38;5;124m edges\u001b[39m\u001b[38;5;124m\"\u001b[39m)\n\u001b[1;32m     55\u001b[0m \u001b[38;5;28;01mfor\u001b[39;00m k \u001b[38;5;129;01min\u001b[39;00m (\u001b[38;5;241m100\u001b[39m, \u001b[38;5;241m500\u001b[39m, \u001b[38;5;241m1000\u001b[39m, \u001b[38;5;241m5000\u001b[39m):\n",
      "\u001b[0;31mNameError\u001b[0m: name 'tf_importance_df' is not defined"
     ]
    }
   ],
   "source": [
    "def evaluate_chip_aucs(tf_importance_df, chip_df, k_list=(100, 500, 1000, 5000)):\n",
    "    \"\"\"\n",
    "    Evaluate AUROC / PR-AUC / Precision K against CHIP edges.\n",
    "    We uppercase both the CHIP and the DF indexing to align.\n",
    "    \"\"\"\n",
    "    chip_edges = {(t.upper(), g.upper()) for t, g in zip(chip_df[\"TF\"], chip_df[\"TG\"])}\n",
    "\n",
    "    # Uppercase DF indexing for matching\n",
    "    tf_imp = tf_importance_df.copy()\n",
    "    tf_imp.index   = [x.upper() for x in tf_imp.index]\n",
    "    tf_imp.columns = [x.upper() for x in tf_imp.columns]\n",
    "\n",
    "    rn111_tfs = {t for t, _ in chip_edges}\n",
    "    rn111_tgs = {g for _, g in chip_edges}\n",
    "\n",
    "    tf_imp = tf_imp.loc[tf_imp.index.intersection(rn111_tfs),\n",
    "                        tf_imp.columns.intersection(rn111_tgs)]\n",
    "    if tf_imp.empty:\n",
    "        raise ValueError(\"No overlap between TF/TG names and CHIP set.\")\n",
    "\n",
    "    scores, labels, edges = [], [], []\n",
    "    # Flatten\n",
    "    for tg in tf_imp.columns:\n",
    "        col = tf_imp[tg]\n",
    "        for tf, score in col.items():\n",
    "            scores.append(float(score))\n",
    "            labels.append(1 if (tf, tg) in chip_edges else 0)\n",
    "            edges.append((tf, tg))\n",
    "\n",
    "    if len(set(labels)) < 2:\n",
    "        raise ValueError(\"Only one class present after overlap; AUROC/PR-AUC undefined.\")\n",
    "\n",
    "    auroc = roc_auc_score(labels, scores)\n",
    "    auprc = average_precision_score(labels, scores)\n",
    "\n",
    "    # Precision K\n",
    "    df_scored = pd.DataFrame(edges, columns=[\"tf\", \"tg\"])\n",
    "    df_scored[\"score\"] = scores\n",
    "    df_scored[\"label\"] = labels\n",
    "    df_scored = df_scored.sort_values(\"score\", ascending=False).reset_index(drop=True)\n",
    "\n",
    "    results = {\"AUROC\": auroc, \"PR-AUC\": auprc, \"positives\": int(sum(labels)), \"edges\": int(len(labels))}\n",
    "    for k in k_list:\n",
    "        k = int(k)\n",
    "        if k <= len(df_scored):\n",
    "            prec_k = df_scored.head(k)[\"label\"].mean()\n",
    "            results[f\"Precision@{k}\"] = float(prec_k)\n",
    "\n",
    "    return results, df_scored\n",
    "\n",
    "results, df_scored = evaluate_chip_aucs(tf_importance_df, beeline_ground_truth, k_list=(100, 500, 1000, 5000))\n",
    "\n",
    "print(f\"AUROC = {results['AUROC']:.4f}  |  PR-AUC = {results['PR-AUC']:.4f}  \"\n",
    "        f\"| positives={results['positives']} / {results['edges']} edges\")\n",
    "for k in (100, 500, 1000, 5000):\n",
    "    key = f\"AUROC@{k}\"\n",
    "    if key in results:\n",
    "        print(f\"{key}: {results[key]:.3f}\")\n"
   ]
  },
  {
   "cell_type": "code",
   "execution_count": 16,
   "id": "c03f1c5e",
   "metadata": {},
   "outputs": [
    {
     "ename": "FileNotFoundError",
     "evalue": "[Errno 2] No such file or directory: '/gpfs/Labs/Uzun/SCRIPTS/PROJECTS/2024.SINGLE_CELL_GRN_INFERENCE.MOELLER/experiments/mESC/chr19/model_training_014/tf_gradient_attributions/scored_edges.tsv'",
     "output_type": "error",
     "traceback": [
      "\u001b[0;31m---------------------------------------------------------------------------\u001b[0m",
      "\u001b[0;31mFileNotFoundError\u001b[0m                         Traceback (most recent call last)",
      "Cell \u001b[0;32mIn[16], line 1\u001b[0m\n\u001b[0;32m----> 1\u001b[0m tf_tg_pred \u001b[38;5;241m=\u001b[39m \u001b[43mpd\u001b[49m\u001b[38;5;241;43m.\u001b[39;49m\u001b[43mread_csv\u001b[49m\u001b[43m(\u001b[49m\u001b[43mos\u001b[49m\u001b[38;5;241;43m.\u001b[39;49m\u001b[43mpath\u001b[49m\u001b[38;5;241;43m.\u001b[39;49m\u001b[43mjoin\u001b[49m\u001b[43m(\u001b[49m\u001b[43mSELECTED_EXPERIMENT_DIR\u001b[49m\u001b[43m,\u001b[49m\u001b[43m \u001b[49m\u001b[38;5;124;43m\"\u001b[39;49m\u001b[38;5;124;43mtf_gradient_attributions/scored_edges.tsv\u001b[39;49m\u001b[38;5;124;43m\"\u001b[39;49m\u001b[43m)\u001b[49m\u001b[43m,\u001b[49m\u001b[43m \u001b[49m\u001b[43msep\u001b[49m\u001b[38;5;241;43m=\u001b[39;49m\u001b[38;5;124;43m\"\u001b[39;49m\u001b[38;5;130;43;01m\\t\u001b[39;49;00m\u001b[38;5;124;43m\"\u001b[39;49m\u001b[43m,\u001b[49m\u001b[43m \u001b[49m\u001b[43mheader\u001b[49m\u001b[38;5;241;43m=\u001b[39;49m\u001b[38;5;241;43m0\u001b[39;49m\u001b[43m,\u001b[49m\u001b[43m \u001b[49m\u001b[43mindex_col\u001b[49m\u001b[38;5;241;43m=\u001b[39;49m\u001b[38;5;28;43;01mNone\u001b[39;49;00m\u001b[43m)\u001b[49m\n\u001b[1;32m      2\u001b[0m tf_tg_pred\u001b[38;5;241m.\u001b[39mhead()\n",
      "File \u001b[0;32m~/.conda/envs/my_env/lib/python3.9/site-packages/pandas/io/parsers/readers.py:1026\u001b[0m, in \u001b[0;36mread_csv\u001b[0;34m(filepath_or_buffer, sep, delimiter, header, names, index_col, usecols, dtype, engine, converters, true_values, false_values, skipinitialspace, skiprows, skipfooter, nrows, na_values, keep_default_na, na_filter, verbose, skip_blank_lines, parse_dates, infer_datetime_format, keep_date_col, date_parser, date_format, dayfirst, cache_dates, iterator, chunksize, compression, thousands, decimal, lineterminator, quotechar, quoting, doublequote, escapechar, comment, encoding, encoding_errors, dialect, on_bad_lines, delim_whitespace, low_memory, memory_map, float_precision, storage_options, dtype_backend)\u001b[0m\n\u001b[1;32m   1013\u001b[0m kwds_defaults \u001b[38;5;241m=\u001b[39m _refine_defaults_read(\n\u001b[1;32m   1014\u001b[0m     dialect,\n\u001b[1;32m   1015\u001b[0m     delimiter,\n\u001b[0;32m   (...)\u001b[0m\n\u001b[1;32m   1022\u001b[0m     dtype_backend\u001b[38;5;241m=\u001b[39mdtype_backend,\n\u001b[1;32m   1023\u001b[0m )\n\u001b[1;32m   1024\u001b[0m kwds\u001b[38;5;241m.\u001b[39mupdate(kwds_defaults)\n\u001b[0;32m-> 1026\u001b[0m \u001b[38;5;28;01mreturn\u001b[39;00m \u001b[43m_read\u001b[49m\u001b[43m(\u001b[49m\u001b[43mfilepath_or_buffer\u001b[49m\u001b[43m,\u001b[49m\u001b[43m \u001b[49m\u001b[43mkwds\u001b[49m\u001b[43m)\u001b[49m\n",
      "File \u001b[0;32m~/.conda/envs/my_env/lib/python3.9/site-packages/pandas/io/parsers/readers.py:620\u001b[0m, in \u001b[0;36m_read\u001b[0;34m(filepath_or_buffer, kwds)\u001b[0m\n\u001b[1;32m    617\u001b[0m _validate_names(kwds\u001b[38;5;241m.\u001b[39mget(\u001b[38;5;124m\"\u001b[39m\u001b[38;5;124mnames\u001b[39m\u001b[38;5;124m\"\u001b[39m, \u001b[38;5;28;01mNone\u001b[39;00m))\n\u001b[1;32m    619\u001b[0m \u001b[38;5;66;03m# Create the parser.\u001b[39;00m\n\u001b[0;32m--> 620\u001b[0m parser \u001b[38;5;241m=\u001b[39m \u001b[43mTextFileReader\u001b[49m\u001b[43m(\u001b[49m\u001b[43mfilepath_or_buffer\u001b[49m\u001b[43m,\u001b[49m\u001b[43m \u001b[49m\u001b[38;5;241;43m*\u001b[39;49m\u001b[38;5;241;43m*\u001b[39;49m\u001b[43mkwds\u001b[49m\u001b[43m)\u001b[49m\n\u001b[1;32m    622\u001b[0m \u001b[38;5;28;01mif\u001b[39;00m chunksize \u001b[38;5;129;01mor\u001b[39;00m iterator:\n\u001b[1;32m    623\u001b[0m     \u001b[38;5;28;01mreturn\u001b[39;00m parser\n",
      "File \u001b[0;32m~/.conda/envs/my_env/lib/python3.9/site-packages/pandas/io/parsers/readers.py:1620\u001b[0m, in \u001b[0;36mTextFileReader.__init__\u001b[0;34m(self, f, engine, **kwds)\u001b[0m\n\u001b[1;32m   1617\u001b[0m     \u001b[38;5;28mself\u001b[39m\u001b[38;5;241m.\u001b[39moptions[\u001b[38;5;124m\"\u001b[39m\u001b[38;5;124mhas_index_names\u001b[39m\u001b[38;5;124m\"\u001b[39m] \u001b[38;5;241m=\u001b[39m kwds[\u001b[38;5;124m\"\u001b[39m\u001b[38;5;124mhas_index_names\u001b[39m\u001b[38;5;124m\"\u001b[39m]\n\u001b[1;32m   1619\u001b[0m \u001b[38;5;28mself\u001b[39m\u001b[38;5;241m.\u001b[39mhandles: IOHandles \u001b[38;5;241m|\u001b[39m \u001b[38;5;28;01mNone\u001b[39;00m \u001b[38;5;241m=\u001b[39m \u001b[38;5;28;01mNone\u001b[39;00m\n\u001b[0;32m-> 1620\u001b[0m \u001b[38;5;28mself\u001b[39m\u001b[38;5;241m.\u001b[39m_engine \u001b[38;5;241m=\u001b[39m \u001b[38;5;28;43mself\u001b[39;49m\u001b[38;5;241;43m.\u001b[39;49m\u001b[43m_make_engine\u001b[49m\u001b[43m(\u001b[49m\u001b[43mf\u001b[49m\u001b[43m,\u001b[49m\u001b[43m \u001b[49m\u001b[38;5;28;43mself\u001b[39;49m\u001b[38;5;241;43m.\u001b[39;49m\u001b[43mengine\u001b[49m\u001b[43m)\u001b[49m\n",
      "File \u001b[0;32m~/.conda/envs/my_env/lib/python3.9/site-packages/pandas/io/parsers/readers.py:1880\u001b[0m, in \u001b[0;36mTextFileReader._make_engine\u001b[0;34m(self, f, engine)\u001b[0m\n\u001b[1;32m   1878\u001b[0m     \u001b[38;5;28;01mif\u001b[39;00m \u001b[38;5;124m\"\u001b[39m\u001b[38;5;124mb\u001b[39m\u001b[38;5;124m\"\u001b[39m \u001b[38;5;129;01mnot\u001b[39;00m \u001b[38;5;129;01min\u001b[39;00m mode:\n\u001b[1;32m   1879\u001b[0m         mode \u001b[38;5;241m+\u001b[39m\u001b[38;5;241m=\u001b[39m \u001b[38;5;124m\"\u001b[39m\u001b[38;5;124mb\u001b[39m\u001b[38;5;124m\"\u001b[39m\n\u001b[0;32m-> 1880\u001b[0m \u001b[38;5;28mself\u001b[39m\u001b[38;5;241m.\u001b[39mhandles \u001b[38;5;241m=\u001b[39m \u001b[43mget_handle\u001b[49m\u001b[43m(\u001b[49m\n\u001b[1;32m   1881\u001b[0m \u001b[43m    \u001b[49m\u001b[43mf\u001b[49m\u001b[43m,\u001b[49m\n\u001b[1;32m   1882\u001b[0m \u001b[43m    \u001b[49m\u001b[43mmode\u001b[49m\u001b[43m,\u001b[49m\n\u001b[1;32m   1883\u001b[0m \u001b[43m    \u001b[49m\u001b[43mencoding\u001b[49m\u001b[38;5;241;43m=\u001b[39;49m\u001b[38;5;28;43mself\u001b[39;49m\u001b[38;5;241;43m.\u001b[39;49m\u001b[43moptions\u001b[49m\u001b[38;5;241;43m.\u001b[39;49m\u001b[43mget\u001b[49m\u001b[43m(\u001b[49m\u001b[38;5;124;43m\"\u001b[39;49m\u001b[38;5;124;43mencoding\u001b[39;49m\u001b[38;5;124;43m\"\u001b[39;49m\u001b[43m,\u001b[49m\u001b[43m \u001b[49m\u001b[38;5;28;43;01mNone\u001b[39;49;00m\u001b[43m)\u001b[49m\u001b[43m,\u001b[49m\n\u001b[1;32m   1884\u001b[0m \u001b[43m    \u001b[49m\u001b[43mcompression\u001b[49m\u001b[38;5;241;43m=\u001b[39;49m\u001b[38;5;28;43mself\u001b[39;49m\u001b[38;5;241;43m.\u001b[39;49m\u001b[43moptions\u001b[49m\u001b[38;5;241;43m.\u001b[39;49m\u001b[43mget\u001b[49m\u001b[43m(\u001b[49m\u001b[38;5;124;43m\"\u001b[39;49m\u001b[38;5;124;43mcompression\u001b[39;49m\u001b[38;5;124;43m\"\u001b[39;49m\u001b[43m,\u001b[49m\u001b[43m \u001b[49m\u001b[38;5;28;43;01mNone\u001b[39;49;00m\u001b[43m)\u001b[49m\u001b[43m,\u001b[49m\n\u001b[1;32m   1885\u001b[0m \u001b[43m    \u001b[49m\u001b[43mmemory_map\u001b[49m\u001b[38;5;241;43m=\u001b[39;49m\u001b[38;5;28;43mself\u001b[39;49m\u001b[38;5;241;43m.\u001b[39;49m\u001b[43moptions\u001b[49m\u001b[38;5;241;43m.\u001b[39;49m\u001b[43mget\u001b[49m\u001b[43m(\u001b[49m\u001b[38;5;124;43m\"\u001b[39;49m\u001b[38;5;124;43mmemory_map\u001b[39;49m\u001b[38;5;124;43m\"\u001b[39;49m\u001b[43m,\u001b[49m\u001b[43m \u001b[49m\u001b[38;5;28;43;01mFalse\u001b[39;49;00m\u001b[43m)\u001b[49m\u001b[43m,\u001b[49m\n\u001b[1;32m   1886\u001b[0m \u001b[43m    \u001b[49m\u001b[43mis_text\u001b[49m\u001b[38;5;241;43m=\u001b[39;49m\u001b[43mis_text\u001b[49m\u001b[43m,\u001b[49m\n\u001b[1;32m   1887\u001b[0m \u001b[43m    \u001b[49m\u001b[43merrors\u001b[49m\u001b[38;5;241;43m=\u001b[39;49m\u001b[38;5;28;43mself\u001b[39;49m\u001b[38;5;241;43m.\u001b[39;49m\u001b[43moptions\u001b[49m\u001b[38;5;241;43m.\u001b[39;49m\u001b[43mget\u001b[49m\u001b[43m(\u001b[49m\u001b[38;5;124;43m\"\u001b[39;49m\u001b[38;5;124;43mencoding_errors\u001b[39;49m\u001b[38;5;124;43m\"\u001b[39;49m\u001b[43m,\u001b[49m\u001b[43m \u001b[49m\u001b[38;5;124;43m\"\u001b[39;49m\u001b[38;5;124;43mstrict\u001b[39;49m\u001b[38;5;124;43m\"\u001b[39;49m\u001b[43m)\u001b[49m\u001b[43m,\u001b[49m\n\u001b[1;32m   1888\u001b[0m \u001b[43m    \u001b[49m\u001b[43mstorage_options\u001b[49m\u001b[38;5;241;43m=\u001b[39;49m\u001b[38;5;28;43mself\u001b[39;49m\u001b[38;5;241;43m.\u001b[39;49m\u001b[43moptions\u001b[49m\u001b[38;5;241;43m.\u001b[39;49m\u001b[43mget\u001b[49m\u001b[43m(\u001b[49m\u001b[38;5;124;43m\"\u001b[39;49m\u001b[38;5;124;43mstorage_options\u001b[39;49m\u001b[38;5;124;43m\"\u001b[39;49m\u001b[43m,\u001b[49m\u001b[43m \u001b[49m\u001b[38;5;28;43;01mNone\u001b[39;49;00m\u001b[43m)\u001b[49m\u001b[43m,\u001b[49m\n\u001b[1;32m   1889\u001b[0m \u001b[43m\u001b[49m\u001b[43m)\u001b[49m\n\u001b[1;32m   1890\u001b[0m \u001b[38;5;28;01massert\u001b[39;00m \u001b[38;5;28mself\u001b[39m\u001b[38;5;241m.\u001b[39mhandles \u001b[38;5;129;01mis\u001b[39;00m \u001b[38;5;129;01mnot\u001b[39;00m \u001b[38;5;28;01mNone\u001b[39;00m\n\u001b[1;32m   1891\u001b[0m f \u001b[38;5;241m=\u001b[39m \u001b[38;5;28mself\u001b[39m\u001b[38;5;241m.\u001b[39mhandles\u001b[38;5;241m.\u001b[39mhandle\n",
      "File \u001b[0;32m~/.conda/envs/my_env/lib/python3.9/site-packages/pandas/io/common.py:873\u001b[0m, in \u001b[0;36mget_handle\u001b[0;34m(path_or_buf, mode, encoding, compression, memory_map, is_text, errors, storage_options)\u001b[0m\n\u001b[1;32m    868\u001b[0m \u001b[38;5;28;01melif\u001b[39;00m \u001b[38;5;28misinstance\u001b[39m(handle, \u001b[38;5;28mstr\u001b[39m):\n\u001b[1;32m    869\u001b[0m     \u001b[38;5;66;03m# Check whether the filename is to be opened in binary mode.\u001b[39;00m\n\u001b[1;32m    870\u001b[0m     \u001b[38;5;66;03m# Binary mode does not support 'encoding' and 'newline'.\u001b[39;00m\n\u001b[1;32m    871\u001b[0m     \u001b[38;5;28;01mif\u001b[39;00m ioargs\u001b[38;5;241m.\u001b[39mencoding \u001b[38;5;129;01mand\u001b[39;00m \u001b[38;5;124m\"\u001b[39m\u001b[38;5;124mb\u001b[39m\u001b[38;5;124m\"\u001b[39m \u001b[38;5;129;01mnot\u001b[39;00m \u001b[38;5;129;01min\u001b[39;00m ioargs\u001b[38;5;241m.\u001b[39mmode:\n\u001b[1;32m    872\u001b[0m         \u001b[38;5;66;03m# Encoding\u001b[39;00m\n\u001b[0;32m--> 873\u001b[0m         handle \u001b[38;5;241m=\u001b[39m \u001b[38;5;28;43mopen\u001b[39;49m\u001b[43m(\u001b[49m\n\u001b[1;32m    874\u001b[0m \u001b[43m            \u001b[49m\u001b[43mhandle\u001b[49m\u001b[43m,\u001b[49m\n\u001b[1;32m    875\u001b[0m \u001b[43m            \u001b[49m\u001b[43mioargs\u001b[49m\u001b[38;5;241;43m.\u001b[39;49m\u001b[43mmode\u001b[49m\u001b[43m,\u001b[49m\n\u001b[1;32m    876\u001b[0m \u001b[43m            \u001b[49m\u001b[43mencoding\u001b[49m\u001b[38;5;241;43m=\u001b[39;49m\u001b[43mioargs\u001b[49m\u001b[38;5;241;43m.\u001b[39;49m\u001b[43mencoding\u001b[49m\u001b[43m,\u001b[49m\n\u001b[1;32m    877\u001b[0m \u001b[43m            \u001b[49m\u001b[43merrors\u001b[49m\u001b[38;5;241;43m=\u001b[39;49m\u001b[43merrors\u001b[49m\u001b[43m,\u001b[49m\n\u001b[1;32m    878\u001b[0m \u001b[43m            \u001b[49m\u001b[43mnewline\u001b[49m\u001b[38;5;241;43m=\u001b[39;49m\u001b[38;5;124;43m\"\u001b[39;49m\u001b[38;5;124;43m\"\u001b[39;49m\u001b[43m,\u001b[49m\n\u001b[1;32m    879\u001b[0m \u001b[43m        \u001b[49m\u001b[43m)\u001b[49m\n\u001b[1;32m    880\u001b[0m     \u001b[38;5;28;01melse\u001b[39;00m:\n\u001b[1;32m    881\u001b[0m         \u001b[38;5;66;03m# Binary mode\u001b[39;00m\n\u001b[1;32m    882\u001b[0m         handle \u001b[38;5;241m=\u001b[39m \u001b[38;5;28mopen\u001b[39m(handle, ioargs\u001b[38;5;241m.\u001b[39mmode)\n",
      "\u001b[0;31mFileNotFoundError\u001b[0m: [Errno 2] No such file or directory: '/gpfs/Labs/Uzun/SCRIPTS/PROJECTS/2024.SINGLE_CELL_GRN_INFERENCE.MOELLER/experiments/mESC/chr19/model_training_014/tf_gradient_attributions/scored_edges.tsv'"
     ]
    }
   ],
   "source": [
    "tf_tg_pred = pd.read_csv(os.path.join(SELECTED_EXPERIMENT_DIR, \"tf_gradient_attributions/scored_edges.tsv\"), sep=\"\\t\", header=0, index_col=None)\n",
    "tf_tg_pred.head()"
   ]
  },
  {
   "cell_type": "code",
   "execution_count": null,
   "id": "fb67b536",
   "metadata": {},
   "outputs": [],
   "source": []
  },
  {
   "cell_type": "code",
   "execution_count": 52,
   "id": "957402b6",
   "metadata": {},
   "outputs": [
    {
     "data": {
      "image/png": "[encoded data removed]",
      "text/plain": [
       "<Figure size 500x300 with 1 Axes>"
      ]
     },
     "metadata": {},
     "output_type": "display_data"
    }
   ],
   "source": [
    "from dev.notebooks.plotting import (\n",
    "    plot_true_false_distribution, plot_true_false_boxplots, plot_true_false_scores_by_tf_boxplots,\n",
    "    plot_true_false_scores_by_tf_barplots, plot_auroc\n",
    ")\n",
    "\n",
    "fig = plot_auroc(tf_tg_pred, score_col=\"score\")\n",
    "fig.show()"
   ]
  },
  {
   "cell_type": "code",
   "execution_count": 51,
   "id": "401a35e1",
   "metadata": {},
   "outputs": [
    {
     "name": "stderr",
     "output_type": "stream",
     "text": [
      "Using categorical units to plot a list of strings that are all parsable as floats or dates. If these strings should be plotted as numbers, cast to the appropriate data type before plotting.\n",
      "Using categorical units to plot a list of strings that are all parsable as floats or dates. If these strings should be plotted as numbers, cast to the appropriate data type before plotting.\n"
     ]
    },
    {
     "data": {
      "image/png": "[encoded data removed]",
      "text/plain": [
       "<Figure size 600x400 with 1 Axes>"
      ]
     },
     "metadata": {},
     "output_type": "display_data"
    }
   ],
   "source": [
    "fig = plot_true_false_boxplots(\n",
    "    df=tf_tg_pred,\n",
    "    score_col=\"score\",\n",
    "    xlabel=\"True / False Label\",\n",
    "    ylabel = \"Model Prediction\"\n",
    "    )"
   ]
  },
  {
   "cell_type": "code",
   "execution_count": 21,
   "id": "1bdf2303",
   "metadata": {},
   "outputs": [
    {
     "data": {
      "text/plain": [
       "<module 'dev.notebooks.plotting' from '/gpfs/Labs/Uzun/SCRIPTS/PROJECTS/2024.SINGLE_CELL_GRN_INFERENCE.MOELLER/dev/notebooks/plotting.py'>"
      ]
     },
     "execution_count": 21,
     "metadata": {},
     "output_type": "execute_result"
    }
   ],
   "source": [
    "import importlib\n",
    "import dev.notebooks.plotting\n",
    "importlib.reload(dev.notebooks.plotting)"
   ]
  },
  {
   "cell_type": "code",
   "execution_count": null,
   "id": "a3335376",
   "metadata": {},
   "outputs": [
    {
     "data": {
      "image/png": "[encoded data removed]",
      "text/plain": [
       "<Figure size 600x400 with 1 Axes>"
      ]
     },
     "metadata": {},
     "output_type": "display_data"
    }
   ],
   "source": [
    "fig = plot_true_false_distribution(\n",
    "    true_series=tf_tg_pred[tf_tg_pred[\"label\"] == 1][\"score\"],\n",
    "    false_series=tf_tg_pred[tf_tg_pred[\"label\"] == 0][\"score\"],\n",
    "    )"
   ]
  }
 ],
 "metadata": {
  "kernelspec": {
   "display_name": "my_env",
   "language": "python",
   "name": "my_env"
  },
  "language_info": {
   "codemirror_mode": {
    "name": "ipython",
    "version": 3
   },
   "file_extension": ".py",
   "mimetype": "text/x-python",
   "name": "python",
   "nbconvert_exporter": "python",
   "pygments_lexer": "ipython3",
   "version": "3.9.18"
  }
 },
 "nbformat": 4,
 "nbformat_minor": 5
}
