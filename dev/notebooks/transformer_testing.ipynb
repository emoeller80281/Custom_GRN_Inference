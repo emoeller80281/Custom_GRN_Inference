{
 "cells": [
  {
   "cell_type": "code",
   "execution_count": 1,
   "id": "36670077",
   "metadata": {},
   "outputs": [],
   "source": [
    "# transformer_testing.py\n",
    "import os, sys, json\n",
    "import joblib\n",
    "import numpy as np\n",
    "import pandas as pd\n",
    "import torch\n",
    "from pathlib import Path\n",
    "from sklearn.metrics import roc_auc_score, average_precision_score\n",
    "import logging\n",
    "import matplotlib.pyplot as plt\n",
    "from config.settings import *\n",
    "\n",
    "logging.basicConfig(level=logging.INFO, format='%(message)s')\n",
    "\n",
    "# ---------------------------------------------------------------------\n",
    "# Paths / config\n",
    "# ---------------------------------------------------------------------\n",
    "PROJECT_DIR = \"/gpfs/Labs/Uzun/SCRIPTS/PROJECTS/2024.SINGLE_CELL_GRN_INFERENCE.MOELLER\"\n",
    "\n",
    "from multiomic_transformer.models.model import MultiomicTransformer\n",
    "from multiomic_transformer.datasets.dataset import MultiomicTransformerDataset\n",
    "\n",
    "experiment = \"model_training_001\"\n",
    "SELECTED_EXPERIMENT_DIR = OUTPUT_DIR / CHROM_ID / experiment\n",
    "\n",
    "GROUND_TRUTH_DIR = os.path.join(PROJECT_DIR, \"data/ground_truth_files\")\n",
    "DEVICE = torch.device(\"cuda:0\" if torch.cuda.is_available() else \"cpu\")\n",
    "BATCH  = 32\n",
    "TG_CHUNK = 64"
   ]
  },
  {
   "cell_type": "code",
   "execution_count": null,
   "id": "a2c512d5",
   "metadata": {},
   "outputs": [],
   "source": [
    "moods_df = pd.read_csv(os.path.join(TRAINING_DATA_CACHE, f\"{CHROM_ID}_moods_sites.tsv\"), sep=\"\\t\")\n",
    "moods_df.head()"
   ]
  },
  {
   "cell_type": "code",
   "execution_count": 2,
   "id": "48f759aa",
   "metadata": {},
   "outputs": [],
   "source": [
    "beeline_ground_truth = pd.read_csv(os.path.join(GROUND_TRUTH_DIR, \"mESC_beeline_ChIP-seq.csv\"))\n",
    "beeline_ground_truth = beeline_ground_truth.rename(columns={\"Gene1\":\"TF\", \"Gene2\":\"TG\"})"
   ]
  },
  {
   "cell_type": "code",
   "execution_count": 3,
   "id": "732d62ab",
   "metadata": {},
   "outputs": [],
   "source": [
    "orti_ground_truth = pd.read_csv(os.path.join(GROUND_TRUTH_DIR, \"ORTI_ground_truth_TF_TG.csv\"))\n",
    "orti_ground_truth = orti_ground_truth.rename(columns={\"Gene1\":\"TF\", \"Gene2\":\"TG\"})"
   ]
  },
  {
   "cell_type": "code",
   "execution_count": 8,
   "id": "b36f9694",
   "metadata": {},
   "outputs": [],
   "source": [
    "rn112_ground_truth = pd.read_csv(\n",
    "    \"/gpfs/Labs/Uzun/DATA/PROJECTS/2024.SC_MO_TRN_DB.MIRA/REPOSITORY/CURRENT/REFERENCE_NETWORKS/RN112_LOGOF_BEELINE_Mouse_ESC.tsv\",\n",
    "    sep=\"\\t\"\n",
    ")\n",
    "rn112_ground_truth = rn112_ground_truth.rename(columns={\"Source\":\"TF\", \"Target\":\"TG\"})\n",
    "rn112_ground_truth = rn112_ground_truth[[\"TF\", \"TG\"]]"
   ]
  },
  {
   "cell_type": "code",
   "execution_count": 7,
   "id": "da14d0e6",
   "metadata": {},
   "outputs": [],
   "source": [
    "rn114_ground_truth = pd.read_csv(\n",
    "    \"/gpfs/Labs/Uzun/DATA/PROJECTS/2024.SC_MO_TRN_DB.MIRA/REPOSITORY/CURRENT/REFERENCE_NETWORKS/RN114_ChIPX_ESCAPE_Mouse_ESC.tsv\",\n",
    "    sep=\"\\t\"\n",
    ")\n",
    "rn114_ground_truth = rn114_ground_truth.rename(columns={\"Source\":\"TF\", \"Target\":\"TG\"})\n",
    "rn114_ground_truth = rn114_ground_truth[[\"TF\", \"TG\"]]"
   ]
  },
  {
   "cell_type": "code",
   "execution_count": 4,
   "id": "81b61279",
   "metadata": {},
   "outputs": [],
   "source": [
    "rn115_ground_truth = pd.read_csv(os.path.join(GROUND_TRUTH_DIR, \"rn115_chipseq.tsv\"), sep=\"\\t\")\n",
    "rn115_ground_truth = rn115_ground_truth.rename(columns={\"sourceName\":\"TF\", \"targetName\":\"TG\"})\n",
    "rn115_ground_truth = rn115_ground_truth[[\"TF\", \"TG\"]]"
   ]
  },
  {
   "cell_type": "code",
   "execution_count": 6,
   "id": "a41d0cc9",
   "metadata": {},
   "outputs": [],
   "source": [
    "chip_atlas_ground_truth = pd.read_csv(os.path.join(GROUND_TRUTH_DIR, \"chip_atlas_tf_peak_tg_dist.csv\"), header=0, index_col=None)\n",
    "chip_atlas_ground_truth = chip_atlas_ground_truth.loc[chip_atlas_ground_truth.groupby([\"source_id\", \"peak_id\"])[\"distance\"].idxmin()]\n",
    "chip_atlas_ground_truth = chip_atlas_ground_truth[[\"source_id\", \"target_id\"]].drop_duplicates()\n",
    "chip_atlas_ground_truth = chip_atlas_ground_truth.rename(columns={\"source_id\":\"TF\", \"target_id\":\"TG\"})"
   ]
  },
  {
   "cell_type": "code",
   "execution_count": 5,
   "id": "faf1ecc1",
   "metadata": {},
   "outputs": [
    {
     "data": {
      "application/vnd.microsoft.datawrangler.viewer.v0+json": {
       "columns": [
        {
         "name": "index",
         "rawType": "int64",
         "type": "integer"
        },
        {
         "name": "TF",
         "rawType": "object",
         "type": "string"
        },
        {
         "name": "TG",
         "rawType": "object",
         "type": "string"
        }
       ],
       "ref": "796d70b3-f723-4bc0-bf50-c1d70154226e",
       "rows": [
        [
         "0",
         "ARID3A",
         "A4GALT"
        ],
        [
         "1",
         "ARID3A",
         "AAAS"
        ],
        [
         "2",
         "ARID3A",
         "AADACL2-AS1"
        ],
        [
         "3",
         "ARID3A",
         "AADACL2"
        ],
        [
         "4",
         "ARID3A",
         "AADACL4"
        ]
       ],
       "shape": {
        "columns": 2,
        "rows": 5
       }
      },
      "text/html": [
       "<div>\n",
       "<style scoped>\n",
       "    .dataframe tbody tr th:only-of-type {\n",
       "        vertical-align: middle;\n",
       "    }\n",
       "\n",
       "    .dataframe tbody tr th {\n",
       "        vertical-align: top;\n",
       "    }\n",
       "\n",
       "    .dataframe thead th {\n",
       "        text-align: right;\n",
       "    }\n",
       "</style>\n",
       "<table border=\"1\" class=\"dataframe\">\n",
       "  <thead>\n",
       "    <tr style=\"text-align: right;\">\n",
       "      <th></th>\n",
       "      <th>TF</th>\n",
       "      <th>TG</th>\n",
       "    </tr>\n",
       "  </thead>\n",
       "  <tbody>\n",
       "    <tr>\n",
       "      <th>0</th>\n",
       "      <td>ARID3A</td>\n",
       "      <td>A4GALT</td>\n",
       "    </tr>\n",
       "    <tr>\n",
       "      <th>1</th>\n",
       "      <td>ARID3A</td>\n",
       "      <td>AAAS</td>\n",
       "    </tr>\n",
       "    <tr>\n",
       "      <th>2</th>\n",
       "      <td>ARID3A</td>\n",
       "      <td>AADACL2-AS1</td>\n",
       "    </tr>\n",
       "    <tr>\n",
       "      <th>3</th>\n",
       "      <td>ARID3A</td>\n",
       "      <td>AADACL2</td>\n",
       "    </tr>\n",
       "    <tr>\n",
       "      <th>4</th>\n",
       "      <td>ARID3A</td>\n",
       "      <td>AADACL4</td>\n",
       "    </tr>\n",
       "  </tbody>\n",
       "</table>\n",
       "</div>"
      ],
      "text/plain": [
       "       TF           TG\n",
       "0  ARID3A       A4GALT\n",
       "1  ARID3A         AAAS\n",
       "2  ARID3A  AADACL2-AS1\n",
       "3  ARID3A      AADACL2\n",
       "4  ARID3A      AADACL4"
      ]
     },
     "execution_count": 5,
     "metadata": {},
     "output_type": "execute_result"
    }
   ],
   "source": [
    "rn117_ground_truth = pd.read_csv(os.path.join(GROUND_TRUTH_DIR, \"RN117.tsv\"), sep=\"\\t\", header=0, index_col=None)\n",
    "rn117_ground_truth = rn117_ground_truth[[\"Source\", \"Target\"]].drop_duplicates()\n",
    "rn117_ground_truth = rn117_ground_truth.rename(columns={\"Source\":\"TF\", \"Target\":\"TG\"})\n",
    "rn117_ground_truth.head()\n"
   ]
  },
  {
   "cell_type": "code",
   "execution_count": 29,
   "id": "9d5cfe99",
   "metadata": {},
   "outputs": [],
   "source": [
    "# beeline_ground_truth, \n",
    "# rn112_ground_truth,\n",
    "# rn114_ground_truth,\n",
    "# rn115_ground_truth, \n",
    "\n",
    "combined_ground_truth = pd.concat([\n",
    "        orti_ground_truth, \n",
    "        chip_atlas_ground_truth,\n",
    "        rn117_ground_truth\n",
    "    ]).drop_duplicates(subset=[\"TF\", \"TG\"])\n",
    "combined_ground_truth[\"TF\"] = combined_ground_truth[\"TF\"].str.capitalize()\n",
    "combined_ground_truth[\"TG\"] = combined_ground_truth[\"TG\"].str.capitalize()\n",
    "combined_ground_truth = combined_ground_truth.drop_duplicates(subset=[\"TF\", \"TG\"])\n",
    "combined_ground_truth.to_csv(os.path.join(GROUND_TRUTH_DIR, \"combined_ground_truth.csv\"), index=None, header=True)"
   ]
  },
  {
   "cell_type": "code",
   "execution_count": 10,
   "id": "fddd460f",
   "metadata": {},
   "outputs": [
    {
     "data": {
      "application/vnd.microsoft.datawrangler.viewer.v0+json": {
       "columns": [
        {
         "name": "index",
         "rawType": "int64",
         "type": "integer"
        },
        {
         "name": "TF",
         "rawType": "object",
         "type": "string"
        },
        {
         "name": "TG",
         "rawType": "object",
         "type": "string"
        }
       ],
       "ref": "c4b92f04-cb2c-4126-b69f-8b92f2b049c0",
       "rows": [
        [
         "0",
         "Acp1",
         "Hba-a1"
        ],
        [
         "1",
         "Acp2",
         "Hba-a1"
        ],
        [
         "2",
         "Ap1",
         "Clu"
        ],
        [
         "3",
         "Ap1",
         "Fabp4"
        ],
        [
         "4",
         "Ap1",
         "Mbp"
        ]
       ],
       "shape": {
        "columns": 2,
        "rows": 5
       }
      },
      "text/html": [
       "<div>\n",
       "<style scoped>\n",
       "    .dataframe tbody tr th:only-of-type {\n",
       "        vertical-align: middle;\n",
       "    }\n",
       "\n",
       "    .dataframe tbody tr th {\n",
       "        vertical-align: top;\n",
       "    }\n",
       "\n",
       "    .dataframe thead th {\n",
       "        text-align: right;\n",
       "    }\n",
       "</style>\n",
       "<table border=\"1\" class=\"dataframe\">\n",
       "  <thead>\n",
       "    <tr style=\"text-align: right;\">\n",
       "      <th></th>\n",
       "      <th>TF</th>\n",
       "      <th>TG</th>\n",
       "    </tr>\n",
       "  </thead>\n",
       "  <tbody>\n",
       "    <tr>\n",
       "      <th>0</th>\n",
       "      <td>Acp1</td>\n",
       "      <td>Hba-a1</td>\n",
       "    </tr>\n",
       "    <tr>\n",
       "      <th>1</th>\n",
       "      <td>Acp2</td>\n",
       "      <td>Hba-a1</td>\n",
       "    </tr>\n",
       "    <tr>\n",
       "      <th>2</th>\n",
       "      <td>Ap1</td>\n",
       "      <td>Clu</td>\n",
       "    </tr>\n",
       "    <tr>\n",
       "      <th>3</th>\n",
       "      <td>Ap1</td>\n",
       "      <td>Fabp4</td>\n",
       "    </tr>\n",
       "    <tr>\n",
       "      <th>4</th>\n",
       "      <td>Ap1</td>\n",
       "      <td>Mbp</td>\n",
       "    </tr>\n",
       "  </tbody>\n",
       "</table>\n",
       "</div>"
      ],
      "text/plain": [
       "     TF      TG\n",
       "0  Acp1  Hba-a1\n",
       "1  Acp2  Hba-a1\n",
       "2   Ap1     Clu\n",
       "3   Ap1   Fabp4\n",
       "4   Ap1     Mbp"
      ]
     },
     "execution_count": 10,
     "metadata": {},
     "output_type": "execute_result"
    }
   ],
   "source": [
    "combined_ground_truth.head()"
   ]
  },
  {
   "cell_type": "code",
   "execution_count": 11,
   "id": "34c28bed",
   "metadata": {},
   "outputs": [
    {
     "data": {
      "text/plain": [
       "(2123263, 2)"
      ]
     },
     "execution_count": 11,
     "metadata": {},
     "output_type": "execute_result"
    }
   ],
   "source": [
    "combined_ground_truth.shape"
   ]
  },
  {
   "cell_type": "code",
   "execution_count": 12,
   "id": "39d68694",
   "metadata": {},
   "outputs": [
    {
     "data": {
      "application/vnd.microsoft.datawrangler.viewer.v0+json": {
       "columns": [
        {
         "name": "index",
         "rawType": "int64",
         "type": "integer"
        },
        {
         "name": "TF",
         "rawType": "object",
         "type": "string"
        },
        {
         "name": "TG",
         "rawType": "object",
         "type": "string"
        }
       ],
       "ref": "6c46b7bd-391d-4288-b846-33e1d06b7b5c",
       "rows": [
        [
         "0",
         "Adnp",
         "Mis18bp1"
        ],
        [
         "1",
         "Adnp",
         "Exd1"
        ],
        [
         "2",
         "Adnp",
         "Chp1"
        ],
        [
         "3",
         "Adnp",
         "Oscar"
        ],
        [
         "4",
         "Adnp",
         "Ndufa3"
        ]
       ],
       "shape": {
        "columns": 2,
        "rows": 5
       }
      },
      "text/html": [
       "<div>\n",
       "<style scoped>\n",
       "    .dataframe tbody tr th:only-of-type {\n",
       "        vertical-align: middle;\n",
       "    }\n",
       "\n",
       "    .dataframe tbody tr th {\n",
       "        vertical-align: top;\n",
       "    }\n",
       "\n",
       "    .dataframe thead th {\n",
       "        text-align: right;\n",
       "    }\n",
       "</style>\n",
       "<table border=\"1\" class=\"dataframe\">\n",
       "  <thead>\n",
       "    <tr style=\"text-align: right;\">\n",
       "      <th></th>\n",
       "      <th>TF</th>\n",
       "      <th>TG</th>\n",
       "    </tr>\n",
       "  </thead>\n",
       "  <tbody>\n",
       "    <tr>\n",
       "      <th>0</th>\n",
       "      <td>Adnp</td>\n",
       "      <td>Mis18bp1</td>\n",
       "    </tr>\n",
       "    <tr>\n",
       "      <th>1</th>\n",
       "      <td>Adnp</td>\n",
       "      <td>Exd1</td>\n",
       "    </tr>\n",
       "    <tr>\n",
       "      <th>2</th>\n",
       "      <td>Adnp</td>\n",
       "      <td>Chp1</td>\n",
       "    </tr>\n",
       "    <tr>\n",
       "      <th>3</th>\n",
       "      <td>Adnp</td>\n",
       "      <td>Oscar</td>\n",
       "    </tr>\n",
       "    <tr>\n",
       "      <th>4</th>\n",
       "      <td>Adnp</td>\n",
       "      <td>Ndufa3</td>\n",
       "    </tr>\n",
       "  </tbody>\n",
       "</table>\n",
       "</div>"
      ],
      "text/plain": [
       "     TF        TG\n",
       "0  Adnp  Mis18bp1\n",
       "1  Adnp      Exd1\n",
       "2  Adnp      Chp1\n",
       "3  Adnp     Oscar\n",
       "4  Adnp    Ndufa3"
      ]
     },
     "execution_count": 12,
     "metadata": {},
     "output_type": "execute_result"
    }
   ],
   "source": [
    "rn111_and_rn112 = pd.concat([beeline_ground_truth, rn112_ground_truth])\n",
    "rn111_and_rn112[\"TF\"] = rn111_and_rn112[\"TF\"].str.capitalize()\n",
    "rn111_and_rn112[\"TG\"] = rn111_and_rn112[\"TG\"].str.capitalize()\n",
    "rn111_and_rn112 = rn111_and_rn112.drop_duplicates()\n",
    "rn111_and_rn112.head()"
   ]
  },
  {
   "cell_type": "code",
   "execution_count": 17,
   "id": "b7db3d04",
   "metadata": {},
   "outputs": [
    {
     "name": "stdout",
     "output_type": "stream",
     "text": [
      "Number of RN111 and RN112 Edges: 1,064,578\n"
     ]
    }
   ],
   "source": [
    "num_rn111_and_rn112_edges = rn111_and_rn112.shape[0]\n",
    "print(f\"Number of RN111 and RN112 Edges: {num_rn111_and_rn112_edges:,}\")"
   ]
  },
  {
   "cell_type": "code",
   "execution_count": null,
   "id": "4175361a",
   "metadata": {},
   "outputs": [
    {
     "name": "stdout",
     "output_type": "stream",
     "text": [
      "Number of edges only in RN111 and RN112: 928365\n",
      "Number of edges only in Combined GT: 1987050\n",
      "Number of edges in both ground truths: 136213\n"
     ]
    }
   ],
   "source": [
    "rn111_and_rn112_overlap_with_combined = pd.merge(rn111_and_rn112, combined_ground_truth, on=[\"TF\", \"TG\"], how=\"outer\", indicator=True)\n",
    "rn111_and_rn112_overlap_with_combined.head()\n",
    "\n",
    "print(f\"Number of edges only in RN111 and RN112: {len(rn111_and_rn112_overlap_with_combined[rn111_and_rn112_overlap_with_combined['_merge'] == 'left_only'])}\")\n",
    "print(f\"Number of edges only in Combined GT: {len(rn111_and_rn112_overlap_with_combined[rn111_and_rn112_overlap_with_combined['_merge'] == 'right_only'])}\")\n",
    "print(f\"Number of edges in both ground truths: {len(rn111_and_rn112_overlap_with_combined[rn111_and_rn112_overlap_with_combined['_merge'] == 'both'])}\")"
   ]
  },
  {
   "cell_type": "code",
   "execution_count": 30,
   "id": "2b86cc42",
   "metadata": {},
   "outputs": [
    {
     "name": "stdout",
     "output_type": "stream",
     "text": [
      "Num TFs = 488\n",
      "Num TGs = 36,459\n",
      "Num Edges = 1,986,908\n"
     ]
    }
   ],
   "source": [
    "combined_ground_truth_unique_edges = rn111_and_rn112_overlap_with_combined[rn111_and_rn112_overlap_with_combined['_merge'] == 'right_only']\n",
    "combined_ground_truth_unique_edges = combined_ground_truth_unique_edges[[\"TF\", \"TG\"]].dropna()\n",
    "combined_ground_truth_unique_edges.to_csv(os.path.join(GROUND_TRUTH_DIR, \"combined_ground_truth_no_rn111_or_rn112_edges.csv\"), index=None, header=True)\n",
    "\n",
    "num_tfs = combined_ground_truth_unique_edges[\"TF\"].nunique()\n",
    "num_tgs = combined_ground_truth_unique_edges[\"TG\"].nunique()\n",
    "\n",
    "print(f\"Num TFs = {num_tfs:,}\")\n",
    "print(f\"Num TGs = {num_tgs:,}\")\n",
    "print(f\"Num Edges = {combined_ground_truth_unique_edges.shape[0]:,}\")"
   ]
  },
  {
   "cell_type": "code",
   "execution_count": 5,
   "id": "3099e75e",
   "metadata": {},
   "outputs": [],
   "source": [
    "gene_near_peaks_df = pd.read_parquet(os.path.join(SAMPLE_DATA_CACHE_DIR, CHROM_ID, f\"genes_near_peaks_{CHROM_ID}.parquet\"))\n",
    "training_log_df = pd.read_csv(os.path.join(SELECTED_EXPERIMENT_DIR, \"training_log.csv\"), header=0)\n",
    "gradient_attribution_df = pd.read_csv(os.path.join(SELECTED_EXPERIMENT_DIR, \"test_results/gradient_attribution.csv\"), index_col=0)\n",
    "shortcut_matrix_df = pd.read_csv(os.path.join(SELECTED_EXPERIMENT_DIR, \"test_results/shortcut_matrix.csv\"), index_col=0)"
   ]
  },
  {
   "cell_type": "code",
   "execution_count": 8,
   "id": "b1f4c637",
   "metadata": {},
   "outputs": [
    {
     "data": {
      "image/png": "[encoded data removed]",
      "text/plain": [
       "<Figure size 1200x800 with 2 Axes>"
      ]
     },
     "metadata": {},
     "output_type": "display_data"
    }
   ],
   "source": [
    "import seaborn as sns\n",
    "from matplotlib.colors import LogNorm\n",
    "\n",
    "df_subset = gradient_attribution_df.loc[\n",
    "    [idx for idx in gradient_attribution_df.index if len(str(idx)) < 7],      # row filter\n",
    "    [col for col in gradient_attribution_df.columns if len(str(col)) < 7]    # column filter\n",
    "]\n",
    "\n",
    "data = df_subset.iloc[:100, :100].copy()\n",
    "vmin = max(1e-9, float(data[data > 0].min().min()))\n",
    "vmax = float(data.max().max())\n",
    "\n",
    "plt.figure(figsize=(12,8))\n",
    "sns.heatmap(df_subset, cmap=\"viridis\", norm=LogNorm(vmin=vmin, vmax=vmax))\n",
    "plt.title(\"TF-TG Gradient Attribution (LogNorm)\")\n",
    "plt.tight_layout()\n",
    "plt.show()"
   ]
  },
  {
   "cell_type": "code",
   "execution_count": 7,
   "id": "b435d706",
   "metadata": {},
   "outputs": [
    {
     "data": {
      "image/png": "[encoded data removed]",
      "text/plain": [
       "<Figure size 1200x800 with 2 Axes>"
      ]
     },
     "metadata": {},
     "output_type": "display_data"
    }
   ],
   "source": [
    "import seaborn as sns\n",
    "\n",
    "df_subset = shortcut_matrix_df.loc[\n",
    "    [idx for idx in shortcut_matrix_df.index if len(str(idx)) < 7],      # row filter\n",
    "    [col for col in shortcut_matrix_df.columns if len(str(col)) < 7]    # column filter\n",
    "]\n",
    "plt.figure(figsize=(12,8))\n",
    "sns.heatmap(df_subset.iloc[:100, :100], cmap=\"viridis\")\n",
    "plt.title(\"TF-TG Direct Weight Layer\")\n",
    "plt.tight_layout()\n",
    "plt.show()"
   ]
  },
  {
   "cell_type": "code",
   "execution_count": null,
   "id": "a73e441c",
   "metadata": {},
   "outputs": [],
   "source": [
    "from scipy.stats import pearsonr\n",
    "def plot_per_gene_correlation_scatterplot(model, dataloader, gpu_id=0, outpath=None):\n",
    "    model.eval()\n",
    "    preds, tgts = [], []\n",
    "    with torch.no_grad():\n",
    "        for atac_wins, tf_tensor, targets, bias in dataloader:\n",
    "            atac_wins, tf_tensor, targets, bias = (\n",
    "                atac_wins.to(gpu_id),\n",
    "                tf_tensor.to(gpu_id),\n",
    "                targets.to(gpu_id),\n",
    "                bias.to(gpu_id)\n",
    "            )\n",
    "            output = model(atac_wins, tf_tensor)\n",
    "            preds.append(output.cpu().numpy())\n",
    "            tgts.append(targets.cpu().numpy())\n",
    "\n",
    "    preds = np.concatenate(preds, axis=0)\n",
    "    tgts  = np.concatenate(tgts, axis=0)\n",
    "\n",
    "    # inverse-transform\n",
    "    # preds_rescaled = scaler.inverse_transform(preds)\n",
    "    # tgts_rescaled  = scaler.inverse_transform(tgts)\n",
    "    preds_rescaled = preds\n",
    "    tgts_rescaled  = tgts\n",
    "\n",
    "    corr, _ = pearsonr(preds_rescaled.ravel(), tgts_rescaled.ravel())\n",
    "    print(f\"Test Pearson correlation: {corr:.3f}\")\n",
    "\n",
    "    plt.figure(figsize=(6,6))\n",
    "    plt.scatter(tgts_rescaled, preds_rescaled, alpha=0.5, s=5)\n",
    "    plt.xlabel(\"True values\")\n",
    "    plt.ylabel(\"Predicted values\")\n",
    "    plt.title(f\"Predicted vs True (r={corr:.3f})\")\n",
    "    plt.plot([tgts_rescaled.min(), tgts_rescaled.max()],\n",
    "             [tgts_rescaled.min(), tgts_rescaled.max()], 'r--')\n",
    "    if outpath:\n",
    "        plt.savefig(outpath, dpi=300)\n",
    "    else:\n",
    "        plt.show()\n",
    "        "
   ]
  },
  {
   "cell_type": "code",
   "execution_count": 13,
   "id": "1feef8cb",
   "metadata": {},
   "outputs": [
    {
     "data": {
      "image/png": "[encoded data removed]",
      "text/plain": [
       "<Figure size 600x500 with 1 Axes>"
      ]
     },
     "metadata": {},
     "output_type": "display_data"
    }
   ],
   "source": [
    "def plot_pearson_corr_across_epochs(df, dataset_name, chrom_id):\n",
    "    fig = plt.figure(figsize=(6, 5))\n",
    "    plt.plot(df.index, df[\"Pearson\"], linewidth=2, label=\"Pearson Correlation\")\n",
    "\n",
    "    plt.title(f\"Training {dataset_name} {chrom_id} Pearson Correlation\", fontsize=17)\n",
    "    plt.ylim((0,1))\n",
    "    plt.yticks(fontsize=15)\n",
    "    plt.xticks(fontsize=15)\n",
    "    plt.xlabel(\"Epoch\", fontsize=17)\n",
    "    plt.ylabel(\"Pearson Correlation\", fontsize=17)\n",
    "    plt.legend(fontsize=17)\n",
    "    plt.tight_layout()\n",
    "    \n",
    "    return fig\n",
    "\n",
    "fig = plot_pearson_corr_across_epochs(training_log_df, \"mESC\", \"chr1\")\n",
    "fig.savefig(os.path.join(SELECTED_EXPERIMENT_DIR, \"eval_results_pearson_corr.png\"), dpi=300)\n",
    "fig.show()"
   ]
  },
  {
   "cell_type": "code",
   "execution_count": 14,
   "id": "dc9e7349",
   "metadata": {},
   "outputs": [
    {
     "data": {
      "image/png": "[encoded data removed]",
      "text/plain": [
       "<Figure size 600x500 with 1 Axes>"
      ]
     },
     "metadata": {},
     "output_type": "display_data"
    }
   ],
   "source": [
    "def plot_train_val_loss(df, dataset_name, chrom_id):\n",
    "    fig = plt.figure(figsize=(6, 5))\n",
    "    plt.plot(df[\"Epoch\"], df[\"Train MSE\"], label=\"Train MSE\", linewidth=2)\n",
    "    plt.plot(df[\"Epoch\"], df[\"Val MSE\"], label=\"Validation MSE\", linewidth=2)\n",
    "    # plt.plot(df[\"Epoch\"], df[\"Train Total Loss\"], label=\"Train Total Loss\", linestyle=\"--\", alpha=0.7)\n",
    "\n",
    "    plt.title(f\"Training {dataset_name} {chrom_id} Loss Curves\", fontsize=17)\n",
    "    plt.xlabel(\"Epoch\", fontsize=17)\n",
    "    plt.ylabel(\"Loss\", fontsize=17)\n",
    "    plt.xticks(fontsize=15)\n",
    "    plt.yticks(fontsize=15)\n",
    "    plt.ylim([0, 1])\n",
    "    plt.legend(fontsize=15)\n",
    "    plt.tight_layout()\n",
    "    return fig\n",
    "    \n",
    "fig = plot_train_val_loss(training_log_df, \"mESC\", \"chr1\")\n",
    "fig.savefig(os.path.join(SELECTED_EXPERIMENT_DIR, \"eval_results_training_loss.png\"), dpi=300)\n",
    "fig.show()"
   ]
  },
  {
   "cell_type": "code",
   "execution_count": 21,
   "id": "816dc045",
   "metadata": {},
   "outputs": [
    {
     "data": {
      "image/png": "[encoded data removed]",
      "text/plain": [
       "<Figure size 1000x500 with 1 Axes>"
      ]
     },
     "metadata": {},
     "output_type": "display_data"
    }
   ],
   "source": [
    "tf_imp_dir = os.path.join(SELECTED_EXPERIMENT_DIR, \"test_results\")\n",
    "            \n",
    "tf_importance_df = pd.read_csv(os.path.join(tf_imp_dir, \"shortcut_matrix.csv\"), header=0, index_col=0)\n",
    "\n",
    "fig = plt.figure(figsize=(10,5))\n",
    "\n",
    "selected_tg = tf_importance_df.index[0]\n",
    "selected_tf_row = tf_importance_df.iloc[0]\n",
    "selected_tf_row = selected_tf_row.iloc[:50].sort_values(ascending=False)\n",
    "\n",
    "plt.xticks(rotation=90, fontsize=10)\n",
    "plt.bar(x=selected_tf_row.index, height=selected_tf_row)\n",
    "plt.title(f\"TF Importance for {selected_tg}\")\n",
    "plt.ylabel(\"TF Importance\")\n",
    "plt.tight_layout()\n",
    "plt.show()"
   ]
  },
  {
   "cell_type": "code",
   "execution_count": 30,
   "id": "053bf097",
   "metadata": {},
   "outputs": [],
   "source": [
    "from grn_inference.utils import minmax_norm_col"
   ]
  },
  {
   "cell_type": "code",
   "execution_count": 31,
   "id": "b6c92297",
   "metadata": {},
   "outputs": [
    {
     "name": "stdout",
     "output_type": "stream",
     "text": [
      "  Source         Target     score\n",
      "0   Amyb  1110059e24rik  0.012926\n",
      "1   Ap-1  1110059e24rik  0.007593\n",
      "2  Atoh1  1110059e24rik  0.002979\n",
      "3  Hnf4a  1110059e24rik  0.016630\n",
      "4   Hnf6  1110059e24rik  0.059909\n"
     ]
    }
   ],
   "source": [
    "edges_df = (\n",
    "    tf_importance_df\n",
    "    .reset_index()\n",
    "    .melt(id_vars=\"index\", var_name=\"Target\", value_name=\"score\")\n",
    "    .rename(columns={\"index\": \"Source\"})\n",
    ")\n",
    "\n",
    "print(edges_df.head())\n",
    "edges_df[\"score\"] = minmax_norm_col(edges_df[\"score\"])\n",
    "edges_df.to_csv(os.path.join(SELECTED_EXPERIMENT_DIR, \"inferred_grn.csv\"), header=True, index=False)"
   ]
  },
  {
   "cell_type": "code",
   "execution_count": null,
   "id": "2fd036a7",
   "metadata": {},
   "outputs": [
    {
     "data": {
      "application/vnd.microsoft.datawrangler.viewer.v0+json": {
       "columns": [
        {
         "name": "index",
         "rawType": "object",
         "type": "string"
        },
        {
         "name": "1110059e24rik",
         "rawType": "float64",
         "type": "float"
        },
        {
         "name": "1700028p14rik",
         "rawType": "float64",
         "type": "float"
        },
        {
         "name": "1700054a03rik",
         "rawType": "float64",
         "type": "float"
        },
        {
         "name": "4430402i18rik",
         "rawType": "float64",
         "type": "float"
        },
        {
         "name": "4930414n06rik",
         "rawType": "float64",
         "type": "float"
        },
        {
         "name": "4930481a15rik",
         "rawType": "float64",
         "type": "float"
        },
        {
         "name": "4930505n22rik",
         "rawType": "float64",
         "type": "float"
        },
        {
         "name": "A1cf",
         "rawType": "float64",
         "type": "float"
        },
        {
         "name": "A330040f15rik",
         "rawType": "float64",
         "type": "float"
        },
        {
         "name": "A930007i19rik",
         "rawType": "float64",
         "type": "float"
        },
        {
         "name": "Ai837181",
         "rawType": "float64",
         "type": "float"
        },
        {
         "name": "Abcc2",
         "rawType": "float64",
         "type": "float"
        },
        {
         "name": "Abhd17b",
         "rawType": "float64",
         "type": "float"
        },
        {
         "name": "Ablim1",
         "rawType": "float64",
         "type": "float"
        },
        {
         "name": "Acsl5",
         "rawType": "float64",
         "type": "float"
        },
        {
         "name": "Acta2",
         "rawType": "float64",
         "type": "float"
        },
        {
         "name": "Actr1a",
         "rawType": "float64",
         "type": "float"
        },
        {
         "name": "Add3",
         "rawType": "float64",
         "type": "float"
        },
        {
         "name": "Adrb1",
         "rawType": "float64",
         "type": "float"
        },
        {
         "name": "Afap1l2",
         "rawType": "float64",
         "type": "float"
        },
        {
         "name": "Ahnak",
         "rawType": "float64",
         "type": "float"
        },
        {
         "name": "Ankrd1",
         "rawType": "float64",
         "type": "float"
        },
        {
         "name": "Apba1",
         "rawType": "float64",
         "type": "float"
        },
        {
         "name": "Arl3",
         "rawType": "float64",
         "type": "float"
        },
        {
         "name": "Armh3",
         "rawType": "float64",
         "type": "float"
        },
        {
         "name": "Asah2",
         "rawType": "float64",
         "type": "float"
        },
        {
         "name": "Asrgl1",
         "rawType": "float64",
         "type": "float"
        },
        {
         "name": "Atg2a",
         "rawType": "float64",
         "type": "float"
        },
        {
         "name": "Avpi1",
         "rawType": "float64",
         "type": "float"
        },
        {
         "name": "B230217o12rik",
         "rawType": "float64",
         "type": "float"
        },
        {
         "name": "Batf2",
         "rawType": "float64",
         "type": "float"
        },
        {
         "name": "Bbs1",
         "rawType": "float64",
         "type": "float"
        },
        {
         "name": "Blnk",
         "rawType": "float64",
         "type": "float"
        },
        {
         "name": "Brms1",
         "rawType": "float64",
         "type": "float"
        },
        {
         "name": "Btrc",
         "rawType": "float64",
         "type": "float"
        },
        {
         "name": "C130060c02rik",
         "rawType": "float64",
         "type": "float"
        },
        {
         "name": "Calhm2",
         "rawType": "float64",
         "type": "float"
        },
        {
         "name": "Casp7",
         "rawType": "float64",
         "type": "float"
        },
        {
         "name": "Ccdc172",
         "rawType": "float64",
         "type": "float"
        },
        {
         "name": "Ccdc86",
         "rawType": "float64",
         "type": "float"
        },
        {
         "name": "Ccnj",
         "rawType": "float64",
         "type": "float"
        },
        {
         "name": "Cd248",
         "rawType": "float64",
         "type": "float"
        },
        {
         "name": "Cd274",
         "rawType": "float64",
         "type": "float"
        },
        {
         "name": "Cdca5",
         "rawType": "float64",
         "type": "float"
        },
        {
         "name": "Cfap43",
         "rawType": "float64",
         "type": "float"
        },
        {
         "name": "Cfl1",
         "rawType": "float64",
         "type": "float"
        },
        {
         "name": "Ch25h",
         "rawType": "float64",
         "type": "float"
        },
        {
         "name": "Clcf1",
         "rawType": "float64",
         "type": "float"
        },
        {
         "name": "Cnih2",
         "rawType": "float64",
         "type": "float"
        },
        {
         "name": "Cnnm1",
         "rawType": "float64",
         "type": "float"
        },
        {
         "name": "Cnnm2",
         "rawType": "float64",
         "type": "float"
        },
        {
         "name": "Coro1b",
         "rawType": "float64",
         "type": "float"
        },
        {
         "name": "Cox15",
         "rawType": "float64",
         "type": "float"
        },
        {
         "name": "Cox8a",
         "rawType": "float64",
         "type": "float"
        },
        {
         "name": "Cpeb3",
         "rawType": "float64",
         "type": "float"
        },
        {
         "name": "Cpn1",
         "rawType": "float64",
         "type": "float"
        },
        {
         "name": "Cpt1a",
         "rawType": "float64",
         "type": "float"
        },
        {
         "name": "Crtac1",
         "rawType": "float64",
         "type": "float"
        },
        {
         "name": "Csf2ra",
         "rawType": "float64",
         "type": "float"
        },
        {
         "name": "Cstf2t",
         "rawType": "float64",
         "type": "float"
        },
        {
         "name": "Ctsf",
         "rawType": "float64",
         "type": "float"
        },
        {
         "name": "Cutc",
         "rawType": "float64",
         "type": "float"
        },
        {
         "name": "Cyb561a3",
         "rawType": "float64",
         "type": "float"
        },
        {
         "name": "Cyp26a1",
         "rawType": "float64",
         "type": "float"
        },
        {
         "name": "Cyp26c1",
         "rawType": "float64",
         "type": "float"
        },
        {
         "name": "D330050i16rik",
         "rawType": "float64",
         "type": "float"
        },
        {
         "name": "Dkk1",
         "rawType": "float64",
         "type": "float"
        },
        {
         "name": "Dmrt2",
         "rawType": "float64",
         "type": "float"
        },
        {
         "name": "Dntt",
         "rawType": "float64",
         "type": "float"
        },
        {
         "name": "Doc2g",
         "rawType": "float64",
         "type": "float"
        },
        {
         "name": "Dock8",
         "rawType": "float64",
         "type": "float"
        },
        {
         "name": "Dusp5",
         "rawType": "float64",
         "type": "float"
        },
        {
         "name": "E330013p04rik",
         "rawType": "float64",
         "type": "float"
        },
        {
         "name": "Efemp2",
         "rawType": "float64",
         "type": "float"
        },
        {
         "name": "Ehbp1l1",
         "rawType": "float64",
         "type": "float"
        },
        {
         "name": "Emx2",
         "rawType": "float64",
         "type": "float"
        },
        {
         "name": "Emx2os",
         "rawType": "float64",
         "type": "float"
        },
        {
         "name": "Eno4",
         "rawType": "float64",
         "type": "float"
        },
        {
         "name": "Entpd1",
         "rawType": "float64",
         "type": "float"
        },
        {
         "name": "Exoc6",
         "rawType": "float64",
         "type": "float"
        },
        {
         "name": "Fads1",
         "rawType": "float64",
         "type": "float"
        },
        {
         "name": "Fads3",
         "rawType": "float64",
         "type": "float"
        },
        {
         "name": "Fam111a",
         "rawType": "float64",
         "type": "float"
        },
        {
         "name": "Fam122a",
         "rawType": "float64",
         "type": "float"
        },
        {
         "name": "Fam204a",
         "rawType": "float64",
         "type": "float"
        },
        {
         "name": "Fau",
         "rawType": "float64",
         "type": "float"
        },
        {
         "name": "Fbxw4",
         "rawType": "float64",
         "type": "float"
        },
        {
         "name": "Fermt3",
         "rawType": "float64",
         "type": "float"
        },
        {
         "name": "Fgf8",
         "rawType": "float64",
         "type": "float"
        },
        {
         "name": "Fgfbp3",
         "rawType": "float64",
         "type": "float"
        },
        {
         "name": "Fkbp2",
         "rawType": "float64",
         "type": "float"
        },
        {
         "name": "Flrt1",
         "rawType": "float64",
         "type": "float"
        },
        {
         "name": "Fosl1",
         "rawType": "float64",
         "type": "float"
        },
        {
         "name": "Foxd4",
         "rawType": "float64",
         "type": "float"
        },
        {
         "name": "Frat1",
         "rawType": "float64",
         "type": "float"
        },
        {
         "name": "Frat2",
         "rawType": "float64",
         "type": "float"
        },
        {
         "name": "Fth1",
         "rawType": "float64",
         "type": "float"
        },
        {
         "name": "Fxn",
         "rawType": "float64",
         "type": "float"
        },
        {
         "name": "Gal",
         "rawType": "float64",
         "type": "float"
        },
        {
         "name": "Gcnt1",
         "rawType": "float64",
         "type": "float"
        },
        {
         "name": "Gda",
         "rawType": "float64",
         "type": "float"
        },
        {
         "name": "Gfra1",
         "rawType": "float64",
         "type": "float"
        },
        {
         "name": "Gldc",
         "rawType": "float64",
         "type": "float"
        },
        {
         "name": "Glis3",
         "rawType": "float64",
         "type": "float"
        },
        {
         "name": "Gm960",
         "rawType": "float64",
         "type": "float"
        },
        {
         "name": "Gm9895",
         "rawType": "float64",
         "type": "float"
        },
        {
         "name": "Gna14",
         "rawType": "float64",
         "type": "float"
        },
        {
         "name": "Gng3",
         "rawType": "float64",
         "type": "float"
        },
        {
         "name": "Gpam",
         "rawType": "float64",
         "type": "float"
        },
        {
         "name": "Grk5",
         "rawType": "float64",
         "type": "float"
        },
        {
         "name": "Gsto1",
         "rawType": "float64",
         "type": "float"
        },
        {
         "name": "Gstp1",
         "rawType": "float64",
         "type": "float"
        },
        {
         "name": "Habp2",
         "rawType": "float64",
         "type": "float"
        },
        {
         "name": "Hectd2",
         "rawType": "float64",
         "type": "float"
        },
        {
         "name": "Hectd2os",
         "rawType": "float64",
         "type": "float"
        },
        {
         "name": "Hhex",
         "rawType": "float64",
         "type": "float"
        },
        {
         "name": "Hoga1",
         "rawType": "float64",
         "type": "float"
        },
        {
         "name": "Hps1",
         "rawType": "float64",
         "type": "float"
        },
        {
         "name": "Hpse2",
         "rawType": "float64",
         "type": "float"
        },
        {
         "name": "Ifit2",
         "rawType": "float64",
         "type": "float"
        },
        {
         "name": "Il33",
         "rawType": "float64",
         "type": "float"
        },
        {
         "name": "Ina",
         "rawType": "float64",
         "type": "float"
        },
        {
         "name": "Ints5",
         "rawType": "float64",
         "type": "float"
        },
        {
         "name": "Jak2",
         "rawType": "float64",
         "type": "float"
        },
        {
         "name": "Kank1",
         "rawType": "float64",
         "type": "float"
        },
        {
         "name": "Kcnip2",
         "rawType": "float64",
         "type": "float"
        },
        {
         "name": "Klf9",
         "rawType": "float64",
         "type": "float"
        },
        {
         "name": "Lgi1",
         "rawType": "float64",
         "type": "float"
        },
        {
         "name": "Lipa",
         "rawType": "float64",
         "type": "float"
        },
        {
         "name": "Lpxn",
         "rawType": "float64",
         "type": "float"
        },
        {
         "name": "Macrod1",
         "rawType": "float64",
         "type": "float"
        },
        {
         "name": "Malat1",
         "rawType": "float64",
         "type": "float"
        },
        {
         "name": "Mamdc2",
         "rawType": "float64",
         "type": "float"
        },
        {
         "name": "Map3k11",
         "rawType": "float64",
         "type": "float"
        },
        {
         "name": "Mbl2",
         "rawType": "float64",
         "type": "float"
        },
        {
         "name": "Mfsd13a",
         "rawType": "float64",
         "type": "float"
        },
        {
         "name": "Mirt1",
         "rawType": "float64",
         "type": "float"
        },
        {
         "name": "Morn4",
         "rawType": "float64",
         "type": "float"
        },
        {
         "name": "Mpeg1",
         "rawType": "float64",
         "type": "float"
        },
        {
         "name": "Mrpl11",
         "rawType": "float64",
         "type": "float"
        },
        {
         "name": "Ms4a4c",
         "rawType": "float64",
         "type": "float"
        },
        {
         "name": "Ms4a4d",
         "rawType": "float64",
         "type": "float"
        },
        {
         "name": "Ms4a6b",
         "rawType": "float64",
         "type": "float"
        },
        {
         "name": "Ms4a6c",
         "rawType": "float64",
         "type": "float"
        },
        {
         "name": "Mxi1",
         "rawType": "float64",
         "type": "float"
        },
        {
         "name": "Myof",
         "rawType": "float64",
         "type": "float"
        },
        {
         "name": "Myrf",
         "rawType": "float64",
         "type": "float"
        },
        {
         "name": "Ndufs8",
         "rawType": "float64",
         "type": "float"
        },
        {
         "name": "Neat1",
         "rawType": "float64",
         "type": "float"
        },
        {
         "name": "Nkx2-3",
         "rawType": "float64",
         "type": "float"
        },
        {
         "name": "Npm3",
         "rawType": "float64",
         "type": "float"
        },
        {
         "name": "Nrxn2",
         "rawType": "float64",
         "type": "float"
        },
        {
         "name": "Nt5c2",
         "rawType": "float64",
         "type": "float"
        },
        {
         "name": "Olfr1441",
         "rawType": "float64",
         "type": "float"
        },
        {
         "name": "Osbp",
         "rawType": "float64",
         "type": "float"
        },
        {
         "name": "Otub1",
         "rawType": "float64",
         "type": "float"
        },
        {
         "name": "Pacs1",
         "rawType": "float64",
         "type": "float"
        },
        {
         "name": "Pank1",
         "rawType": "float64",
         "type": "float"
        },
        {
         "name": "Patl1",
         "rawType": "float64",
         "type": "float"
        },
        {
         "name": "Pax2",
         "rawType": "float64",
         "type": "float"
        },
        {
         "name": "Pcgf5",
         "rawType": "float64",
         "type": "float"
        },
        {
         "name": "Pcsk5",
         "rawType": "float64",
         "type": "float"
        },
        {
         "name": "Pdcd4",
         "rawType": "float64",
         "type": "float"
        },
        {
         "name": "Pde6c",
         "rawType": "float64",
         "type": "float"
        },
        {
         "name": "Pdlim1",
         "rawType": "float64",
         "type": "float"
        },
        {
         "name": "Pfpl",
         "rawType": "float64",
         "type": "float"
        },
        {
         "name": "Pga5",
         "rawType": "float64",
         "type": "float"
        },
        {
         "name": "Pgam1",
         "rawType": "float64",
         "type": "float"
        },
        {
         "name": "Pgm5",
         "rawType": "float64",
         "type": "float"
        },
        {
         "name": "Pi4k2a",
         "rawType": "float64",
         "type": "float"
        },
        {
         "name": "Pik3ap1",
         "rawType": "float64",
         "type": "float"
        },
        {
         "name": "Pip5k1b",
         "rawType": "float64",
         "type": "float"
        },
        {
         "name": "Plce1",
         "rawType": "float64",
         "type": "float"
        },
        {
         "name": "Pold4",
         "rawType": "float64",
         "type": "float"
        },
        {
         "name": "Poll",
         "rawType": "float64",
         "type": "float"
        },
        {
         "name": "Polr2g",
         "rawType": "float64",
         "type": "float"
        },
        {
         "name": "Ppp1ca",
         "rawType": "float64",
         "type": "float"
        },
        {
         "name": "Ppp1r14b",
         "rawType": "float64",
         "type": "float"
        },
        {
         "name": "Prdx5",
         "rawType": "float64",
         "type": "float"
        },
        {
         "name": "Prkg1",
         "rawType": "float64",
         "type": "float"
        },
        {
         "name": "Prune2",
         "rawType": "float64",
         "type": "float"
        },
        {
         "name": "Psat1",
         "rawType": "float64",
         "type": "float"
        },
        {
         "name": "Pten",
         "rawType": "float64",
         "type": "float"
        },
        {
         "name": "Pygm",
         "rawType": "float64",
         "type": "float"
        },
        {
         "name": "Rab11fip2",
         "rawType": "float64",
         "type": "float"
        },
        {
         "name": "Rasgrp2",
         "rawType": "float64",
         "type": "float"
        },
        {
         "name": "Rbm20",
         "rawType": "float64",
         "type": "float"
        },
        {
         "name": "Rbm4b",
         "rawType": "float64",
         "type": "float"
        },
        {
         "name": "Rbp4",
         "rawType": "float64",
         "type": "float"
        },
        {
         "name": "Rce1",
         "rawType": "float64",
         "type": "float"
        },
        {
         "name": "Rela",
         "rawType": "float64",
         "type": "float"
        },
        {
         "name": "Rfk",
         "rawType": "float64",
         "type": "float"
        },
        {
         "name": "Rfx3",
         "rawType": "float64",
         "type": "float"
        },
        {
         "name": "Rhod",
         "rawType": "float64",
         "type": "float"
        },
        {
         "name": "Rln1",
         "rawType": "float64",
         "type": "float"
        },
        {
         "name": "Rom1",
         "rawType": "float64",
         "type": "float"
        },
        {
         "name": "Rorb",
         "rawType": "float64",
         "type": "float"
        },
        {
         "name": "Sac3d1",
         "rawType": "float64",
         "type": "float"
        },
        {
         "name": "Scd2",
         "rawType": "float64",
         "type": "float"
        },
        {
         "name": "Scd3",
         "rawType": "float64",
         "type": "float"
        },
        {
         "name": "Sec31b",
         "rawType": "float64",
         "type": "float"
        },
        {
         "name": "Sfr1",
         "rawType": "float64",
         "type": "float"
        },
        {
         "name": "Sfrp5",
         "rawType": "float64",
         "type": "float"
        },
        {
         "name": "Sh3pxd2a",
         "rawType": "float64",
         "type": "float"
        },
        {
         "name": "Shtn1",
         "rawType": "float64",
         "type": "float"
        },
        {
         "name": "Sipa1",
         "rawType": "float64",
         "type": "float"
        },
        {
         "name": "Slc15a3",
         "rawType": "float64",
         "type": "float"
        },
        {
         "name": "Slc16a12",
         "rawType": "float64",
         "type": "float"
        },
        {
         "name": "Slc18a2",
         "rawType": "float64",
         "type": "float"
        },
        {
         "name": "Slc1a1",
         "rawType": "float64",
         "type": "float"
        },
        {
         "name": "Slc22a20",
         "rawType": "float64",
         "type": "float"
        },
        {
         "name": "Slit1",
         "rawType": "float64",
         "type": "float"
        },
        {
         "name": "Smarca2",
         "rawType": "float64",
         "type": "float"
        },
        {
         "name": "Snx32",
         "rawType": "float64",
         "type": "float"
        },
        {
         "name": "Sorbs1",
         "rawType": "float64",
         "type": "float"
        },
        {
         "name": "Sorcs1",
         "rawType": "float64",
         "type": "float"
        },
        {
         "name": "Sorcs3",
         "rawType": "float64",
         "type": "float"
        },
        {
         "name": "Spindoc",
         "rawType": "float64",
         "type": "float"
        },
        {
         "name": "Sptbn2",
         "rawType": "float64",
         "type": "float"
        },
        {
         "name": "Stambpl1",
         "rawType": "float64",
         "type": "float"
        },
        {
         "name": "Stx3",
         "rawType": "float64",
         "type": "float"
        },
        {
         "name": "Syt7",
         "rawType": "float64",
         "type": "float"
        },
        {
         "name": "Taf5",
         "rawType": "float64",
         "type": "float"
        },
        {
         "name": "Tbc1d10c",
         "rawType": "float64",
         "type": "float"
        },
        {
         "name": "Tcf7l2",
         "rawType": "float64",
         "type": "float"
        },
        {
         "name": "Tkfc",
         "rawType": "float64",
         "type": "float"
        },
        {
         "name": "Tle4",
         "rawType": "float64",
         "type": "float"
        },
        {
         "name": "Tll2",
         "rawType": "float64",
         "type": "float"
        },
        {
         "name": "Tmc1",
         "rawType": "float64",
         "type": "float"
        },
        {
         "name": "Tmem134",
         "rawType": "float64",
         "type": "float"
        },
        {
         "name": "Tmem151a",
         "rawType": "float64",
         "type": "float"
        },
        {
         "name": "Tmem179b",
         "rawType": "float64",
         "type": "float"
        },
        {
         "name": "Trim8",
         "rawType": "float64",
         "type": "float"
        },
        {
         "name": "Trmt112",
         "rawType": "float64",
         "type": "float"
        },
        {
         "name": "Trpm3",
         "rawType": "float64",
         "type": "float"
        },
        {
         "name": "Trpm6",
         "rawType": "float64",
         "type": "float"
        },
        {
         "name": "Trpt1",
         "rawType": "float64",
         "type": "float"
        },
        {
         "name": "Tsga10ip",
         "rawType": "float64",
         "type": "float"
        },
        {
         "name": "Unc93b1",
         "rawType": "float64",
         "type": "float"
        },
        {
         "name": "Vldlr",
         "rawType": "float64",
         "type": "float"
        },
        {
         "name": "Vps13a",
         "rawType": "float64",
         "type": "float"
        },
        {
         "name": "Vti1a",
         "rawType": "float64",
         "type": "float"
        },
        {
         "name": "Vwa2",
         "rawType": "float64",
         "type": "float"
        },
        {
         "name": "Wnt8b",
         "rawType": "float64",
         "type": "float"
        },
        {
         "name": "Yif1a",
         "rawType": "float64",
         "type": "float"
        },
        {
         "name": "Zfand5",
         "rawType": "float64",
         "type": "float"
        }
       ],
       "ref": "bd781754-222a-4c6e-8659-d17073c02e7c",
       "rows": [
        [
         "Amyb",
         "0.012925874",
         "0.007978901",
         "0.016948761",
         "0.071295284",
         "0.038051482",
         "0.0053692874",
         "0.0043216567",
         "0.052675635",
         "0.039596155",
         "0.004102061",
         "0.018111499",
         "0.025204925",
         "0.08949357",
         "0.0061681652",
         "0.020720508",
         "0.02082582",
         "0.016283993",
         "0.013341737",
         "0.016759567",
         "0.012330398",
         "0.012423557",
         "0.0072001787",
         "0.051441617",
         "0.00883076",
         "0.019505376",
         "0.034752123",
         "0.033749435",
         "0.015865667",
         "0.04225802",
         "0.012880442",
         "0.06855431",
         "0.015198819",
         "0.15382546",
         "0.0023433403",
         "0.010226559",
         "0.008315817",
         "0.03572857",
         "0.017409515",
         "0.002114435",
         "0.037548956",
         "0.109328024",
         "0.015936404",
         "0.043504506",
         "0.018944466",
         "0.012990213",
         "0.021720927",
         "0.028057052",
         "0.109514505",
         "0.024000524",
         "0.010606376",
         "0.069521934",
         "0.008293452",
         "0.025509905",
         "0.010402504",
         "0.005266373",
         "0.023638139",
         "0.05422767",
         "0.012875268",
         "0.009054684",
         "0.020886477",
         "0.027470587",
         "0.1067858",
         "0.0064188894",
         "0.14115968",
         "0.006509635",
         "0.020477353",
         "0.026018132",
         "0.039431404",
         "0.0109602185",
         "0.0068014804",
         "0.011398572",
         "0.03830628",
         "0.013842897",
         "0.09415469",
         "0.013847503",
         "0.011427234",
         "0.117051415",
         "0.083824225",
         "0.0074705714",
         "0.02287546",
         "0.027743267",
         "0.061694227",
         "0.018791506",
         "0.0038781494",
         "0.014182949",
         "0.024066795",
         "0.021957206",
         "0.013298819",
         "0.043329302",
         "0.07051711",
         "0.033724833",
         "0.018029504",
         "0.025290428",
         "0.003603615",
         "0.013210445",
         "0.031240845",
         "0.029557817",
         "0.010382161",
         "0.024126751",
         "0.0025857731",
         "0.009628233",
         "0.006327256",
         "0.0033305974",
         "0.02400423",
         "0.017361213",
         "0.012814948",
         "0.035674796",
         "0.08475936",
         "0.022126824",
         "0.07504894",
         "0.01993248",
         "0.017678933",
         "0.043917954",
         "0.010138798",
         "0.0076098135",
         "0.044661745",
         "0.09561303",
         "0.072386034",
         "0.070657045",
         "0.039017048",
         "0.016829558",
         "0.01863731",
         "0.0051401197",
         "0.032075442",
         "0.00093806395",
         "0.020599747",
         "0.0071252845",
         "0.026296109",
         "0.013668079",
         "0.012688524",
         "0.003087612",
         "0.039983653",
         "0.023377707",
         "0.0044084564",
         "0.06965657",
         "0.059953853",
         "0.0037220027",
         "0.09352906",
         "0.08405704",
         "0.00164618",
         "0.01852559",
         "0.018395644",
         "0.010443489",
         "0.010672542",
         "0.011954959",
         "0.02200241",
         "0.033323795",
         "0.0031274143",
         "0.016273303",
         "0.0037731403",
         "0.016985105",
         "0.072408475",
         "0.023346834",
         "0.03204354",
         "0.01851086",
         "0.006018845",
         "0.022267139",
         "0.014658489",
         "0.017493613",
         "0.0013474802",
         "0.18113427",
         "0.026225226",
         "0.010887469",
         "0.053841934",
         "0.0202538",
         "0.01563194",
         "0.036426067",
         "0.030882355",
         "0.018769018",
         "0.019155672",
         "0.010340997",
         "0.038031757",
         "0.00467639",
         "0.023265442",
         "0.11385037",
         "0.0073404186",
         "0.034360368",
         "0.02578526",
         "0.1372733",
         "0.06433145",
         "0.005250666",
         "0.017246487",
         "0.01800162",
         "0.014469365",
         "0.0282814",
         "0.01198939",
         "0.012790595",
         "0.028793555",
         "0.0071213394",
         "0.11057278",
         "0.10940524",
         "0.028988788",
         "0.0027897113",
         "0.033387017",
         "0.022304676",
         "0.005224828",
         "0.0076224697",
         "0.056191396",
         "0.046260104",
         "0.011027383",
         "0.008255888",
         "0.026875257",
         "0.010379218",
         "0.0056658173",
         "0.014610391",
         "0.0041740374",
         "0.00418857",
         "0.008481512",
         "0.008006089",
         "0.042426888",
         "0.0035189828",
         "0.044339787",
         "0.010738504",
         "0.030368702",
         "0.0140636135",
         "0.025293682",
         "0.029048823",
         "0.008202465",
         "0.124421045",
         "0.012275998",
         "0.17223749",
         "0.008081706",
         "0.01729459",
         "0.020887757",
         "0.018826038",
         "0.032869164",
         "0.022702282",
         "0.024868658",
         "0.029922694",
         "0.017591802",
         "0.030950947",
         "0.005879059",
         "0.03582705",
         "0.01569021",
         "0.015570598",
         "0.13455455",
         "0.021497533",
         "0.008519519",
         "0.0307141",
         "0.0054802014",
         "0.01812793",
         "0.010033201",
         "0.0051972377",
         "0.023148568",
         "0.054276787",
         "0.013118438"
        ],
        [
         "Ap-1",
         "0.007592989",
         "0.016407529",
         "0.060693666",
         "0.07535138",
         "0.003203412",
         "0.018191056",
         "0.025438681",
         "0.010395189",
         "0.014900347",
         "0.006478767",
         "0.027941782",
         "0.068230405",
         "0.057043154",
         "0.013918515",
         "0.014558392",
         "0.017457241",
         "0.006586776",
         "0.02210403",
         "0.010680536",
         "0.0013679363",
         "0.23635806",
         "0.048893575",
         "0.0019341346",
         "0.021105217",
         "0.009241529",
         "0.13528724",
         "0.07069371",
         "0.019195067",
         "0.031830944",
         "0.0036923336",
         "0.04795919",
         "0.0048182523",
         "0.009279842",
         "0.091225274",
         "0.016929496",
         "0.03410358",
         "0.02006957",
         "0.02357314",
         "0.011605286",
         "0.06487916",
         "0.0263158",
         "0.04416426",
         "0.058609266",
         "0.014652512",
         "0.004577724",
         "0.035914693",
         "0.08100837",
         "0.0063468385",
         "0.0056573716",
         "0.12896508",
         "0.010876663",
         "0.0034657614",
         "0.036301274",
         "0.008121449",
         "0.006784855",
         "0.06854047",
         "0.019481923",
         "0.0015705434",
         "0.048164107",
         "0.012577788",
         "0.03279049",
         "0.048128214",
         "0.01972384",
         "0.019249452",
         "0.021947851",
         "0.021000098",
         "0.007900475",
         "0.010881969",
         "0.004752143",
         "0.37338436",
         "0.019548962",
         "0.05490326",
         "0.0047627836",
         "0.004956428",
         "0.007301819",
         "0.0718921",
         "0.022294903",
         "0.0021517426",
         "0.07281093",
         "0.006126694",
         "0.033009335",
         "0.06496883",
         "0.037723016",
         "0.0686647",
         "0.0048129843",
         "0.0856432",
         "0.045163874",
         "0.15031268",
         "0.0103833955",
         "0.056368",
         "0.053965412",
         "0.07506431",
         "0.08833345",
         "0.004475174",
         "0.03222004",
         "0.042542256",
         "0.006933125",
         "0.010424736",
         "0.09399342",
         "0.021976331",
         "0.006424646",
         "0.06289988",
         "0.012091091",
         "0.032359473",
         "0.04424756",
         "0.005620118",
         "0.023653826",
         "0.0006831355",
         "0.027719421",
         "0.2290249",
         "0.009868387",
         "0.012527369",
         "0.007942044",
         "0.53283894",
         "0.0282756",
         "0.08898272",
         "0.051874254",
         "0.033517733",
         "0.0142713515",
         "0.021505356",
         "0.0041222903",
         "0.061942395",
         "0.0027493085",
         "0.02277731",
         "0.071653865",
         "0.015852924",
         "0.023830157",
         "0.0068407333",
         "0.010954082",
         "0.011556852",
         "0.0047510643",
         "0.0077067907",
         "0.016539164",
         "0.00419539",
         "0.011755501",
         "0.02634618",
         "0.0032082342",
         "0.004546467",
         "0.16212021",
         "0.010764123",
         "0.00747295",
         "0.015335935",
         "0.15957572",
         "0.019749904",
         "0.017620588",
         "0.02281088",
         "0.007445582",
         "0.056279708",
         "0.023839356",
         "0.008005168",
         "0.003978782",
         "0.11095793",
         "0.045010503",
         "0.08157693",
         "0.006029537",
         "0.013516677",
         "0.005816237",
         "0.021146094",
         "0.06748149",
         "0.028378326",
         "0.012538293",
         "0.006369115",
         "0.012069013",
         "0.0076656346",
         "0.0143520655",
         "0.00398272",
         "0.33826584",
         "0.006715851",
         "0.010924247",
         "0.004340473",
         "0.004887853",
         "0.0072689727",
         "0.024115324",
         "0.027296344",
         "0.008831163",
         "0.011113327",
         "0.081810795",
         "0.08673414",
         "0.010827791",
         "0.77876866",
         "0.02412143",
         "0.010481146",
         "0.0063313893",
         "0.1733973",
         "0.085119314",
         "0.0147212325",
         "0.05757811",
         "0.023201179",
         "0.0028726738",
         "0.014726137",
         "0.014956053",
         "0.038449448",
         "0.010870014",
         "0.025009198",
         "0.019958407",
         "0.0021573205",
         "0.0031798566",
         "0.008290313",
         "0.06565796",
         "0.0108513795",
         "0.040522035",
         "0.009618008",
         "0.03923079",
         "0.11180283",
         "0.07650978",
         "0.009799293",
         "0.016409438",
         "0.0093985",
         "0.027378708",
         "0.08041549",
         "0.0066137365",
         "0.019579511",
         "0.03803902",
         "0.022513257",
         "0.026568165",
         "0.021089302",
         "0.0107717095",
         "0.017357212",
         "0.007158565",
         "0.015262782",
         "0.033576738",
         "0.008813163",
         "0.0035138372",
         "0.0026667542",
         "0.0044536036",
         "0.013558939",
         "0.0022614768",
         "0.008380326",
         "0.011201092",
         "0.011306433",
         "0.059476364",
         "0.09436309",
         "0.03029115",
         "0.027160786",
         "0.026139526",
         "0.029374957",
         "0.0059654796",
         "0.11276342",
         "0.024329137",
         "0.004895174",
         "0.008635367",
         "0.00905322",
         "0.069100834",
         "0.052358586",
         "0.032719392",
         "0.0075531323"
        ],
        [
         "Atoh1",
         "0.0029789966",
         "0.008848478",
         "0.0063630315",
         "0.017176647",
         "0.027393859",
         "0.09683866",
         "0.0074005043",
         "0.006690753",
         "0.04094089",
         "0.01198385",
         "0.020530252",
         "0.047038853",
         "0.078613296",
         "0.010361342",
         "0.04237033",
         "0.024877362",
         "0.020291062",
         "0.014312333",
         "0.15758501",
         "0.010545105",
         "0.01690254",
         "0.0042005833",
         "0.0045123356",
         "0.005853445",
         "0.020837948",
         "0.11777309",
         "0.0753724",
         "0.011034254",
         "0.0069681574",
         "0.038532607",
         "0.03925935",
         "0.026626999",
         "0.07159985",
         "0.013519712",
         "0.097094946",
         "0.011801234",
         "0.011376156",
         "0.0039336537",
         "0.04273637",
         "0.02850118",
         "0.008257008",
         "0.016650908",
         "0.013604947",
         "0.01085671",
         "0.015666742",
         "0.034721136",
         "0.0042064",
         "0.031919964",
         "0.002964447",
         "0.046239004",
         "0.006007225",
         "0.008828217",
         "0.07659914",
         "0.023222778",
         "0.010083782",
         "0.015227006",
         "0.08950255",
         "0.007461734",
         "0.1058037",
         "0.36790907",
         "0.0059183044",
         "0.073109",
         "0.086429216",
         "0.020599034",
         "0.0068429704",
         "0.023917813",
         "0.016835427",
         "0.016210783",
         "0.054422945",
         "0.03305603",
         "0.017732287",
         "0.019828506",
         "0.00581818",
         "0.03156363",
         "0.021561649",
         "0.03758818",
         "0.07995438",
         "0.016242769",
         "0.024582043",
         "0.07611959",
         "0.009634535",
         "0.15592338",
         "0.03235778",
         "0.053875126",
         "0.026996154",
         "0.009721929",
         "0.0108915595",
         "0.033319555",
         "0.008978637",
         "0.019925352",
         "0.0075838575",
         "0.00832937",
         "0.030287642",
         "0.027020259",
         "0.022972386",
         "0.17697321",
         "0.0025521365",
         "0.012561892",
         "0.016363503",
         "0.015424499",
         "0.026298637",
         "0.0063881157",
         "0.045574613",
         "0.005091315",
         "0.007589346",
         "0.06002064",
         "0.030742439",
         "0.013724991",
         "0.07738899",
         "0.013062284",
         "0.020402266",
         "0.0043792343",
         "0.14498508",
         "0.14528376",
         "0.004336777",
         "0.040053356",
         "0.0027813439",
         "0.003886088",
         "0.03452534",
         "0.01352318",
         "0.032066554",
         "0.0020798973",
         "0.0044877734",
         "0.030664377",
         "0.04356432",
         "0.0018551707",
         "0.055253193",
         "0.0040869843",
         "0.011355593",
         "0.008648557",
         "0.100478",
         "0.016904913",
         "0.2608439",
         "0.003943914",
         "0.07229741",
         "0.040744353",
         "0.013599123",
         "0.035610404",
         "0.004061814",
         "0.025558323",
         "0.016887909",
         "0.012100467",
         "0.028890721",
         "0.09979711",
         "0.021907106",
         "0.03151454",
         "0.059732206",
         "0.027971392",
         "0.023871778",
         "0.0832846",
         "0.0055682412",
         "0.004169213",
         "0.014980773",
         "0.027291069",
         "0.0052961363",
         "0.034869503",
         "0.009063549",
         "0.015532166",
         "0.019084476",
         "0.0032723204",
         "0.033217385",
         "0.00599644",
         "0.0076585333",
         "0.20786132",
         "0.06777201",
         "0.03424101",
         "0.004554512",
         "0.07054409",
         "0.010827249",
         "0.037827298",
         "0.027171455",
         "0.0043726107",
         "0.003445658",
         "0.0031991138",
         "0.036328387",
         "0.08362763",
         "0.009700405",
         "0.014055003",
         "0.092366904",
         "0.035961714",
         "0.08879881",
         "0.00963016",
         "0.011733692",
         "0.010632708",
         "0.010199371",
         "0.03039701",
         "0.024539191",
         "0.046429344",
         "0.0451964",
         "0.03614088",
         "0.021302884",
         "0.011708529",
         "0.005827086",
         "0.01590307",
         "0.016183201",
         "0.014884298",
         "0.0070589436",
         "0.023191752",
         "0.064594366",
         "0.005099658",
         "0.023889862",
         "0.0070614894",
         "0.035715368",
         "0.0029155551",
         "0.0075387084",
         "0.013388699",
         "0.02534718",
         "0.017913196",
         "0.006663776",
         "0.008089279",
         "0.024438161",
         "0.013414605",
         "0.07695188",
         "0.065511204",
         "0.024344366",
         "0.036083005",
         "0.08278558",
         "0.017142616",
         "0.015305249",
         "0.0041363626",
         "0.18579693",
         "0.03363265",
         "0.023470184",
         "0.04284351",
         "0.021469096",
         "0.01822327",
         "0.006190673",
         "0.07401625",
         "0.01042064",
         "0.0050997776",
         "0.013721322",
         "0.00892633",
         "0.040432725",
         "0.0034405815",
         "0.007400975",
         "0.0023808635",
         "0.007331366",
         "0.024119006",
         "0.0213156",
         "0.07700191",
         "0.08525134",
         "0.058651447",
         "0.08867486",
         "0.007730975",
         "0.01980689",
         "0.007677316"
        ],
        [
         "Hnf4a",
         "0.016630152",
         "0.025050592",
         "0.012493431",
         "0.036420487",
         "0.02274445",
         "0.012015275",
         "0.047340825",
         "0.020353928",
         "0.0059959777",
         "0.0036147423",
         "0.004029201",
         "0.0070204563",
         "0.025021918",
         "0.014336938",
         "0.110722914",
         "0.085733846",
         "0.055237938",
         "0.0019240187",
         "0.028641721",
         "0.018954",
         "0.044279315",
         "0.004448611",
         "0.0084967185",
         "0.024896158",
         "0.0016288247",
         "0.007385921",
         "0.030243551",
         "0.011769635",
         "0.04579244",
         "0.035361025",
         "0.0019435929",
         "0.012517594",
         "0.0039157122",
         "0.02442959",
         "0.03234852",
         "0.008426783",
         "0.0050953063",
         "0.035577886",
         "0.054283973",
         "0.011557973",
         "0.021364387",
         "0.07052614",
         "0.008022952",
         "0.00483612",
         "0.008746315",
         "0.036496844",
         "0.0044248705",
         "0.023255369",
         "0.070339695",
         "0.09221333",
         "0.05752862",
         "0.00964461",
         "0.019023757",
         "0.0026611292",
         "0.0426048",
         "0.0027260678",
         "0.07709199",
         "0.007995199",
         "0.048175216",
         "0.019458894",
         "0.04382105",
         "0.010473921",
         "0.013564793",
         "0.023187134",
         "0.011127341",
         "0.015710942",
         "0.006362409",
         "0.0006740329",
         "0.020077078",
         "0.012033279",
         "0.03529359",
         "0.013777388",
         "0.019222725",
         "0.0069017857",
         "0.006765396",
         "0.006645852",
         "0.0067505864",
         "0.008931302",
         "0.01489721",
         "0.033959553",
         "0.03865861",
         "0.008869048",
         "0.09347993",
         "0.012015666",
         "0.0024278539",
         "0.015338683",
         "0.012273478",
         "0.002810911",
         "0.011121753",
         "0.04877759",
         "0.012414627",
         "0.009819058",
         "0.17320709",
         "0.013278414",
         "0.04243076",
         "0.03385113",
         "0.003430974",
         "0.01983392",
         "0.0054974174",
         "0.004206995",
         "0.0077228555",
         "0.04531569",
         "0.03415566",
         "0.051937006",
         "0.055605434",
         "0.033631228",
         "0.2773968",
         "0.007211027",
         "0.008047142",
         "0.028584594",
         "0.014891452",
         "0.03041492",
         "0.12365095",
         "0.0315578",
         "0.01052905",
         "0.036488447",
         "0.0061476827",
         "0.0022918822",
         "0.028730588",
         "0.018338483",
         "0.009636188",
         "0.027381111",
         "0.055371676",
         "0.018639084",
         "0.011503294",
         "0.047224183",
         "0.012586241",
         "0.0069933995",
         "0.009960866",
         "0.070715606",
         "0.030821944",
         "0.013337801",
         "0.02675507",
         "0.0066872113",
         "0.015425048",
         "0.05020614",
         "0.004170983",
         "0.0042660017",
         "0.009009336",
         "0.043829385",
         "0.009902733",
         "0.04057545",
         "0.013640846",
         "0.016038677",
         "0.099956825",
         "0.0033491259",
         "0.024365226",
         "0.029374486",
         "0.012762316",
         "0.030169696",
         "0.009725846",
         "0.029733663",
         "0.010404101",
         "0.025798298",
         "0.0041249385",
         "0.012826504",
         "0.014966988",
         "0.07804167",
         "0.04901264",
         "0.023541309",
         "0.05772153",
         "0.015501475",
         "0.016161596",
         "0.0040179915",
         "0.087690875",
         "0.018568164",
         "0.036885496",
         "0.0061380817",
         "0.008446658",
         "0.017377166",
         "0.03788312",
         "0.027917314",
         "0.00615485",
         "0.014267129",
         "0.026993623",
         "0.031398818",
         "0.0045515215",
         "0.028651407",
         "0.010645418",
         "0.014457291",
         "0.042926818",
         "0.020153122",
         "0.032040525",
         "0.007174398",
         "0.11623958",
         "0.012405728",
         "0.022549635",
         "0.004953156",
         "0.025906576",
         "0.048732392",
         "0.021136262",
         "0.0066162515",
         "0.010592793",
         "0.010848724",
         "0.055509362",
         "0.021969268",
         "0.016063906",
         "0.014337437",
         "0.0155027015",
         "0.026024582",
         "0.0496814",
         "0.00945531",
         "0.0049725138",
         "0.008755823",
         "0.009172021",
         "0.014762509",
         "0.009574877",
         "0.019816779",
         "0.01948744",
         "0.0022882833",
         "0.023644973",
         "0.022729779",
         "0.0076220375",
         "0.006399264",
         "0.008868263",
         "0.011205489",
         "0.025045866",
         "0.010106012",
         "0.008619078",
         "0.0025455216",
         "0.012275277",
         "0.023440674",
         "0.014886825",
         "0.009845338",
         "0.0053076963",
         "0.03251342",
         "0.017720828",
         "0.06555854",
         "0.019699018",
         "0.014727928",
         "0.017491745",
         "0.07675882",
         "0.017798008",
         "0.0035187893",
         "0.005202186",
         "0.0323927",
         "0.0065866793",
         "0.020681337",
         "0.005123651",
         "0.04949748",
         "0.018169295",
         "0.0019008704",
         "0.020301936",
         "0.0024849614",
         "0.004839576",
         "0.071207166"
        ],
        [
         "Hnf6",
         "0.059909374",
         "0.01303256",
         "0.030434351",
         "0.009828065",
         "0.02235129",
         "0.014791701",
         "0.02487464",
         "0.0050450577",
         "0.0060717235",
         "0.004851824",
         "0.025536943",
         "0.029551417",
         "0.0058803647",
         "0.060957313",
         "0.009591606",
         "0.09413289",
         "0.044727407",
         "0.049433086",
         "0.010154755",
         "0.12238033",
         "0.013406411",
         "0.009932497",
         "0.03762491",
         "0.0025894544",
         "0.043607377",
         "0.0050064195",
         "0.010000932",
         "0.041279495",
         "0.03184068",
         "0.036713928",
         "0.013895673",
         "0.17332456",
         "0.020821398",
         "0.014841125",
         "0.023893248",
         "0.011901735",
         "0.013768575",
         "0.0069885575",
         "0.018286001",
         "0.017136727",
         "0.018846422",
         "0.06854242",
         "0.009719267",
         "0.023241756",
         "0.059000615",
         "0.010630333",
         "0.06591755",
         "0.04397947",
         "0.03395966",
         "0.018612273",
         "0.05718702",
         "0.0783066",
         "0.07708341",
         "0.013289936",
         "0.048737865",
         "0.014028402",
         "0.024983741",
         "0.042267572",
         "0.04768954",
         "0.010913905",
         "0.02545019",
         "0.012096498",
         "0.0019818796",
         "0.032890264",
         "0.00620672",
         "0.08193764",
         "0.06712774",
         "0.0073782355",
         "0.053274196",
         "0.03761318",
         "0.0038877486",
         "0.030268969",
         "0.05796838",
         "0.007963905",
         "0.009309189",
         "0.024138846",
         "0.014173194",
         "0.0046979375",
         "0.009498595",
         "0.1540813",
         "0.10991414",
         "0.0031816328",
         "0.053760797",
         "0.0076640407",
         "0.029691406",
         "0.014720642",
         "0.033018015",
         "0.04728123",
         "0.022436786",
         "0.027632978",
         "0.0036856027",
         "0.019832514",
         "0.071433544",
         "0.02278635",
         "0.07821088",
         "0.019358544",
         "0.06667104",
         "0.012487088",
         "0.010670953",
         "0.0054699522",
         "0.018381275",
         "0.0023988564",
         "0.03661745",
         "0.009719942",
         "0.024262143",
         "0.0051952084",
         "0.014848198",
         "0.10591932",
         "0.118038364",
         "0.020411275",
         "0.031822708",
         "0.03274115",
         "0.02192041",
         "0.0016719204",
         "0.15421209",
         "0.0220099",
         "0.0051183063",
         "0.028357016",
         "0.06603279",
         "0.030312154",
         "0.009646494",
         "0.0047299867",
         "0.09316449",
         "0.011641272",
         "0.015185567",
         "0.005315461",
         "0.01237906",
         "0.051767107",
         "0.04195086",
         "0.04370523",
         "0.1050061",
         "0.025887089",
         "0.00538674",
         "0.009853215",
         "0.0359847",
         "0.013919472",
         "0.03570709",
         "0.0091787",
         "0.012989199",
         "0.0012384346",
         "0.06360544",
         "0.015622208",
         "0.0020554778",
         "0.009728153",
         "0.050100476",
         "0.107068",
         "0.043729",
         "0.034160666",
         "0.017350508",
         "0.00302365",
         "0.030372681",
         "0.042506322",
         "0.032839596",
         "0.019658862",
         "0.04053075",
         "0.044435464",
         "0.0072895656",
         "0.012613838",
         "0.06854499",
         "0.014252205",
         "0.051095303",
         "0.035246786",
         "0.022231227",
         "0.035237677",
         "0.034847196",
         "0.04252798",
         "0.0083799055",
         "0.028964931",
         "0.0174492",
         "0.041130524",
         "0.031741332",
         "0.050829154",
         "0.0032449597",
         "0.043771602",
         "0.043804888",
         "0.015679818",
         "0.0039078207",
         "0.032438587",
         "0.008124124",
         "0.0067090094",
         "0.0113341035",
         "0.016394347",
         "0.075568035",
         "0.015219881",
         "0.051959462",
         "0.013817794",
         "0.01089766",
         "0.027134761",
         "0.043347884",
         "0.022550235",
         "0.038044542",
         "0.02157374",
         "0.033698335",
         "0.118071675",
         "0.01336736",
         "0.014936401",
         "0.021324988",
         "0.0039679687",
         "0.021650786",
         "0.023756914",
         "0.010749503",
         "0.035548106",
         "0.0032776608",
         "0.0064399913",
         "0.04553812",
         "0.032329306",
         "0.0043991474",
         "0.018465167",
         "0.042980738",
         "0.08248068",
         "0.014664116",
         "0.01108151",
         "0.1012483",
         "0.0034410225",
         "0.015313877",
         "0.02155514",
         "0.032547522",
         "0.0031590068",
         "0.022028692",
         "0.04675571",
         "0.028988356",
         "0.011093571",
         "0.04551753",
         "0.027124427",
         "0.02201077",
         "0.029923193",
         "0.020186791",
         "0.003990945",
         "0.0043316893",
         "0.0073765656",
         "0.010903721",
         "0.016547184",
         "0.04667194",
         "0.011162981",
         "0.0056573628",
         "0.032303285",
         "0.0520471",
         "0.0051428596",
         "0.016317992",
         "0.004523265",
         "0.032682348",
         "0.0020941144",
         "0.0029158555",
         "0.0130190775",
         "0.024266662",
         "0.088733636"
        ]
       ],
       "shape": {
        "columns": 246,
        "rows": 5
       }
      },
      "text/html": [
       "<div>\n",
       "<style scoped>\n",
       "    .dataframe tbody tr th:only-of-type {\n",
       "        vertical-align: middle;\n",
       "    }\n",
       "\n",
       "    .dataframe tbody tr th {\n",
       "        vertical-align: top;\n",
       "    }\n",
       "\n",
       "    .dataframe thead th {\n",
       "        text-align: right;\n",
       "    }\n",
       "</style>\n",
       "<table border=\"1\" class=\"dataframe\">\n",
       "  <thead>\n",
       "    <tr style=\"text-align: right;\">\n",
       "      <th></th>\n",
       "      <th>1110059e24rik</th>\n",
       "      <th>1700028p14rik</th>\n",
       "      <th>1700054a03rik</th>\n",
       "      <th>4430402i18rik</th>\n",
       "      <th>4930414n06rik</th>\n",
       "      <th>4930481a15rik</th>\n",
       "      <th>4930505n22rik</th>\n",
       "      <th>A1cf</th>\n",
       "      <th>A330040f15rik</th>\n",
       "      <th>A930007i19rik</th>\n",
       "      <th>...</th>\n",
       "      <th>Trpt1</th>\n",
       "      <th>Tsga10ip</th>\n",
       "      <th>Unc93b1</th>\n",
       "      <th>Vldlr</th>\n",
       "      <th>Vps13a</th>\n",
       "      <th>Vti1a</th>\n",
       "      <th>Vwa2</th>\n",
       "      <th>Wnt8b</th>\n",
       "      <th>Yif1a</th>\n",
       "      <th>Zfand5</th>\n",
       "    </tr>\n",
       "  </thead>\n",
       "  <tbody>\n",
       "    <tr>\n",
       "      <th>Amyb</th>\n",
       "      <td>0.012926</td>\n",
       "      <td>0.007979</td>\n",
       "      <td>0.016949</td>\n",
       "      <td>0.071295</td>\n",
       "      <td>0.038051</td>\n",
       "      <td>0.005369</td>\n",
       "      <td>0.004322</td>\n",
       "      <td>0.052676</td>\n",
       "      <td>0.039596</td>\n",
       "      <td>0.004102</td>\n",
       "      <td>...</td>\n",
       "      <td>0.021498</td>\n",
       "      <td>0.008520</td>\n",
       "      <td>0.030714</td>\n",
       "      <td>0.005480</td>\n",
       "      <td>0.018128</td>\n",
       "      <td>0.010033</td>\n",
       "      <td>0.005197</td>\n",
       "      <td>0.023149</td>\n",
       "      <td>0.054277</td>\n",
       "      <td>0.013118</td>\n",
       "    </tr>\n",
       "    <tr>\n",
       "      <th>Ap-1</th>\n",
       "      <td>0.007593</td>\n",
       "      <td>0.016408</td>\n",
       "      <td>0.060694</td>\n",
       "      <td>0.075351</td>\n",
       "      <td>0.003203</td>\n",
       "      <td>0.018191</td>\n",
       "      <td>0.025439</td>\n",
       "      <td>0.010395</td>\n",
       "      <td>0.014900</td>\n",
       "      <td>0.006479</td>\n",
       "      <td>...</td>\n",
       "      <td>0.005965</td>\n",
       "      <td>0.112763</td>\n",
       "      <td>0.024329</td>\n",
       "      <td>0.004895</td>\n",
       "      <td>0.008635</td>\n",
       "      <td>0.009053</td>\n",
       "      <td>0.069101</td>\n",
       "      <td>0.052359</td>\n",
       "      <td>0.032719</td>\n",
       "      <td>0.007553</td>\n",
       "    </tr>\n",
       "    <tr>\n",
       "      <th>Atoh1</th>\n",
       "      <td>0.002979</td>\n",
       "      <td>0.008848</td>\n",
       "      <td>0.006363</td>\n",
       "      <td>0.017177</td>\n",
       "      <td>0.027394</td>\n",
       "      <td>0.096839</td>\n",
       "      <td>0.007401</td>\n",
       "      <td>0.006691</td>\n",
       "      <td>0.040941</td>\n",
       "      <td>0.011984</td>\n",
       "      <td>...</td>\n",
       "      <td>0.007331</td>\n",
       "      <td>0.024119</td>\n",
       "      <td>0.021316</td>\n",
       "      <td>0.077002</td>\n",
       "      <td>0.085251</td>\n",
       "      <td>0.058651</td>\n",
       "      <td>0.088675</td>\n",
       "      <td>0.007731</td>\n",
       "      <td>0.019807</td>\n",
       "      <td>0.007677</td>\n",
       "    </tr>\n",
       "    <tr>\n",
       "      <th>Hnf4a</th>\n",
       "      <td>0.016630</td>\n",
       "      <td>0.025051</td>\n",
       "      <td>0.012493</td>\n",
       "      <td>0.036420</td>\n",
       "      <td>0.022744</td>\n",
       "      <td>0.012015</td>\n",
       "      <td>0.047341</td>\n",
       "      <td>0.020354</td>\n",
       "      <td>0.005996</td>\n",
       "      <td>0.003615</td>\n",
       "      <td>...</td>\n",
       "      <td>0.006587</td>\n",
       "      <td>0.020681</td>\n",
       "      <td>0.005124</td>\n",
       "      <td>0.049497</td>\n",
       "      <td>0.018169</td>\n",
       "      <td>0.001901</td>\n",
       "      <td>0.020302</td>\n",
       "      <td>0.002485</td>\n",
       "      <td>0.004840</td>\n",
       "      <td>0.071207</td>\n",
       "    </tr>\n",
       "    <tr>\n",
       "      <th>Hnf6</th>\n",
       "      <td>0.059909</td>\n",
       "      <td>0.013033</td>\n",
       "      <td>0.030434</td>\n",
       "      <td>0.009828</td>\n",
       "      <td>0.022351</td>\n",
       "      <td>0.014792</td>\n",
       "      <td>0.024875</td>\n",
       "      <td>0.005045</td>\n",
       "      <td>0.006072</td>\n",
       "      <td>0.004852</td>\n",
       "      <td>...</td>\n",
       "      <td>0.052047</td>\n",
       "      <td>0.005143</td>\n",
       "      <td>0.016318</td>\n",
       "      <td>0.004523</td>\n",
       "      <td>0.032682</td>\n",
       "      <td>0.002094</td>\n",
       "      <td>0.002916</td>\n",
       "      <td>0.013019</td>\n",
       "      <td>0.024267</td>\n",
       "      <td>0.088734</td>\n",
       "    </tr>\n",
       "  </tbody>\n",
       "</table>\n",
       "<p>5 rows × 246 columns</p>\n",
       "</div>"
      ],
      "text/plain": [
       "       1110059e24rik  1700028p14rik  1700054a03rik  4430402i18rik  \\\n",
       "Amyb        0.012926       0.007979       0.016949       0.071295   \n",
       "Ap-1        0.007593       0.016408       0.060694       0.075351   \n",
       "Atoh1       0.002979       0.008848       0.006363       0.017177   \n",
       "Hnf4a       0.016630       0.025051       0.012493       0.036420   \n",
       "Hnf6        0.059909       0.013033       0.030434       0.009828   \n",
       "\n",
       "       4930414n06rik  4930481a15rik  4930505n22rik      A1cf  A330040f15rik  \\\n",
       "Amyb        0.038051       0.005369       0.004322  0.052676       0.039596   \n",
       "Ap-1        0.003203       0.018191       0.025439  0.010395       0.014900   \n",
       "Atoh1       0.027394       0.096839       0.007401  0.006691       0.040941   \n",
       "Hnf4a       0.022744       0.012015       0.047341  0.020354       0.005996   \n",
       "Hnf6        0.022351       0.014792       0.024875  0.005045       0.006072   \n",
       "\n",
       "       A930007i19rik  ...     Trpt1  Tsga10ip   Unc93b1     Vldlr    Vps13a  \\\n",
       "Amyb        0.004102  ...  0.021498  0.008520  0.030714  0.005480  0.018128   \n",
       "Ap-1        0.006479  ...  0.005965  0.112763  0.024329  0.004895  0.008635   \n",
       "Atoh1       0.011984  ...  0.007331  0.024119  0.021316  0.077002  0.085251   \n",
       "Hnf4a       0.003615  ...  0.006587  0.020681  0.005124  0.049497  0.018169   \n",
       "Hnf6        0.004852  ...  0.052047  0.005143  0.016318  0.004523  0.032682   \n",
       "\n",
       "          Vti1a      Vwa2     Wnt8b     Yif1a    Zfand5  \n",
       "Amyb   0.010033  0.005197  0.023149  0.054277  0.013118  \n",
       "Ap-1   0.009053  0.069101  0.052359  0.032719  0.007553  \n",
       "Atoh1  0.058651  0.088675  0.007731  0.019807  0.007677  \n",
       "Hnf4a  0.001901  0.020302  0.002485  0.004840  0.071207  \n",
       "Hnf6   0.002094  0.002916  0.013019  0.024267  0.088734  \n",
       "\n",
       "[5 rows x 246 columns]"
      ]
     },
     "execution_count": 22,
     "metadata": {},
     "output_type": "execute_result"
    }
   ],
   "source": [
    "tf_importance_df.melt()"
   ]
  },
  {
   "cell_type": "code",
   "execution_count": 26,
   "id": "99df08c9",
   "metadata": {},
   "outputs": [
    {
     "name": "stdout",
     "output_type": "stream",
     "text": [
      "AUROC = 0.5003  |  PR-AUC = 0.1710  | positives=397 / 2544 edges\n"
     ]
    }
   ],
   "source": [
    "def evaluate_chip_aucs(tf_importance_df, chip_df, k_list=(100, 500, 1000, 5000)):\n",
    "    \"\"\"\n",
    "    Evaluate AUROC / PR-AUC / Precision K against CHIP edges.\n",
    "    We uppercase both the CHIP and the DF indexing to align.\n",
    "    \"\"\"\n",
    "    chip_edges = {(t.upper(), g.upper()) for t, g in zip(chip_df[\"TF\"], chip_df[\"TG\"])}\n",
    "\n",
    "    # Uppercase DF indexing for matching\n",
    "    tf_imp = tf_importance_df.copy()\n",
    "    tf_imp.index   = [x.upper() for x in tf_imp.index]\n",
    "    tf_imp.columns = [x.upper() for x in tf_imp.columns]\n",
    "\n",
    "    rn111_tfs = {t for t, _ in chip_edges}\n",
    "    rn111_tgs = {g for _, g in chip_edges}\n",
    "\n",
    "    tf_imp = tf_imp.loc[tf_imp.index.intersection(rn111_tfs),\n",
    "                        tf_imp.columns.intersection(rn111_tgs)]\n",
    "    if tf_imp.empty:\n",
    "        raise ValueError(\"No overlap between TF/TG names and CHIP set.\")\n",
    "\n",
    "    scores, labels, edges = [], [], []\n",
    "    # Flatten\n",
    "    for tg in tf_imp.columns:\n",
    "        col = tf_imp[tg]\n",
    "        for tf, score in col.items():\n",
    "            scores.append(float(score))\n",
    "            labels.append(1 if (tf, tg) in chip_edges else 0)\n",
    "            edges.append((tf, tg))\n",
    "\n",
    "    if len(set(labels)) < 2:\n",
    "        raise ValueError(\"Only one class present after overlap; AUROC/PR-AUC undefined.\")\n",
    "\n",
    "    auroc = roc_auc_score(labels, scores)\n",
    "    auprc = average_precision_score(labels, scores)\n",
    "\n",
    "    # Precision K\n",
    "    df_scored = pd.DataFrame(edges, columns=[\"tf\", \"tg\"])\n",
    "    df_scored[\"score\"] = scores\n",
    "    df_scored[\"label\"] = labels\n",
    "    df_scored = df_scored.sort_values(\"score\", ascending=False).reset_index(drop=True)\n",
    "\n",
    "    results = {\"AUROC\": auroc, \"PR-AUC\": auprc, \"positives\": int(sum(labels)), \"edges\": int(len(labels))}\n",
    "    for k in k_list:\n",
    "        k = int(k)\n",
    "        if k <= len(df_scored):\n",
    "            prec_k = df_scored.head(k)[\"label\"].mean()\n",
    "            results[f\"Precision@{k}\"] = float(prec_k)\n",
    "\n",
    "    return results, df_scored\n",
    "\n",
    "results, df_scored = evaluate_chip_aucs(tf_importance_df, rn115_ground_truth, k_list=(100, 500, 1000, 5000))\n",
    "\n",
    "print(f\"AUROC = {results['AUROC']:.4f}  |  PR-AUC = {results['PR-AUC']:.4f}  \"\n",
    "        f\"| positives={results['positives']} / {results['edges']} edges\")\n",
    "for k in (100, 500, 1000, 5000):\n",
    "    key = f\"AUROC@{k}\"\n",
    "    if key in results:\n",
    "        print(f\"{key}: {results[key]:.3f}\")\n"
   ]
  },
  {
   "cell_type": "code",
   "execution_count": null,
   "id": "e70cf7ad",
   "metadata": {},
   "outputs": [],
   "source": [
    "import torch\n",
    "training_data_cache = \"/gpfs/Labs/Uzun/SCRIPTS/PROJECTS/2024.SINGLE_CELL_GRN_INFERENCE.MOELLER/data/training_data_cache/mESC\"\n",
    "\n",
    "total_moods_site_df_list = []\n",
    "peak_gene_dist_df_list = []\n",
    "\n",
    "for subdir in os.listdir(training_data_cache):\n",
    "    if \"chr\" in subdir:\n",
    "        chr_path = os.path.join(training_data_cache, subdir)\n",
    "        \n",
    "        moods_path = os.path.join(chr_path, f\"moods_sites_{subdir}.tsv\")\n",
    "        peak_gene_dist = os.path.join(chr_path, f\"genes_near_peaks_{subdir}.parquet\")\n",
    "        \n",
    "        if os.path.isfile(moods_path):\n",
    "            chr_moods_sites_df = pd.read_csv(moods_path, sep=\"\\t\")\n",
    "            total_moods_site_df_list.append(chr_moods_sites_df)\n",
    "            \n",
    "        if os.path.isfile(peak_gene_dist):\n",
    "            chr_peak_gene_dist_df = pd.read_parquet(peak_gene_dist, engine=\"pyarrow\")\n",
    "            peak_gene_dist_df_list.append(chr_peak_gene_dist_df)\n",
    "\n",
    "total_moods_sites = pd.concat(total_moods_site_df_list)\n",
    "total_peak_gene_dist = pd.concat(peak_gene_dist_df_list)\n"
   ]
  },
  {
   "cell_type": "code",
   "execution_count": 37,
   "id": "161b7c86",
   "metadata": {},
   "outputs": [
    {
     "name": "stdout",
     "output_type": "stream",
     "text": [
      "Moods DataFrame\n",
      "                    peak_id         TF    pos   logodds strand\n",
      "0  chr5:100004870-100005470  At3g46070  285.0  4.201540      -\n",
      "1  chr5:100007878-100008478  At3g46070  162.0  4.902650      -\n",
      "2  chr5:100039792-100040392  At3g46070  559.0  3.333572      -\n",
      "3  chr5:100047809-100048409  At3g46070   73.0  4.902650      +\n",
      "4  chr5:100053808-100054408  At3g46070  496.0  4.902650      -\n",
      "\n",
      "peak-gene distance dataframe\n",
      "       peak_chr  peak_start   peak_end                   peak_id gene_chr  \\\n",
      "152413     chr5   146230649  146231249  chr5:146230649-146231249     chr5   \n",
      "30781      chr5   113772200  113772800  chr5:113772200-113772800     chr5   \n",
      "176649     chr5    24901975   24902575    chr5:24901975-24902575     chr5   \n",
      "81751      chr5   124174791  124175391  chr5:124174791-124175391     chr5   \n",
      "103648     chr5   135064344  135064944  chr5:135064344-135064944     chr5   \n",
      "\n",
      "        gene_start   gene_end     target_id  TSS_dist  TSS_dist_score  \n",
      "152413   146231249  146231249          Cdk8         0        1.000000  \n",
      "30781    113772800  113772800          Iscu         0        1.000000  \n",
      "176649    24902568   24902568     Prkag2os1         7        0.999972  \n",
      "81751    124175400  124175400  LOC115490137         9        0.999964  \n",
      "103648   135064959  135064959         Bud23        15        0.999940  \n"
     ]
    }
   ],
   "source": [
    "print(\"Moods DataFrame\")\n",
    "print(total_moods_sites.head())\n",
    "print()\n",
    "print(\"peak-gene distance dataframe\")\n",
    "print(total_peak_gene_dist.head())"
   ]
  },
  {
   "cell_type": "code",
   "execution_count": 38,
   "id": "05729bc6",
   "metadata": {},
   "outputs": [
    {
     "ename": "MemoryError",
     "evalue": "Unable to allocate 51.9 GiB for an array with shape (2, 3479631642) and data type object",
     "output_type": "error",
     "traceback": [
      "\u001b[0;31m---------------------------------------------------------------------------\u001b[0m",
      "\u001b[0;31mMemoryError\u001b[0m                               Traceback (most recent call last)",
      "Cell \u001b[0;32mIn[38], line 1\u001b[0m\n\u001b[0;32m----> 1\u001b[0m tf_tg_links \u001b[38;5;241m=\u001b[39m \u001b[43mtotal_moods_sites\u001b[49m\u001b[38;5;241;43m.\u001b[39;49m\u001b[43mmerge\u001b[49m\u001b[43m(\u001b[49m\u001b[43mtotal_peak_gene_dist\u001b[49m\u001b[43m,\u001b[49m\u001b[43m \u001b[49m\u001b[43mon\u001b[49m\u001b[38;5;241;43m=\u001b[39;49m\u001b[38;5;124;43m\"\u001b[39;49m\u001b[38;5;124;43mpeak_id\u001b[39;49m\u001b[38;5;124;43m\"\u001b[39;49m\u001b[43m,\u001b[49m\u001b[43m \u001b[49m\u001b[43mhow\u001b[49m\u001b[38;5;241;43m=\u001b[39;49m\u001b[38;5;124;43m\"\u001b[39;49m\u001b[38;5;124;43minner\u001b[39;49m\u001b[38;5;124;43m\"\u001b[39;49m\u001b[43m)\u001b[49m\n\u001b[1;32m      2\u001b[0m \u001b[38;5;28mprint\u001b[39m(tf_tg_links\u001b[38;5;241m.\u001b[39mhead())\n",
      "File \u001b[0;32m~/.conda/envs/my_env/lib/python3.9/site-packages/pandas/core/frame.py:10839\u001b[0m, in \u001b[0;36mDataFrame.merge\u001b[0;34m(self, right, how, on, left_on, right_on, left_index, right_index, sort, suffixes, copy, indicator, validate)\u001b[0m\n\u001b[1;32m  10820\u001b[0m \u001b[38;5;129m@Substitution\u001b[39m(\u001b[38;5;124m\"\u001b[39m\u001b[38;5;124m\"\u001b[39m)\n\u001b[1;32m  10821\u001b[0m \u001b[38;5;129m@Appender\u001b[39m(_merge_doc, indents\u001b[38;5;241m=\u001b[39m\u001b[38;5;241m2\u001b[39m)\n\u001b[1;32m  10822\u001b[0m \u001b[38;5;28;01mdef\u001b[39;00m\u001b[38;5;250m \u001b[39m\u001b[38;5;21mmerge\u001b[39m(\n\u001b[0;32m   (...)\u001b[0m\n\u001b[1;32m  10835\u001b[0m     validate: MergeValidate \u001b[38;5;241m|\u001b[39m \u001b[38;5;28;01mNone\u001b[39;00m \u001b[38;5;241m=\u001b[39m \u001b[38;5;28;01mNone\u001b[39;00m,\n\u001b[1;32m  10836\u001b[0m ) \u001b[38;5;241m-\u001b[39m\u001b[38;5;241m>\u001b[39m DataFrame:\n\u001b[1;32m  10837\u001b[0m     \u001b[38;5;28;01mfrom\u001b[39;00m\u001b[38;5;250m \u001b[39m\u001b[38;5;21;01mpandas\u001b[39;00m\u001b[38;5;21;01m.\u001b[39;00m\u001b[38;5;21;01mcore\u001b[39;00m\u001b[38;5;21;01m.\u001b[39;00m\u001b[38;5;21;01mreshape\u001b[39;00m\u001b[38;5;21;01m.\u001b[39;00m\u001b[38;5;21;01mmerge\u001b[39;00m\u001b[38;5;250m \u001b[39m\u001b[38;5;28;01mimport\u001b[39;00m merge\n\u001b[0;32m> 10839\u001b[0m     \u001b[38;5;28;01mreturn\u001b[39;00m \u001b[43mmerge\u001b[49m\u001b[43m(\u001b[49m\n\u001b[1;32m  10840\u001b[0m \u001b[43m        \u001b[49m\u001b[38;5;28;43mself\u001b[39;49m\u001b[43m,\u001b[49m\n\u001b[1;32m  10841\u001b[0m \u001b[43m        \u001b[49m\u001b[43mright\u001b[49m\u001b[43m,\u001b[49m\n\u001b[1;32m  10842\u001b[0m \u001b[43m        \u001b[49m\u001b[43mhow\u001b[49m\u001b[38;5;241;43m=\u001b[39;49m\u001b[43mhow\u001b[49m\u001b[43m,\u001b[49m\n\u001b[1;32m  10843\u001b[0m \u001b[43m        \u001b[49m\u001b[43mon\u001b[49m\u001b[38;5;241;43m=\u001b[39;49m\u001b[43mon\u001b[49m\u001b[43m,\u001b[49m\n\u001b[1;32m  10844\u001b[0m \u001b[43m        \u001b[49m\u001b[43mleft_on\u001b[49m\u001b[38;5;241;43m=\u001b[39;49m\u001b[43mleft_on\u001b[49m\u001b[43m,\u001b[49m\n\u001b[1;32m  10845\u001b[0m \u001b[43m        \u001b[49m\u001b[43mright_on\u001b[49m\u001b[38;5;241;43m=\u001b[39;49m\u001b[43mright_on\u001b[49m\u001b[43m,\u001b[49m\n\u001b[1;32m  10846\u001b[0m \u001b[43m        \u001b[49m\u001b[43mleft_index\u001b[49m\u001b[38;5;241;43m=\u001b[39;49m\u001b[43mleft_index\u001b[49m\u001b[43m,\u001b[49m\n\u001b[1;32m  10847\u001b[0m \u001b[43m        \u001b[49m\u001b[43mright_index\u001b[49m\u001b[38;5;241;43m=\u001b[39;49m\u001b[43mright_index\u001b[49m\u001b[43m,\u001b[49m\n\u001b[1;32m  10848\u001b[0m \u001b[43m        \u001b[49m\u001b[43msort\u001b[49m\u001b[38;5;241;43m=\u001b[39;49m\u001b[43msort\u001b[49m\u001b[43m,\u001b[49m\n\u001b[1;32m  10849\u001b[0m \u001b[43m        \u001b[49m\u001b[43msuffixes\u001b[49m\u001b[38;5;241;43m=\u001b[39;49m\u001b[43msuffixes\u001b[49m\u001b[43m,\u001b[49m\n\u001b[1;32m  10850\u001b[0m \u001b[43m        \u001b[49m\u001b[43mcopy\u001b[49m\u001b[38;5;241;43m=\u001b[39;49m\u001b[43mcopy\u001b[49m\u001b[43m,\u001b[49m\n\u001b[1;32m  10851\u001b[0m \u001b[43m        \u001b[49m\u001b[43mindicator\u001b[49m\u001b[38;5;241;43m=\u001b[39;49m\u001b[43mindicator\u001b[49m\u001b[43m,\u001b[49m\n\u001b[1;32m  10852\u001b[0m \u001b[43m        \u001b[49m\u001b[43mvalidate\u001b[49m\u001b[38;5;241;43m=\u001b[39;49m\u001b[43mvalidate\u001b[49m\u001b[43m,\u001b[49m\n\u001b[1;32m  10853\u001b[0m \u001b[43m    \u001b[49m\u001b[43m)\u001b[49m\n",
      "File \u001b[0;32m~/.conda/envs/my_env/lib/python3.9/site-packages/pandas/core/reshape/merge.py:184\u001b[0m, in \u001b[0;36mmerge\u001b[0;34m(left, right, how, on, left_on, right_on, left_index, right_index, sort, suffixes, copy, indicator, validate)\u001b[0m\n\u001b[1;32m    169\u001b[0m \u001b[38;5;28;01melse\u001b[39;00m:\n\u001b[1;32m    170\u001b[0m     op \u001b[38;5;241m=\u001b[39m _MergeOperation(\n\u001b[1;32m    171\u001b[0m         left_df,\n\u001b[1;32m    172\u001b[0m         right_df,\n\u001b[0;32m   (...)\u001b[0m\n\u001b[1;32m    182\u001b[0m         validate\u001b[38;5;241m=\u001b[39mvalidate,\n\u001b[1;32m    183\u001b[0m     )\n\u001b[0;32m--> 184\u001b[0m     \u001b[38;5;28;01mreturn\u001b[39;00m \u001b[43mop\u001b[49m\u001b[38;5;241;43m.\u001b[39;49m\u001b[43mget_result\u001b[49m\u001b[43m(\u001b[49m\u001b[43mcopy\u001b[49m\u001b[38;5;241;43m=\u001b[39;49m\u001b[43mcopy\u001b[49m\u001b[43m)\u001b[49m\n",
      "File \u001b[0;32m~/.conda/envs/my_env/lib/python3.9/site-packages/pandas/core/reshape/merge.py:888\u001b[0m, in \u001b[0;36m_MergeOperation.get_result\u001b[0;34m(self, copy)\u001b[0m\n\u001b[1;32m    884\u001b[0m     \u001b[38;5;28mself\u001b[39m\u001b[38;5;241m.\u001b[39mleft, \u001b[38;5;28mself\u001b[39m\u001b[38;5;241m.\u001b[39mright \u001b[38;5;241m=\u001b[39m \u001b[38;5;28mself\u001b[39m\u001b[38;5;241m.\u001b[39m_indicator_pre_merge(\u001b[38;5;28mself\u001b[39m\u001b[38;5;241m.\u001b[39mleft, \u001b[38;5;28mself\u001b[39m\u001b[38;5;241m.\u001b[39mright)\n\u001b[1;32m    886\u001b[0m join_index, left_indexer, right_indexer \u001b[38;5;241m=\u001b[39m \u001b[38;5;28mself\u001b[39m\u001b[38;5;241m.\u001b[39m_get_join_info()\n\u001b[0;32m--> 888\u001b[0m result \u001b[38;5;241m=\u001b[39m \u001b[38;5;28;43mself\u001b[39;49m\u001b[38;5;241;43m.\u001b[39;49m\u001b[43m_reindex_and_concat\u001b[49m\u001b[43m(\u001b[49m\n\u001b[1;32m    889\u001b[0m \u001b[43m    \u001b[49m\u001b[43mjoin_index\u001b[49m\u001b[43m,\u001b[49m\u001b[43m \u001b[49m\u001b[43mleft_indexer\u001b[49m\u001b[43m,\u001b[49m\u001b[43m \u001b[49m\u001b[43mright_indexer\u001b[49m\u001b[43m,\u001b[49m\u001b[43m \u001b[49m\u001b[43mcopy\u001b[49m\u001b[38;5;241;43m=\u001b[39;49m\u001b[43mcopy\u001b[49m\n\u001b[1;32m    890\u001b[0m \u001b[43m\u001b[49m\u001b[43m)\u001b[49m\n\u001b[1;32m    891\u001b[0m result \u001b[38;5;241m=\u001b[39m result\u001b[38;5;241m.\u001b[39m__finalize__(\u001b[38;5;28mself\u001b[39m, method\u001b[38;5;241m=\u001b[39m\u001b[38;5;28mself\u001b[39m\u001b[38;5;241m.\u001b[39m_merge_type)\n\u001b[1;32m    893\u001b[0m \u001b[38;5;28;01mif\u001b[39;00m \u001b[38;5;28mself\u001b[39m\u001b[38;5;241m.\u001b[39mindicator:\n",
      "File \u001b[0;32m~/.conda/envs/my_env/lib/python3.9/site-packages/pandas/core/reshape/merge.py:879\u001b[0m, in \u001b[0;36m_MergeOperation._reindex_and_concat\u001b[0;34m(self, join_index, left_indexer, right_indexer, copy)\u001b[0m\n\u001b[1;32m    877\u001b[0m left\u001b[38;5;241m.\u001b[39mcolumns \u001b[38;5;241m=\u001b[39m llabels\n\u001b[1;32m    878\u001b[0m right\u001b[38;5;241m.\u001b[39mcolumns \u001b[38;5;241m=\u001b[39m rlabels\n\u001b[0;32m--> 879\u001b[0m result \u001b[38;5;241m=\u001b[39m \u001b[43mconcat\u001b[49m\u001b[43m(\u001b[49m\u001b[43m[\u001b[49m\u001b[43mleft\u001b[49m\u001b[43m,\u001b[49m\u001b[43m \u001b[49m\u001b[43mright\u001b[49m\u001b[43m]\u001b[49m\u001b[43m,\u001b[49m\u001b[43m \u001b[49m\u001b[43maxis\u001b[49m\u001b[38;5;241;43m=\u001b[39;49m\u001b[38;5;241;43m1\u001b[39;49m\u001b[43m,\u001b[49m\u001b[43m \u001b[49m\u001b[43mcopy\u001b[49m\u001b[38;5;241;43m=\u001b[39;49m\u001b[43mcopy\u001b[49m\u001b[43m)\u001b[49m\n\u001b[1;32m    880\u001b[0m \u001b[38;5;28;01mreturn\u001b[39;00m result\n",
      "File \u001b[0;32m~/.conda/envs/my_env/lib/python3.9/site-packages/pandas/core/reshape/concat.py:395\u001b[0m, in \u001b[0;36mconcat\u001b[0;34m(objs, axis, join, ignore_index, keys, levels, names, verify_integrity, sort, copy)\u001b[0m\n\u001b[1;32m    380\u001b[0m     copy \u001b[38;5;241m=\u001b[39m \u001b[38;5;28;01mFalse\u001b[39;00m\n\u001b[1;32m    382\u001b[0m op \u001b[38;5;241m=\u001b[39m _Concatenator(\n\u001b[1;32m    383\u001b[0m     objs,\n\u001b[1;32m    384\u001b[0m     axis\u001b[38;5;241m=\u001b[39maxis,\n\u001b[0;32m   (...)\u001b[0m\n\u001b[1;32m    392\u001b[0m     sort\u001b[38;5;241m=\u001b[39msort,\n\u001b[1;32m    393\u001b[0m )\n\u001b[0;32m--> 395\u001b[0m \u001b[38;5;28;01mreturn\u001b[39;00m \u001b[43mop\u001b[49m\u001b[38;5;241;43m.\u001b[39;49m\u001b[43mget_result\u001b[49m\u001b[43m(\u001b[49m\u001b[43m)\u001b[49m\n",
      "File \u001b[0;32m~/.conda/envs/my_env/lib/python3.9/site-packages/pandas/core/reshape/concat.py:684\u001b[0m, in \u001b[0;36m_Concatenator.get_result\u001b[0;34m(self)\u001b[0m\n\u001b[1;32m    680\u001b[0m             indexers[ax] \u001b[38;5;241m=\u001b[39m obj_labels\u001b[38;5;241m.\u001b[39mget_indexer(new_labels)\n\u001b[1;32m    682\u001b[0m     mgrs_indexers\u001b[38;5;241m.\u001b[39mappend((obj\u001b[38;5;241m.\u001b[39m_mgr, indexers))\n\u001b[0;32m--> 684\u001b[0m new_data \u001b[38;5;241m=\u001b[39m \u001b[43mconcatenate_managers\u001b[49m\u001b[43m(\u001b[49m\n\u001b[1;32m    685\u001b[0m \u001b[43m    \u001b[49m\u001b[43mmgrs_indexers\u001b[49m\u001b[43m,\u001b[49m\u001b[43m \u001b[49m\u001b[38;5;28;43mself\u001b[39;49m\u001b[38;5;241;43m.\u001b[39;49m\u001b[43mnew_axes\u001b[49m\u001b[43m,\u001b[49m\u001b[43m \u001b[49m\u001b[43mconcat_axis\u001b[49m\u001b[38;5;241;43m=\u001b[39;49m\u001b[38;5;28;43mself\u001b[39;49m\u001b[38;5;241;43m.\u001b[39;49m\u001b[43mbm_axis\u001b[49m\u001b[43m,\u001b[49m\u001b[43m \u001b[49m\u001b[43mcopy\u001b[49m\u001b[38;5;241;43m=\u001b[39;49m\u001b[38;5;28;43mself\u001b[39;49m\u001b[38;5;241;43m.\u001b[39;49m\u001b[43mcopy\u001b[49m\n\u001b[1;32m    686\u001b[0m \u001b[43m\u001b[49m\u001b[43m)\u001b[49m\n\u001b[1;32m    687\u001b[0m \u001b[38;5;28;01mif\u001b[39;00m \u001b[38;5;129;01mnot\u001b[39;00m \u001b[38;5;28mself\u001b[39m\u001b[38;5;241m.\u001b[39mcopy \u001b[38;5;129;01mand\u001b[39;00m \u001b[38;5;129;01mnot\u001b[39;00m using_copy_on_write():\n\u001b[1;32m    688\u001b[0m     new_data\u001b[38;5;241m.\u001b[39m_consolidate_inplace()\n",
      "File \u001b[0;32m~/.conda/envs/my_env/lib/python3.9/site-packages/pandas/core/internals/concat.py:131\u001b[0m, in \u001b[0;36mconcatenate_managers\u001b[0;34m(mgrs_indexers, axes, concat_axis, copy)\u001b[0m\n\u001b[1;32m    124\u001b[0m \u001b[38;5;66;03m# Assertions disabled for performance\u001b[39;00m\n\u001b[1;32m    125\u001b[0m \u001b[38;5;66;03m# for tup in mgrs_indexers:\u001b[39;00m\n\u001b[1;32m    126\u001b[0m \u001b[38;5;66;03m#    # caller is responsible for ensuring this\u001b[39;00m\n\u001b[1;32m    127\u001b[0m \u001b[38;5;66;03m#    indexers = tup[1]\u001b[39;00m\n\u001b[1;32m    128\u001b[0m \u001b[38;5;66;03m#    assert concat_axis not in indexers\u001b[39;00m\n\u001b[1;32m    130\u001b[0m \u001b[38;5;28;01mif\u001b[39;00m concat_axis \u001b[38;5;241m==\u001b[39m \u001b[38;5;241m0\u001b[39m:\n\u001b[0;32m--> 131\u001b[0m     mgrs \u001b[38;5;241m=\u001b[39m \u001b[43m_maybe_reindex_columns_na_proxy\u001b[49m\u001b[43m(\u001b[49m\u001b[43maxes\u001b[49m\u001b[43m,\u001b[49m\u001b[43m \u001b[49m\u001b[43mmgrs_indexers\u001b[49m\u001b[43m,\u001b[49m\u001b[43m \u001b[49m\u001b[43mneeds_copy\u001b[49m\u001b[43m)\u001b[49m\n\u001b[1;32m    132\u001b[0m     \u001b[38;5;28;01mreturn\u001b[39;00m mgrs[\u001b[38;5;241m0\u001b[39m]\u001b[38;5;241m.\u001b[39mconcat_horizontal(mgrs, axes)\n\u001b[1;32m    134\u001b[0m \u001b[38;5;28;01mif\u001b[39;00m \u001b[38;5;28mlen\u001b[39m(mgrs_indexers) \u001b[38;5;241m>\u001b[39m \u001b[38;5;241m0\u001b[39m \u001b[38;5;129;01mand\u001b[39;00m mgrs_indexers[\u001b[38;5;241m0\u001b[39m][\u001b[38;5;241m0\u001b[39m]\u001b[38;5;241m.\u001b[39mnblocks \u001b[38;5;241m>\u001b[39m \u001b[38;5;241m0\u001b[39m:\n",
      "File \u001b[0;32m~/.conda/envs/my_env/lib/python3.9/site-packages/pandas/core/internals/concat.py:230\u001b[0m, in \u001b[0;36m_maybe_reindex_columns_na_proxy\u001b[0;34m(axes, mgrs_indexers, needs_copy)\u001b[0m\n\u001b[1;32m    220\u001b[0m         mgr \u001b[38;5;241m=\u001b[39m mgr\u001b[38;5;241m.\u001b[39mreindex_indexer(\n\u001b[1;32m    221\u001b[0m             axes[i],\n\u001b[1;32m    222\u001b[0m             indexers[i],\n\u001b[0;32m   (...)\u001b[0m\n\u001b[1;32m    227\u001b[0m             use_na_proxy\u001b[38;5;241m=\u001b[39m\u001b[38;5;28;01mTrue\u001b[39;00m,  \u001b[38;5;66;03m# only relevant for i==0\u001b[39;00m\n\u001b[1;32m    228\u001b[0m         )\n\u001b[1;32m    229\u001b[0m     \u001b[38;5;28;01mif\u001b[39;00m needs_copy \u001b[38;5;129;01mand\u001b[39;00m \u001b[38;5;129;01mnot\u001b[39;00m indexers:\n\u001b[0;32m--> 230\u001b[0m         mgr \u001b[38;5;241m=\u001b[39m \u001b[43mmgr\u001b[49m\u001b[38;5;241;43m.\u001b[39;49m\u001b[43mcopy\u001b[49m\u001b[43m(\u001b[49m\u001b[43m)\u001b[49m\n\u001b[1;32m    232\u001b[0m     new_mgrs\u001b[38;5;241m.\u001b[39mappend(mgr)\n\u001b[1;32m    233\u001b[0m \u001b[38;5;28;01mreturn\u001b[39;00m new_mgrs\n",
      "File \u001b[0;32m~/.conda/envs/my_env/lib/python3.9/site-packages/pandas/core/internals/managers.py:593\u001b[0m, in \u001b[0;36mBaseBlockManager.copy\u001b[0;34m(self, deep)\u001b[0m\n\u001b[1;32m    590\u001b[0m     \u001b[38;5;28;01melse\u001b[39;00m:\n\u001b[1;32m    591\u001b[0m         new_axes \u001b[38;5;241m=\u001b[39m \u001b[38;5;28mlist\u001b[39m(\u001b[38;5;28mself\u001b[39m\u001b[38;5;241m.\u001b[39maxes)\n\u001b[0;32m--> 593\u001b[0m res \u001b[38;5;241m=\u001b[39m \u001b[38;5;28;43mself\u001b[39;49m\u001b[38;5;241;43m.\u001b[39;49m\u001b[43mapply\u001b[49m\u001b[43m(\u001b[49m\u001b[38;5;124;43m\"\u001b[39;49m\u001b[38;5;124;43mcopy\u001b[39;49m\u001b[38;5;124;43m\"\u001b[39;49m\u001b[43m,\u001b[49m\u001b[43m \u001b[49m\u001b[43mdeep\u001b[49m\u001b[38;5;241;43m=\u001b[39;49m\u001b[43mdeep\u001b[49m\u001b[43m)\u001b[49m\n\u001b[1;32m    594\u001b[0m res\u001b[38;5;241m.\u001b[39maxes \u001b[38;5;241m=\u001b[39m new_axes\n\u001b[1;32m    596\u001b[0m \u001b[38;5;28;01mif\u001b[39;00m \u001b[38;5;28mself\u001b[39m\u001b[38;5;241m.\u001b[39mndim \u001b[38;5;241m>\u001b[39m \u001b[38;5;241m1\u001b[39m:\n\u001b[1;32m    597\u001b[0m     \u001b[38;5;66;03m# Avoid needing to re-compute these\u001b[39;00m\n",
      "File \u001b[0;32m~/.conda/envs/my_env/lib/python3.9/site-packages/pandas/core/internals/managers.py:363\u001b[0m, in \u001b[0;36mBaseBlockManager.apply\u001b[0;34m(self, f, align_keys, **kwargs)\u001b[0m\n\u001b[1;32m    361\u001b[0m         applied \u001b[38;5;241m=\u001b[39m b\u001b[38;5;241m.\u001b[39mapply(f, \u001b[38;5;241m*\u001b[39m\u001b[38;5;241m*\u001b[39mkwargs)\n\u001b[1;32m    362\u001b[0m     \u001b[38;5;28;01melse\u001b[39;00m:\n\u001b[0;32m--> 363\u001b[0m         applied \u001b[38;5;241m=\u001b[39m \u001b[38;5;28;43mgetattr\u001b[39;49m\u001b[43m(\u001b[49m\u001b[43mb\u001b[49m\u001b[43m,\u001b[49m\u001b[43m \u001b[49m\u001b[43mf\u001b[49m\u001b[43m)\u001b[49m\u001b[43m(\u001b[49m\u001b[38;5;241;43m*\u001b[39;49m\u001b[38;5;241;43m*\u001b[39;49m\u001b[43mkwargs\u001b[49m\u001b[43m)\u001b[49m\n\u001b[1;32m    364\u001b[0m     result_blocks \u001b[38;5;241m=\u001b[39m extend_blocks(applied, result_blocks)\n\u001b[1;32m    366\u001b[0m out \u001b[38;5;241m=\u001b[39m \u001b[38;5;28mtype\u001b[39m(\u001b[38;5;28mself\u001b[39m)\u001b[38;5;241m.\u001b[39mfrom_blocks(result_blocks, \u001b[38;5;28mself\u001b[39m\u001b[38;5;241m.\u001b[39maxes)\n",
      "File \u001b[0;32m~/.conda/envs/my_env/lib/python3.9/site-packages/pandas/core/internals/blocks.py:822\u001b[0m, in \u001b[0;36mBlock.copy\u001b[0;34m(self, deep)\u001b[0m\n\u001b[1;32m    820\u001b[0m refs: BlockValuesRefs \u001b[38;5;241m|\u001b[39m \u001b[38;5;28;01mNone\u001b[39;00m\n\u001b[1;32m    821\u001b[0m \u001b[38;5;28;01mif\u001b[39;00m deep:\n\u001b[0;32m--> 822\u001b[0m     values \u001b[38;5;241m=\u001b[39m \u001b[43mvalues\u001b[49m\u001b[38;5;241;43m.\u001b[39;49m\u001b[43mcopy\u001b[49m\u001b[43m(\u001b[49m\u001b[43m)\u001b[49m\n\u001b[1;32m    823\u001b[0m     refs \u001b[38;5;241m=\u001b[39m \u001b[38;5;28;01mNone\u001b[39;00m\n\u001b[1;32m    824\u001b[0m \u001b[38;5;28;01melse\u001b[39;00m:\n",
      "\u001b[0;31mMemoryError\u001b[0m: Unable to allocate 51.9 GiB for an array with shape (2, 3479631642) and data type object"
     ]
    }
   ],
   "source": [
    "tf_tg_links = total_moods_sites.merge(total_peak_gene_dist, on=\"peak_id\", how=\"inner\")\n",
    "print(tf_tg_links.head())"
   ]
  },
  {
   "cell_type": "code",
   "execution_count": null,
   "id": "66a7ffbb",
   "metadata": {},
   "outputs": [],
   "source": [
    "tf_tg_features = (\n",
    "    tf_tg_links.groupby([\"TF\", \"target_id\"])\n",
    "    .agg(\n",
    "        n_peaks_linking=(\"peak_id\", \"nunique\"),\n",
    "        n_motifs_linking=(\"logodds\", \"count\"),\n",
    "        mean_motif_score=(\"logodds\", \"mean\"),\n",
    "        max_motif_score=(\"logodds\", \"max\"),\n",
    "        min_tss_dist=(\"TSS_dist\", \"min\"),\n",
    "        mean_tss_dist=(\"TSS_dist\", \"mean\"),\n",
    "        mean_tss_score=(\"TSS_dist_score\", \"mean\")\n",
    "    )\n",
    "    .reset_index()\n",
    "    .rename(columns={\"target_id\": \"TG\"})\n",
    ")\n",
    "print(tf_tg_features.head())"
   ]
  },
  {
   "cell_type": "code",
   "execution_count": null,
   "id": "d261f033",
   "metadata": {},
   "outputs": [],
   "source": [
    "tf_tg_features[\"motif_density\"] = (\n",
    "    tf_tg_features[\"n_motifs_linking\"] / (tf_tg_features[\"n_peaks_linking\"] + 1e-6)\n",
    ")\n",
    "tf_tg_features[\"log_mean_score\"] = np.log1p(tf_tg_features[\"mean_motif_score\"])\n",
    "tf_tg_features[\"neg_log_tss\"] = -np.log1p(tf_tg_features[\"mean_tss_dist\"])\n"
   ]
  }
 ],
 "metadata": {
  "kernelspec": {
   "display_name": "my_env",
   "language": "python",
   "name": "my_env"
  }
 },
 "nbformat": 4,
 "nbformat_minor": 5
}
