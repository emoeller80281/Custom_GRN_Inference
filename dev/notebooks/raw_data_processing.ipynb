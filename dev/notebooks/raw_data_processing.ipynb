{
 "cells": [
  {
   "cell_type": "code",
   "execution_count": 6,
   "id": "05ecd74f",
   "metadata": {},
   "outputs": [
    {
     "name": "stderr",
     "output_type": "stream",
     "text": [
      "/gpfs/Home/esm5360/.conda/envs/my_env/lib/python3.9/site-packages/anndata/_core/anndata.py:1820: UserWarning: Variable names are not unique. To make them unique, call `.var_names_make_unique`.\n",
      "  utils.warn_names_duplicates(\"var\")\n"
     ]
    },
    {
     "name": "stdout",
     "output_type": "stream",
     "text": [
      "AnnData object with n_obs × n_vars = 6736 × 32285\n",
      "    var: 'gene_ids', 'feature_types', 'genome', 'interval'\n"
     ]
    },
    {
     "name": "stderr",
     "output_type": "stream",
     "text": [
      "/gpfs/Home/esm5360/.conda/envs/my_env/lib/python3.9/site-packages/anndata/_core/anndata.py:1820: UserWarning: Variable names are not unique. To make them unique, call `.var_names_make_unique`.\n",
      "  utils.warn_names_duplicates(\"var\")\n"
     ]
    }
   ],
   "source": [
    "import os\n",
    "import scanpy as sc\n",
    "import muon as mu\n",
    "\n",
    "RAW_DATA_DIR = \"/gpfs/Labs/Uzun/SCRIPTS/PROJECTS/2024.SINGLE_CELL_GRN_INFERENCE.MOELLER/data/raw/GSE218576\"\n",
    "PROCESSED_DATA_DIR = \"/gpfs/Labs/Uzun/SCRIPTS/PROJECTS/2024.SINGLE_CELL_GRN_INFERENCE.MOELLER/data/processed/GSE218576\"\n",
    "sample_filtered_feature_file = \"B6E12-5-1_filtered_feature_bc_matrix.h5\"\n",
    "sample_fragment_file = \"B6E12-5-1_atac_fragments.tsv.gz\"\n",
    "sample_fragment_tbi_file = \"B6E12-5-1_atac_fragments.tsv.gz.tbi.gz\"\n",
    "\n",
    "# Load RNA 10X (filtered_feature_bc_matrix.h5)\n",
    "rna = sc.read_10x_h5(os.path.join(RAW_DATA_DIR, sample_filtered_feature_file), gex_only=True)\n",
    "print(rna)"
   ]
  },
  {
   "cell_type": "code",
   "execution_count": 7,
   "id": "0b31f592",
   "metadata": {},
   "outputs": [
    {
     "name": "stdout",
     "output_type": "stream",
     "text": [
      "[INFO] Saved peak × cell matrix with shape (108568, 363645)\n"
     ]
    }
   ],
   "source": [
    "import pandas as pd\n",
    "from collections import Counter\n",
    "from scipy.sparse import csr_matrix\n",
    "import numpy as np\n",
    "import os\n",
    "\n",
    "# Load peak-cell pairs\n",
    "df = pd.read_csv(f\"{PROCESSED_DATA_DIR}/peak_cell_hits.tsv\", sep=\"\\t\", header=None, names=[\"peak\",\"cell\"])\n",
    "\n",
    "# Factorize peaks and cells into indices\n",
    "peaks, peak_idx = np.unique(df[\"peak\"], return_inverse=True)\n",
    "cells, cell_idx = np.unique(df[\"cell\"], return_inverse=True)\n",
    "\n",
    "# Build sparse count matrix\n",
    "counts = csr_matrix(\n",
    "    (np.ones(len(df), dtype=int), (peak_idx, cell_idx)),\n",
    "    shape=(len(peaks), len(cells))\n",
    ")\n",
    "\n",
    "# Save in Matrix Market format (can be loaded by Scanpy or Seurat)\n",
    "from scipy.io import mmwrite\n",
    "mmwrite(f\"{PROCESSED_DATA_DIR}/peak_cell_matrix.mtx\", counts)\n",
    "\n",
    "# Save peak and cell names\n",
    "pd.Series(peaks).to_csv(f\"{PROCESSED_DATA_DIR}/peaks.txt\", index=False, header=False)\n",
    "pd.Series(cells).to_csv(f\"{PROCESSED_DATA_DIR}/cells.txt\", index=False, header=False)\n",
    "\n",
    "print(f\"[INFO] Saved peak × cell matrix with shape {counts.shape}\")"
   ]
  }
 ],
 "metadata": {
  "kernelspec": {
   "display_name": "my_env",
   "language": "python",
   "name": "my_env"
  },
  "language_info": {
   "codemirror_mode": {
    "name": "ipython",
    "version": 3
   },
   "file_extension": ".py",
   "mimetype": "text/x-python",
   "name": "python",
   "nbconvert_exporter": "python",
   "pygments_lexer": "ipython3",
   "version": "3.9.18"
  }
 },
 "nbformat": 4,
 "nbformat_minor": 5
}
